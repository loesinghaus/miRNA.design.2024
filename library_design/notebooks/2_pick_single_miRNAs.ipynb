{
 "cells": [
  {
   "cell_type": "code",
   "execution_count": 1,
   "metadata": {},
   "outputs": [],
   "source": [
    "import pandas as pd\n",
    "import numpy as np\n",
    "import matplotlib.pyplot as plt\n",
    "import seaborn as sns\n",
    "import scipy.stats as stats\n",
    "import scipy.optimize as opt\n",
    "import itertools\n",
    "import random\n",
    "import os\n",
    "\n",
    "cell_lines_main = [\"HEK293T\", \"HeLa\", \"SKNSH\", \"MCF7\", \"HUH-7\", \"A549\"]\n",
    "cell_lines_other = [\"HaCaT\", \"JEG-3\", \"Tera-1\", \"PC-3\"]\n",
    "cell_lines_measured = [\"HEK293T\", \"HeLa\", \"SKNSH\", \"MCF7\"]\n",
    "cell_lines = cell_lines_main + cell_lines_other\n",
    "\n",
    "plot_folder = \"plots/2_individual_miRNAs\""
   ]
  },
  {
   "cell_type": "markdown",
   "metadata": {},
   "source": [
    "Here, we pick the miRNAs that we will measure individually in the main context sequence. We split miRNAs into three categories:\n",
    "\n",
    "1) High confidence in miRbase\n",
    "2) Low confidence in miRbase, in MirGeneDB\n",
    "3) Low confidence in miRbase, not in MirGeneDB"
   ]
  },
  {
   "cell_type": "code",
   "execution_count": 5,
   "metadata": {},
   "outputs": [],
   "source": [
    "# get mirbase and mirgenedb miRNAs\n",
    "mirbase = pd.read_csv('../input_data/mirbase.csv', index_col=0)\n",
    "mirgenedb = pd.read_csv('../input_data/mirgenedb.csv', index_col=0)\n",
    "\n",
    "mirgenedb_mirnas = list(mirgenedb[\"5p accession\"].unique()) + list(mirgenedb[\"3p accession\"].unique())\n",
    "mirgenedb_mirnas = [mirna for mirna in mirgenedb_mirnas if mirna != \"None\"]\n",
    "mirgenedb_mirnas = mirbase[mirbase[\"MIMAT\"].isin(mirgenedb_mirnas)]"
   ]
  },
  {
   "cell_type": "code",
   "execution_count": 7,
   "metadata": {},
   "outputs": [],
   "source": [
    "def normalize_expr_df_to_rpm_with_partner(df1, df2):\n",
    "    \"\"\"This function normalizes the expression data in the second df to the expression data in the first df.\n",
    "    We do this because we want to normalize based on high confidence miRNAs only.\"\"\"\n",
    "    # normalize\n",
    "    df2 = df2.div(df1.sum(axis=0), axis=1) * 1000000\n",
    "    df1 = df1.div(df1.sum(axis=0), axis=1) * 1000000\n",
    "    # deduct the minimum and add one to the expression data to avoid division by 0\n",
    "    df2 = df2 - df1.min().min() + 1\n",
    "    df1 = df1 - df1.min().min() + 1\n",
    "    # normalize to rpm\n",
    "    df2 = df2.div(df1.sum(axis=0), axis=1) * 1000000\n",
    "    df1 = df1.div(df1.sum(axis=0), axis=1) * 1000000\n",
    "    return df1, df2"
   ]
  },
  {
   "cell_type": "code",
   "execution_count": 8,
   "metadata": {},
   "outputs": [],
   "source": [
    "# Conormalize the expression data\n",
    "df_alles = pd.read_csv('../input_data/mirna_expression_data/1_input/Alles2019_quantile_all_mirnas.csv', index_col=0)\n",
    "\n",
    "# drop Accession from df_alles\n",
    "df_alles = df_alles.drop(columns=['Accession'])\n",
    "\n",
    "df_alles[\"confidence\"] = mirbase[\"confidence\"]\n",
    "df_alles_high_conf = df_alles[df_alles[\"confidence\"] == \"high\"]\n",
    "\n",
    "df_alles = df_alles.drop(columns=['confidence'])\n",
    "df_alles_high_conf = df_alles_high_conf.drop(columns=['confidence'])\n",
    "\n",
    "df_alles_high_conf, df_alles = normalize_expr_df_to_rpm_with_partner(df_alles_high_conf, df_alles)\n",
    "# create the output folder if it does not exist\n",
    "if not os.path.exists('../input_data/miRNA_expression_data/2_output'):\n",
    "    os.makedirs('../input_data/miRNA_expression_data/2_output')\n",
    "df_alles.to_csv('../input_data/miRNA_expression_data/2_output/2_Alles2019_conormalized.csv')\n",
    "\n",
    "# get low and high confidence miRNAs\n",
    "df_alles = np.log10(df_alles)\n",
    "df_alles_high_conf = np.log10(df_alles_high_conf)\n",
    "df_alles_low_conf = df_alles[~df_alles.index.isin(df_alles_high_conf.index)]"
   ]
  },
  {
   "cell_type": "code",
   "execution_count": 9,
   "metadata": {},
   "outputs": [],
   "source": [
    "# split low confidence into those that are in mirgenedb and those that are not\n",
    "df_alles_low_conf_mirgenedb = df_alles_low_conf[df_alles_low_conf.index.isin(mirgenedb_mirnas.index)]\n",
    "df_alles_low_conf_not_mirgenedb = df_alles_low_conf[~df_alles_low_conf.index.isin(mirgenedb_mirnas.index)]"
   ]
  },
  {
   "cell_type": "code",
   "execution_count": 10,
   "metadata": {},
   "outputs": [],
   "source": [
    "df_alles = df_alles[cell_lines]\n",
    "df_alles_high_conf = df_alles_high_conf[cell_lines]\n",
    "df_alles_low_conf_mirgenedb = df_alles_low_conf_mirgenedb[cell_lines]\n",
    "df_alles_low_conf_not_mirgenedb = df_alles_low_conf_not_mirgenedb[cell_lines]"
   ]
  },
  {
   "cell_type": "code",
   "execution_count": null,
   "metadata": {},
   "outputs": [],
   "source": [
    "# print the lengths of all dfs from the previous step\n",
    "print(len(mirbase))\n",
    "print(len(df_alles))\n",
    "print(len(df_alles_high_conf))\n",
    "print(len(df_alles_low_conf_mirgenedb))\n",
    "print(len(df_alles_low_conf_not_mirgenedb))"
   ]
  },
  {
   "cell_type": "markdown",
   "metadata": {},
   "source": [
    "## Pick low and high confidence miRNAs to test"
   ]
  },
  {
   "cell_type": "markdown",
   "metadata": {},
   "source": [
    "We use all high confidence miRNAs."
   ]
  },
  {
   "cell_type": "code",
   "execution_count": 12,
   "metadata": {},
   "outputs": [],
   "source": [
    "# get all high_confidence miRNAs\n",
    "mirnas_alles_high_conf = df_alles_high_conf.copy()\n",
    "mirnas_alles_high_conf[\"miRNA1\"] = mirnas_alles_high_conf.index\n",
    "\n",
    "# make miRNA the first column\n",
    "mirnas_alles_high_conf = mirnas_alles_high_conf[[\"miRNA1\"] + [col for col in mirnas_alles_high_conf.columns if col != \"miRNA1\"]]\n",
    "mirnas_alles_high_conf.index = [f\"1_mirna_full_single_high_conf_{i+1}\" for i in range(len(mirnas_alles_high_conf))]\n",
    "\n",
    "# change the name of the index to \"design_id\"\n",
    "mirnas_alles_high_conf.index.name = \"design_id\"\n",
    "mirnas_alles_high_conf.to_csv('../designs/1_mirna_full_single_high_conf.csv', index=True)"
   ]
  },
  {
   "cell_type": "markdown",
   "metadata": {},
   "source": [
    "We use all low confidence miRNAs in MirGeneDB"
   ]
  },
  {
   "cell_type": "code",
   "execution_count": 13,
   "metadata": {},
   "outputs": [],
   "source": [
    "# Get all low confidence mirgenedb miRNAs\n",
    "mirnas_alles_low_conf_mirgenedb = df_alles_low_conf_mirgenedb.copy()\n",
    "mirnas_alles_low_conf_mirgenedb[\"miRNA1\"] = mirnas_alles_low_conf_mirgenedb.index\n",
    "\n",
    "# make miRNA the first column\n",
    "mirnas_alles_low_conf_mirgenedb = mirnas_alles_low_conf_mirgenedb[[\"miRNA1\"] + [col for col in mirnas_alles_low_conf_mirgenedb.columns if col != \"miRNA1\"]]\n",
    "mirnas_alles_low_conf_mirgenedb.index = [f\"2_mirna_full_single_low_conf_mirgenedb_{i+1}\" for i in range(len(mirnas_alles_low_conf_mirgenedb))]\n",
    "\n",
    "# change the name of the index to \"design_id\"\n",
    "mirnas_alles_low_conf_mirgenedb.index.name = \"design_id\"\n",
    "mirnas_alles_low_conf_mirgenedb.to_csv('../designs/2_mirna_full_single_low_conf_mirgenedb.csv', index=True)"
   ]
  },
  {
   "cell_type": "markdown",
   "metadata": {},
   "source": [
    "## Sample from the low confidence mirnas not in mirgenedb"
   ]
  },
  {
   "cell_type": "code",
   "execution_count": 16,
   "metadata": {},
   "outputs": [],
   "source": [
    "# Filter out mirnas that contain unwanted sequence motifs\n",
    "# restriction sites for BsaI\n",
    "restriction_sites = [\"GAGACC\", \"GGTCTC\"]\n",
    "polyA_signals = [\"AATAAA\", \"ATTAAA\", \"AGTAAA\", \"TATAAA\", \"ACTAAA\"]\n",
    "filter_motifs = restriction_sites + polyA_signals\n",
    "\n",
    "# get the target sequences that will be inserted\n",
    "mirbase_sequences = pd.read_csv('../input_data/mirbase_with_families_and_targets.csv', index_col=0)\n",
    "\n",
    "# filter out mirnas in mirbase_sequences that contain unwanted sequence motifs in the \"target\" column\n",
    "mirbase_sequences_filter = mirbase_sequences[~mirbase_sequences['target'].apply(lambda seq: any(motif in seq for motif in filter_motifs))]\n",
    "\n",
    "# filter df_alles_low_conf_not_mirgenedb according to the index of mirbase_sequences_filter\n",
    "df_alles_low_conf_not_mirgenedb = df_alles_low_conf_not_mirgenedb[df_alles_low_conf_not_mirgenedb.index.isin(mirbase_sequences_filter.index)]"
   ]
  },
  {
   "cell_type": "code",
   "execution_count": null,
   "metadata": {},
   "outputs": [],
   "source": [
    "# get different quantiles of miRNAs\n",
    "less_than_two = df_alles_low_conf_not_mirgenedb[df_alles_low_conf_not_mirgenedb.max(axis=1) < 2]\n",
    "less_than_three = df_alles_low_conf_not_mirgenedb[(df_alles_low_conf_not_mirgenedb.max(axis=1) > 2)\n",
    "                                    & (df_alles_low_conf_not_mirgenedb.max(axis=1) < 3)]\n",
    "less_than_four = df_alles_low_conf_not_mirgenedb[(df_alles_low_conf_not_mirgenedb.max(axis=1) > 3)\n",
    "                                   & (df_alles_low_conf_not_mirgenedb.max(axis=1) < 4)]\n",
    "more_than_four = df_alles_low_conf_not_mirgenedb[(df_alles_low_conf_not_mirgenedb.max(axis=1) > 4)]\n",
    "\n",
    "# sample from the first two dataframes\n",
    "# we use all mirnas from the second two dataframes\n",
    "less_than_two = less_than_two.sample(n=76)\n",
    "less_than_three = less_than_three.sample(n=100)\n",
    "\n",
    "low_confidence_choice = pd.concat([less_than_two, less_than_three, less_than_four, more_than_four])\n",
    "len(low_confidence_choice)"
   ]
  },
  {
   "cell_type": "code",
   "execution_count": 18,
   "metadata": {},
   "outputs": [],
   "source": [
    "# Save the choice\n",
    "low_confidence_choice[\"miRNA1\"] = low_confidence_choice.index\n",
    "\n",
    "# make miRNA the first column\n",
    "low_confidence_choice = low_confidence_choice[[\"miRNA1\"] + [col for col in low_confidence_choice.columns if col != \"miRNA1\"]]\n",
    "low_confidence_choice.index = [f\"3_mirna_full_single_low_conf_not_mirgenedb_{i+1}\" for i in range(len(low_confidence_choice))]\n",
    "\n",
    "# change the name of the index to \"design_id\"\n",
    "low_confidence_choice.index.name = \"design_id\"\n",
    "low_confidence_choice.to_csv('../designs/3_mirna_full_single_low_conf_not_mirgenedb.csv', index=True)"
   ]
  },
  {
   "cell_type": "markdown",
   "metadata": {},
   "source": [
    "## Plot the expected distributions of stabilities"
   ]
  },
  {
   "cell_type": "code",
   "execution_count": 19,
   "metadata": {},
   "outputs": [],
   "source": [
    "def hill_func_log(x, c1=3.6, c2=10, n=1):\n",
    "    \"\"\"The expression is assumed to be normalized to one. The microRNA data is assumed to be log10.\"\"\"\n",
    "    x = (10**x)**n\n",
    "    c1 = (10**c1)**n\n",
    "    c2 = 10**c2\n",
    "    result = (1 / (1 + x / c1)) * (1 + x / c2)\n",
    "    return np.log10(result)"
   ]
  },
  {
   "cell_type": "code",
   "execution_count": 20,
   "metadata": {},
   "outputs": [],
   "source": [
    "df_knockdown = low_confidence_choice.set_index(\"miRNA1\").apply(hill_func_log)"
   ]
  },
  {
   "cell_type": "code",
   "execution_count": 22,
   "metadata": {},
   "outputs": [],
   "source": [
    "%%capture output\n",
    "sample = \"low_conf_not_mirgenedb\"\n",
    "plot_folder = f\"../plots/2_pick_single_mirnas/{sample}/\"\n",
    "# create the output folder if it does not exist\n",
    "os.makedirs(plot_folder, exist_ok=True)\n",
    "\n",
    "for cell_line in cell_lines:\n",
    "    plt.figure(figsize=(4,3))\n",
    "    plt.title(f\"{cell_line}, {sample}\")\n",
    "    plt.scatter(low_confidence_choice.set_index(\"miRNA1\")[cell_line], df_knockdown[cell_line], s=5, alpha=1)\n",
    "    plt.ylim(-1.35, 0.1)\n",
    "    plt.xlim(0, 5.5)\n",
    "    plt.xlabel(\"log10(expression)\")\n",
    "    plt.ylabel(\"log10(stability)\")\n",
    "    plt.tight_layout()\n",
    "    plt.savefig(plot_folder + f\"{cell_line}_{sample}.png\", dpi=300)"
   ]
  }
 ],
 "metadata": {
  "kernelspec": {
   "display_name": "base",
   "language": "python",
   "name": "python3"
  },
  "language_info": {
   "codemirror_mode": {
    "name": "ipython",
    "version": 3
   },
   "file_extension": ".py",
   "mimetype": "text/x-python",
   "name": "python",
   "nbconvert_exporter": "python",
   "pygments_lexer": "ipython3",
   "version": "3.8.17"
  },
  "orig_nbformat": 4
 },
 "nbformat": 4,
 "nbformat_minor": 2
}
