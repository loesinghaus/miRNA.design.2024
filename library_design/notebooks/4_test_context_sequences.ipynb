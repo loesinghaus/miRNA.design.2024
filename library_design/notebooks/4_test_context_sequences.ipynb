{
 "cells": [
  {
   "cell_type": "code",
   "execution_count": 8,
   "metadata": {
    "tags": []
   },
   "outputs": [],
   "source": [
    "import pandas as pd\n",
    "import numpy as np\n",
    "import matplotlib.pyplot as plt\n",
    "import seaborn as sns\n",
    "import random\n",
    "import os\n",
    "import ast\n",
    "from lib.NA_sequence_utilities import reverse_complement\n",
    "from lib.transfer_functions import transfer_function\n",
    "from lib.context_insertion import distance_to_start_codon, determine_generic_ins_positions, insert_miRNA_sites\n",
    "\n",
    "plot_folder = \"../plots/4_context/\"\n",
    "# create folder for plots if it doesn't exist\n",
    "if not os.path.exists(plot_folder):\n",
    "    os.makedirs(plot_folder)\n",
    "\n",
    "# load mirbase\n",
    "mirbase_df = pd.read_csv('../input_data/mirbase_with_families_and_targets.csv', index_col=0)\n",
    "\n",
    "mirbase_df[\"ATG_pos\"] = mirbase_df[\"ATG_pos\"].apply(ast.literal_eval)\n",
    "mirbase_df[\"ATG_pos_mod3\"] = mirbase_df[\"ATG_pos_mod3\"].apply(ast.literal_eval)"
   ]
  },
  {
   "cell_type": "markdown",
   "metadata": {},
   "source": [
    "# 4.1 - Test miRNAs in normal context sequences"
   ]
  },
  {
   "cell_type": "markdown",
   "metadata": {},
   "source": [
    "## Load contexts"
   ]
  },
  {
   "cell_type": "code",
   "execution_count": 9,
   "metadata": {
    "tags": []
   },
   "outputs": [],
   "source": [
    "# load microRNA expression data\n",
    "mirna_expression = pd.read_csv('../input_data/miRNA_expression_data/1_output/1.10_alles_quantile_no_crosstalk_filter.csv', index_col=0)\n",
    "mirna_expression = 10**mirna_expression"
   ]
  },
  {
   "cell_type": "code",
   "execution_count": null,
   "metadata": {
    "tags": []
   },
   "outputs": [],
   "source": [
    "# length of the variable region the the oligo\n",
    "var_region_len = 164\n",
    "# length of the 3' sequence (distance to start codon for 5' UTR designs)\n",
    "three_p_seq_len = 61\n",
    "# length of the target sequence\n",
    "target_len = 21\n",
    "# distance between the insertion positions\n",
    "dist_between = 6\n",
    "\n",
    "# get the insertion position\n",
    "insertion_positions = determine_generic_ins_positions(\n",
    "                                                var_region_len=var_region_len,\n",
    "                                                three_p_seq_len=three_p_seq_len,\n",
    "                                                target_len=target_len,\n",
    "                                                dist_between=dist_between,\n",
    "                                                no_of_inserts=1)\n",
    "\n",
    "insertion_positions"
   ]
  },
  {
   "cell_type": "code",
   "execution_count": 11,
   "metadata": {
    "tags": []
   },
   "outputs": [],
   "source": [
    "# load context sequences\n",
    "context_sequences = pd.read_csv(\"../designs/0_lib2_controls.csv\", index_col=0)\n",
    "# only take the first 30 sequences\n",
    "context_sequences = context_sequences.iloc[1:31,:] "
   ]
  },
  {
   "cell_type": "markdown",
   "metadata": {},
   "source": [
    "## Insert the miRNAs into the context"
   ]
  },
  {
   "cell_type": "code",
   "execution_count": 12,
   "metadata": {},
   "outputs": [],
   "source": [
    "# these are the (manually chosen) miRNAs we wish to look at in different contexts\n",
    "context_mirnas = [\n",
    "    \"hsa-let-7a-5p\",\n",
    "    \"hsa-miR-19b-3p\",\n",
    "    'hsa-miR-365a-3p',\n",
    "    'hsa-miR-23a-3p',\n",
    "    'hsa-miR-21-5p',\n",
    "    'hsa-miR-31-5p',\n",
    "    'hsa-miR-22-3p',\n",
    "    'hsa-miR-16-5p',\n",
    "    'hsa-miR-107',\n",
    "    'hsa-miR-24-3p'\n",
    "]"
   ]
  },
  {
   "cell_type": "code",
   "execution_count": 13,
   "metadata": {
    "tags": []
   },
   "outputs": [],
   "source": [
    "result = pd.DataFrame(columns=[\"context\", \"miRNA1\", \"target\", \"seq\"])\n",
    "i = 1\n",
    "for mirna in context_mirnas:\n",
    "    for label, row in context_sequences.iterrows():\n",
    "        context = row[\"seq\"]\n",
    "        index = f\"4_miRNA_full_single_context_controls_{i}\"\n",
    "        result.loc[index, \"miRNA1\"] = mirna\n",
    "        result.loc[index, \"target\"] = mirbase_df.loc[mirna, \"target\"]\n",
    "        result.loc[index, \"context\"] = label\n",
    "        result.loc[index, \"seq\"] = insert_miRNA_sites(context, insertion_positions, mirbase_df, [mirna])\n",
    "        i += 1"
   ]
  },
  {
   "cell_type": "markdown",
   "metadata": {},
   "source": [
    "# 4.2 - Design context sequences with specific ddG values"
   ]
  },
  {
   "cell_type": "code",
   "execution_count": null,
   "metadata": {
    "tags": []
   },
   "outputs": [],
   "source": [
    "from nupack import *\n",
    "my_model = Model(material='rna', celsius=37)"
   ]
  },
  {
   "cell_type": "code",
   "execution_count": 19,
   "metadata": {
    "tags": []
   },
   "outputs": [],
   "source": [
    "with open(\"../designs/universal_lib2_context.txt\") as f:\n",
    "    base_context = f.read()"
   ]
  },
  {
   "cell_type": "code",
   "execution_count": 20,
   "metadata": {
    "tags": []
   },
   "outputs": [],
   "source": [
    "complement_dict = {\n",
    "    'A': 'T',\n",
    "    'C': 'G',\n",
    "    'G': 'C',\n",
    "    'T': 'A',\n",
    "}\n",
    "\n",
    "non_complement_dict = {\n",
    "    'A': ['A', 'C', 'G'],\n",
    "    'C': ['A', 'C', 'T'],\n",
    "    'G': ['A', 'G'],\n",
    "    'T': ['C', 'T'],\n",
    "}"
   ]
  },
  {
   "cell_type": "code",
   "execution_count": null,
   "metadata": {
    "tags": []
   },
   "outputs": [],
   "source": [
    "# here, we define patterns of complementarity relative to the miRNA\n",
    "patterns = [\n",
    "    # 5 nt blocks\n",
    "    [-2, -1, 0, 1, 2],\n",
    "    [3, 4, 5, 6, 7],\n",
    "    [11, 12, 13, 14, 15],\n",
    "    # 2 times 4 nt blocks\n",
    "    [-2, -1, 0, 1, 5, 6, 7, 8],\n",
    "    [0, 1, 2, 3, 7, 8, 9, 10],\n",
    "    [8, 9, 10, 11, 15, 16, 17, 18],\n",
    "    # 7 nt blocks\n",
    "    [-3, -2, -1, 0, 1, 2, 3],\n",
    "    [0, 1, 2, 3, 4, 5, 6],\n",
    "    [7, 8, 9, 10, 11, 12, 13],\n",
    "    [14, 15, 16, 17, 18, 19, 20],\n",
    "    # 2 times 6 nt blocks\n",
    "    [-3, -2, -1, 0, 1, 2, 5, 6, 7, 8, 9, 10],\n",
    "    [0, 1, 2, 3, 4, 5, 8, 9, 10, 11, 12, 13],\n",
    "    [7, 8, 9, 10, 11, 12, 15, 16, 17, 18, 19, 20],\n",
    "    # 9 nt blocks\n",
    "    [-4, -3, -2, -1, 0, 1, 2, 3, 4],\n",
    "    [0, 1, 2, 3, 4, 5, 6, 7, 8, 9],\n",
    "    [12, 13, 14, 15, 16, 17, 18, 19, 20],\n",
    "    # 2 times 8 nt blocks\n",
    "    [-4, -3, -2, -1, 0, 1, 2, 3, 9, 10, 11, 12, 13, 14, 15, 16],\n",
    "    [0, 1, 2, 3, 4, 5, 6, 7, 9, 10, 11, 12, 13, 14, 15, 16],\n",
    "    [4, 5, 6, 7, 8, 9, 10, 11, 13, 14, 15, 16, 17, 18, 19, 20],\n",
    "    # 11 nt blocks\n",
    "    [-4, -3, -2, -1, 0, 1, 2, 3, 4, 5, 6],\n",
    "    [0, 1, 2, 3, 4, 5, 6, 7, 8, 9, 10],\n",
    "    [10, 11, 12, 13, 14, 15, 16, 17, 18, 19, 20],\n",
    "    # 13 nt block\n",
    "    [-4, -3, -2, -1, 0, 1, 2, 3, 4, 5, 6, 7, 8],\n",
    "    [4, 5, 6, 7, 8, 9, 10, 11, 12, 13, 14, 15, 16],\n",
    "    # 15 nt block\n",
    "    [3, 4, 5, 6, 7, 8, 9, 10, 11, 12, 13, 14, 15, 16, 17],\n",
    "    # 17 nt block\n",
    "    [-4, -3, -2, -1, 0, 1, 2, 3, 4, 5, 6, 7, 8, 9, 10, 11, 12],\n",
    "    [2, 3, 4, 5, 6, 7, 8, 9, 10, 11, 12, 13, 14, 15, 16, 17, 18],\n",
    "    # 19 nt block\n",
    "    [1, 2, 3, 4, 5, 6, 7, 8, 9, 10, 11, 12, 13, 14, 15, 16, 17, 18, 19],\n",
    "    # everything\n",
    "    [0, 1, 2, 3, 4, 5, 6, 7, 8, 9, 10, 11, 12, 13, 14, 15, 16, 17, 18, 19, 20],\n",
    "    # full block\n",
    "    [-4, -3, -2, -1, 0, 1, 2, 3, 4, 5, 6, 7, 8, 9, 10, 11, 12, 13, 14, 15, 16, 17, 18, 19]\n",
    "]\n",
    "len(patterns)"
   ]
  },
  {
   "cell_type": "code",
   "execution_count": 22,
   "metadata": {
    "tags": []
   },
   "outputs": [],
   "source": [
    "# we want to insert somewhat upstream of the target position\n",
    "insertion_pos_inhib = insertion_positions[0] - 26\n",
    "\n",
    "# determine the bases right next to the mirna position (to be able to generate the inhibitory sequence)\n",
    "adjacent_bases = base_context[insertion_positions[0]+21:insertion_positions[0]+25]\n",
    "\n",
    "i = len(result) + 1\n",
    "for mirna in context_mirnas:\n",
    "    tar_seq = mirbase_df.loc[mirna, \"target\"]\n",
    "    for pattern in patterns:\n",
    "        context = base_context\n",
    "        inhib_insert = ''\n",
    "        for pos, letter in enumerate(tar_seq[::-1]):\n",
    "            if pos in pattern: \n",
    "                inhib_insert += complement_dict[letter]\n",
    "            else:\n",
    "                inhib_insert += random.choice(non_complement_dict[letter])\n",
    "                \n",
    "        context = context[:insertion_pos_inhib] + inhib_insert + context[insertion_pos_inhib+len(inhib_insert):]\n",
    "        # check for negative positions\n",
    "        altered_adjacent = adjacent_bases\n",
    "        for pos, letter in enumerate(adjacent_bases):\n",
    "            if -(pos+1) in pattern:\n",
    "                context = context[:insertion_pos_inhib-(pos+1)] + complement_dict[letter] + context[insertion_pos_inhib-pos:]\n",
    "        \n",
    "        index = f\"4_miRNA_full_single_context_controls_{i}\"\n",
    "        result.loc[index, \"miRNA1\"] = mirna\n",
    "        result.loc[index, \"context\"] = 'inhib_' + str(pattern)\n",
    "        result.loc[index, \"target\"] = mirbase_df.loc[mirna, \"target\"]\n",
    "        result.loc[index, \"seq\"] = insert_miRNA_sites(context, insertion_positions, mirbase_df, [mirna])\n",
    "        i += 1"
   ]
  },
  {
   "cell_type": "markdown",
   "metadata": {},
   "source": [
    "### Calculate ddG values"
   ]
  },
  {
   "cell_type": "code",
   "execution_count": 29,
   "metadata": {
    "tags": []
   },
   "outputs": [],
   "source": [
    "ddG_list = []\n",
    "for key, row in result.iterrows():\n",
    "    tar = row[\"target\"]\n",
    "    mirna = reverse_complement(tar, alph=\"DNA\")\n",
    "    \n",
    "    # this is the full variable sequence (164 nt)\n",
    "    seq = row[\"seq\"]\n",
    "    \n",
    "    mirna = mirna.replace(\"T\", \"U\")\n",
    "    seq = seq.replace(\"T\", \"U\")\n",
    "    \n",
    "    # Define strand species\n",
    "    s_mir = Strand(mirna, name='mir')\n",
    "    s_tar = Strand(seq, name='seq')\n",
    "\n",
    "    set1 = ComplexSet(strands=[s_mir, s_tar],\n",
    "                  complexes=SetSpec(max_size=2, exclude=[[s_mir, s_mir], [s_tar, s_tar]]))\n",
    "\n",
    "    complex_results = complex_analysis(complexes=set1, model=my_model, compute=['pfunc'])\n",
    "    \n",
    "    dG_mir = complex_results[\"(mir)\"].free_energy\n",
    "    dG_seq = complex_results[\"(seq)\"].free_energy\n",
    "    if \"(mir+seq)\" in str(complex_results.keys()):\n",
    "        dG_complex = complex_results[\"(mir+seq)\"].free_energy\n",
    "    else:\n",
    "        dG_complex = complex_results[\"(seq+mir)\"].free_energy\n",
    "        \n",
    "    ddG = dG_complex - dG_mir - dG_seq\n",
    "    ddG_list.append(ddG)"
   ]
  },
  {
   "cell_type": "code",
   "execution_count": 31,
   "metadata": {
    "tags": []
   },
   "outputs": [],
   "source": [
    "# Add ddGs to the result dataframe\n",
    "result[\"ddG\"] = ddG_list\n",
    "# The abbreviated sequence cuts off some of the flanking regions to make the analysis cleaner\n",
    "result['abbrev_seq'] = result['seq'].map(lambda x: x[insertion_pos_inhib-10:insertion_positions[0]+31])"
   ]
  },
  {
   "cell_type": "code",
   "execution_count": null,
   "metadata": {
    "tags": []
   },
   "outputs": [],
   "source": [
    "sns.boxplot(x=\"miRNA1\", y=\"ddG\", data=result)"
   ]
  },
  {
   "cell_type": "markdown",
   "metadata": {},
   "source": [
    "# 4.3 - Investigate the designs before saving them"
   ]
  },
  {
   "cell_type": "code",
   "execution_count": null,
   "metadata": {
    "tags": []
   },
   "outputs": [],
   "source": [
    "# are there polyadenylation signals in the context?\n",
    "point_mutants_or = '|'.join(['AATAAA', 'ATTAAA', 'AGTAAA', 'TATAAA', 'ACTAAA'])\n",
    "result[\"seq\"].str.contains(point_mutants_or).value_counts()"
   ]
  },
  {
   "cell_type": "code",
   "execution_count": null,
   "metadata": {
    "tags": []
   },
   "outputs": [],
   "source": [
    "# are there restriction sites in the context?\n",
    "# these are for BsaI\n",
    "restriction_sites_or = \"GAGACC|GGTCTC\"\n",
    "result[\"seq\"].str.contains(restriction_sites_or).value_counts()"
   ]
  },
  {
   "cell_type": "code",
   "execution_count": null,
   "metadata": {
    "tags": []
   },
   "outputs": [],
   "source": [
    "# are there ATGs in the context?\n",
    "result[\"seq\"].str.contains('ATG').value_counts()"
   ]
  },
  {
   "cell_type": "code",
   "execution_count": 38,
   "metadata": {
    "tags": []
   },
   "outputs": [],
   "source": [
    "result.to_csv(\"../designs/4_miRNA_full_single_context_controls.csv\")"
   ]
  }
 ],
 "metadata": {
  "kernelspec": {
   "display_name": "Python 3 (ipykernel)",
   "language": "python",
   "name": "python3"
  },
  "language_info": {
   "codemirror_mode": {
    "name": "ipython",
    "version": 3
   },
   "file_extension": ".py",
   "mimetype": "text/x-python",
   "name": "python",
   "nbconvert_exporter": "python",
   "pygments_lexer": "ipython3",
   "version": "3.8.17"
  }
 },
 "nbformat": 4,
 "nbformat_minor": 4
}
