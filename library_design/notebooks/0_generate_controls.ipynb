{
 "cells": [
  {
   "cell_type": "code",
   "execution_count": 23,
   "metadata": {},
   "outputs": [],
   "source": [
    "import pandas as pd\n",
    "import numpy as np\n",
    "import matplotlib.pyplot as plt\n",
    "import matplotlib.colors as mcolors\n",
    "import seaborn as sns\n",
    "import os\n",
    "\n",
    "plot_folder = \"../plots/0_controls/\"\n",
    "\n",
    "# create it if it does not exist\n",
    "if not os.path.exists(plot_folder):\n",
    "    os.makedirs(plot_folder)"
   ]
  },
  {
   "cell_type": "code",
   "execution_count": 37,
   "metadata": {},
   "outputs": [],
   "source": [
    "# read the stability measured across cell lines in the library 1\n",
    "# these data have already been normalized to make them more comparable\n",
    "data_dir_input = \"../input_data/measurements_lib1/non_miRNA_UTR_sequences\"\n",
    "\n",
    "# get the name of all files in \"reference\" folder\n",
    "library_df = pd.read_csv(os.path.join(data_dir_input, \"lib1_other_seqs.csv\"), index_col=0)"
   ]
  },
  {
   "cell_type": "code",
   "execution_count": 39,
   "metadata": {},
   "outputs": [],
   "source": [
    "# non seq columns\n",
    "non_seq_columns = [column for column in library_df.columns if \"seq\" not in column]\n",
    "library_df[\"mean\"] = library_df[non_seq_columns].mean(axis=1)\n",
    "library_df[\"variance\"] = library_df[non_seq_columns].var(axis=1)\n",
    "library_df.sort_values(by=\"variance\", ascending=True, inplace=True)"
   ]
  },
  {
   "cell_type": "markdown",
   "metadata": {},
   "source": [
    "## Pick context sequences"
   ]
  },
  {
   "cell_type": "code",
   "execution_count": 41,
   "metadata": {},
   "outputs": [],
   "source": [
    "# Get the top 120 sequences by variance for further processing\n",
    "chosen_sequences = library_df.head(120)"
   ]
  },
  {
   "cell_type": "code",
   "execution_count": 42,
   "metadata": {},
   "outputs": [],
   "source": [
    "# paste sequences together to get context sequences of sufficient length\n",
    "appended_sequences = []\n",
    "appended_names = []\n",
    "# paste the sequences together\n",
    "for i in range(int(len(chosen_sequences)/2)):\n",
    "    appended_sequences.append(chosen_sequences.iloc[[i,2*i], :][\"seq\"].str.cat(sep=\"\"))\n",
    "    appended_names.append(chosen_sequences.iloc[[i,2*i], :].index.str.cat(sep=\"_\"))"
   ]
  },
  {
   "cell_type": "code",
   "execution_count": 43,
   "metadata": {},
   "outputs": [],
   "source": [
    "# create the dataframe and shorten the appended sequences to the desired length\n",
    "desired_length = 200 - 18 - 18\n",
    "df_appended_sequences = pd.DataFrame(appended_sequences,\n",
    "    index=[f\"0_lib2_controls_{i+2}\" for i in range(len(appended_sequences))], columns=[\"seq\"])\n",
    "\n",
    "df_appended_sequences[\"source_seq\"] = appended_names\n",
    "df_appended_sequences[\"seq\"] = df_appended_sequences[\"seq\"].str[0:desired_length]"
   ]
  },
  {
   "cell_type": "code",
   "execution_count": 44,
   "metadata": {},
   "outputs": [],
   "source": [
    "# add the manually chosen main context\n",
    "ctx_lib2_1_name = \"0_lib2_controls_1\"\n",
    "ctx_lib2_1_seq = \"AAAGAGCAGAAGCAGCAGCATCTCTGTACATTTTGGAGCCAAGGGTTCAGAGACTCAGGGCCCCAGCACTTAAGCAGTGGACACCAGGAGTCCCTGGTAATCAGT\" + \\\n",
    "                \"ACTGTGTACAGAATTCTGCTACCTCACTACAAGCAGAAGGAAACATTGAACTCAGAGCC\"\n",
    "\n",
    "ctx_lib2_source_seq = \"main_context\"\n",
    "\n",
    "df_appended_sequences.loc[ctx_lib2_1_name, :] = [ctx_lib2_1_seq, ctx_lib2_source_seq]\n",
    "\n",
    "# move the manually chosen context to the top of the dataframe\n",
    "df_appended_sequences = df_appended_sequences.reindex([ctx_lib2_1_name] + [i for i in df_appended_sequences.index if i != ctx_lib2_1_name])"
   ]
  },
  {
   "cell_type": "code",
   "execution_count": 45,
   "metadata": {},
   "outputs": [],
   "source": [
    "# get rid of ATGs in the first 40 sequences\n",
    "# this makes the library potentially compatible with 5' UTR measurements\n",
    "first_forty = df_appended_sequences.head(40).index\n",
    "df_appended_sequences.loc[first_forty, \"seq\"] = df_appended_sequences.loc[first_forty, \"seq\"].str.replace(\"ATG\", \"AAG\")"
   ]
  },
  {
   "cell_type": "markdown",
   "metadata": {},
   "source": [
    "## Remove polyA sequences and potential restriction sites\n",
    "### (ended up using Gibson cloning, so this isn't really necessary)"
   ]
  },
  {
   "cell_type": "code",
   "execution_count": 11,
   "metadata": {},
   "outputs": [],
   "source": [
    "# check for unwanted motifs\n",
    "# BsaI sites\n",
    "restriction_sites = [\"GAGACC\", \"GGTCTC\"]\n",
    "# Most of these aren't strong polyA signals, but they are close enough that they could end up being problematic\n",
    "polyA_signals = [\"AATAAA\", \"ATTAAA\", \"AGTAAA\", \"TATAAA\", \"ACTAAA\"]\n",
    "filter_motifs = restriction_sites + polyA_signals"
   ]
  },
  {
   "cell_type": "code",
   "execution_count": 12,
   "metadata": {},
   "outputs": [],
   "source": [
    "# Add the new fixed sequences before checking for unwanted motifs\n",
    "left_handle = \"ACGACGCTCTTCCGATCT\"\n",
    "right_handle = \"CTCTGGATTTGCAACCGA\"\n",
    "\n",
    "df_appended_sequences[\"ext_seq\"] = left_handle + df_appended_sequences[\"seq\"] + right_handle"
   ]
  },
  {
   "cell_type": "code",
   "execution_count": 13,
   "metadata": {},
   "outputs": [
    {
     "name": "stdout",
     "output_type": "stream",
     "text": [
      "8\n"
     ]
    }
   ],
   "source": [
    "# How many sequences contain the filter motifs?\n",
    "print(df_appended_sequences[\"ext_seq\"].str.contains('|'.join(filter_motifs)).sum())\n",
    "df_appended_sequences[\"unwanted_motif\"] = df_appended_sequences[\"ext_seq\"].str.contains('|'.join(filter_motifs))\n",
    "\n",
    "# Drop the sequences that contain unwanted motifs\n",
    "df_appended_sequences = df_appended_sequences[df_appended_sequences[\"unwanted_motif\"] == False]\n",
    "\n",
    "# Remove ext_seq and unwanted_motif columns\n",
    "df_appended_sequences.drop([\"ext_seq\", \"unwanted_motif\"], axis=1, inplace=True)"
   ]
  },
  {
   "cell_type": "code",
   "execution_count": 14,
   "metadata": {},
   "outputs": [],
   "source": [
    "# Rename the index to be consecutive\n",
    "df_appended_sequences.index = [f\"0_lib2_controls_{i+1}\" for i in range(len(df_appended_sequences))]"
   ]
  },
  {
   "cell_type": "code",
   "execution_count": 15,
   "metadata": {},
   "outputs": [
    {
     "data": {
      "text/plain": [
       "53"
      ]
     },
     "execution_count": 15,
     "metadata": {},
     "output_type": "execute_result"
    }
   ],
   "source": [
    "len(df_appended_sequences)"
   ]
  },
  {
   "cell_type": "code",
   "execution_count": 16,
   "metadata": {},
   "outputs": [],
   "source": [
    "# Save the result to a file\n",
    "df_appended_sequences.to_csv(\"../designs/0_lib2_controls.csv\")"
   ]
  },
  {
   "cell_type": "markdown",
   "metadata": {},
   "source": [
    "# Investigate the sequence diversity"
   ]
  },
  {
   "cell_type": "code",
   "execution_count": 17,
   "metadata": {},
   "outputs": [],
   "source": [
    "# add the GC content\n",
    "df_appended_sequences[\"gc_content\"] = [(seq.count(\"G\") + seq.count(\"C\"))/len(seq) for seq in df_appended_sequences[\"seq\"]]"
   ]
  },
  {
   "cell_type": "code",
   "execution_count": 18,
   "metadata": {},
   "outputs": [
    {
     "data": {
      "image/png": "[encoded data removed]",
      "text/plain": [
       "<Figure size 640x480 with 1 Axes>"
      ]
     },
     "metadata": {},
     "output_type": "display_data"
    }
   ],
   "source": [
    "# plot a hist\n",
    "fig = df_appended_sequences[\"gc_content\"].hist(bins=20)\n",
    "plt.xlabel(\"GC content\")\n",
    "plt.savefig(plot_folder + \"gc_content_hist.png\", dpi=300)"
   ]
  },
  {
   "cell_type": "code",
   "execution_count": 19,
   "metadata": {},
   "outputs": [
    {
     "data": {
      "image/png": "[encoded data removed]",
      "text/plain": [
       "<Figure size 600x250 with 1 Axes>"
      ]
     },
     "metadata": {},
     "output_type": "display_data"
    }
   ],
   "source": [
    "df = df_appended_sequences.copy()\n",
    "\n",
    "# DNA to numerical mapping\n",
    "dna_to_num = {\n",
    "    'A': 0,\n",
    "    'C': 1,\n",
    "    'G': 2,\n",
    "    'T': 3\n",
    "}\n",
    "\n",
    "def sequence_to_nums(sequence):\n",
    "    return [dna_to_num[base] for base in sequence]\n",
    "\n",
    "# Convert sequences to numerical matrices\n",
    "df['num_map'] = df['seq'].apply(sequence_to_nums)\n",
    "\n",
    "# Extracting all numerical maps\n",
    "num_maps = np.array(df['num_map'].tolist())\n",
    "\n",
    "# Create a custom colormap\n",
    "cmap = mcolors.ListedColormap(['red', 'green', 'blue', 'yellow'])\n",
    "\n",
    "# Plotting the heatmap\n",
    "fig, ax = plt.subplots(figsize=(6, 2.5))\n",
    "\n",
    "sns.heatmap(\n",
    "    data=num_maps,\n",
    "    ax=ax,\n",
    "    cmap=cmap,\n",
    "    square=True,\n",
    "    linewidths=0.1,\n",
    "    linecolor='black',\n",
    "    cbar=False\n",
    ")\n",
    "\n",
    "# Removing x and y ticks for cleaner visualization\n",
    "ax.set_xticks([])\n",
    "ax.set_yticks([])\n",
    "\n",
    "plt.tight_layout()\n",
    "plt.savefig(plot_folder + \"sequence_heatmap.png\", dpi=300)"
   ]
  }
 ],
 "metadata": {
  "kernelspec": {
   "display_name": "base",
   "language": "python",
   "name": "python3"
  },
  "language_info": {
   "codemirror_mode": {
    "name": "ipython",
    "version": 3
   },
   "file_extension": ".py",
   "mimetype": "text/x-python",
   "name": "python",
   "nbconvert_exporter": "python",
   "pygments_lexer": "ipython3",
   "version": "3.8.17"
  },
  "orig_nbformat": 4
 },
 "nbformat": 4,
 "nbformat_minor": 2
}
