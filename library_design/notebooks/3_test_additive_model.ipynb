{
 "cells": [
  {
   "cell_type": "code",
   "execution_count": 1,
   "metadata": {},
   "outputs": [],
   "source": [
    "import pandas as pd\n",
    "import numpy as np\n",
    "import matplotlib.pyplot as plt\n",
    "import seaborn as sns\n",
    "import os\n",
    "import scipy.stats as stats\n",
    "\n",
    "# set the font size\n",
    "plt.rcParams.update({'font.size': 7})\n",
    "# set Helvetica globally\n",
    "plt.rcParams['font.family'] = 'Helvetica'\n",
    "\n",
    "cell_lines_measured = [\"HEK293T\", \"HeLa\", \"SKNSH\", \"MCF7\"]\n",
    "plot_folder = \"../plots/3_additive_model\"\n",
    "# create folder if it does not exist\n",
    "if not os.path.exists(plot_folder):\n",
    "    os.makedirs(plot_folder)"
   ]
  },
  {
   "cell_type": "code",
   "execution_count": 4,
   "metadata": {},
   "outputs": [],
   "source": [
    "mirna_expression_filter = pd.read_csv(\"../input_data/miRNA_expression_data/1_output/1.10_alles_quantile_crosstalk_filter.csv\", index_col=0)  \n",
    "mirna_expression = mirna_expression_filter"
   ]
  },
  {
   "cell_type": "code",
   "execution_count": 20,
   "metadata": {},
   "outputs": [],
   "source": [
    "data_dir_input = \"../input_data/measurements_lib1/\"\n",
    "\n",
    "# get the name of all files in \"reference\" folder\n",
    "reference_files = os.listdir(data_dir_input)\n",
    "\n",
    "# read them into a dictionary\n",
    "reference_dict = {}\n",
    "for reference_file in reference_files:\n",
    "    if reference_file.endswith(\".csv\"):\n",
    "        reference_dict[reference_file.split('.')[0]] = pd.read_csv(os.path.join(data_dir_input, reference_file), index_col=0)\n",
    "\n",
    "# get all dfs that contain \"single\" in their key\n",
    "single_dfs = {key: reference_dict[key].copy() for key in reference_dict.keys() if \"single\" in key}\n",
    "AND_dfs = {key: reference_dict[key].copy() for key in reference_dict.keys() if \"AND\" in key and \"full\" in key}"
   ]
  },
  {
   "cell_type": "code",
   "execution_count": 22,
   "metadata": {},
   "outputs": [],
   "source": [
    "single_and_AND_dfs = AND_dfs.copy()\n",
    "single_and_AND_dfs[\"2_full_singleX2_context1\"] = single_dfs[\"2_full_singleX2_context1\"]\n",
    "single_and_AND_dfs[\"2_full_singleX2_context2\"] = single_dfs[\"2_full_singleX2_context2\"]\n",
    "single_and_AND_dfs[\"3_full_singleX3_context1\"] = single_dfs[\"3_full_singleX3_context1\"]\n",
    "single_and_AND_dfs[\"3_full_singleX3_context2\"] = single_dfs[\"3_full_singleX3_context2\"]"
   ]
  },
  {
   "cell_type": "code",
   "execution_count": 23,
   "metadata": {},
   "outputs": [],
   "source": [
    "# filter out all mirnas that are not in the mirna expression data\n",
    "for key in single_and_AND_dfs.keys():\n",
    "    df = single_and_AND_dfs[key]\n",
    "    miRNA_columns = [col for col in df.columns if col.startswith(\"miRNA\")]\n",
    "    \n",
    "    # check for each miRNA if it is in mirna_expression.index\n",
    "    df[miRNA_columns] = df[df[miRNA_columns].isin(mirna_expression.index)][miRNA_columns]\n",
    "    single_and_AND_dfs[key] = df.dropna()"
   ]
  },
  {
   "cell_type": "code",
   "execution_count": 60,
   "metadata": {},
   "outputs": [],
   "source": [
    "# split these into expression dfs and knockdown dfs\n",
    "expression_dfs = {}\n",
    "knockdown_dfs = {}\n",
    "for key in single_and_AND_dfs.keys():\n",
    "    df = single_and_AND_dfs[key]\n",
    "    expression_dfs[key] = df[df.columns[df.columns.str.startswith(\"miRNA\")]]\n",
    "    knockdown_dfs[key] = df[df.columns[df.columns.str.endswith(\"_3UTR_log10\")]]\n",
    "    # drop the 3UTR suffix\n",
    "    knockdown_dfs[key].columns = knockdown_dfs[key].columns.str.replace(\"_3UTR_log10\", \"\")"
   ]
  },
  {
   "cell_type": "markdown",
   "metadata": {},
   "source": [
    "## 3.1 - Predict stability based on microRNA expression"
   ]
  },
  {
   "cell_type": "code",
   "execution_count": 25,
   "metadata": {},
   "outputs": [],
   "source": [
    "from lib.transfer_functions import transfer_function, inverse_transfer\n",
    "from lib.mirna_combinations import get_combinations\n",
    "from lib.additive_model import add_mirna_expression"
   ]
  },
  {
   "cell_type": "code",
   "execution_count": 44,
   "metadata": {},
   "outputs": [],
   "source": [
    "mirna_expression_lin = 10**mirna_expression\n",
    "popt = [10**3.5924, 10**10]"
   ]
  },
  {
   "cell_type": "code",
   "execution_count": 33,
   "metadata": {},
   "outputs": [],
   "source": [
    "added_dfs = {key: add_mirna_expression(mirna_expression_lin, expression_dfs[key]) for key in expression_dfs.keys()}"
   ]
  },
  {
   "cell_type": "code",
   "execution_count": 54,
   "metadata": {},
   "outputs": [],
   "source": [
    "# apply the transfer function to the added dfs\n",
    "knockdown_from_added = {}\n",
    "for key in added_dfs.keys():\n",
    "    knockdown_from_added[key] = np.log10(transfer_function(added_dfs[key], *popt).astype(float))"
   ]
  },
  {
   "cell_type": "markdown",
   "metadata": {},
   "source": [
    "### plot the data as a single plot"
   ]
  },
  {
   "cell_type": "code",
   "execution_count": 61,
   "metadata": {},
   "outputs": [],
   "source": [
    "%%capture output\n",
    "cell_line_colors = {\"HEK293T\": \"blue\", \"SKNSH\": \"green\", \"HeLa\": \"red\", \"MCF7\": \"orange\"}\n",
    "cell_line_symbols = {\"HEK293T\": \"o\", \"SKNSH\": \"s\", \"HeLa\": \"D\", \"MCF7\": \"v\"}\n",
    "curr_folder = \"3.1.2_add_mirna_expression_filter\"\n",
    "\n",
    "# create folder if it does not exist\n",
    "if not os.path.exists(f\"{plot_folder}/{curr_folder}\"):\n",
    "    os.makedirs(f\"{plot_folder}/{curr_folder}\")\n",
    "\n",
    "r2_vals = pd.DataFrame(index=knockdown_dfs.keys(), columns=cell_lines_measured)\n",
    "for key in knockdown_dfs.keys():\n",
    "    curr_knock_df = knockdown_dfs[key]\n",
    "    curr_added_df = knockdown_from_added[key]\n",
    "    \n",
    "    plt.rcParams.update({'font.size': 8})\n",
    "    fig = plt.figure(figsize=(3.5, 2.5))\n",
    "\n",
    "    for i, cell_line in enumerate(cell_lines_measured):\n",
    "        r2 = stats.pearsonr(curr_added_df[cell_line],\n",
    "                            curr_knock_df[cell_line])[0]**2\n",
    "        plt.scatter(curr_added_df[cell_line], curr_knock_df[cell_line], color=cell_line_colors[cell_line],\n",
    "            s=3, marker=cell_line_symbols[cell_line], label=f\"{cell_line}, \" + r\"$r^2$=\" + f\"{round(r2, 2)}\")\n",
    "        \n",
    "        r2_vals.loc[key, cell_line] = r2\n",
    "        if i == 3:\n",
    "            plt.plot([-2.1, 0.1], [-2.1, 0.1], color=\"black\", linewidth=1.5, ls=\"--\")\n",
    "        \n",
    "    plt.xlabel(\"predicted\")\n",
    "    plt.ylabel(\"measured\")\n",
    "    plt.title(f\"{key} added miRNA expression\")\n",
    "    \n",
    "    plt.xlim(-2, 0.15)\n",
    "    plt.ylim(-2, 0.15)\n",
    "    \n",
    "    plt.xticks([-2, -1.5, -1, -0.5, 0])\n",
    "    plt.yticks([-2, -1.5, -1, -0.5, 0])\n",
    "\n",
    "    plt.legend(loc=\"upper left\", frameon=False, fontsize=7)\n",
    "    for format in [\"png\", \"svg\"]:\n",
    "        plt.savefig(f\"{plot_folder}/{curr_folder}/added_expression_{key}.{format}\", dpi=300, bbox_inches='tight')\n",
    "        \n",
    "r2_vals.to_csv(f\"{plot_folder}/{curr_folder}/add_r2_values.csv\")"
   ]
  },
  {
   "cell_type": "markdown",
   "metadata": {},
   "source": [
    "### plot sublibraries into a single plot"
   ]
  },
  {
   "cell_type": "code",
   "execution_count": 62,
   "metadata": {},
   "outputs": [],
   "source": [
    "comb_AND_knock = [knockdown_dfs[key].copy() for key in knockdown_dfs if \"AND\" in key and \"context1\" in key and not \"AND5\" in key]\n",
    "comb_single_knock = [knockdown_dfs[key].copy() for key in knockdown_dfs if \"single\" in key and \"context1\" in key]\n",
    "\n",
    "comb_AND_expr = [knockdown_from_added[key].copy() for key in expression_dfs if \"AND\" in key and \"context1\" in key and not \"AND5\" in key]\n",
    "comb_single_expr = [knockdown_from_added[key].copy() for key in expression_dfs if \"single\" in key and \"context1\" in key]"
   ]
  },
  {
   "cell_type": "code",
   "execution_count": 63,
   "metadata": {},
   "outputs": [],
   "source": [
    "# merge the dfs. The columns are the same, so we can just use concat\n",
    "comb_AND_knock = pd.concat(comb_AND_knock, axis=0)\n",
    "comb_single_knock = pd.concat(comb_single_knock, axis=0)\n",
    "\n",
    "comb_AND_expr = pd.concat(comb_AND_expr, axis=0)\t\n",
    "comb_single_expr = pd.concat(comb_single_expr, axis=0)"
   ]
  },
  {
   "cell_type": "code",
   "execution_count": 64,
   "metadata": {},
   "outputs": [],
   "source": [
    "comb_knock = {\"single\": comb_single_knock, \"AND\": comb_AND_knock}\n",
    "comb_expr = {\"single\": comb_single_expr, \"AND\": comb_AND_expr}"
   ]
  },
  {
   "cell_type": "code",
   "execution_count": 65,
   "metadata": {},
   "outputs": [],
   "source": [
    "%%capture output\n",
    "cell_line_colors = {\"HEK293T\": \"blue\", \"SKNSH\": \"green\", \"HeLa\": \"red\", \"MCF7\": \"orange\"}\n",
    "cell_line_symbols = {\"HEK293T\": \"o\", \"SKNSH\": \"s\", \"HeLa\": \"D\", \"MCF7\": \"v\"}\n",
    "\n",
    "curr_folder = \"3.2.2_combined_mirna_exp_added_filter\"\n",
    "\n",
    "# create folder if it does not exist\n",
    "if not os.path.exists(f\"{plot_folder}/{curr_folder}\"):\n",
    "    os.makedirs(f\"{plot_folder}/{curr_folder}\")\n",
    "\n",
    "r2_vals = pd.DataFrame(index=knockdown_dfs.keys(), columns=cell_lines_measured)\n",
    "for key in comb_knock.keys():\n",
    "    curr_knock_df = comb_knock[key]\n",
    "    curr_added_df = comb_expr[key]\n",
    "    \n",
    "    plt.rcParams.update({'font.size': 8})\n",
    "    fig = plt.figure(figsize=(3.5, 2.5))\n",
    "\n",
    "    for i, cell_line in enumerate(cell_lines_measured):\n",
    "        r2 = stats.pearsonr(curr_added_df[cell_line],\n",
    "                            curr_knock_df[cell_line])[0]**2\n",
    "        plt.scatter(curr_added_df[cell_line], curr_knock_df[cell_line], color=cell_line_colors[cell_line],\n",
    "            s=3, marker=cell_line_symbols[cell_line], label=f\"{cell_line}, \" + r\"$r^2$=\" + f\"{round(r2, 2)}\")\n",
    "        \n",
    "        r2_vals.loc[key, cell_line] = r2\n",
    "        if i == 3:\n",
    "            plt.plot([-2.1, 0.1], [-2.1, 0.1], color=\"black\", linewidth=1.5, ls=\"--\")\n",
    "        \n",
    "    plt.xlabel(\"predicted\")\n",
    "    plt.ylabel(\"measured\")\n",
    "    plt.title(f\"{key} added miRNA expression\")\n",
    "    \n",
    "    plt.xlim(-2, 0.15)\n",
    "    plt.ylim(-2, 0.15)\n",
    "    \n",
    "    plt.xticks([-2, -1.5, -1, -0.5, 0])\n",
    "    plt.yticks([-2, -1.5, -1, -0.5, 0])\n",
    "\n",
    "    plt.legend(loc=\"upper left\", frameon=False, fontsize=7)\n",
    "    for format in [\"png\", \"svg\"]:\n",
    "        plt.savefig(f\"{plot_folder}/{curr_folder}/3.2.2_added_expression_{key}.{format}\", dpi=300, bbox_inches='tight')\n",
    "        \n",
    "r2_vals.to_csv(f\"{plot_folder}/{curr_folder}/3.2.2_add_r2_values.csv\")"
   ]
  },
  {
   "cell_type": "markdown",
   "metadata": {},
   "source": [
    "## 3.2 - Use the inverted transfer function"
   ]
  },
  {
   "cell_type": "code",
   "execution_count": 71,
   "metadata": {},
   "outputs": [],
   "source": [
    "# get the actual expression values\n",
    "single_knockdown = single_dfs[\"1_full_single_context1\"]\n",
    "# make miRNA the index\n",
    "single_knockdown = single_knockdown.set_index(\"miRNA1\")\n",
    "# drop all columns that do not contain \"3UTR\"\n",
    "single_knockdown = single_knockdown.filter(regex=\"_3UTR_log10\")\n",
    "# convert log10 to actual expression\n",
    "single_knockdown = 10**single_knockdown\n",
    "# drop the _log10 suffix\n",
    "single_knockdown.columns = single_knockdown.columns.str.replace(\"_3UTR_log10\", \"\")\n",
    "# make all values larger than 1 equal to 1\n",
    "single_knockdown[single_knockdown > 1] = 1\n",
    "# get the inverse of the expression\n",
    "mirna_expr_fr_knockdown = inverse_transfer(single_knockdown, *popt)"
   ]
  },
  {
   "cell_type": "code",
   "execution_count": 72,
   "metadata": {},
   "outputs": [],
   "source": [
    "added_dfs = {key: add_mirna_expression(mirna_expr_fr_knockdown, expression_dfs[key]) for key in expression_dfs.keys()}\n",
    "# apply the transfer function to the added dfs\n",
    "knockdown_from_added = {}\n",
    "for key in added_dfs.keys():\n",
    "    knockdown_from_added[key] = np.log10(transfer_function(added_dfs[key], *popt).astype(float))"
   ]
  },
  {
   "cell_type": "code",
   "execution_count": 73,
   "metadata": {},
   "outputs": [],
   "source": [
    "%%capture output\n",
    "cell_line_colors = {\"HEK293T\": \"blue\", \"SKNSH\": \"green\", \"HeLa\": \"red\", \"MCF7\": \"orange\"}\n",
    "cell_line_symbols = {\"HEK293T\": \"o\", \"SKNSH\": \"s\", \"HeLa\": \"D\", \"MCF7\": \"v\"}\n",
    "\n",
    "curr_folder = \"3.2.1_add_knockdown\"\n",
    "\n",
    "# create folder if it does not exist\n",
    "if not os.path.exists(f\"{plot_folder}/{curr_folder}\"):\n",
    "    os.makedirs(f\"{plot_folder}/{curr_folder}\")\n",
    "r2_vals = pd.DataFrame(index=knockdown_dfs.keys(), columns=cell_lines_measured)\n",
    "\n",
    "for key in knockdown_dfs.keys():\n",
    "    curr_knock_df = knockdown_dfs[key]\n",
    "    curr_added_df = knockdown_from_added[key]\n",
    "    \n",
    "    plt.rcParams.update({'font.size': 8})\n",
    "    fig = plt.figure(figsize=(3.5, 2.5))\n",
    "\n",
    "    rs = []\n",
    "    for i, cell_line in enumerate(cell_lines_measured):\n",
    "        r2 = stats.pearsonr(curr_added_df[cell_line],\n",
    "                            curr_knock_df[cell_line])[0]**2\n",
    "        plt.scatter(curr_added_df[cell_line], curr_knock_df[cell_line], color=cell_line_colors[cell_line],\n",
    "            s=3, marker=cell_line_symbols[cell_line], label=f\"{cell_line}, \" + r\"$r^2$=\" + f\"{round(r2, 2)}\")\n",
    "        r2_vals.loc[key, cell_line] = r2\n",
    "        if i == 3:\n",
    "            plt.plot([-2.1, 0.1], [-2.1, 0.1], color=\"black\", linewidth=1.5, ls=\"--\")\n",
    "        \n",
    "    plt.xlabel(\"predicted\")\n",
    "    plt.ylabel(\"measured\")\n",
    "    plt.title(f\"{key} added miRNA expression\")\n",
    "    \n",
    "    plt.xlim(-2, 0.15)\n",
    "    plt.ylim(-2, 0.15)\n",
    "    \n",
    "    plt.xticks([-2, -1.5, -1, -0.5, 0])\n",
    "    plt.yticks([-2, -1.5, -1, -0.5, 0])\n",
    "\n",
    "    plt.legend(loc=\"upper left\", frameon=False, fontsize=7)\n",
    "    for format in [\"png\", \"svg\"]:\n",
    "        plt.savefig(f\"{plot_folder}/{curr_folder}/3.2.1_added_knockdown_{key}.{format}\", dpi=300, bbox_inches='tight')\n",
    "\n",
    "r2_vals.to_csv(f\"{plot_folder}/{curr_folder}/3.2.1_knock_r2_values.csv\")"
   ]
  }
 ],
 "metadata": {
  "kernelspec": {
   "display_name": "Bio",
   "language": "python",
   "name": "python3"
  },
  "language_info": {
   "codemirror_mode": {
    "name": "ipython",
    "version": 3
   },
   "file_extension": ".py",
   "mimetype": "text/x-python",
   "name": "python",
   "nbconvert_exporter": "python",
   "pygments_lexer": "ipython3",
   "version": "3.12.0"
  }
 },
 "nbformat": 4,
 "nbformat_minor": 2
}
