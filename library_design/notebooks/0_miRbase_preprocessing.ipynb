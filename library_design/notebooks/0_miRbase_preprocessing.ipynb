{
 "cells": [
  {
   "cell_type": "code",
   "execution_count": 1,
   "metadata": {},
   "outputs": [],
   "source": [
    "import pandas as pd\n",
    "import re\n",
    "from lib.NA_sequence_utilities import *"
   ]
  },
  {
   "cell_type": "markdown",
   "metadata": {},
   "source": [
    "Families in miRbase ignore the origin from the 5p and 3p arm, which makes them useless to predict crosstalk.\n",
    "Here, we add this info for better crosstalk prediction."
   ]
  },
  {
   "cell_type": "code",
   "execution_count": 3,
   "metadata": {},
   "outputs": [],
   "source": [
    "# get mirbase data\n",
    "mirbase_df = pd.read_csv('../input_data/mirbase.csv', index_col=0)\n",
    "\n",
    "# fix nan values in mirbase\n",
    "mirbase_df[\"family\"] = mirbase_df[\"family\"].astype(str)\n",
    "mirbase_df[\"family\"] = mirbase_df.apply(lambda x: \"mir-\" + x.name.split(\"-\")[2] if x[\"family\"]==\"nan\" else x[\"family\"], axis=1)\n",
    "\n",
    "for index, row in mirbase_df.iterrows():\n",
    "    if not index.split('-')[-1] in [\"5p\", \"3p\"]:\n",
    "        family_mirnas = mirbase_df.loc[mirbase_df[\"family\"] == row[\"family\"], :].index\n",
    "        seed_mirna = row[\"sequence\"][1:8]\n",
    "        for mirna in family_mirnas:\n",
    "            if mirbase_df.loc[mirna, \"sequence\"][1:8] == seed_mirna:\n",
    "                if mirna.split('-')[-1] in [\"5p\", \"3p\"]:\n",
    "                    mirbase_df.loc[index, \"family_extended\"] = row[\"family\"] + \"-\" + mirna.split('-')[-1]\n",
    "        if not isinstance(mirbase_df.loc[index, \"family_extended\"], str):\n",
    "            mirbase_df.loc[index, \"family_extended\"] = row[\"family\"]\n",
    "        # print(index)\n",
    "        # print(mirbase_df.loc[index,\"family_extended\"])\n",
    "        # print(mirbase_df.loc[index,\"sequence\"])\n",
    "        # print(mirbase_df.loc[family_mirnas,\"sequence\"])\n",
    "        # break\n",
    "    else:\n",
    "        mirbase_df.loc[index, \"family_extended\"] = row[\"family\"] + \"-\" + index.split('-')[-1]"
   ]
  },
  {
   "cell_type": "markdown",
   "metadata": {},
   "source": [
    "To insert sequences, we need to normalize the length of miRNA targets to 21 nt. Add the normalized target to mirbase:"
   ]
  },
  {
   "cell_type": "code",
   "execution_count": 5,
   "metadata": {},
   "outputs": [],
   "source": [
    "def fill_in_sequence(sequence):\n",
    "    \"\"\"Fill in the sequence with Ts to make it 21 nts long.\n",
    "    Avoid introduction of ATGs.\"\"\"\n",
    "    if len(sequence) > 20:\n",
    "        sequence = sequence\n",
    "    elif len(sequence) == 20 and sequence[-1] == \"A\":\n",
    "        sequence = sequence + \"A\"\n",
    "    else:\n",
    "        sequence = sequence + \"T\"* (21-len(sequence))\n",
    "    return sequence\n",
    "\n",
    "# truncate all entries in \"sequence\" to 20 bases\n",
    "mirbase_df[\"sequence\"] = mirbase_df[\"sequence\"].str[:21]\n",
    "mirbase_df[\"sequence\"] = mirbase_df[\"sequence\"].apply(fill_in_sequence)\n",
    "\n",
    "# convert to DNA\n",
    "mirbase_df[\"sequence\"] = mirbase_df[\"sequence\"].apply(lambda x: x.replace(\"U\", \"T\"))\n",
    "\n",
    "# add the target sequence\n",
    "mirbase_df[\"target\"] = mirbase_df[\"sequence\"].apply(lambda x: reverse_complement(x, alph=\"DNA\"))\n",
    "\n",
    "# here, we also take care of ATGs in case we want to integrate miRNA sites into the 5' UTR\n",
    "# get the position of the first ATG\n",
    "mirbase_df[\"ATG_pos\"] = mirbase_df[\"target\"].apply(lambda x: [match.start() for match in re.finditer('ATG', x)])\n",
    "# get the position of the first ATG modulo 3\n",
    "mirbase_df[\"ATG_pos_mod3\"] = mirbase_df[\"ATG_pos\"].apply(lambda x: [entry%3 for entry in x])\n",
    "# fill the empty lists with 0\n",
    "mirbase_df['ATG_pos_mod3'] = mirbase_df['ATG_pos_mod3'].apply(lambda x: x if x else [0])\n",
    "# get the ATG count\n",
    "mirbase_df[\"ATG_count\"] = mirbase_df[\"target\"].apply(lambda x: x.count(\"ATG\"))"
   ]
  },
  {
   "cell_type": "code",
   "execution_count": null,
   "metadata": {},
   "outputs": [],
   "source": [
    "# save to csv\n",
    "mirbase_df.to_csv(\"../input_data/mirbase_with_families_and_targets.csv\")"
   ]
  }
 ],
 "metadata": {
  "kernelspec": {
   "display_name": "Python 3",
   "language": "python",
   "name": "python3"
  },
  "language_info": {
   "codemirror_mode": {
    "name": "ipython",
    "version": 3
   },
   "file_extension": ".py",
   "mimetype": "text/x-python",
   "name": "python",
   "nbconvert_exporter": "python",
   "pygments_lexer": "ipython3",
   "version": "3.8.17"
  }
 },
 "nbformat": 4,
 "nbformat_minor": 2
}
