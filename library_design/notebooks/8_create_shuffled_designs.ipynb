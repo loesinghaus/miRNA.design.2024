{
 "cells": [
  {
   "cell_type": "code",
   "execution_count": 9,
   "metadata": {},
   "outputs": [],
   "source": [
    "import pandas as pd\n",
    "import random\n",
    "from lib.transfer_functions import inverse_transfer\n",
    "\n",
    "cell_lines_main = [\"HEK293T\", \"HeLa\", \"SKNSH\", \"MCF7\", \"HUH-7\", \"A549\"]\n",
    "cell_lines_other = [\"HaCaT\", \"JEG-3\", \"Tera-1\", \"PC-3\"]\n",
    "cell_lines_measured = [\"HEK293T\", \"HeLa\", \"SKNSH\", \"MCF7\"]\n",
    "cell_lines = cell_lines_main + cell_lines_other"
   ]
  },
  {
   "cell_type": "markdown",
   "metadata": {},
   "source": [
    "### Here, we shuffle miRNA combinations to check if the position in the UTR matters"
   ]
  },
  {
   "cell_type": "code",
   "execution_count": 2,
   "metadata": {},
   "outputs": [],
   "source": [
    "def determine_mirna_usage(df):\n",
    "    \"\"\"Assumes microRNAs in columns are named 'miRNA' and returns a dict with the usage of each microRNA in the dataframe\"\"\"\n",
    "    usage_dict = {}\n",
    "    mirna_columns = [column for column in df.columns if \"miRNA\" in column]\n",
    "    used_mirnas = df[mirna_columns].values.tolist()\n",
    "    for design in used_mirnas:\n",
    "        for mirna in design:\n",
    "            if mirna in usage_dict:\n",
    "                usage_dict[mirna] += 1\n",
    "            else:\n",
    "                usage_dict[mirna] = 1\n",
    "    \n",
    "    # sort dict by value\n",
    "    usage_dict = {k: v for k, v in sorted(usage_dict.items(), key=lambda item: item[1], reverse=True)}\n",
    "    return usage_dict\n",
    "\n",
    "def create_unique_shuffles(df, n_shuffles=10):\n",
    "    \"\"\"Assumes microRNAs in columns are named 'miRNA' and returns a dataframe with unique shuffled designs.\"\"\"\n",
    "    shuffle_df = pd.DataFrame(columns=df.columns)\n",
    "    mirna_columns = [column for column in df.columns if \"miRNA\" in column]\n",
    "    for index, row in df.iterrows():\n",
    "        mirna_design = row[mirna_columns].values.tolist()\n",
    "        original_design = mirna_design.copy()\n",
    "        shuffled_designs = set()\n",
    "        shuffled_designs.add(tuple(original_design))\n",
    "        while len(shuffled_designs) < (n_shuffles + 1):\n",
    "            random.shuffle(mirna_design)\n",
    "            shuffled_designs.add(tuple(mirna_design))\n",
    "        # remove the original design\n",
    "        shuffled_designs.remove(tuple(original_design))\n",
    "        # make it a list\n",
    "        shuffled_designs = list(shuffled_designs)\n",
    "        for shuffled_design in shuffled_designs:\n",
    "            new_row = row.copy()\n",
    "            new_row[mirna_columns] = shuffled_design\n",
    "            shuffle_df.loc[len(shuffle_df)] = new_row\n",
    "    return shuffle_df"
   ]
  },
  {
   "cell_type": "code",
   "execution_count": 10,
   "metadata": {},
   "outputs": [],
   "source": [
    "# load microRNA data\n",
    "mirna_data_filter = pd.read_csv(\"../input_data/miRNA_expression_data/1_output/1.10_alles_quantile_crosstalk_filter.csv\", index_col=0)\n",
    "mirna_data_filter = mirna_data_filter.loc[:, cell_lines]\n",
    "mirna_data_filter = 10**mirna_data_filter\n",
    "\n",
    "# load measured data\n",
    "cell_lines_measured = [\"HEK293T\", \"HeLa\", \"SKNSH\", \"MCF7\"]\n",
    "# load real data\n",
    "measured_single = pd.read_csv('../input_data/measurements_lib1/1_full_single_context1.csv', index_col=0)\n",
    "# make miRNA1 the index\n",
    "measured_single = measured_single.set_index('miRNA1')\n",
    "# drop all columns that do not contain _3UTR_log10\n",
    "measured_single = measured_single.filter(regex='_3UTR_log10')\n",
    "# remove _3UTR_log10 from column names\n",
    "measured_single.columns = measured_single.columns.str.replace('_3UTR_log10', '')\n",
    "# make it linaer\n",
    "measured_single = 10**measured_single\n",
    "# make all values larger than 1 equal to 1\n",
    "measured_single[measured_single > 1] = 1\n",
    "# get the inverse of the expression\n",
    "mirna_expr_fr_knockdown = inverse_transfer(measured_single)\n",
    "# sort for better performance\n",
    "mirna_expr_fr_knockdown = mirna_expr_fr_knockdown.sort_index()\n",
    "mirna_expr_fr_knockdown = mirna_expr_fr_knockdown.loc[:, cell_lines_measured]"
   ]
  },
  {
   "cell_type": "markdown",
   "metadata": {},
   "source": [
    "# 10.1 - Shuffle full target sites"
   ]
  },
  {
   "cell_type": "code",
   "execution_count": 11,
   "metadata": {},
   "outputs": [],
   "source": [
    "# Get combinations of five full target sites\n",
    "full_AND5_df = pd.read_csv(\"../designs/14_miRNA_full_combination_probe_x5.csv\", index_col=0)"
   ]
  },
  {
   "cell_type": "code",
   "execution_count": 12,
   "metadata": {},
   "outputs": [],
   "source": [
    "# count the number of unique mirnas in each design\n",
    "full_AND5_df[\"mirna_number\"] = full_AND5_df.apply(lambda row: \\\n",
    "    len(set(row[[\"miRNA1\", \"miRNA2\", \"miRNA3\", \"miRNA4\", \"miRNA5\"]])), axis=1)\n",
    "# only use designs with 5 unique mirnas\n",
    "full_AND5_df = full_AND5_df[full_AND5_df[\"mirna_number\"] == 5]\n",
    "# drop the mirna_number column\n",
    "full_AND5_df = full_AND5_df.drop(columns=[\"mirna_number\"])"
   ]
  },
  {
   "cell_type": "code",
   "execution_count": 13,
   "metadata": {},
   "outputs": [],
   "source": [
    "# get the categories\n",
    "low = full_AND5_df[full_AND5_df[\"category\"] == \"low\"]\n",
    "mid = full_AND5_df[full_AND5_df[\"category\"] == \"mid\"]\n",
    "high = full_AND5_df[full_AND5_df[\"category\"] == \"high\"]"
   ]
  },
  {
   "cell_type": "code",
   "execution_count": null,
   "metadata": {},
   "outputs": [],
   "source": [
    "# sample 10 designs from each category\n",
    "low = low.sample(10)\n",
    "mid = mid.sample(10)\n",
    "high = high.sample(10)"
   ]
  },
  {
   "cell_type": "code",
   "execution_count": 14,
   "metadata": {},
   "outputs": [],
   "source": [
    "# shuffle each one 15 times\n",
    "low_shuffles = create_unique_shuffles(low, 15)\n",
    "mid_shuffles = create_unique_shuffles(mid, 15)\n",
    "high_shuffles = create_unique_shuffles(high, 15)"
   ]
  },
  {
   "cell_type": "code",
   "execution_count": 15,
   "metadata": {},
   "outputs": [],
   "source": [
    "# merge them into a single dataframe\n",
    "all_shuffles = pd.concat([low_shuffles, mid_shuffles, high_shuffles])\n",
    "# add the correct index\n",
    "all_shuffles.index = [f\"22_miRNA_full_combination_shuffle_x5_{i}\" for i in range(1, len(all_shuffles)+1)]\n",
    "# save the designs\n",
    "all_shuffles.to_csv(\"../designs/22_miRNA_full_combination_shuffle_x5.csv\")"
   ]
  },
  {
   "cell_type": "markdown",
   "metadata": {},
   "source": [
    "# 10.2 - Shuffle mutated sites"
   ]
  },
  {
   "cell_type": "code",
   "execution_count": 21,
   "metadata": {},
   "outputs": [],
   "source": [
    "# Get combinations of five mutated target sites\n",
    "mut_AND5_df = pd.read_csv(\"../designs/20_miRNA_mut_combination_probe_x5.csv\", index_col=0)"
   ]
  },
  {
   "cell_type": "code",
   "execution_count": 22,
   "metadata": {},
   "outputs": [],
   "source": [
    "# count the number of unique mirnas in each design\n",
    "mut_AND5_df[\"mirna_number\"] = mut_AND5_df.apply(lambda row: \\\n",
    "    len(set(row[[\"miRNA1\", \"miRNA2\", \"miRNA3\", \"miRNA4\", \"miRNA5\"]])), axis=1)\n",
    "# only use designs with 5 unique mirnas\n",
    "mut_AND5_df = mut_AND5_df[mut_AND5_df[\"mirna_number\"] == 5]\n",
    "# drop the mirna_number column\n",
    "mut_AND5_df = mut_AND5_df.drop(columns=[\"mirna_number\"])\n",
    "\n",
    "# count the number of mutated mirnas in each design\n",
    "mut_AND5_df[\"mutated_mirna_number\"] = mut_AND5_df.apply(lambda row: \\\n",
    "    len([mirna for mirna in row[[\"miRNA1\", \"miRNA2\", \"miRNA3\", \"miRNA4\", \"miRNA5\"]] if \"mut\" in mirna or \"Mut\" in mirna]), axis=1)\n",
    "# only use designs with 2 or more mutated mirnas\n",
    "mut_AND5_df = mut_AND5_df[mut_AND5_df[\"mutated_mirna_number\"] >= 2]\n",
    "# drop the mutated_mirna_number column\n",
    "mut_AND5_df = mut_AND5_df.drop(columns=[\"mutated_mirna_number\"])"
   ]
  },
  {
   "cell_type": "code",
   "execution_count": 23,
   "metadata": {},
   "outputs": [],
   "source": [
    "mut_mixed = mut_AND5_df[mut_AND5_df[\"category\"] == \"mixed\"]\n",
    "mut_weak = mut_AND5_df[mut_AND5_df[\"category\"] == \"weak\"]\n",
    "mut_medium = mut_AND5_df[mut_AND5_df[\"category\"] == \"medium\"]\n",
    "\n",
    "mut_mixed = mut_mixed.sample(10)\n",
    "mut_weak = mut_weak.sample(15)\n",
    "mut_medium = mut_medium.sample(15)"
   ]
  },
  {
   "cell_type": "code",
   "execution_count": 24,
   "metadata": {},
   "outputs": [],
   "source": [
    "mut_mixed_shuffles = create_unique_shuffles(mut_mixed, 15)\n",
    "mut_weak_shuffles = create_unique_shuffles(mut_weak, 15)\n",
    "mut_medium_shuffles = create_unique_shuffles(mut_medium, 15)"
   ]
  },
  {
   "cell_type": "code",
   "execution_count": 25,
   "metadata": {},
   "outputs": [],
   "source": [
    "all_mut_shuffles = pd.concat([mut_mixed_shuffles, mut_weak_shuffles, mut_medium_shuffles])\n",
    "all_mut_shuffles.index = [f\"23_miRNA_mut_combination_shuffle_x5_{i}\" for i in range(1, len(all_mut_shuffles)+1)]\n",
    "all_mut_shuffles.to_csv(\"../designs/23_miRNA_mut_combination_shuffle_x5.csv\")"
   ]
  }
 ],
 "metadata": {
  "kernelspec": {
   "display_name": "base",
   "language": "python",
   "name": "python3"
  },
  "language_info": {
   "codemirror_mode": {
    "name": "ipython",
    "version": 3
   },
   "file_extension": ".py",
   "mimetype": "text/x-python",
   "name": "python",
   "nbconvert_exporter": "python",
   "pygments_lexer": "ipython3",
   "version": "3.8.17"
  },
  "orig_nbformat": 4
 },
 "nbformat": 4,
 "nbformat_minor": 2
}
