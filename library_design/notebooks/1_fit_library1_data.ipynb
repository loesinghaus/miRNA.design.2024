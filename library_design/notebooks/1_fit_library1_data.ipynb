{
 "cells": [
  {
   "cell_type": "code",
   "execution_count": 7,
   "metadata": {},
   "outputs": [],
   "source": [
    "import pandas as pd\n",
    "import numpy as np\n",
    "import matplotlib.pyplot as plt\n",
    "import seaborn as sns\n",
    "import scipy.stats as stats\n",
    "import scipy.optimize as opt\n",
    "import os\n",
    "from lib.NA_sequence_utilities import *\n",
    "\n",
    "cell_lines_main = [\"HEK293T\", \"HeLa\", \"SKNSH\", \"MCF7\", \"HUH-7\", \"A549\"]\n",
    "cell_lines_other = [\"HaCaT\", \"JEG-3\", \"Tera-1\", \"PC-3\"]\n",
    "cell_lines_measured = [\"HEK293T\", \"HeLa\", \"SKNSH\", \"MCF7\"]\n",
    "cell_lines = cell_lines_main + cell_lines_other\n",
    "\n",
    "plot_folder = \"../plots/1_microRNA_data/\"\n",
    "# Create the folder if it does not exist\n",
    "if not os.path.exists(plot_folder):\n",
    "    os.makedirs(plot_folder)\n",
    "\n",
    "# create output directory if it does not exist\n",
    "output_folder = \"../output/1_output/\"\n",
    "if not os.path.exists(output_folder):\n",
    "    os.makedirs(output_folder)"
   ]
  },
  {
   "cell_type": "markdown",
   "metadata": {},
   "source": [
    "## 1.1 Compare quantile normalized and non-normalized data"
   ]
  },
  {
   "cell_type": "code",
   "execution_count": 2,
   "metadata": {},
   "outputs": [],
   "source": [
    "def normalize_expr_df_to_rpm(df):\n",
    "    # normalize\n",
    "    df = df.div(df.sum(axis=0), axis=1) * 1000000\n",
    "    # deduct the minimum and add one to the expression data to avoid division by 0\n",
    "    df = df - df.min() + 1\n",
    "    # normalize to rpm\n",
    "    df = df.div(df.sum(axis=0), axis=1) * 1000000\n",
    "    return df"
   ]
  },
  {
   "cell_type": "code",
   "execution_count": 5,
   "metadata": {},
   "outputs": [],
   "source": [
    "df_alles_quantile = pd.read_excel('../input_data/mirna_expression_data/1_input/Alles2019_quantile_norm_processed.xlsx', index_col=0)\n",
    "df_alles_quantile = normalize_expr_df_to_rpm(df_alles_quantile)\n",
    "\n",
    "# make it log10\n",
    "df_alles_quantile = np.log10(df_alles_quantile)"
   ]
  },
  {
   "cell_type": "markdown",
   "metadata": {},
   "source": [
    "## 1.2 Look at the correlation between cell lines"
   ]
  },
  {
   "cell_type": "code",
   "execution_count": null,
   "metadata": {},
   "outputs": [],
   "source": [
    "if not os.path.exists(os.path.join(plot_folder, \"1.2_cell_line_r2\")):\n",
    "    os.makedirs(os.path.join(plot_folder, \"1.2_cell_line_r2\"))\n",
    "corr = df_alles_quantile.corr()**2\n",
    "mask_matrix = np.triu(corr)\n",
    "sns.heatmap(corr, annot=True, fmt='.2f', vmin=0.3, vmax=1, cmap='Blues', mask=mask_matrix, cbar_kws={'label': 'r2'})\n",
    "plt.title('Correlation between cell lines (quantile normalized)')\n",
    "plt.savefig(os.path.join(plot_folder, \"1.2_cell_line_r2/cell_line_r2.png\"), dpi=300)"
   ]
  },
  {
   "cell_type": "markdown",
   "metadata": {},
   "source": [
    "## 1.3 Plot measured stability against the expression data"
   ]
  },
  {
   "cell_type": "code",
   "execution_count": 10,
   "metadata": {},
   "outputs": [],
   "source": [
    "data_dir_input = \"../input_data/measurements_lib1\"\n",
    "\n",
    "# get the name of all files in \"reference\" folder\n",
    "reference_files = os.listdir(data_dir_input)\n",
    "\n",
    "# read them into a dictionary\n",
    "reference_dict = {}\n",
    "for reference_file in reference_files:\n",
    "    if reference_file.endswith(\".csv\"):\n",
    "        reference_dict[reference_file.split('.')[0]] = pd.read_csv(os.path.join(data_dir_input, reference_file), index_col=0)\n",
    "\n",
    "# ADD EXPRESSION DATA TO THE DATAFRAMES\n",
    "# get all dfs that contain \"single\" in their key\n",
    "single_dfs = {key: reference_dict[key].copy() for key in reference_dict.keys() if \"single\" in key}\n",
    "\n",
    "for key, df in single_dfs.items():\n",
    "    # add miRNA expression data\n",
    "    # this is done by matching the column \"miRNA1\" in the df with the column \"miRNA\" in the mirna_expression_df\n",
    "    # not all values are present in the mirna_expression_df, so we have to match them\n",
    "    df.set_index(\"miRNA1\", inplace=True)\n",
    "    df = df.filter(regex='_3UTR_log10')\n",
    "    df = df.drop(['K562_3UTR_log10', 'HepG2_3UTR_log10'], axis=1)\n",
    "    df = df.loc[df.index.intersection(df_alles_quantile.index)]\n",
    "\n",
    "    cell_lines_measured = list(df.columns.str.replace('_3UTR_log10', ''))\n",
    "    for cell_line in cell_lines_measured:\n",
    "        df.loc[:, f\"{cell_line}_exp\"] = df_alles_quantile.loc[df.index, cell_line]\n",
    "\n",
    "    # drop NaN values\n",
    "    df.dropna(inplace=True)\n",
    "\n",
    "    single_dfs[key] = df"
   ]
  },
  {
   "cell_type": "code",
   "execution_count": 11,
   "metadata": {},
   "outputs": [],
   "source": [
    "# get the single data\n",
    "measured_single = single_dfs[\"1_full_single_context1\"]"
   ]
  },
  {
   "cell_type": "code",
   "execution_count": 12,
   "metadata": {},
   "outputs": [],
   "source": [
    "%%capture output\n",
    "if not os.path.exists(os.path.join(plot_folder, \"1.3_stability_vs_expression\")):\n",
    "    os.makedirs(os.path.join(plot_folder, \"1.3_stability_vs_expression\"))\n",
    "\n",
    "df = measured_single.copy()\n",
    "for cell_line in cell_lines_measured:\n",
    "    # plot the data\n",
    "    plt.clf()\n",
    "    plt.rcParams.update({'font.size': 8})\n",
    "    fig = plt.figure(figsize=(3, 2))\n",
    "    plt.scatter(df[f\"{cell_line}_exp\"], df[f\"{cell_line}_3UTR_log10\"], s=10, color=\"black\")\n",
    "\n",
    "    # calculate the correlation coefficient\n",
    "    r, p = stats.spearmanr(df[f\"{cell_line}_exp\"], df[f\"{cell_line}_3UTR_log10\"])\n",
    "\n",
    "    plt.xlabel(r\"log$_{10}$\"+f\"({cell_line} expression)\")\n",
    "    plt.ylabel(r\"log$_{10}$(RNA/DNA)\")\n",
    "\n",
    "    plt.xlim(0, 5.5)\n",
    "    plt.legend(loc=\"lower left\", frameon=False)\n",
    "    plt.title(f\"{cell_line}, \" + r\"$\\rho^2$ = \" + str(round(r**2, 2)), fontsize=7)\n",
    "    plt.savefig(os.path.join(plot_folder, f\"1.3_stability_vs_expression/{cell_line}_stability_vs_expression.png\"), dpi=300)"
   ]
  },
  {
   "cell_type": "code",
   "execution_count": 13,
   "metadata": {},
   "outputs": [],
   "source": [
    "# filter to columns that contain \"_3UTR_log10\"\n",
    "df_knockdown = measured_single.filter(regex='_3UTR_log10')\n",
    "# rename columns to drop the \"_3UTR_log10\"\n",
    "df_knockdown.columns = [col.split(\"_\")[0] for col in df_knockdown.columns]\n",
    "\n",
    "# filter to columns that contain \"exp\"\n",
    "df_expression = measured_single.filter(regex='exp')\n",
    "# rename columns to drop the \"_exp\"\n",
    "df_expression.columns = [col.split(\"_\")[0] for col in df_expression.columns]"
   ]
  },
  {
   "cell_type": "markdown",
   "metadata": {},
   "source": [
    "## 1.4 Fitting to the data"
   ]
  },
  {
   "cell_type": "code",
   "execution_count": 14,
   "metadata": {},
   "outputs": [],
   "source": [
    "def hill_func_log_scales(datasets, c1=3.5, c2=10, n=1, *scales):\n",
    "    \"\"\"The expression is assumed to be normalized to one.\n",
    "    The microRNA data is assumed to be log10.\n",
    "    The return value is also log10. C2 is generally ignored by setting it to be high.\"\"\"\n",
    "    c1 = (10**c1)**n\n",
    "    c2 = 10**c2\n",
    "    results = []\n",
    "\n",
    "    for x, scale in zip(datasets, scales):\n",
    "        x = x + scale\n",
    "        x = (10**x)**n\n",
    "        results.append( np.log10( (1 / (1 + x / c1)) * (1 + x / c2) ))\n",
    "    return np.concatenate(results)\n",
    "\n",
    "def hill_func_log_alt(x, c1=3, c2=4.5, n=1):\n",
    "    \"\"\"The expression is assumed to be normalized to one. The microRNA data is assumed to be log10.\n",
    "    The return value is also log10. C2 is generally ignored by setting it to be high.\"\"\"\n",
    "    x = (10**x)**n\n",
    "    c1 = (10**c1)**n\n",
    "    c2 = 10**c2\n",
    "    result = (1 / (1 + x / c1)) * (1 + x / c2)\n",
    "    return np.log10(result)"
   ]
  },
  {
   "cell_type": "code",
   "execution_count": null,
   "metadata": {},
   "outputs": [],
   "source": [
    "# testing for a single cell line\n",
    "cell_line = \"SKNSH\"\n",
    "x_data_log = [df_expression[f\"{cell_line}\"].values for cell_line in cell_lines_measured]\n",
    "y_data_log = [df_knockdown[f\"{cell_line}\"].values for cell_line in cell_lines_measured]\n",
    "cell_line_index = cell_lines_measured.index(cell_line)\n",
    "x_data_log = x_data_log[cell_line_index]\n",
    "y_data_log = y_data_log[cell_line_index]\n",
    "\n",
    "# set bounds and initial guesses for non-scale fitting parameters\n",
    "# ignore the saturation as it leads to unwanted fitting behavior\n",
    "p0 = [1, 10, 1]\n",
    "bounds = ([0.1, 9.9, 0.9999999], [7, 10.1, 1.0000001])\n",
    "\n",
    "popt_hill_log, pcov = opt.curve_fit(hill_func_log_alt, x_data_log, y_data_log, p0=p0, bounds=bounds, maxfev=5000)\n",
    "print(popt_hill_log)"
   ]
  },
  {
   "cell_type": "code",
   "execution_count": null,
   "metadata": {},
   "outputs": [],
   "source": [
    "x_range_log = np.arange(0, 5.2, 0.01)  \n",
    "plt.scatter(df_expression[f\"{cell_line}\"], df_knockdown[f\"{cell_line}\"], s=5, color=\"black\")\n",
    "r2 = stats.pearsonr(hill_func_log_alt(df_expression[f\"{cell_line}\"], *popt_hill_log), df_knockdown[f\"{cell_line}\"])[0]**2\n",
    "plt.title(f\"{cell_line} (R2={r2:.2f})\")\n",
    "plt.plot(x_range_log, hill_func_log_alt(x_range_log, *popt_hill_log), color=\"red\", label=\"Hill function fit\")"
   ]
  },
  {
   "cell_type": "code",
   "execution_count": 17,
   "metadata": {},
   "outputs": [],
   "source": [
    "x_data = []\n",
    "y_data = []\n",
    "dataset_indices = []\n",
    "for i, cell_line in enumerate(cell_lines_measured):\n",
    "    ex_df = df_expression[cell_line].values\n",
    "    knock_df = df_knockdown[cell_line].values\n",
    "    x_data.append(ex_df)\n",
    "    y_data.append(knock_df)\n",
    "    dataset_indices.append([i] * len(ex_df))\n",
    "\n",
    "#x_data = np.concatenate(x_data)\n",
    "y_data = np.concatenate(y_data)\n",
    "#dataset_indices = np.concatenate(dataset_indices)"
   ]
  },
  {
   "cell_type": "code",
   "execution_count": 18,
   "metadata": {},
   "outputs": [],
   "source": [
    "# set bounds and initial guesses for non-scale fitting parameters\n",
    "p0 = [3, 10, 1]\n",
    "num_params = len(p0)\n",
    "bounds = ([1, 9.9999, 0.9999999], [7, 10.00001, 1.00000001])\n",
    "\n",
    "# Guess initial scale values for all datasets\n",
    "scale_guesses = [0 for _ in range(len(x_data))]\n",
    "scale_bounds_min = [-2 for _ in range(len(x_data))]\n",
    "scale_bounds_max = [2 for _ in range(len(x_data))]\n",
    "\n",
    "# set scale for HEK293T to 0\n",
    "scale_bounds_min[0] = -0.001\n",
    "scale_bounds_max[0] = 0.001\n",
    "\n",
    "p0_scale = p0 + scale_guesses\n",
    "bounds_scale = (bounds[0]+scale_bounds_min, bounds[1]+scale_bounds_max)\n",
    "\n",
    "popt_scales, pcov = popt_scales_filter, pcov = opt.curve_fit(\n",
    "    lambda x, *params: hill_func_log_scales(x, *params),\n",
    "    x_data,\n",
    "    y_data,\n",
    "    p0=p0_scale,\n",
    "    bounds=bounds_scale,\n",
    "    maxfev=5000\n",
    ")\n",
    "\n",
    "scales = list(popt_scales[num_params:])"
   ]
  },
  {
   "cell_type": "code",
   "execution_count": null,
   "metadata": {},
   "outputs": [],
   "source": [
    "popt_scales[:num_params]"
   ]
  },
  {
   "cell_type": "code",
   "execution_count": 20,
   "metadata": {},
   "outputs": [],
   "source": [
    "%%capture output\n",
    "# create the plot folder if it does not exist\n",
    "if not os.path.exists(os.path.join(plot_folder, \"1.4_global_fit_with_scales\")):\n",
    "    os.makedirs(os.path.join(plot_folder, \"1.4_global_fit_with_scales\"))\n",
    "\n",
    "r2_vals_scales = {}\n",
    "rmsd_vals_scales = {}\n",
    "df_deviation = pd.DataFrame(columns=df_knockdown.columns, index=df_knockdown.index)\n",
    "x_range_log = np.arange(0, 5.2, 0.01)  \n",
    "\n",
    "for cell_line in cell_lines_measured:\n",
    "    # get the index of cell_line in cell_lines\n",
    "    cell_line_index = cell_lines_measured.index(cell_line)\n",
    "    current_scale = scales[cell_line_index]\n",
    "    # plot the data\n",
    "    fig = plt.figure(figsize=(3, 2.5))\n",
    "    plt.rcParams.update({'font.size': 8})\n",
    "    \n",
    "    plt.scatter(df_expression[f\"{cell_line}\"]+current_scale, 10**df_knockdown[f\"{cell_line}\"], s=5, color=\"black\")\n",
    "    plt.plot(x_range_log+current_scale, 10**hill_func_log_alt(x_range_log+current_scale,\n",
    "                *popt_scales[:num_params]), color=\"forestgreen\", linewidth=2, label=\"fit\")\n",
    "\n",
    "    # calculate the R2 value\n",
    "    r2 = stats.pearsonr(df_knockdown[f\"{cell_line}\"],\n",
    "                        hill_func_log_alt(df_expression[f\"{cell_line}\"]+current_scale,\n",
    "                        *popt_scales[:num_params]))[0]**2\n",
    "    r2_vals_scales[cell_line] = r2\n",
    "    # calculate the RMSD value\n",
    "    rmsd = np.sqrt(np.mean((df_knockdown[f\"{cell_line}\"]-\n",
    "                            hill_func_log_alt(df_expression[f\"{cell_line}\"]+current_scale,\n",
    "                            *popt_scales[:num_params]))**2))\n",
    "    rmsd_vals_scales[cell_line] = rmsd\n",
    "\n",
    "    # calculate the deviation\n",
    "    df_deviation[cell_line] = (df_knockdown[f\"{cell_line}\"]-hill_func_log_alt(df_expression[f\"{cell_line}\"]+current_scale,\n",
    "                            *popt_scales[:num_params]))\n",
    "\n",
    "    plt.xlabel(\"log10(expression)\")\n",
    "    plt.ylabel(\"log10(stability)\")\n",
    "    plt.title(f\"{cell_line}, r2 = {round(r2, 2)}, rmsd = {round(rmsd, 2)}\", fontsize=8)\n",
    "\n",
    "    plt.tight_layout()\n",
    "    plt.savefig(os.path.join(plot_folder, f\"1.4_global_fit_with_scales/{cell_line}_global_fit.png\"), dpi=300)"
   ]
  },
  {
   "cell_type": "code",
   "execution_count": null,
   "metadata": {},
   "outputs": [],
   "source": [
    "for cell_line in cell_lines_measured:\n",
    "    # get the index of cell_line in cell_lines\n",
    "    cell_line_index = cell_lines_measured.index(cell_line)\n",
    "    current_scale = scales[cell_line_index]\n",
    "\n",
    "    # get the deviation\n",
    "    deviation = abs(df_deviation[cell_line])\n",
    "    deviation.sort_values(inplace=True, ascending=False)\n",
    "    deviation = deviation[:10]\n",
    "\n",
    "    # plot the data\n",
    "    fig = plt.figure(figsize=(3, 2.5))\n",
    "    plt.rcParams.update({'font.size': 8})\n",
    "    plt.scatter(df_expression[f\"{cell_line}\"]+current_scale, df_knockdown[f\"{cell_line}\"], s=5, color=\"skyblue\")\n",
    "    plt.plot(x_range_log+current_scale,\n",
    "            hill_func_log_alt(x_range_log+current_scale, *popt_scales[:num_params]), color=\"forestgreen\", linewidth=2, label=\"fit\")\n",
    "\n",
    "    # add text with the miRNA names\n",
    "    for i in deviation.index.to_list():\n",
    "        plt.text(df_expression.loc[i, cell_line]+current_scale, df_knockdown.loc[i, cell_line], \"-\".join(i.split(\"-\")[2:]), fontsize=8)\n",
    "\n",
    "    plt.xlabel(\"log10(expression)\")\n",
    "    plt.ylabel(\"log10(stability)\")\n",
    "    plt.title(f\"{cell_line}\", fontsize=8)\n",
    "    plt.tight_layout()\n",
    "    plt.savefig(os.path.join(plot_folder, f\"1.4_global_fit_with_scales/outliers_{cell_line}.png\"), dpi=300)"
   ]
  },
  {
   "cell_type": "markdown",
   "metadata": {},
   "source": [
    "## 1.5 Plot outliers against raw count data"
   ]
  },
  {
   "cell_type": "code",
   "execution_count": 23,
   "metadata": {},
   "outputs": [],
   "source": [
    "# load count data\n",
    "raw_counts = pd.read_csv('../input_data/measurements_lib1/log2fc_combined.csv', index_col=0)"
   ]
  },
  {
   "cell_type": "code",
   "execution_count": 24,
   "metadata": {},
   "outputs": [],
   "source": [
    "# filter to columns containing \"count\"\n",
    "raw_counts = raw_counts.filter(regex=\"count\")\n",
    "raw_counts = raw_counts.loc[raw_counts.index.intersection(reference_dict[\"1_full_single_context1\"].index), :]\n",
    "raw_counts[\"miRNA\"] = reference_dict[\"1_full_single_context1\"][\"miRNA1\"]\n",
    "raw_counts.set_index(\"miRNA\", inplace=True)"
   ]
  },
  {
   "cell_type": "code",
   "execution_count": 25,
   "metadata": {},
   "outputs": [],
   "source": [
    "%%capture output\n",
    "# create the plot folder if it does not exist\n",
    "if not os.path.exists(os.path.join(plot_folder, \"1.5_counts_vs_error\")):\n",
    "    os.makedirs(os.path.join(plot_folder, \"1.5_counts_vs_error\"))\n",
    "\n",
    "for cell_line in cell_lines_measured:\n",
    "    for r in [\"r1\", \"r2\"]:\n",
    "        fig = plt.figure(figsize=(3, 2.5))\n",
    "        plt.scatter(np.log10(raw_counts.loc[df_deviation.index, f\"count_3UTR_{cell_line}_{r}\"]), df_deviation[cell_line], s=5)\n",
    "        plt.xticks(np.arange(1, 5, 1))\n",
    "        plt.xlabel(\"log10(RNA counts in sequencing data)\")\n",
    "        plt.ylabel(\"deviation\")\n",
    "        plt.tight_layout()\n",
    "        plt.savefig(os.path.join(plot_folder, f\"1.5_counts_vs_error/{cell_line}_{r}.png\"), dpi=300)"
   ]
  },
  {
   "cell_type": "markdown",
   "metadata": {},
   "source": [
    "## 1.6 Investigate the effect of a single context"
   ]
  },
  {
   "cell_type": "code",
   "execution_count": 26,
   "metadata": {},
   "outputs": [],
   "source": [
    "measured_single_c2 = single_dfs[\"1_full_single_context2\"]\n",
    "\n",
    "# filter to columns that contain \"_3UTR_log10\"\n",
    "df_knockdown_c2 = measured_single_c2.filter(regex='_3UTR_log10')\n",
    "# rename columns to drop the \"_3UTR_log10\"\n",
    "df_knockdown_c2.columns = [col.split(\"_\")[0] for col in df_knockdown_c2.columns]\n",
    "\n",
    "# filter to columns that contain \"exp\"\n",
    "df_expression_c2 = measured_single_c2.filter(regex='exp')\n",
    "# rename columns to drop the \"_exp\"\n",
    "df_expression_c2.columns = [col.split(\"_\")[0] for col in df_expression_c2.columns]"
   ]
  },
  {
   "cell_type": "code",
   "execution_count": 27,
   "metadata": {},
   "outputs": [],
   "source": [
    "%%capture output\n",
    "# create the plot folder if it does not exist\n",
    "if not os.path.exists(os.path.join(plot_folder, \"1.6_context1_context2\")):\n",
    "    os.makedirs(os.path.join(plot_folder, \"1.6_context1_context2\"))\n",
    "\n",
    "r2_vals_scales = {}\n",
    "rmsd_vals_scales = {}\n",
    "df_deviation_c2 = pd.DataFrame(columns=df_knockdown.columns, index=df_knockdown.index)\n",
    "\n",
    "for cell_line in cell_lines_measured:\n",
    "    # get the index of cell_line in cell_lines\n",
    "    cell_line_index = cell_lines_measured.index(cell_line)\n",
    "    current_scale = scales[cell_line_index]\n",
    "    # plot the data\n",
    "    fig = plt.figure(figsize=(3, 2.5))\n",
    "    plt.rcParams.update({'font.size': 8})\n",
    "\n",
    "    plt.scatter(df_expression_c2[f\"{cell_line}\"]+current_scale, df_knockdown_c2[f\"{cell_line}\"], s=5, color=\"black\")\n",
    "    plt.plot(x_range_log+current_scale,\n",
    "            hill_func_log_alt(x_range_log+current_scale, *popt_scales[:num_params]),\n",
    "            color=\"forestgreen\", linewidth=2, label=\"fit\")\n",
    "\n",
    "    # calculate the R2 value\n",
    "    r2 = stats.pearsonr(df_knockdown_c2[f\"{cell_line}\"],\n",
    "                        hill_func_log_alt(df_expression_c2[f\"{cell_line}\"]+current_scale, *popt_scales[:num_params]))[0]**2\n",
    "    r2_vals_scales[cell_line] = r2\n",
    "\n",
    "    # calculate the RMSD value\n",
    "    rmsd = np.sqrt(np.mean((df_knockdown_c2[f\"{cell_line}\"]-\n",
    "                            hill_func_log_alt(df_expression_c2[f\"{cell_line}\"]+current_scale, *popt_scales[:num_params]))**2))\n",
    "    rmsd_vals_scales[cell_line] = rmsd\n",
    "\n",
    "    # calculate the deviation\n",
    "    df_deviation_c2[cell_line] = (df_knockdown_c2[f\"{cell_line}\"]\n",
    "                                -hill_func_log_alt(df_expression_c2[f\"{cell_line}\"]+current_scale,*popt_scales[:num_params]))\n",
    "\n",
    "    plt.xlabel(\"log10(expression)\")\n",
    "    plt.ylabel(\"log10(stability)\")\n",
    "    plt.title(f\"{cell_line}, r2 = {round(r2, 2)}, rmsd = {round(rmsd, 2)}\", fontsize=8)\n",
    "    plt.tight_layout()\n",
    "    plt.savefig(os.path.join(plot_folder, f\"1.6_context1_context2/{cell_line}_global_fit_with_scales.png\"), dpi=300)"
   ]
  },
  {
   "cell_type": "code",
   "execution_count": null,
   "metadata": {},
   "outputs": [],
   "source": [
    "for cell_line in cell_lines_measured:\n",
    "    fig = plt.figure(figsize=(3, 2.5))\n",
    "    plt.scatter(df_deviation[cell_line], df_deviation_c2.loc[df_deviation.index, cell_line], s=5)\n",
    "    r2 = stats.pearsonr(df_deviation[cell_line], df_deviation_c2[cell_line])[0]**2\n",
    "    plt.xlabel(\"deviation context 1\")\n",
    "    plt.ylabel(\"deviation context 2\")\n",
    "    plt.title(f\"{cell_line} (R2={r2:.2f})\")\n",
    "    plt.tight_layout()\n",
    "    plt.savefig(os.path.join(plot_folder, f\"1.6_context1_context2/{cell_line}_deviation_comparison.png\"), dpi=300)"
   ]
  },
  {
   "cell_type": "code",
   "execution_count": 29,
   "metadata": {},
   "outputs": [],
   "source": [
    "deviation_diff = df_deviation - df_deviation_c2\n",
    "deviation_add = df_deviation + df_deviation_c2\n",
    "\n",
    "deviation_diff = abs(deviation_diff)\n",
    "deviation_add = abs(deviation_add)"
   ]
  },
  {
   "cell_type": "code",
   "execution_count": 30,
   "metadata": {},
   "outputs": [],
   "source": [
    "%%capture output\n",
    "\n",
    "for cell_line in cell_lines_measured:\n",
    "    most_different_between_ctxt= deviation_add.sort_values(by=cell_line, ascending=False).head(10).index\n",
    "\n",
    "    # get the index of cell_line in cell_lines\n",
    "    cell_line_index = cell_lines_measured.index(cell_line)\n",
    "    current_scale = scales[cell_line_index]\n",
    "\n",
    "    # plot the data\n",
    "    fig = plt.figure(figsize=(3, 2.5))\n",
    "    plt.rcParams.update({'font.size': 8})\n",
    "\n",
    "    plt.scatter(df_expression[f\"{cell_line}\"]+current_scale, df_knockdown[f\"{cell_line}\"], s=5, color=\"black\")\n",
    "    plt.scatter(df_expression.loc[most_different_between_ctxt,f\"{cell_line}\"]+current_scale,\n",
    "                df_knockdown.loc[most_different_between_ctxt,f\"{cell_line}\"], s=5, color=\"red\")\n",
    "    plt.plot(x_range_log+current_scale, hill_func_log_alt(x_range_log+current_scale, *popt_scales[:num_params]),\n",
    "            color=\"forestgreen\", linewidth=2, label=\"fit\")\n",
    "\n",
    "    plt.xlabel(\"log10(expression)\")\n",
    "    plt.ylabel(\"log10(stability)\")\n",
    "    plt.title(f\"{cell_line}\", fontsize=8)\n",
    "    plt.tight_layout()\n",
    "    plt.savefig(os.path.join(plot_folder, f\"1.6_context1_context2/{cell_line}_add_context1_outliers.png\"), dpi=300)"
   ]
  },
  {
   "cell_type": "code",
   "execution_count": 31,
   "metadata": {},
   "outputs": [],
   "source": [
    "%%capture output\n",
    "\n",
    "for cell_line in cell_lines_measured:\n",
    "    most_different_between_ctxt= deviation_diff.sort_values(by=cell_line, ascending=False).head(10).index\n",
    "\n",
    "    # get the index of cell_line in cell_lines\n",
    "    cell_line_index = cell_lines_measured.index(cell_line)\n",
    "    current_scale = scales[cell_line_index]\n",
    "\n",
    "    # plot the data\n",
    "    fig = plt.figure(figsize=(3, 2.5))\n",
    "    plt.rcParams.update({'font.size': 8})\n",
    "\n",
    "    plt.scatter(df_expression_c2[f\"{cell_line}\"]+current_scale, df_knockdown_c2[f\"{cell_line}\"], s=5, color=\"black\")\n",
    "    plt.scatter(df_expression_c2.loc[most_different_between_ctxt,f\"{cell_line}\"]+current_scale,\n",
    "                df_knockdown_c2.loc[most_different_between_ctxt,f\"{cell_line}\"], s=5, color=\"red\")\n",
    "    plt.plot(x_range_log+current_scale, hill_func_log_alt(x_range_log+current_scale, *popt_scales[:num_params]), \n",
    "            color=\"forestgreen\", linewidth=2, label=\"fit\")\n",
    "\n",
    "    plt.xlabel(\"log10(expression)\")\n",
    "    plt.ylabel(\"log10(stability)\")\n",
    "    plt.title(f\"{cell_line}\", fontsize=8)\n",
    "    plt.tight_layout()\n",
    "    plt.savefig(os.path.join(plot_folder, f\"1.6_context1_context2/{cell_line}_context2_outliers.png\"), dpi=300)"
   ]
  },
  {
   "cell_type": "markdown",
   "metadata": {},
   "source": [
    "## 1.7 Heuristically filter false positives"
   ]
  },
  {
   "cell_type": "code",
   "execution_count": 32,
   "metadata": {},
   "outputs": [],
   "source": [
    "def fill_in_sequence(sequence):\n",
    "    \"\"\"Fill in the sequence with Ts to make it 21 nts long.\n",
    "    Avoid introduction of ATGs.\"\"\"\n",
    "    if len(sequence) > 20:\n",
    "        sequence = sequence\n",
    "    elif len(sequence) == 20 and sequence[-1] == \"A\":\n",
    "        sequence = sequence + \"A\"\n",
    "    else:\n",
    "        sequence = sequence + \"T\"* (21-len(sequence))\n",
    "    return sequence"
   ]
  },
  {
   "cell_type": "code",
   "execution_count": 37,
   "metadata": {},
   "outputs": [],
   "source": [
    "# get mirbase\n",
    "mirbase_df = pd.read_csv('../input_data/mirbase_with_families_and_targets.csv', index_col=0)\n",
    "# get all high confidence miRNAs\n",
    "high_confidence = mirbase_df[mirbase_df['confidence'] == 'high'].copy()\n",
    "# filter high confidence to those microRNAs in the expression df\n",
    "high_confidence = high_confidence[high_confidence.index.isin(df_alles_quantile.index)]"
   ]
  },
  {
   "cell_type": "code",
   "execution_count": 38,
   "metadata": {},
   "outputs": [],
   "source": [
    "# get miRNAs with low knockdown\n",
    "df_knockdown_low = df_knockdown[df_knockdown.min(axis=1) > -0.5]\n",
    "\n",
    "# make sure to only get those with less knockdown than expected\n",
    "df_deviation_low = df_deviation.loc[df_knockdown_low.index,:]\n",
    "df_deviation_low = df_deviation_low[df_deviation_low > 0]"
   ]
  },
  {
   "cell_type": "code",
   "execution_count": null,
   "metadata": {},
   "outputs": [],
   "source": [
    "# calculate the rank order for each column in df_deviation\n",
    "# and save the result in df_rank\n",
    "df_rank = pd.DataFrame()\n",
    "for col in df_deviation.columns:\n",
    "    df_rank[col] = df_deviation_low[col].rank(ascending=True)\n",
    "\n",
    "# get the index of the maximum value in df_rank\n",
    "df_rank.idxmax(axis=0)"
   ]
  },
  {
   "cell_type": "code",
   "execution_count": null,
   "metadata": {},
   "outputs": [],
   "source": [
    "# count how often each microRNA appears in the top 30% of df_rank\n",
    "thresholds = df_rank.quantile(0.7)\n",
    "\n",
    "# Create a boolean mask where True indicates the rank is in the top 20%\n",
    "mask = df_rank.ge(thresholds)\n",
    "\n",
    "# Count the True values for each miRNA (i.e., count the number of top 20% ranks for each miRNA)\n",
    "counts = mask.sum(axis=1)\n",
    "\n",
    "# print those with counts larger than 2\n",
    "counts_high = counts[counts >= 3]\n",
    "counts_high"
   ]
  },
  {
   "cell_type": "code",
   "execution_count": 41,
   "metadata": {},
   "outputs": [],
   "source": [
    "# wel heuristically exclude these from the design process in case they are false positives\n",
    "counts_high.to_csv('../output/1_output/1.8_false_positives.csv')"
   ]
  },
  {
   "cell_type": "code",
   "execution_count": 42,
   "metadata": {},
   "outputs": [],
   "source": [
    "# remove them from the dataframes\n",
    "df_knockdown_filter = df_knockdown[~df_knockdown.index.isin(counts_high.index)]\n",
    "df_expression_filter = df_expression[~df_expression.index.isin(counts_high.index)]\n",
    "df_alles_quantile_filter = df_alles_quantile[~df_alles_quantile.index.isin(counts_high.index)]"
   ]
  },
  {
   "cell_type": "code",
   "execution_count": 43,
   "metadata": {},
   "outputs": [],
   "source": [
    "x_data = [df_expression_filter[f\"{cell_line}\"].values for cell_line in cell_lines_measured]\n",
    "y_data = [df_knockdown_filter[f\"{cell_line}\"].values for cell_line in cell_lines_measured]\n",
    "y_data = np.concatenate(y_data)\n",
    "\n",
    "popt_scales_filter, pcov = opt.curve_fit(hill_func_log_scales, x_data, y_data, p0=p0_scale, bounds=bounds_scale, maxfev=5000)\n",
    "scales = list(popt_scales[num_params:])"
   ]
  },
  {
   "cell_type": "code",
   "execution_count": 44,
   "metadata": {},
   "outputs": [],
   "source": [
    "%%capture output\n",
    "# create the plot folder if it does not exist\n",
    "if not os.path.exists(os.path.join(plot_folder, \"1.7_false_positives\")):\n",
    "    os.makedirs(os.path.join(plot_folder, \"1.7_false_positives\"))\n",
    "\n",
    "for cell_line in cell_lines_measured:\n",
    "    cell_line_index = cell_lines_measured.index(cell_line)\n",
    "    current_scale = scales[cell_line_index]\n",
    "\n",
    "    fig = plt.figure(figsize=(3, 2.5))\n",
    "    plt.rcParams.update({'font.size': 8})\n",
    "\n",
    "    plt.scatter(df_expression_filter[cell_line]+current_scale, df_knockdown_filter[cell_line], color=\"black\", s=5)\n",
    "    plt.scatter(df_expression[cell_line].loc[counts_high.index,]+current_scale,\n",
    "                df_knockdown[cell_line].loc[counts_high.index,], color=\"red\", s=5)\n",
    "    plt.plot(x_range_log, hill_func_log_alt(x_range_log, *popt_scales_filter[:num_params]), color=\"forestgreen\", linewidth=2, label=\"fit\")\n",
    "\n",
    "    r2 = stats.pearsonr(hill_func_log_alt(df_expression_filter[cell_line]+current_scale, *popt_scales_filter[:num_params]),\n",
    "                        df_knockdown_filter[cell_line])[0]**2\n",
    "                        \n",
    "    plt.xlabel(\"log10(expression)\")\n",
    "    plt.ylabel(\"log10(stability)\")\n",
    "    plt.title(f\"{cell_line}, r2 = \" + str(round(r2, 2)), fontsize=8)\n",
    "    plt.tight_layout()\n",
    "    plt.savefig(os.path.join(plot_folder, f\"1.7_false_positives/{cell_line}_individual_fit_with_outliers.png\"), dpi=300)"
   ]
  },
  {
   "cell_type": "markdown",
   "metadata": {},
   "source": [
    "## 1.8 Look at familiy crosstalk\n",
    "Here, we look at crosstalk from a family-based perspective. This is *not* what we use for the actual heuristic filtering, which is done in the next section."
   ]
  },
  {
   "cell_type": "code",
   "execution_count": 45,
   "metadata": {},
   "outputs": [],
   "source": [
    "# get all unique family names\n",
    "families = high_confidence['family_extended'].unique()\n",
    "\n",
    "def get_family_mirnas(family):\n",
    "    return high_confidence[high_confidence['family_extended'] == family].index.to_list()"
   ]
  },
  {
   "cell_type": "markdown",
   "metadata": {},
   "source": [
    "#### Filter to the highest expressed microRNA in each family that I actually measured in library 1"
   ]
  },
  {
   "cell_type": "code",
   "execution_count": null,
   "metadata": {},
   "outputs": [],
   "source": [
    "# for each microRNA, find the family member with the highest expression\n",
    "# get a list of family members\n",
    "df_expression_filter[\"family\"] = high_confidence.loc[df_expression.index, \"family_extended\"].copy()\n",
    "\n",
    "for index, row in df_expression_filter.iterrows():\n",
    "    family = row['family']\n",
    "    other_mirnas = get_family_mirnas(family)\n",
    "    for cell_line in cell_lines_measured:\n",
    "        highest_expression = df_alles_quantile.loc[other_mirnas, cell_line].max()\n",
    "        df_expression_filter.loc[index, f\"{cell_line}_max\"] = highest_expression"
   ]
  },
  {
   "cell_type": "code",
   "execution_count": 47,
   "metadata": {},
   "outputs": [],
   "source": [
    "%%capture output\n",
    "# create the plot folder if it does not exist\n",
    "if not os.path.exists(os.path.join(plot_folder, \"1.8_familiy_crosstalk\")):\n",
    "    os.makedirs(os.path.join(plot_folder, \"1.8_familiy_crosstalk\"))\n",
    "\n",
    "for cell_line in cell_lines_measured:\n",
    "    plt.clf()\n",
    "    plt.figure(figsize=(3, 2.5))\n",
    "    plt.scatter(df_expression_filter[f\"{cell_line}_max\"], df_deviation.loc[df_expression_filter.index, f\"{cell_line}\"], s=5)\n",
    "    plt.xlabel(\"Max expression in family\")\n",
    "    plt.ylabel(\"deviation\")\n",
    "    plt.tight_layout()\n",
    "    plt.savefig(os.path.join(plot_folder, f\"1.8_familiy_crosstalk/{cell_line}_deviation_max.png\"), dpi=300)"
   ]
  },
  {
   "cell_type": "code",
   "execution_count": null,
   "metadata": {},
   "outputs": [],
   "source": [
    "# how many microRNAs of each family are there in the dataset?\n",
    "df_expression_filter[\"family\"].value_counts().hist(bins=20)"
   ]
  },
  {
   "cell_type": "code",
   "execution_count": 49,
   "metadata": {},
   "outputs": [],
   "source": [
    "# for each family, check if the highest expressed miRNA is the same across cell lines\n",
    "family_max_df = pd.DataFrame(columns=cell_lines_measured, index=df_expression_filter.index)\n",
    "for family in df_expression_filter[\"family\"].unique():\n",
    "    df_family = df_expression_filter[df_expression_filter[\"family\"] == family]\n",
    "    for cell_line in cell_lines_measured:\n",
    "        max_id = df_family[cell_line].idxmax(axis=0)\n",
    "        family_max_df.loc[max_id, cell_line] = df_family.loc[max_id, cell_line]"
   ]
  },
  {
   "cell_type": "code",
   "execution_count": 50,
   "metadata": {},
   "outputs": [],
   "source": [
    "%%capture output\n",
    "\n",
    "for cell_line in cell_lines_measured:\n",
    "    cell_line_index = cell_lines_measured.index(cell_line)\n",
    "    current_scale = scales[cell_line_index]\n",
    "\n",
    "    ex_df = family_max_df[cell_line].dropna().astype(float)\n",
    "    knock_df = df_knockdown_filter.loc[ex_df.index, cell_line]\n",
    "\n",
    "    fig = plt.figure(figsize=(3, 2.5))\n",
    "    plt.rcParams.update({'font.size': 8})\n",
    "    plt.scatter(ex_df+current_scale, knock_df, color=\"black\", s=5)\n",
    "    plt.plot(x_range_log, hill_func_log_alt(x_range_log, *popt_scales_filter[:2]), color=\"forestgreen\", linewidth=2, label=\"fit\")\n",
    "    r2 = stats.pearsonr(hill_func_log_alt(ex_df+current_scale, *popt_scales_filter[:2]), knock_df)[0]**2\n",
    "    plt.xlabel(\"log10(expression)\")\n",
    "    plt.ylabel(\"log10(stability)\")\n",
    "    plt.title(f\"{cell_line}, r2 = \" + str(round(r2, 2)), fontsize=8)\n",
    "    plt.tight_layout()\n",
    "    plt.savefig(os.path.join(plot_folder, f\"1.8_familiy_crosstalk/{cell_line}_family_max_fit.png\"), dpi=300)"
   ]
  },
  {
   "cell_type": "markdown",
   "metadata": {},
   "source": [
    "### Filter to the highest expression miRNA for each family in the entire microRNA expression dataset"
   ]
  },
  {
   "cell_type": "code",
   "execution_count": 51,
   "metadata": {},
   "outputs": [],
   "source": [
    "# for each microRNA, find the family member with the highest expression\n",
    "# get a list of family members\n",
    "df_alles_quantile[\"family\"] = high_confidence.loc[df_alles_quantile.index, \"family_extended\"].astype(str)\n",
    "\n",
    "# for each family, find the highest expressed miRNA across cell lines\n",
    "family_max_df = pd.DataFrame(columns=cell_lines_measured, index=df_alles_quantile.index)\n",
    "for family in df_alles_quantile[\"family\"].unique():\n",
    "    df_family = df_alles_quantile[df_alles_quantile[\"family\"] == family]\n",
    "    for cell_line in cell_lines:\n",
    "        max_id = df_family[cell_line].idxmax(axis=0)\n",
    "        family_max_df.loc[max_id, cell_line] = df_family.loc[max_id, cell_line]"
   ]
  },
  {
   "cell_type": "code",
   "execution_count": 52,
   "metadata": {},
   "outputs": [],
   "source": [
    "def hill_func_log_scales(x_data, dataset_indices, c1=3, c2=5, n=1, *scales):\n",
    "    \"\"\"The expression is assumed to be normalized to one.\n",
    "    The microRNA data is assumed to be log10.\n",
    "    The return value is also log10.\"\"\"\n",
    "    c1 = (10**c1)**n\n",
    "    c2 = 10**c2\n",
    "    results = []\n",
    "\n",
    "    for i, scale in enumerate(scales):\n",
    "        mask = (dataset_indices == i)\n",
    "        x = x_data[mask] + scale\n",
    "        x = (10**x)**n\n",
    "        result = (1 / (1 + x / c1)) * (1 + x / c2)\n",
    "        results.append( np.log10( result ))\n",
    "    return np.concatenate(results)"
   ]
  },
  {
   "cell_type": "code",
   "execution_count": 53,
   "metadata": {},
   "outputs": [],
   "source": [
    "x_data = []\n",
    "y_data = []\n",
    "dataset_indices = []\n",
    "for i, cell_line in enumerate(cell_lines_measured):\n",
    "    allowed_mirnas = family_max_df[cell_line].dropna().index\n",
    "    allowed_mirnas = allowed_mirnas[allowed_mirnas.isin(df_expression_filter.index)]\n",
    "    ex_df = df_expression_filter.loc[allowed_mirnas, cell_line].values\n",
    "    knock_df = df_knockdown_filter.loc[allowed_mirnas, cell_line].values\n",
    "    x_data.append(ex_df)\n",
    "    y_data.append(knock_df)\n",
    "    dataset_indices.append([i] * len(ex_df))\n",
    "\n",
    "x_data = np.concatenate(x_data)\n",
    "y_data = np.concatenate(y_data)\n",
    "dataset_indices = np.concatenate(dataset_indices)"
   ]
  },
  {
   "cell_type": "code",
   "execution_count": 54,
   "metadata": {},
   "outputs": [],
   "source": [
    "p0_scale = p0 + scale_guesses\n",
    "bounds_scale = (bounds[0]+scale_bounds_min, bounds[1]+scale_bounds_max)\n",
    "\n",
    "popt_scales_filter, pcov = opt.curve_fit(\n",
    "    lambda x, *params: hill_func_log_scales(x, dataset_indices, *params),\n",
    "    x_data,\n",
    "    y_data,\n",
    "    p0=p0_scale,\n",
    "    bounds=bounds_scale,\n",
    "    maxfev=5000\n",
    ")\n",
    "scales = list(popt_scales_filter[num_params:])"
   ]
  },
  {
   "cell_type": "code",
   "execution_count": 55,
   "metadata": {},
   "outputs": [],
   "source": [
    "%%capture output\n",
    "\n",
    "df_deviation = pd.DataFrame(columns=df_knockdown_filter.columns, index=df_expression_filter.index)\n",
    "\n",
    "for cell_line in cell_lines_measured:\n",
    "    cell_line_index = cell_lines_measured.index(cell_line)\n",
    "    current_scale = scales[cell_line_index]\n",
    "\n",
    "    allowed_mirnas = family_max_df[cell_line].dropna().index\n",
    "    allowed_mirnas = allowed_mirnas[allowed_mirnas.isin(df_expression_filter.index)]\n",
    "    ex_df = df_expression_filter.loc[allowed_mirnas, cell_line]+current_scale\n",
    "    knock_df = df_knockdown_filter.loc[allowed_mirnas, cell_line]\n",
    "\n",
    "    fig = plt.figure(figsize=(3, 2.5))\n",
    "    plt.rcParams.update({'font.size': 8})\n",
    "    plt.scatter(ex_df, 10**knock_df, color=\"black\", s=5)\n",
    "    plt.plot(x_range_log, 10**hill_func_log_alt(x_range_log, *popt_scales_filter[:num_params]), color=\"forestgreen\", linewidth=2, label=\"fit\")\n",
    "    r2 = stats.pearsonr(hill_func_log_alt(ex_df, *popt_scales_filter[:num_params]), knock_df)[0]**2\n",
    "    df_deviation[cell_line]\n",
    "\n",
    "    # calculate the deviation\n",
    "    df_deviation[cell_line] = (10**knock_df-10**hill_func_log_alt(ex_df+current_scale, *popt_scales_filter[:num_params]))\n",
    "    \n",
    "    plt.xlabel(\"log10(expression)\")\n",
    "    plt.ylabel(\"log10(stability)\")\n",
    "    #plt.legend(loc=\"lower left\", fontsize=8)\n",
    "    plt.title(f\"{cell_line}, r2 = \" + str(round(r2, 2)), fontsize=8)\n",
    "    plt.tight_layout()\n",
    "    plt.savefig(os.path.join(plot_folder, f\"1.8_familiy_crosstalk/{cell_line}_family_max_entire.png\"), dpi=300)"
   ]
  },
  {
   "cell_type": "code",
   "execution_count": null,
   "metadata": {},
   "outputs": [],
   "source": [
    "allowed_mirna_all = []\n",
    "\n",
    "for cell_line in cell_lines_measured:\n",
    "    # get the index of cell_line in cell_lines\n",
    "    cell_line_index = cell_lines_measured.index(cell_line)\n",
    "    current_scale = scales[cell_line_index]\n",
    "\n",
    "    allowed_mirnas = family_max_df[cell_line].dropna().index\n",
    "    allowed_mirnas = allowed_mirnas[allowed_mirnas.isin(df_expression_filter.index)]\n",
    "    allowed_mirna_all += allowed_mirnas.to_list()\n",
    "    ex_df = df_expression_filter.loc[allowed_mirnas, cell_line]+current_scale\n",
    "    knock_df = df_knockdown_filter.loc[allowed_mirnas, cell_line]\n",
    "\n",
    "    # get the deviation\n",
    "    deviation = abs(df_deviation.loc[allowed_mirnas, cell_line])\n",
    "    deviation.sort_values(inplace=True, ascending=False)\n",
    "    deviation = deviation[:10]\n",
    "\n",
    "    # plot the data\n",
    "    fig = plt.figure(figsize=(3, 2.5))\n",
    "    plt.rcParams.update({'font.size': 8})\n",
    "    plt.scatter(ex_df+current_scale, knock_df, s=5, color=\"skyblue\")\n",
    "    plt.plot(x_range_log+current_scale,\n",
    "            hill_func_log_alt(x_range_log+current_scale, *popt_scales_filter[:num_params]), color=\"forestgreen\", linewidth=2, label=\"fit\")\n",
    "\n",
    "    # add text with the miRNA names\n",
    "    for i in deviation.index.to_list():\n",
    "        plt.text(ex_df[i]+current_scale, knock_df[i], \"-\".join(i.split(\"-\")[2:]), fontsize=8)\n",
    "\n",
    "    plt.xlabel(\"log10(expression)\")\n",
    "    plt.ylabel(\"log10(stability)\")\n",
    "    plt.title(f\"{cell_line}\", fontsize=8)\n",
    "    plt.tight_layout()\n",
    "    plt.savefig(os.path.join(plot_folder, f\"1.8_familiy_crosstalk/outliers_{cell_line}.png\"), dpi=300)"
   ]
  },
  {
   "cell_type": "markdown",
   "metadata": {},
   "source": [
    "## 1.9 Explore the crosstalk some more"
   ]
  },
  {
   "cell_type": "code",
   "execution_count": null,
   "metadata": {},
   "outputs": [],
   "source": [
    "first_filter = df_alles_quantile[df_alles_quantile.max(axis=1) > 2.5]\n",
    "second_filter = first_filter[first_filter.min(axis=1) < 2]\n",
    "print(len(second_filter))\n",
    "print(len(second_filter[\"family\"].unique()))"
   ]
  },
  {
   "cell_type": "code",
   "execution_count": null,
   "metadata": {},
   "outputs": [],
   "source": [
    "# look at the behavior of the let-7 family\n",
    "let7_5p = get_family_mirnas(\"let-7-5p\")\n",
    "\n",
    "for cell_line in cell_lines_measured:\n",
    "    cell_line_index = cell_lines_measured.index(cell_line)\n",
    "    current_scale = scales[cell_line_index]\n",
    "\n",
    "    ex_df = df_expression_filter.loc[let7_5p, cell_line]+current_scale\n",
    "    knock_df = df_knockdown_filter.loc[let7_5p, cell_line]+current_scale\n",
    "\n",
    "    for i, row in knock_df.items():\n",
    "        if \"7e\" in i:\n",
    "            plt.text(ex_df[i], 10**row, \"-\".join(i.split(\"-\")[2:]), fontsize=8)\n",
    "\n",
    "    plt.scatter(ex_df,\n",
    "                10**knock_df, label=cell_line)\n",
    "    plt.plot(x_range_log, 10**hill_func_log_alt(x_range_log, *popt_scales_filter[:num_params]), linewidth=2, color=\"black\")\n",
    "\n",
    "plt.legend()\n",
    "plt.show()"
   ]
  },
  {
   "cell_type": "code",
   "execution_count": 59,
   "metadata": {},
   "outputs": [],
   "source": [
    "# heuristically define regions that might be important in determining the crosstalk\n",
    "regions = [(0, 1), (1, 8), (8, 11), (11, 14), (14, 17), (17, 20), (20, 21)]\n",
    "\n",
    "def get_mismatches(target, query):\n",
    "    \"\"\"Returns a list of mismatches and wobbles between two sequences.\n",
    "    Assumes that both target and query are miRNA sequences of the same length.\n",
    "    DOES NOT WORK FOR AN ACTUAL TARGET SEQUENCE, WHICH IS THE REVERSE COMPLEMENT.\"\"\"\n",
    "    mismatch_positions = [0 for i in range(len(target))]\n",
    "    wobble_positions = [0 for i in range(len(target))]\n",
    "    for i in range(len(target)):\n",
    "        if target[i] != query[i]:\n",
    "            mismatch_positions[i] = 1\n",
    "        if target[i] == 'A' and query[i] == 'G':\n",
    "            wobble_positions[i] = 1\n",
    "            mismatch_positions[i] = 0\n",
    "        elif target[i] == 'C' and query[i] == 'T':\n",
    "            wobble_positions[i] = 1\n",
    "            mismatch_positions[i] = 0\n",
    "\n",
    "    # the RISC likes an \"A\" in the target sequence at position 1\n",
    "    # therefore, we never count it as a mismatch\n",
    "    if target[0] == 'U':\n",
    "        mismatch_positions[0] = 0\n",
    "        wobble_positions[0] = 0\n",
    "\n",
    "    return mismatch_positions, wobble_positions\n",
    "\n",
    "def sum_mismatches_in_regions(mismatch, wobble, regions):\n",
    "    \"\"\"Returns a list of mismatches and wobbles in each region.\"\"\"\n",
    "    mismatch_counts = []\n",
    "    wobble_counts = []\n",
    "    for region in regions:\n",
    "        mismatch_counts.append(sum(mismatch[region[0]:region[1]]))\n",
    "        wobble_counts.append(sum(wobble[region[0]:region[1]]))\n",
    "\n",
    "    try:\n",
    "        assert sum(mismatch_counts) + sum(wobble_counts) == sum(mismatch) + sum(wobble)\n",
    "    except AssertionError:\n",
    "        print(mismatch_counts,wobble_counts,mismatch,wobble)\n",
    "\n",
    "    return mismatch_counts, wobble_counts\n",
    "\n",
    "def count_mismatches_in_region(target, query, regions):\n",
    "    mismatch, wobble = get_mismatches(target, query)\n",
    "    mismatch_counts, wobble_counts = sum_mismatches_in_regions(mismatch, wobble, regions)\n",
    "\n",
    "    return mismatch_counts, wobble_counts"
   ]
  },
  {
   "cell_type": "code",
   "execution_count": null,
   "metadata": {},
   "outputs": [],
   "source": [
    "target = high_confidence.loc['hsa-let-7a-5p', \"sequence\"]\n",
    "family_mirnas = get_family_mirnas(high_confidence.loc['hsa-let-7i-5p', \"family_extended\"]) \n",
    "for mirna in family_mirnas:\n",
    "    query = high_confidence.loc[mirna, \"sequence\"]\n",
    "    mismatch, wobble = count_mismatches_in_region(target, query, regions)\n",
    "    print(f\"{mirna} has {mismatch} mismatches and {wobble} wobbles\")"
   ]
  },
  {
   "cell_type": "code",
   "execution_count": 61,
   "metadata": {},
   "outputs": [],
   "source": [
    "mismatch_dict = {}\n",
    "\n",
    "for mirna_target, row in high_confidence.iterrows():\n",
    "    target = high_confidence.loc[mirna_target, \"sequence\"]\n",
    "    query_df = pd.DataFrame(index = high_confidence.index, columns = [\"mismatch\", \"wobble\"])\n",
    "    for mirna_query, row in high_confidence.iterrows():\n",
    "        query = high_confidence.loc[mirna_query, \"sequence\"]\n",
    "        mismatch, wobble = count_mismatches_in_region(target, query, regions)\n",
    "        query_df.loc[mirna_query, \"mismatch\"] = mismatch\n",
    "        query_df.loc[mirna_query, \"wobble\"] = wobble\n",
    "\n",
    "    mismatch_dict[mirna_target] = query_df"
   ]
  },
  {
   "cell_type": "markdown",
   "metadata": {},
   "source": [
    "We assume that crosstalk does not occur if \n",
    "a) the seed is different\n",
    "b) the overall number of mismatches is large enough.\n",
    "\n",
    "We ignore wobble base pairs as they might not count as proper mismatches."
   ]
  },
  {
   "cell_type": "code",
   "execution_count": 62,
   "metadata": {},
   "outputs": [],
   "source": [
    "for key in mismatch_dict.keys():\n",
    "    df = mismatch_dict[key]\n",
    "    # mismatches in the seed\n",
    "    df[\"mismatch_seed\"] = df[\"mismatch\"].apply(lambda x: x[1])\n",
    "    # count all mismatches except those at position 21\n",
    "    df[\"mismatch_four\"] = df[\"mismatch\"].apply(lambda x: sum(x[0:5]))\n",
    "    mismatch_dict[key] = df\n",
    "\n",
    "mismatch_dict_filter = {}\n",
    "\n",
    "for key in mismatch_dict.keys():\n",
    "    df = mismatch_dict[key].copy()\n",
    "    df = df[df[\"mismatch_four\"] < 5]\n",
    "    mismatch_dict_filter[key] = df[df[\"mismatch_seed\"] < 1]\n",
    "\n",
    "# for the most part, the family is sufficient to get potential cross-talk miRNAs\n",
    "# for key in mismatch_dict_filter.keys():\n",
    "#     df = mismatch_dict_filter[key]\n",
    "#     family = high_confidence.loc[key, \"family_extended\"]\n",
    "#     family_mirnas = get_family_mirnas(family)\n",
    "#     if len(family_mirnas) < len(df):\n",
    "#         print(key, len(df), len(family_mirnas))\n",
    "#         print(mismatch_dict_filter[key])\n",
    "#         print(\"------------------------------------------\")"
   ]
  },
  {
   "cell_type": "code",
   "execution_count": 63,
   "metadata": {},
   "outputs": [],
   "source": [
    "# some manual checking of whether it's doing the right thing\n",
    "# mirs = high_confidence[high_confidence[\"family_extended\"] == \"mir-506-3p\"].index\n",
    "# mirs = mirs[mirs.isin(df_expression_filter.index)]\n",
    "# df_alles_quantile_filter.loc[mirs, \"HEK293T\"]\n",
    "# df = mismatch_dict[\"hsa-miR-512-3p\"]\n",
    "# df[df[\"mismatch_seed\"] < 2]"
   ]
  },
  {
   "cell_type": "code",
   "execution_count": 64,
   "metadata": {},
   "outputs": [],
   "source": [
    "# some mirnas/families seem suspicious. these can be removed manually. do not do this here.\n",
    "# outlier_families = [\"mir-506-3p\", 'mir-515-3p', 'mir-146-3p', 'mir-142-5p', 'mir-194-5p']\n",
    "# outlier_families_mirnas = []\n",
    "# for outlier_family in outlier_families:\n",
    "#     for mirna in high_confidence[high_confidence[\"family_extended\"] == outlier_family].index:\n",
    "#         outlier_families_mirnas.append(mirna)\n",
    "        \n",
    "# df_expression_filter2 = df_expression_filter[~df_expression_filter.index.isin(outlier_families_mirnas)]\n",
    "# df_knockdown_filter2 = df_knockdown_filter[~df_knockdown_filter.index.isin(outlier_families_mirnas)]"
   ]
  },
  {
   "cell_type": "markdown",
   "metadata": {},
   "source": [
    "We filter miRNAs that could potentially crosstalk (see above) based on two criteria:\n",
    "\n",
    "1) There is at least one other miRNAs with a 1.35x higher expression in that same cell lines.\n",
    "2) That other expression value is at least 400 tpm."
   ]
  },
  {
   "cell_type": "code",
   "execution_count": 65,
   "metadata": {},
   "outputs": [],
   "source": [
    "# for each microRNA, find if there are other microRNAs in the filtered mismatch dict with a higher expression\n",
    "crosstalk_dict = {}\n",
    "for cell_line in cell_lines:\n",
    "    expr_df = 10**df_alles_quantile_filter[cell_line]\n",
    "    crosstalk_dict[cell_line] = {}\n",
    "    for i, value in expr_df.items():\n",
    "        other_mirnas = mismatch_dict_filter[i].index\n",
    "        # filter to those that have not been filtered out before\n",
    "        other_mirnas = other_mirnas[other_mirnas.isin(expr_df.index)]\n",
    "        other_expr_values = expr_df[other_mirnas]\n",
    "        other_mirnas = other_expr_values[(other_expr_values > 1.35*value) & (other_expr_values > 400)].index\n",
    "        crosstalk_dict[cell_line][i] = other_mirnas.to_list()"
   ]
  },
  {
   "cell_type": "code",
   "execution_count": 66,
   "metadata": {},
   "outputs": [],
   "source": [
    "allowed_mirnas_all = {}\n",
    "for cell_line in cell_lines:\n",
    "    allowed_mirnas = []\n",
    "    for key in crosstalk_dict[cell_line].keys():\n",
    "        if len(crosstalk_dict[cell_line][key]) == 0:\n",
    "            allowed_mirnas.append(key)\n",
    "    allowed_mirnas_all[cell_line] = allowed_mirnas"
   ]
  },
  {
   "cell_type": "code",
   "execution_count": 67,
   "metadata": {},
   "outputs": [],
   "source": [
    "x_data = []\n",
    "y_data = []\n",
    "dataset_indices = []\n",
    "allowed_mirnas_all_meas = {}\n",
    "for i, cell_line in enumerate(cell_lines_measured):\n",
    "    allowed_mirnas_meas = [mirna for mirna in allowed_mirnas_all[cell_line] if mirna in df_expression_filter.index]\n",
    "    allowed_mirnas_all_meas[cell_line] = allowed_mirnas_meas\n",
    "    ex_df = df_expression_filter.loc[allowed_mirnas_meas, cell_line].values\n",
    "    knock_df = df_knockdown_filter.loc[allowed_mirnas_meas, cell_line].values\n",
    "    x_data.append(ex_df)\n",
    "    y_data.append(knock_df)\n",
    "    dataset_indices.append([i] * len(ex_df))\n",
    "\n",
    "x_data = np.concatenate(x_data)\n",
    "y_data = np.concatenate(y_data)\n",
    "dataset_indices = np.concatenate(dataset_indices)"
   ]
  },
  {
   "cell_type": "code",
   "execution_count": 68,
   "metadata": {},
   "outputs": [],
   "source": [
    "def hill_func_log_scales(x_data, dataset_indices, c1=3, c2=5, n=1, *scales):\n",
    "    \"\"\"The expression is assumed to be normalized to one.\n",
    "    The microRNA data is assumed to be log10.\n",
    "    The return value is also log10.\"\"\"\n",
    "    c1 = (10**c1)**n\n",
    "    c2 = 10**c2\n",
    "    results = []\n",
    "\n",
    "    for i, scale in enumerate(scales):\n",
    "        mask = (dataset_indices == i)\n",
    "        x = x_data[mask] + scale\n",
    "        x = (10**x)**n\n",
    "        result = (1 / (1 + x / c1)) * (1 + x / c2)\n",
    "        results.append( np.log10( result ))\n",
    "    return np.concatenate(results)"
   ]
  },
  {
   "cell_type": "code",
   "execution_count": 69,
   "metadata": {},
   "outputs": [],
   "source": [
    "# set bounds and initial guesses for non-scale fitting parameters\n",
    "p0 = [3, 10, 1]\n",
    "num_params = len(p0)\n",
    "bounds = ([1, 9.9999999, 0.9999999], [7, 10.000001, 1.00000001])\n",
    "\n",
    "# Guess initial scale values for all datasets\n",
    "scale_guesses = [0 for _ in range(len(cell_lines_measured))]\n",
    "scaled=True\n",
    "if scaled:\n",
    "    scale_bounds_min = [-2 for _ in range(len(cell_lines_measured))]\n",
    "    scale_bounds_max = [2 for _ in range(len(cell_lines_measured))]\n",
    "else:\n",
    "    scale_bounds_min = [-0.001 for _ in range(len(cell_lines_measured))]\n",
    "    scale_bounds_max = [0.001 for _ in range(len(cell_lines_measured))]\n",
    "\n",
    "# set scale for HEK293T to 0\n",
    "scale_bounds_min[0] = -0.001\n",
    "scale_bounds_max[0] = 0.001\n",
    "\n",
    "p0_scale = p0 + scale_guesses\n",
    "bounds_scale = (bounds[0]+scale_bounds_min, bounds[1]+scale_bounds_max)\n",
    "\n",
    "popt_scales_filter, pcov = opt.curve_fit(\n",
    "    lambda x, *params: hill_func_log_scales(x, dataset_indices, *params),\n",
    "    x_data,\n",
    "    y_data,\n",
    "    p0=p0_scale,\n",
    "    bounds=bounds_scale,\n",
    "    maxfev=5000\n",
    ")\n",
    "scales_filter = list(popt_scales_filter[num_params:])"
   ]
  },
  {
   "cell_type": "code",
   "execution_count": null,
   "metadata": {},
   "outputs": [],
   "source": [
    "popt_scales_filter"
   ]
  },
  {
   "cell_type": "code",
   "execution_count": null,
   "metadata": {},
   "outputs": [],
   "source": [
    "# %%capture output\n",
    "# create the plot folder if it does not exist\n",
    "if not os.path.exists(os.path.join(plot_folder, \"1.9_crosstalk_filtering\")):\n",
    "    os.makedirs(os.path.join(plot_folder, \"1.9_crosstalk_filtering\"))\n",
    "    \n",
    "df_deviation = pd.DataFrame(columns=df_knockdown_filter.columns, index=df_expression_filter.index)\n",
    "\n",
    "for cell_line in cell_lines_measured:\n",
    "    cell_line_index = cell_lines_measured.index(cell_line)\n",
    "    current_scale = scales_filter[cell_line_index]\n",
    "    print(cell_line)\n",
    "    print(current_scale)\n",
    "\n",
    "    allowed_mirnas_meas = allowed_mirnas_all_meas[cell_line]\n",
    "\n",
    "    ex_df = df_expression_filter.loc[allowed_mirnas_meas, cell_line] + current_scale\n",
    "    knock_df = df_knockdown_filter.loc[allowed_mirnas_meas, cell_line]\n",
    "\n",
    "    fig = plt.figure(figsize=(3, 2.5))\n",
    "    plt.rcParams.update({'font.size': 8})\n",
    "    plt.scatter(ex_df, knock_df, color=\"black\", s=5)\n",
    "    plt.plot(x_range_log, hill_func_log_alt(x_range_log, *popt_scales_filter[:num_params]), color=\"forestgreen\", linewidth=2, label=\"fit\")\n",
    "    r2 = stats.pearsonr(hill_func_log_alt(ex_df, *popt_scales_filter[:num_params]), knock_df)[0]**2\n",
    "    df_deviation[cell_line]\n",
    "\n",
    "    # calculate the deviation\n",
    "    df_deviation[cell_line] = (knock_df-hill_func_log_alt(ex_df+current_scale, *popt_scales_filter[:num_params]))\n",
    "    # for i, row in knock_df.items():\n",
    "    #     #if high_confidence.loc[i, \"family_extended\"] in outlier_families:\n",
    "    #     plt.text(ex_df[i], 10**row, \"-\".join(i.split(\"-\")[2:]), fontsize=5)\n",
    "    \n",
    "    plt.xlabel(\"log10(expression)\")\n",
    "    plt.ylabel(\"log10(stability)\")\n",
    "    #plt.legend(loc=\"lower left\", fontsize=8)\n",
    "    plt.title(f\"{cell_line}, r2 = \" + str(round(r2, 2)), fontsize=8)\n",
    "    plt.tight_layout()\n",
    "    if scaled:\n",
    "        plt.savefig(os.path.join(plot_folder, f\"1.9_crosstalk_filtering/{cell_line}__crosstalk_rem_with_scales.png\"), dpi=300)\n",
    "    else:\n",
    "        plt.savefig(os.path.join(plot_folder, f\"1.9_crosstalk_filtering/{cell_line}__crosstalk_rem_wo_scales.png\"), dpi=300)"
   ]
  },
  {
   "cell_type": "code",
   "execution_count": null,
   "metadata": {},
   "outputs": [],
   "source": [
    "fig = plt.figure(figsize=(3, 2.5))\n",
    "plt.rcParams.update({'font.size': 9})\n",
    "cell_line_colors = {\"HEK293T\": \"blue\", \"SKNSH\": \"green\", \"HeLa\": \"red\", \"MCF7\": \"orange\"}\n",
    "cell_line_symbols = {\"HEK293T\": \"o\", \"SKNSH\": \"s\", \"HeLa\": \"D\", \"MCF7\": \"v\"}\n",
    "ex_dfs = []\n",
    "knock_dfs = []\n",
    "\n",
    "# plot all\n",
    "for cell_line in cell_lines_measured:\n",
    "    cell_line_index = cell_lines_measured.index(cell_line)\n",
    "    current_scale = scales_filter[cell_line_index]\n",
    "    print(cell_line)\n",
    "    print(current_scale)\n",
    "\n",
    "    allowed_mirnas_meas = allowed_mirnas_all_meas[cell_line]\n",
    "\n",
    "    ex_df = df_expression_filter.loc[allowed_mirnas_meas, cell_line] + current_scale\n",
    "    knock_df = df_knockdown_filter.loc[allowed_mirnas_meas, cell_line]\n",
    "\n",
    "    ex_dfs.append(ex_df)\n",
    "    knock_dfs.append(knock_df)\n",
    "\n",
    "    plt.scatter(ex_df, knock_df, color=cell_line_colors[cell_line], s=5, marker=cell_line_symbols[cell_line], label=cell_line)\n",
    "\n",
    "plt.plot(x_range_log, hill_func_log_alt(x_range_log, *popt_scales_filter[:num_params]), color=\"black\", linestyle=\"--\", label=\"hill function\", linewidth=1.5)\n",
    "r2 = stats.pearsonr(hill_func_log_alt(pd.concat(ex_dfs), *popt_scales_filter[:num_params]), pd.concat(knock_dfs))[0]**2\n",
    "plt.xlabel(\"log10(expression)\")\n",
    "plt.ylabel(\"log10(stability)\")\n",
    "plt.legend(loc=\"lower left\", fontsize=8)\n",
    "plt.title(f\"r2 = \" + str(round(r2, 2)), fontsize=8)\n",
    "plt.tight_layout()\n",
    "if scaled:\n",
    "    plt.savefig(os.path.join(plot_folder, f\"1.9_crosstalk_filtering/all_crosstalk_rem_with_scales.png\"), dpi=300)\n",
    "else:\n",
    "    plt.savefig(os.path.join(plot_folder, f\"1.9_crosstalk_filtering/all_crosstalk_rem_wo_scales.png\"), dpi=300)"
   ]
  },
  {
   "cell_type": "markdown",
   "metadata": {},
   "source": [
    "## 1.10 Export the data for later use"
   ]
  },
  {
   "cell_type": "code",
   "execution_count": 73,
   "metadata": {},
   "outputs": [],
   "source": [
    "def intersection_of_lists(dictionary):\n",
    "    # Convert the first list in the dictionary to a set\n",
    "    intersection_set = set(dictionary[next(iter(dictionary))])\n",
    "    \n",
    "    # Iterate over the other lists in the dictionary and update the intersection set\n",
    "    for key in dictionary:\n",
    "        intersection_set.intersection_update(dictionary[key])\n",
    "\n",
    "    return list(intersection_set)\n",
    "\n",
    "# get the intersection of all allowed mirnas\n",
    "allowed_mirnas_all_intersection = intersection_of_lists(allowed_mirnas_all)"
   ]
  },
  {
   "cell_type": "code",
   "execution_count": null,
   "metadata": {},
   "outputs": [],
   "source": [
    "df_alles_quantile_scaled = df_alles_quantile_filter.copy()\n",
    "for cell_line in cell_lines_measured:\n",
    "    cell_line_index = cell_lines_measured.index(cell_line)\n",
    "    current_scale = scales_filter[cell_line_index]\n",
    "    print(cell_line)\n",
    "    print(current_scale)\n",
    "\n",
    "    df_alles_quantile_scaled.loc[:,cell_line] = df_alles_quantile_filter.loc[:,cell_line] + current_scale"
   ]
  },
  {
   "cell_type": "code",
   "execution_count": 75,
   "metadata": {},
   "outputs": [],
   "source": [
    "df_alles_quantile_scaled2 = df_alles_quantile_scaled.loc[allowed_mirnas_all_intersection,:]\n",
    "# df_alles_quantile_scaled2 = df_alles_quantile_scaled2[~df_alles_quantile_scaled2.index.isin(outlier_families_mirnas)]"
   ]
  },
  {
   "cell_type": "code",
   "execution_count": 78,
   "metadata": {},
   "outputs": [],
   "source": [
    "df_alles_quantile_scaled.to_csv('../input_data/miRNA_expression_data/1_output/1.10_alles_quantile_no_crosstalk_filter.csv')\n",
    "df_alles_quantile_scaled2.to_csv('../input_data/miRNA_expression_data/1_output/1.10_alles_quantile_crosstalk_filter.csv')"
   ]
  },
  {
   "cell_type": "code",
   "execution_count": 80,
   "metadata": {},
   "outputs": [],
   "source": [
    "# save the parameters\n",
    "if scaled:\n",
    "    filename = '../output/1_output/1.10_fit_parameters_with_scales.txt'\n",
    "else:\n",
    "    filename = '../output/1_output/1.10_fit_parameters_without_scales.txt'\n",
    "\n",
    "# create the output folder if it does not exist\n",
    "if not os.path.exists(os.path.dirname(filename)):\n",
    "    os.makedirs(os.path.dirname(filename))\n",
    "\n",
    "with open(filename, \"w\") as f:\n",
    "    f.write(\"c1\\tc2\\tn\\tHEK293T\\tSKNSH\\tHeLa\\tMCF7\\n\")\n",
    "    f.write(\"\\t\".join([str(i) for i in popt_scales_filter]) + \"\\n\")"
   ]
  }
 ],
 "metadata": {
  "kernelspec": {
   "display_name": "base",
   "language": "python",
   "name": "python3"
  },
  "language_info": {
   "codemirror_mode": {
    "name": "ipython",
    "version": 3
   },
   "file_extension": ".py",
   "mimetype": "text/x-python",
   "name": "python",
   "nbconvert_exporter": "python",
   "pygments_lexer": "ipython3",
   "version": "3.8.17"
  },
  "orig_nbformat": 4
 },
 "nbformat": 4,
 "nbformat_minor": 2
}
