{
 "cells": [
  {
   "cell_type": "code",
   "execution_count": 1,
   "metadata": {},
   "outputs": [],
   "source": [
    "import pandas as pd\n",
    "import numpy as np\n",
    "import matplotlib.pyplot as plt\n",
    "import random\n",
    "import os\n",
    "from lib.count_mismatches import count_mismatches_in_region, get_mismatches_with_reverse_complement\n",
    "from lib.design_utilities import tsi\n",
    "from lib.general_utility import intersection_of_lists\n",
    "from lib.transfer_functions import transfer_function\n",
    "from lib.NA_sequence_utilities import complement, reverse_complement\n",
    "\n",
    "cell_lines_main = [\"HEK293T\", \"HeLa\", \"SKNSH\", \"MCF7\", \"HUH-7\", \"A549\"]\n",
    "cell_lines_other = [\"HaCaT\", \"JEG-3\", \"Tera-1\", \"PC-3\"]\n",
    "cell_lines_measured = [\"HEK293T\", \"HeLa\", \"SKNSH\", \"MCF7\"]\n",
    "cell_lines = cell_lines_main + cell_lines_other\n",
    "\n",
    "plot_folder = \"plots/5_mutated_targets/\"\n",
    "# create the folder if it does not exist\n",
    "if not os.path.exists(plot_folder):\n",
    "    os.makedirs(plot_folder)\n",
    "\n",
    "# load mirbase\n",
    "mirbase_df = pd.read_csv('../input_data/mirbase_with_families_and_targets.csv', index_col=0)"
   ]
  },
  {
   "cell_type": "code",
   "execution_count": 2,
   "metadata": {},
   "outputs": [],
   "source": [
    "# load microRNA data\n",
    "mirna_data_filter = pd.read_csv(\"../input_data/miRNA_expression_data/1_output/1.10_alles_quantile_crosstalk_filter.csv\", index_col=0)\n",
    "mirna_data_filter = mirna_data_filter.loc[:, cell_lines]\n",
    "mirna_data_filter = 10**mirna_data_filter\n",
    "\n",
    "mirna_data_no_filter = pd.read_csv(\"../input_data/miRNA_expression_data/1_output/1.10_alles_quantile_no_crosstalk_filter.csv\", index_col=0)\n",
    "mirna_data_no_filter = mirna_data_no_filter.loc[:, cell_lines]\n",
    "mirna_data_no_filter = 10**mirna_data_no_filter"
   ]
  },
  {
   "cell_type": "markdown",
   "metadata": {},
   "source": [
    "# Find microRNAs with little expected crosstalk to mutate"
   ]
  },
  {
   "cell_type": "code",
   "execution_count": 3,
   "metadata": {},
   "outputs": [],
   "source": [
    "high_confidence = mirbase_df[mirbase_df[\"confidence\"] == \"high\"].copy()\n",
    "\n",
    "mismatch_dict = {}\n",
    "\n",
    "for mirna_target, row in high_confidence.iterrows():\n",
    "    target = high_confidence.loc[mirna_target, \"sequence\"]\n",
    "    query_df = pd.DataFrame(index = high_confidence.index, columns = [\"mismatch\", \"wobble\"])\n",
    "    for mirna_query, row in high_confidence.iterrows():\n",
    "        query = high_confidence.loc[mirna_query, \"sequence\"]\n",
    "        mismatch, wobble = count_mismatches_in_region(target, query)\n",
    "        query_df.loc[mirna_query, \"mismatch\"] = mismatch\n",
    "        query_df.loc[mirna_query, \"wobble\"] = wobble\n",
    "\n",
    "    mismatch_dict[mirna_target] = query_df"
   ]
  },
  {
   "cell_type": "code",
   "execution_count": 4,
   "metadata": {},
   "outputs": [],
   "source": [
    "for key in mismatch_dict.keys():\n",
    "    df = mismatch_dict[key]\n",
    "    df[\"mismatch_seed\"] = df[\"mismatch\"].apply(lambda x: x[1])\n",
    "    df[\"mismatch_four\"] = df[\"mismatch\"].apply(lambda x: sum(x[0:5]))\n",
    "    mismatch_dict[key] = df\n",
    "\n",
    "mismatch_dict_filter = {}\n",
    "\n",
    "for key in mismatch_dict.keys():\n",
    "    df = mismatch_dict[key].copy()\n",
    "    df = df[df[\"mismatch_four\"] < 6]\n",
    "    mismatch_dict_filter[key] = df[df[\"mismatch_seed\"] < 2]\n",
    "\n",
    "# for each microRNA, find if there are other microRNAs in the filtered mismatch dict with a higher expression\n",
    "crosstalk_dict = {}\n",
    "for cell_line in cell_lines:\n",
    "    expr_df = mirna_data_no_filter[cell_line]\n",
    "    crosstalk_dict[cell_line] = {}\n",
    "    for i, value in expr_df.items():\n",
    "        other_mirnas = mismatch_dict_filter[i].index\n",
    "        # filter to those that have not been filtered out before\n",
    "        other_mirnas = other_mirnas[other_mirnas.isin(expr_df.index)]\n",
    "        other_expr_values = expr_df[other_mirnas]\n",
    "        if value > 0:\n",
    "            other_mirnas = other_expr_values[(other_expr_values > 0.5*value) & (other_expr_values > 300)].index\n",
    "            # exclude the microRNA itself\n",
    "            other_mirnas = other_mirnas[other_mirnas != i]\n",
    "            crosstalk_dict[cell_line][i] = other_mirnas.to_list()\n",
    "        else:\n",
    "            crosstalk_dict[cell_line][i] = []\n",
    "\n",
    "crosstalking_mirnas = []\n",
    "for cell_line in cell_lines:\n",
    "    for key in crosstalk_dict[cell_line].keys():\n",
    "        if len(crosstalk_dict[cell_line][key]) > 0:\n",
    "            crosstalking_mirnas.append(key)\n",
    "crosstalking_mirnas = list(set(crosstalking_mirnas))\n",
    "\n",
    "allowed_mirnas_all = {}\n",
    "for cell_line in cell_lines:\n",
    "    allowed_mirnas = []\n",
    "    for key in crosstalk_dict[cell_line].keys():\n",
    "        if len(crosstalk_dict[cell_line][key]) == 0:\n",
    "            allowed_mirnas.append(key)\n",
    "    allowed_mirnas_all[cell_line] = allowed_mirnas"
   ]
  },
  {
   "cell_type": "code",
   "execution_count": 5,
   "metadata": {},
   "outputs": [],
   "source": [
    "# get the intersection of all allowed mirnas\n",
    "allowed_mirnas_all_intersection = intersection_of_lists(allowed_mirnas_all)\n",
    "non_crosstalking_mirnas = mirna_data_no_filter.loc[allowed_mirnas_all_intersection,:]"
   ]
  },
  {
   "cell_type": "code",
   "execution_count": 6,
   "metadata": {},
   "outputs": [],
   "source": [
    "non_crosstalking_mirnas = non_crosstalking_mirnas[non_crosstalking_mirnas.max(axis=1) > 5000]\n",
    "non_crosstalking_mirnas[\"tsi\"] = tsi(non_crosstalking_mirnas.to_numpy())\n",
    "\n",
    "# select somewhat unspecific microRNAs to get more data points\n",
    "non_crosstalking_mirnas = non_crosstalking_mirnas[non_crosstalking_mirnas[\"tsi\"] < 0.8]\n",
    "non_crosstalking_mirnas = non_crosstalking_mirnas[cell_lines]"
   ]
  },
  {
   "cell_type": "code",
   "execution_count": null,
   "metadata": {},
   "outputs": [],
   "source": [
    "non_crosstalking_mirnas_ex = non_crosstalking_mirnas.apply(transfer_function)\n",
    "non_crosstalk_mirna_list = non_crosstalking_mirnas_ex.index.to_list()\n",
    "print(non_crosstalk_mirna_list)\n",
    "print(len(non_crosstalk_mirna_list))"
   ]
  },
  {
   "cell_type": "code",
   "execution_count": 8,
   "metadata": {},
   "outputs": [],
   "source": [
    "chosen_mirnas = [\n",
    "    \"hsa-let-7a-5p\",\n",
    "    \"hsa-miR-19b-3p\",\n",
    "    'hsa-miR-365a-3p',\n",
    "    'hsa-miR-23a-3p',\n",
    "    'hsa-miR-21-5p',\n",
    "    'hsa-miR-31-5p',\n",
    "    'hsa-miR-22-3p',\n",
    "    'hsa-miR-16-5p',\n",
    "    'hsa-miR-31-3p',\n",
    "    'hsa-miR-107',\n",
    "    'hsa-miR-24-3p'\n",
    "]"
   ]
  },
  {
   "cell_type": "code",
   "execution_count": null,
   "metadata": {},
   "outputs": [],
   "source": [
    "mirna_data_no_filter.loc[chosen_mirnas, :]"
   ]
  },
  {
   "cell_type": "markdown",
   "metadata": {},
   "source": [
    "# Generate mutated constructs"
   ]
  },
  {
   "cell_type": "markdown",
   "metadata": {},
   "source": [
    "## Single mutations"
   ]
  },
  {
   "cell_type": "code",
   "execution_count": 10,
   "metadata": {},
   "outputs": [],
   "source": [
    "mutation_alphabets = {\n",
    "    \"A\": [\"C\", \"T\"],\n",
    "    \"C\": [\"A\", \"G\"],\n",
    "    \"G\": [\"A\", \"C\", \"T\"],\n",
    "    \"T\": [\"A\", \"C\", \"G\"]\n",
    "}\n",
    "wobble_alphabets = {\n",
    "    \"A\": [\"G\"],\n",
    "    \"C\": [\"T\"],\n",
    "    \"G\": [],\n",
    "    \"T\": []\n",
    "}\n",
    "\n",
    "# set regions\n",
    "regions = [(0, 1), (1, 7), (7, 8), (8, 11), (11, 14), (14, 17), (17, 21)]\n",
    "\n",
    "index_left_seed = regions[0][0]\n",
    "index_right_seed = regions[2][1]\n",
    "range_seed = np.arange(index_left_seed, index_right_seed)\n",
    "\n",
    "index_left_outside = regions[3][0]\n",
    "index_right_outside = regions[-1][1]\n",
    "range_outside = np.arange(index_left_outside, index_right_outside)"
   ]
  },
  {
   "cell_type": "code",
   "execution_count": 11,
   "metadata": {},
   "outputs": [],
   "source": [
    "def abbrev_mirna_name(name):\n",
    "    return \"-\".join(name.split(\"-\")[1:])\n",
    "\n",
    "def single_mutation(sequence, name):\n",
    "    \"\"\"Get all single mutations of a sequence (one per position).\"\"\"\n",
    "    target = complement(sequence, \"DNA\")\n",
    "    mut_targets = {}\n",
    "    for i, letter in enumerate(target):\n",
    "        mutation_alphabet = mutation_alphabets[letter]\n",
    "        mut_target = target[:i] + random.choice(mutation_alphabet) + target[i+1:]\n",
    "        abbrev_name = abbrev_mirna_name(name)\n",
    "        mut_targets[f\"5.1_miRNA_{abbrev_name}_mut{i+1}\"] = mut_target[::-1]\n",
    "    return mut_targets\n",
    "\n",
    "def single_wobble(sequence, name):\n",
    "    \"\"\"Get all single wobble mutations of a sequence (if one exists).\"\"\"\n",
    "    target = complement(sequence, \"DNA\")\n",
    "    wob_targets = {}\n",
    "    for i, letter in enumerate(target):\n",
    "        wobble_alphabet = wobble_alphabets[letter]\n",
    "        if len(wobble_alphabet) == 0:\n",
    "            continue\n",
    "        wobble_target = target[:i] + wobble_alphabet[0] + target[i+1:]\n",
    "        abbrev_name = abbrev_mirna_name(name)\n",
    "        wob_targets[f\"5.2_miRNA_{abbrev_name}_wob{i+1}\"] = wobble_target[::-1]\n",
    "    return wob_targets\n",
    "\n",
    "def insert_A_at_beginning(sequence, name):\n",
    "    \"\"\"Test the impact of an a at seed position 1.\"\"\"\n",
    "    target = complement(sequence, \"DNA\")\n",
    "    if target[0] == \"A\":\n",
    "        return {}\n",
    "    else:\n",
    "        target = \"A\" + target[1:]\n",
    "        abbrev_name = abbrev_mirna_name(name)\n",
    "        return {f\"5.3_miRNA_{abbrev_name}_insSeedA\": target[::-1]}"
   ]
  },
  {
   "cell_type": "code",
   "execution_count": 12,
   "metadata": {},
   "outputs": [],
   "source": [
    "all_single_mutations = {}\n",
    "all_single_wobbles = {}\n",
    "all_seed_A_insertions = {}\n",
    "for mirna in chosen_mirnas:\n",
    "    sequence = high_confidence.loc[mirna, \"sequence\"]\n",
    "    all_single_mutations.update(single_mutation(sequence, mirna))\n",
    "    all_single_wobbles.update(single_wobble(sequence, mirna))\n",
    "    all_seed_A_insertions.update(insert_A_at_beginning(sequence, mirna))"
   ]
  },
  {
   "cell_type": "code",
   "execution_count": null,
   "metadata": {},
   "outputs": [],
   "source": [
    "print(len(all_single_mutations))\n",
    "print(len(all_single_wobbles))\n",
    "print(len(all_seed_A_insertions))"
   ]
  },
  {
   "cell_type": "markdown",
   "metadata": {},
   "source": [
    "## Add extra sequences for let-7i-5p for single mutations only."
   ]
  },
  {
   "cell_type": "markdown",
   "metadata": {},
   "source": [
    "Because the rest of the sequence is different, let-7i gives sequences that have not been included by mutating let-7a."
   ]
  },
  {
   "cell_type": "code",
   "execution_count": 14,
   "metadata": {},
   "outputs": [],
   "source": [
    "let7i_mut = {}\n",
    "let7i_wobble = {}\n",
    "let7i_seedA = {}\n",
    "\n",
    "mirna = \"hsa-let-7i-5p\"\n",
    "let7i_sequence = high_confidence.loc[mirna, \"sequence\"]\n",
    "\n",
    "all_single_mutations.update(single_mutation(let7i_sequence, mirna))\n",
    "all_single_wobbles.update(single_wobble(let7i_sequence, mirna))\n",
    "all_seed_A_insertions.update(insert_A_at_beginning(let7i_sequence, mirna))"
   ]
  },
  {
   "cell_type": "markdown",
   "metadata": {},
   "source": [
    "## Double mutations (two adjacent mutations)"
   ]
  },
  {
   "cell_type": "code",
   "execution_count": 15,
   "metadata": {},
   "outputs": [],
   "source": [
    "def insert_double_mutation(target, region, name):\n",
    "    \"\"\"Inserts a double mutation (two adjacent mutations) into the target sequence at the given region.\n",
    "    Region is a tuple (start, end).\"\"\"\n",
    "\n",
    "    # pick two random positions in the region\n",
    "    pos_range = np.arange(region[0], region[1]-1)\n",
    "    positions = np.random.choice(pos_range, 2, replace=False)\n",
    "    positions.sort()\n",
    "\n",
    "    # insert the double mutation\n",
    "    for position in positions:\n",
    "        mutation_alphabet = mutation_alphabets[target[position]]\n",
    "        target = target[:position] + random.choice(mutation_alphabet) + target[position+1:]\n",
    "\n",
    "    dict_name = name + \"_doubleMut\" + \".\".join([str(pos+1) for pos in positions])\n",
    "    return {dict_name: target[::-1]}\n",
    "\n",
    "def insert_double_mutations_outside_of_seed(sequence, name):\n",
    "    \"\"\"Inserts a double mutation (two adjacent mutations) into the target sequence outside of the seed region.\"\"\"\n",
    "    \n",
    "    target = complement(sequence, \"DNA\")\n",
    "    mut_targets = {}\n",
    "    regions_outside_seed = regions[3:]\n",
    "    for region in regions_outside_seed:\n",
    "        mut_targets.update(insert_double_mutation(target, region, name))\n",
    "    return mut_targets\n",
    "\n",
    "def insert_n_mutations_outside_of_seed(sequence, name, n):\n",
    "    \"\"\"Inserts n double mutations into the target sequence outside of the seed region.\"\"\"\n",
    "    abbrev_name = abbrev_mirna_name(name)\n",
    "    target = complement(sequence, \"DNA\")\n",
    "    index_left = regions[3][0]\n",
    "    index_right = regions[-1][1]\n",
    "    positions = np.random.choice(np.arange(index_left, index_right), n, replace=False)\n",
    "    positions.sort()\n",
    "\n",
    "    # insert the mutations\n",
    "    for position in positions:\n",
    "        mutation_alphabet = mutation_alphabets[target[position]]\n",
    "        target = target[:position] + random.choice(mutation_alphabet) + target[position+1:]\n",
    "\n",
    "    dict_name = name + \".\".join([str(pos+1) for pos in positions])\n",
    "            \n",
    "    return {dict_name: target[::-1]}"
   ]
  },
  {
   "cell_type": "markdown",
   "metadata": {},
   "source": [
    "## Arbitrary patterns"
   ]
  },
  {
   "cell_type": "code",
   "execution_count": 16,
   "metadata": {},
   "outputs": [],
   "source": [
    "def get_possible_wobble_positions(target):\n",
    "    \"\"\"Returns a list of possible wobble positions in the target sequence.\"\"\"\n",
    "    possible_wobble_positions = []\n",
    "    for i, letter in enumerate(target):\n",
    "        wobble_alphabet = wobble_alphabets[letter]\n",
    "        if len(wobble_alphabet) == 0:\n",
    "            continue\n",
    "        possible_wobble_positions.append(i)\n",
    "    return possible_wobble_positions\n",
    "\n",
    "def general_mutation_insert(sequence, n_mut_seed, n_wobble_seed, n_mut_outside, n_wobble_outside):\n",
    "    target = complement(sequence, \"DNA\")\n",
    "    wobble_positions = get_possible_wobble_positions(target)\n",
    "\n",
    "    used_positions = []\n",
    "    used_position_dict = {\n",
    "        \"seed_mut\": [],\n",
    "        \"outside_mut\": [],\n",
    "        \"seed_wob\": [],\n",
    "        \"outside_wob\": []}\n",
    "\n",
    "    # insert mutations in the seed region\n",
    "    for i in range(n_mut_seed):\n",
    "        possible_positions = [pos for pos in range_seed if pos not in used_positions]\n",
    "        position = random.choice(possible_positions)\n",
    "        mutation_alphabet = mutation_alphabets[target[position]]\n",
    "        target = target[:position] + random.choice(mutation_alphabet) + target[position+1:]\n",
    "        used_positions.append(position)\n",
    "        used_position_dict[\"seed_mut\"].append(position)\n",
    "\n",
    "    # insert wobbles in the seed region\n",
    "    for i in range(n_wobble_seed):\n",
    "        possible_positions = [pos for pos in range_seed if pos not in used_positions]\n",
    "        possible_positions = [pos for pos in possible_positions if pos in wobble_positions]\n",
    "        if len(possible_positions) == 0:\n",
    "            break\n",
    "        position = random.choice(possible_positions)\n",
    "        wobble_alphabet = wobble_alphabets[target[position]]\n",
    "        target = target[:position] + random.choice(wobble_alphabet) + target[position+1:]\n",
    "        used_positions.append(position)\n",
    "        used_position_dict[\"seed_wob\"].append(position)\n",
    "\n",
    "    # insert mutations outside of the seed region\n",
    "    for i in range(n_mut_outside):\n",
    "        possible_positions = [pos for pos in range_outside if pos not in used_positions]\n",
    "        position = random.choice(possible_positions)\n",
    "        mutation_alphabet = mutation_alphabets[target[position]]\n",
    "        target = target[:position] + random.choice(mutation_alphabet) + target[position+1:]\n",
    "        used_positions.append(position)\n",
    "        used_position_dict[\"outside_mut\"].append(position)    \n",
    "\n",
    "    # insert wobbles outside of the seed region\n",
    "    for i in range(n_wobble_outside):\n",
    "        possible_positions = [pos for pos in range_outside if pos not in used_positions]\n",
    "        possible_positions = [pos for pos in possible_positions if pos in wobble_positions]\n",
    "        if len(possible_positions) == 0:\n",
    "            break\n",
    "        position = random.choice(possible_positions)\n",
    "        wobble_alphabet = wobble_alphabets[target[position]]\n",
    "        target = target[:position] + random.choice(wobble_alphabet) + target[position+1:]\n",
    "        used_positions.append(position)\n",
    "        used_position_dict[\"outside_wob\"].append(position)\n",
    "\n",
    "    # sort the position dicts\n",
    "    for key in used_position_dict.keys():\n",
    "        used_position_dict[key].sort()\n",
    "\n",
    "    # make the target the reverse complement\n",
    "    # this is what is actually inserted into the UTR\n",
    "    target = target[::-1]\n",
    "\n",
    "    # generate the label\n",
    "    seed_mut_names = \"smut\" + \".\".join([str(pos+1) for pos in used_position_dict[\"seed_mut\"]])\n",
    "    seed_wob_names = \"swob\" + \".\".join([str(pos+1) for pos in used_position_dict[\"seed_wob\"]])\n",
    "    outside_mut_names = \"omut\" + \".\".join([str(pos+1) for pos in used_position_dict[\"outside_mut\"]])\n",
    "    outside_wob_names = \"owob\" + \".\".join([str(pos+1) for pos in used_position_dict[\"outside_wob\"]])\n",
    "    label = f\"{seed_mut_names}_{seed_wob_names}_{outside_mut_names}_{outside_wob_names}\"\n",
    "\n",
    "    return label, target"
   ]
  },
  {
   "cell_type": "markdown",
   "metadata": {},
   "source": [
    "## Set the desired mutations patterns for multiple mutation"
   ]
  },
  {
   "cell_type": "code",
   "execution_count": 17,
   "metadata": {},
   "outputs": [],
   "source": [
    "two_mutation_design_dict = {\n",
    "    \"5.4\": [{\"n_mut_seed\": 2, \"n_wobble_seed\": 0, \"n_mut_outside\": 0, \"n_wobble_outside\": 0}, 2],\n",
    "    \"5.5\": [{\"n_mut_seed\": 0, \"n_wobble_seed\": 2, \"n_mut_outside\": 0, \"n_wobble_outside\": 0}, 1],\n",
    "    \"5.6\": [{\"n_mut_seed\": 1, \"n_wobble_seed\": 0, \"n_mut_outside\": 1, \"n_wobble_outside\": 0}, 2],\n",
    "    \"5.7\": [{\"n_mut_seed\": 0, \"n_wobble_seed\": 1, \"n_mut_outside\": 1, \"n_wobble_outside\": 0}, 2],\n",
    "    \"5.8\": [{\"n_mut_seed\": 0, \"n_wobble_seed\": 0, \"n_mut_outside\": 2, \"n_wobble_outside\": 0}, 4],\n",
    "    \"5.9\": [{\"n_mut_seed\": 0, \"n_wobble_seed\": 0, \"n_mut_outside\": 1, \"n_wobble_outside\": 1}, 4],\n",
    "    \"5.10\": [{\"n_mut_seed\": 0, \"n_wobble_seed\": 0, \"n_mut_outside\": 0, \"n_wobble_outside\": 2}, 2],\n",
    "}\n",
    "\n",
    "three_mutation_design_dict = {\n",
    "    \"5.11\": [{\"n_mut_seed\": 2, \"n_wobble_seed\": 0, \"n_mut_outside\": 1, \"n_wobble_outside\": 0}, 1],\n",
    "    \"5.12\": [{\"n_mut_seed\": 1, \"n_wobble_seed\": 0, \"n_mut_outside\": 2, \"n_wobble_outside\": 0}, 3],\n",
    "    \"5.13\": [{\"n_mut_seed\": 1, \"n_wobble_seed\": 0, \"n_mut_outside\": 1, \"n_wobble_outside\": 1}, 3],\n",
    "    \"5.14\": [{\"n_mut_seed\": 0, \"n_wobble_seed\": 0, \"n_mut_outside\": 3, \"n_wobble_outside\": 0}, 3],\n",
    "    \"5.15\": [{\"n_mut_seed\": 0, \"n_wobble_seed\": 0, \"n_mut_outside\": 2, \"n_wobble_outside\": 1}, 3],\n",
    "    \"5.16\": [{\"n_mut_seed\": 0, \"n_wobble_seed\": 0, \"n_mut_outside\": 1, \"n_wobble_outside\": 2}, 3],\n",
    "    \"5.17\": [{\"n_mut_seed\": 0, \"n_wobble_seed\": 0, \"n_mut_outside\": 0, \"n_wobble_outside\": 3}, 1],\n",
    "}\n",
    "\n",
    "four_mutation_design_dict = {\n",
    "    \"5.18\": [{\"n_mut_seed\": 1, \"n_wobble_seed\": 0, \"n_mut_outside\": 3, \"n_wobble_outside\": 0}, 2],\n",
    "    \"5.19\": [{\"n_mut_seed\": 1, \"n_wobble_seed\": 0, \"n_mut_outside\": 2, \"n_wobble_outside\": 1}, 2],\n",
    "    \"5.20\": [{\"n_mut_seed\": 1, \"n_wobble_seed\": 0, \"n_mut_outside\": 1, \"n_wobble_outside\": 2}, 1],\n",
    "    \"5.21\": [{\"n_mut_seed\": 0, \"n_wobble_seed\": 0, \"n_mut_outside\": 4, \"n_wobble_outside\": 0}, 2],\n",
    "    \"5.22\": [{\"n_mut_seed\": 0, \"n_wobble_seed\": 0, \"n_mut_outside\": 3, \"n_wobble_outside\": 1}, 2],\n",
    "    \"5.23\": [{\"n_mut_seed\": 0, \"n_wobble_seed\": 0, \"n_mut_outside\": 2, \"n_wobble_outside\": 2}, 2],\n",
    "    \"5.24\": [{\"n_mut_seed\": 0, \"n_wobble_seed\": 0, \"n_mut_outside\": 1, \"n_wobble_outside\": 3}, 1],\n",
    "}\n",
    "\n",
    "five_mutation_design_dict = {\n",
    "    \"5.25\": [{\"n_mut_seed\": 1, \"n_wobble_seed\": 0, \"n_mut_outside\": 4, \"n_wobble_outside\": 0}, 2],\n",
    "    \"5.26\": [{\"n_mut_seed\": 1, \"n_wobble_seed\": 0, \"n_mut_outside\": 3, \"n_wobble_outside\": 1}, 2],\n",
    "    \"5.27\": [{\"n_mut_seed\": 1, \"n_wobble_seed\": 0, \"n_mut_outside\": 2, \"n_wobble_outside\": 2}, 1],\n",
    "    \"5.28\": [{\"n_mut_seed\": 0, \"n_wobble_seed\": 0, \"n_mut_outside\": 5, \"n_wobble_outside\": 0}, 2],\n",
    "    \"5.29\": [{\"n_mut_seed\": 0, \"n_wobble_seed\": 0, \"n_mut_outside\": 3, \"n_wobble_outside\": 2}, 2],\n",
    "}\n",
    "\n",
    "six_mutation_design_dict = {\n",
    "    \"5.30\": [{\"n_mut_seed\": 1, \"n_wobble_seed\": 0, \"n_mut_outside\": 5, \"n_wobble_outside\": 0}, 1],\n",
    "    \"5.31\": [{\"n_mut_seed\": 0, \"n_wobble_seed\": 0, \"n_mut_outside\": 6, \"n_wobble_outside\": 1}, 2],\n",
    "    \"5.32\": [{\"n_mut_seed\": 0, \"n_wobble_seed\": 0, \"n_mut_outside\": 4, \"n_wobble_outside\": 2}, 2],\n",
    "}"
   ]
  },
  {
   "cell_type": "code",
   "execution_count": 18,
   "metadata": {},
   "outputs": [],
   "source": [
    "def generate_designs(mutation_design_dict):\n",
    "    mutation_designs = {}\n",
    "\n",
    "    for key in mutation_design_dict.keys():\n",
    "        params = mutation_design_dict[key][0]\n",
    "        n = mutation_design_dict[key][1]\n",
    "        for mirna in chosen_mirnas:\n",
    "            sequence = high_confidence.loc[mirna, \"sequence\"]\n",
    "            abbrev_name = abbrev_mirna_name(mirna)\n",
    "            i = 0\n",
    "            tries = 0\n",
    "            while i < n:\n",
    "                label, target = general_mutation_insert(sequence, **params)\n",
    "                tries += 1\n",
    "                if tries > 100:\n",
    "                    print(f\"Could not find {n} mutations for {mirna}, {key}\")\n",
    "                    break\n",
    "                construct_name = f\"{key}_miRNA_{abbrev_name}_{label}\"\n",
    "                if construct_name in mutation_designs.keys():\n",
    "                    continue\n",
    "                else:\n",
    "                    mutation_designs[construct_name] = target\n",
    "                    i += 1\n",
    "                    \n",
    "    return mutation_designs"
   ]
  },
  {
   "cell_type": "markdown",
   "metadata": {},
   "source": [
    "### Generate the actual mutation patterns"
   ]
  },
  {
   "cell_type": "code",
   "execution_count": null,
   "metadata": {},
   "outputs": [],
   "source": [
    "two_mutations = generate_designs(two_mutation_design_dict)\n",
    "print(len(two_mutations))\n",
    "\n",
    "three_mutations = generate_designs(three_mutation_design_dict)\n",
    "print(len(three_mutations))\n",
    "\n",
    "four_mutations = generate_designs(four_mutation_design_dict)\n",
    "print(len(four_mutations))\n",
    "\n",
    "five_mutations = generate_designs(five_mutation_design_dict)\n",
    "print(len(five_mutations))\n",
    "\n",
    "six_mutations = generate_designs(six_mutation_design_dict)\n",
    "print(len(six_mutations))"
   ]
  },
  {
   "cell_type": "markdown",
   "metadata": {},
   "source": [
    "#### Also add double mutations"
   ]
  },
  {
   "cell_type": "code",
   "execution_count": 20,
   "metadata": {},
   "outputs": [],
   "source": [
    "double_muts = {}\n",
    "for mirna in chosen_mirnas:\n",
    "    sequence = high_confidence.loc[mirna, \"sequence\"]\n",
    "    abbrev_name = abbrev_mirna_name(mirna)\n",
    "    abbrev_name = \"5.8_miRNA_\" + abbrev_name\n",
    "\n",
    "    # make sure not to produce duplicates\n",
    "    while True:\n",
    "        new_muts = insert_double_mutations_outside_of_seed(sequence, abbrev_name)\n",
    "        if any([val in two_mutations.values() for val in new_muts.values()]) == False:\n",
    "            break\n",
    "    double_muts.update(new_muts)\n",
    "\n",
    "two_mutations.update(double_muts)"
   ]
  },
  {
   "cell_type": "code",
   "execution_count": 21,
   "metadata": {},
   "outputs": [],
   "source": [
    "# merge them all\n",
    "all_mutations = {}\n",
    "all_mutations.update(all_single_mutations)\n",
    "all_mutations.update(all_single_wobbles)\n",
    "all_mutations.update(all_seed_A_insertions)\n",
    "all_mutations.update(two_mutations)\n",
    "all_mutations.update(three_mutations)\n",
    "all_mutations.update(four_mutations)\n",
    "all_mutations.update(five_mutations)\n",
    "all_mutations.update(six_mutations)"
   ]
  },
  {
   "cell_type": "markdown",
   "metadata": {},
   "source": [
    "# Save the mutated targets"
   ]
  },
  {
   "cell_type": "code",
   "execution_count": 22,
   "metadata": {},
   "outputs": [],
   "source": [
    "df_all_mutations = pd.DataFrame.from_dict(all_mutations, orient=\"index\", columns=[\"target\"])\n",
    "df_all_mutations[\"orig_mi\"] = df_all_mutations.index.map(lambda x: \"hsa-\"+ x.split(\"_\")[2])\n",
    "df_all_mutations[\"miRNA1\"] = df_all_mutations.index\n",
    "df_all_mutations = df_all_mutations[[\"orig_mi\", \"miRNA1\", \"target\"]]"
   ]
  },
  {
   "cell_type": "code",
   "execution_count": 23,
   "metadata": {},
   "outputs": [],
   "source": [
    "df_all_mutations.to_csv(\"../designs/5_miRNA_single_mut.csv\")"
   ]
  }
 ],
 "metadata": {
  "kernelspec": {
   "display_name": "base",
   "language": "python",
   "name": "python3"
  },
  "language_info": {
   "codemirror_mode": {
    "name": "ipython",
    "version": 3
   },
   "file_extension": ".py",
   "mimetype": "text/x-python",
   "name": "python",
   "nbconvert_exporter": "python",
   "pygments_lexer": "ipython3",
   "version": "3.8.17"
  },
  "orig_nbformat": 4
 },
 "nbformat": 4,
 "nbformat_minor": 2
}
