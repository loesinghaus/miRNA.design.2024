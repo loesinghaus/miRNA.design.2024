{
 "cells": [
  {
   "cell_type": "code",
   "execution_count": 1,
   "metadata": {},
   "outputs": [],
   "source": [
    "import pandas as pd\n",
    "import numpy as np\n",
    "import matplotlib.pyplot as plt\n",
    "import os\n",
    "from lib.transfer_functions import transfer_function\n",
    "\n",
    "plot_folder = \"../plots/6_pick_repeats/\"\n",
    "# Create the folder if it does not exist\n",
    "if not os.path.exists(plot_folder):\n",
    "    os.makedirs(plot_folder)\n",
    "\n",
    "cell_lines_main = [\"HEK293T\", \"HeLa\", \"SKNSH\", \"MCF7\", \"HUH-7\", \"A549\"]\n",
    "cell_lines_other = [\"HaCaT\", \"JEG-3\", \"Tera-1\", \"PC-3\"]\n",
    "cell_lines_measured = [\"HEK293T\", \"HeLa\", \"SKNSH\", \"MCF7\"]\n",
    "cell_lines = cell_lines_main + cell_lines_other"
   ]
  },
  {
   "cell_type": "markdown",
   "metadata": {},
   "source": [
    "### Here, we pick both full targets and mutated targets to repeat two to six times."
   ]
  },
  {
   "cell_type": "markdown",
   "metadata": {},
   "source": [
    "# 6.1 - Full Targets"
   ]
  },
  {
   "cell_type": "code",
   "execution_count": 3,
   "metadata": {},
   "outputs": [],
   "source": [
    "# load microRNA data\n",
    "mirna_data_filter = pd.read_csv(\"../input_data/miRNA_expression_data/1_output/1.10_alles_quantile_crosstalk_filter.csv\", index_col=0)\n",
    "mirna_data_filter = mirna_data_filter.loc[:, cell_lines]\n",
    "mirna_data_filter = 10**mirna_data_filter\n",
    "\n",
    "mirna_data_no_filter = pd.read_csv(\"../input_data/miRNA_expression_data/1_output/1.10_alles_quantile_no_crosstalk_filter.csv\", index_col=0)\n",
    "mirna_data_no_filter = mirna_data_no_filter.loc[:, cell_lines]\n",
    "mirna_data_no_filter = 10**mirna_data_no_filter\n",
    "\n",
    "mirna_data = mirna_data_filter"
   ]
  },
  {
   "cell_type": "code",
   "execution_count": 4,
   "metadata": {},
   "outputs": [],
   "source": [
    "# get mirbase data\n",
    "mirbase_df = pd.read_csv('../input_data/mirbase_with_families_and_targets.csv', index_col=0)\n",
    "# get all high confidence miRNAs\n",
    "high_confidence = mirbase_df[mirbase_df['confidence'] == 'high']\n",
    "# filter high confidence to those microRNAs in the expression df\n",
    "high_confidence = high_confidence[high_confidence.index.isin(mirna_data.index)]"
   ]
  },
  {
   "cell_type": "markdown",
   "metadata": {},
   "source": [
    "### Set miRNAs that I definitely want to test as repeast"
   ]
  },
  {
   "cell_type": "code",
   "execution_count": 5,
   "metadata": {},
   "outputs": [],
   "source": [
    "mirnas_mutation_test = [\n",
    "    \"hsa-let-7a-5p\",\n",
    "    \"hsa-miR-19b-3p\",\n",
    "    'hsa-miR-365a-3p',\n",
    "    'hsa-miR-23a-3p',\n",
    "    'hsa-miR-21-5p',\n",
    "    'hsa-miR-31-5p',\n",
    "    'hsa-miR-22-3p',\n",
    "    'hsa-miR-16-5p',\n",
    "    'hsa-miR-31-3p',\n",
    "    'hsa-miR-107',\n",
    "    'hsa-miR-24-3p'\n",
    "]\n",
    "\n",
    "mirnas_flow = [\n",
    "    \"hsa-miR-122-5p\",\n",
    "    \"hsa-miR-18a-5p\",\n",
    "    \"hsa-miR-20a-5p\",\n",
    "    \"hsa-miR-25-3p\",\n",
    "    \"hsa-miR-7-5p\",\n",
    "    \"hsa-miR-21-5p\",\n",
    "    \"hsa-miR-141-3p\",\n",
    "    \"hsa-miR-10a-5p\",\n",
    "    \"hsa-miR-31-5p\",\n",
    "    \"hsa-let-7a-5p\",\n",
    "]\n",
    "\n",
    "additional_let7 = [\n",
    "    \"hsa-let-7b-5p\",\n",
    "    \"hsa-let-7c-5p\",\n",
    "    \"hsa-let-7d-5p\",\n",
    "    \"hsa-let-7e-5p\",\n",
    "    \"hsa-let-7f-5p\",\n",
    "    \"hsa-let-7g-5p\",\n",
    "    \"hsa-let-7i-5p\",\n",
    "]\n",
    "\n",
    "# merge them\n",
    "mirnas_preset = mirnas_mutation_test + mirnas_flow + additional_let7\n",
    "mirnas_preset = list(set(mirnas_preset))\n",
    "mirnas_preset = mirna_data_no_filter.loc[mirnas_preset,:]"
   ]
  },
  {
   "cell_type": "markdown",
   "metadata": {},
   "source": [
    "### Choose other miRNAs based on their expression"
   ]
  },
  {
   "cell_type": "code",
   "execution_count": null,
   "metadata": {},
   "outputs": [],
   "source": [
    "# exclude the miRNAs I already have\n",
    "mirna_data = mirna_data[~mirna_data.index.isin(mirnas_preset.index)]\n",
    "\n",
    "# divide miRNAs into groups based on their maximum expression\n",
    "less_than_two = mirna_data[mirna_data.max(axis=1) < 10**2]\n",
    "less_than_three = mirna_data[(mirna_data.max(axis=1) > 10**2)\n",
    "                                    & (mirna_data.max(axis=1) < 10**3)]\n",
    "less_than_four = mirna_data[(mirna_data.max(axis=1) > 10**3)\n",
    "                                   & (mirna_data.max(axis=1) < 10**4)]\n",
    "more_than_four = mirna_data[(mirna_data.max(axis=1) > 10**4)]\n",
    "\n",
    "# sample from the dataframes\n",
    "less_than_two = less_than_two.sample(n=5)\n",
    "less_than_three = less_than_three.sample(n=10)\n",
    "less_than_four = less_than_four.sample(n=46)\n",
    "# I use all miRNAs with max expression above 10^4\n",
    "\n",
    "print(\"miRNAs per group:\")\n",
    "print(len(less_than_two), len(less_than_three), len(less_than_four), len(more_than_four))\n",
    "\n",
    "# append the dataframes\n",
    "picked_mirnas = pd.concat([mirnas_preset, less_than_two, less_than_three, less_than_four, more_than_four])\n",
    "print(\"total miRNAs picked:\", len(picked_mirnas))"
   ]
  },
  {
   "cell_type": "code",
   "execution_count": 7,
   "metadata": {},
   "outputs": [],
   "source": [
    "%%capture output\n",
    "for cell_line in cell_lines:\n",
    "    cur_mirna = picked_mirnas[cell_line]\n",
    "    plt.clf()\n",
    "    plt.figure(figsize=(3, 2))\n",
    "    plt.xlim(0, 5.5)\n",
    "    plt.ylim(-0.05, 1.05)\n",
    "    plt.scatter(np.log10(cur_mirna), cur_mirna.apply(transfer_function))\n",
    "    plt.xlabel(\"log10(miRNA expression)\")\n",
    "    plt.ylabel(\"Stability\")\n",
    "    plt.tight_layout()\n",
    "    plt.savefig(os.path.join(plot_folder, f\"full_{cell_line}_picked_mirnas.png\"), dpi=300)"
   ]
  },
  {
   "cell_type": "markdown",
   "metadata": {},
   "source": [
    "### Generate the design files"
   ]
  },
  {
   "cell_type": "code",
   "execution_count": 8,
   "metadata": {},
   "outputs": [],
   "source": [
    "for i in range(2,7):\n",
    "    design_df = picked_mirnas.copy()\n",
    "    \n",
    "    # calculate the expected knockdown\n",
    "    design_df.loc[:, cell_lines] = (design_df.loc[:, cell_lines]*i).apply(transfer_function)\n",
    "    \n",
    "    # add mirna columns\n",
    "    for j in range(1, i+1):\n",
    "        design_df.loc[:,f\"miRNA{j}\"] = design_df.index\n",
    "        \n",
    "    # reorder the columns to put the miRNA columns first\n",
    "    design_df = design_df[[f\"miRNA{j}\" for j in range(1, i+1)] + cell_lines]\n",
    "    \n",
    "    # set the index\n",
    "    design_df.index = [f\"{i+4}_miRNA_full_repeat_x{i}_{j}\" for j in range(1, len(design_df)+1)]\n",
    "    \n",
    "    # save the design\n",
    "    design_df.to_csv(f\"../designs/{i+4}_miRNA_full_repeat_x{i}.csv\")"
   ]
  },
  {
   "cell_type": "markdown",
   "metadata": {},
   "source": [
    "# 6.2 - Mutated Targets"
   ]
  },
  {
   "cell_type": "code",
   "execution_count": 19,
   "metadata": {},
   "outputs": [],
   "source": [
    "# read single mutation data\n",
    "mutation_df = pd.read_csv(\"../designs/5_miRNA_single_mut.csv\", index_col=0)\n",
    "\n",
    "chosen_mirnas = list(mutation_df[\"orig_mi\"].unique())"
   ]
  },
  {
   "cell_type": "code",
   "execution_count": 20,
   "metadata": {},
   "outputs": [],
   "source": [
    "# filter out mirnas that contain unwanted sequence motifs\n",
    "# restriction sites\n",
    "restriction_sites = [\"GAGACC\", \"GGTCTC\"]\n",
    "polyA_signals = [\"AATAAA\", \"ATTAAA\", \"AGTAAA\", \"TATAAA\", \"ACTAAA\"]\n",
    "filter_motifs = restriction_sites + polyA_signals"
   ]
  },
  {
   "cell_type": "code",
   "execution_count": null,
   "metadata": {},
   "outputs": [],
   "source": [
    "# filter for unwanted motifs\n",
    "print(mutation_df[mutation_df[\"target\"].str.contains(\"|\".join(filter_motifs)) == True].index)\n",
    "mutation_df = mutation_df[mutation_df[\"target\"].str.contains(\"|\".join(filter_motifs)) == False]"
   ]
  },
  {
   "cell_type": "code",
   "execution_count": null,
   "metadata": {},
   "outputs": [],
   "source": [
    "# Heuristically divide mutations according to their expected impact on miRNA function\n",
    "# (The warning are irrelevant for filtering.)\n",
    "# --------------------------------------\n",
    "# get single mutations\n",
    "single_mutations = mutation_df[mutation_df.index.str.contains(\"5.1_\")]\n",
    "weak_single = single_mutations[single_mutations.index.to_series().str.contains(r'_(mut|wob)(9|1[0-9]|20)\\b')]\n",
    "medium_single = single_mutations[single_mutations.index.to_series().str.contains(r'_(mut)(1|2|3|4|5|6|7|8)\\b')]\n",
    "\n",
    "# --------------------------------------\n",
    "# get double mutations\n",
    "weak_double = mutation_df[mutation_df.index.str.contains(r'5\\.(7|8|9|10)_miRNA')]\n",
    "medium_double = mutation_df[mutation_df.index.str.contains(r'5\\.6_miRNA')]\n",
    "\n",
    "# --------------------------------------\n",
    "# get triple mutations\n",
    "medium_triple = mutation_df[mutation_df.index.str.contains(r'5\\.(1[4-7])_miRNA')]\n",
    "strong_triple = mutation_df[mutation_df.index.str.contains(r'5\\.(12|13)_miRNA')]\n",
    "\n",
    "# --------------------------------------\n",
    "# get quadruple mutations\n",
    "medium_quadruple = mutation_df[mutation_df.index.str.contains(r'5\\.(2[1-4])_miRNA')]\n",
    "strong_quadruple = mutation_df[mutation_df.index.str.contains(r'5\\.(18|19|20)_miRNA')]\n",
    "\n",
    "# --------------------------------------\n",
    "weak_mutations = pd.concat([weak_single, weak_double], axis=0)\n",
    "medium_mutations = pd.concat([medium_single, medium_double, medium_triple, medium_quadruple], axis=0)\n",
    "strong_mutations = pd.concat([strong_triple, strong_quadruple], axis=0)"
   ]
  },
  {
   "cell_type": "code",
   "execution_count": null,
   "metadata": {},
   "outputs": [],
   "source": [
    "# pick 3 weak, 4 medium and 3 strong mutations per chosen microRNA\n",
    "chosen_mutations = []\n",
    "for mirna in chosen_mirnas:\n",
    "    # get the mutations for the current mirna\n",
    "    if mirna == \"hsa-let-7i-5p\":\n",
    "        continue\n",
    "    cur_weak = weak_mutations[weak_mutations[\"orig_mi\"] == mirna].sample(n=3)\n",
    "    cur_medium = medium_mutations[medium_mutations[\"orig_mi\"] == mirna].sample(n=4)\n",
    "    cur_strong = strong_mutations[strong_mutations[\"orig_mi\"] == mirna].sample(n=3)\n",
    "    \n",
    "    # append\n",
    "    df = pd.concat([cur_weak, cur_medium, cur_strong], axis=0)\n",
    "    chosen_mutations.append(df)\n",
    "\n",
    "chosen_mutations = pd.concat(chosen_mutations, axis=0)\n",
    "print(len(chosen_mutations))"
   ]
  },
  {
   "cell_type": "code",
   "execution_count": 28,
   "metadata": {},
   "outputs": [],
   "source": [
    "# repeat these 2 to 6 times\n",
    "for i in range(2,7):\n",
    "    design_df = chosen_mutations.copy()\n",
    "    # add mirna columns\n",
    "    for j in range(2, i+1):\n",
    "        design_df.loc[:, f\"miRNA{j}\"] = design_df[\"miRNA1\"]\n",
    "    # set the index\n",
    "    design_df.index = [f\"{i+34}_miRNA_mut_repeat_x{i}_{j}\" for j in range(1, len(design_df)+1)]\n",
    "    # save the design\n",
    "    design_df.to_csv(f\"../designs/{i+34}_miRNA_mut_repeat_x{i}.csv\")"
   ]
  }
 ],
 "metadata": {
  "kernelspec": {
   "display_name": "base",
   "language": "python",
   "name": "python3"
  },
  "language_info": {
   "codemirror_mode": {
    "name": "ipython",
    "version": 3
   },
   "file_extension": ".py",
   "mimetype": "text/x-python",
   "name": "python",
   "nbconvert_exporter": "python",
   "pygments_lexer": "ipython3",
   "version": "3.8.17"
  },
  "orig_nbformat": 4
 },
 "nbformat": 4,
 "nbformat_minor": 2
}
