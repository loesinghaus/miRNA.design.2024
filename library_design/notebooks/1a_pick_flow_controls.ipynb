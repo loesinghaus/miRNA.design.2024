{
 "cells": [
  {
   "cell_type": "code",
   "execution_count": 1,
   "metadata": {},
   "outputs": [],
   "source": [
    "import pandas as pd\n",
    "import numpy as np\n",
    "import matplotlib.pyplot as plt\n",
    "import os\n",
    "from lib.NA_sequence_utilities import *"
   ]
  },
  {
   "cell_type": "markdown",
   "metadata": {},
   "source": [
    "Here, we choose which miRNAs we wish to measure using flow cytometry. The idea is to span the whole range of repression in the chosen cell lines. We therefore take the fitted model, apply it to the expression data, then check the expected pattern across cell lines."
   ]
  },
  {
   "cell_type": "code",
   "execution_count": 2,
   "metadata": {},
   "outputs": [],
   "source": [
    "# mirna_expression\n",
    "mirna_expression_all = pd.read_csv('../input_data/miRNA_expression_data/1_output/1.10_alles_quantile_no_crosstalk_filter.csv', index_col=0)\n",
    "mirna_expression = pd.read_csv('../input_data/miRNA_expression_data/1_output/1.10_alles_quantile_crosstalk_filter.csv', index_col=0)"
   ]
  },
  {
   "cell_type": "code",
   "execution_count": 3,
   "metadata": {},
   "outputs": [],
   "source": [
    "data_dir_input = \"../input_data/measurements_lib1\"\n",
    "\n",
    "# get the name of all files in \"reference\" folder\n",
    "reference_files = os.listdir(data_dir_input)\n",
    "\n",
    "# read them into a dictionary\n",
    "reference_dict = {}\n",
    "for reference_file in reference_files:\n",
    "    if reference_file.endswith(\".csv\"):\n",
    "        reference_dict[reference_file.split('.')[0]] = pd.read_csv(os.path.join(data_dir_input, reference_file), index_col=0)\n",
    "\n",
    "# get all dfs that contain \"single\" in their key\n",
    "single_dfs = {key: reference_dict[key].copy() for key in reference_dict.keys() if \"single\" in key}"
   ]
  },
  {
   "cell_type": "code",
   "execution_count": 4,
   "metadata": {},
   "outputs": [],
   "source": [
    "def transfer_function(x, c1=3.5, c2=10):\n",
    "    \"\"\"The expression is assumed to be normalized to one.\n",
    "    The microRNA data is assumed to be linear.\n",
    "    The output is also linear.\"\"\"\n",
    "    result = (1 / (1 + x / c1)) * (1 + x / c2)\n",
    "    return result\n",
    "\n",
    "def add_mirna_expression(mirna_expr, construct_df):\n",
    "    combs = get_combinations(construct_df)\n",
    "    added_expression = pd.DataFrame(columns=mirna_expr.columns, index=construct_df.index)\n",
    "\n",
    "    for i, comb in enumerate(combs):\n",
    "        added_expression.iloc[i,:] = mirna_expr.loc[comb,:].sum(axis=0)\n",
    "\n",
    "    return added_expression\n",
    "\n",
    "def get_combinations(df):\n",
    "    # get all columns that contain \"miRNA\"\n",
    "    miRNA_columns = [column for column in df.columns if \"miRNA\" in column]\n",
    "    # make a list of tuples of the miRNA names\n",
    "    miRNA_combinations = list(zip(*[df[miRNA_column] for miRNA_column in miRNA_columns]))\n",
    "    return miRNA_combinations\n",
    "\n",
    "def tsi(x):\n",
    "    # if x is not normalized yet, normalize it\n",
    "    # THIS IS IMPORTANT\n",
    "    x = x/x.max(axis=1, keepdims=True)\n",
    "\n",
    "    tsi = np.sum(1-x, axis=1)/(x.shape[1]-1)\n",
    "    return tsi\n",
    "\n",
    "def calculate_quality(row):\n",
    "    return row[\"tsi\"]*row[row[\"cell\"]]\n",
    "\n",
    "filename = \"../output/1_output/1.10_fit_parameters_with_scales.txt\"\n",
    "with open(filename, \"r\") as file:\n",
    "    file.readline()\n",
    "    line = file.readline().split(\"\\t\")\n",
    "    c1 = float(line[0])\n",
    "    c2 = float(line[1])\n",
    "\n",
    "popt_filter = 10**np.array([c1,  c2])\n",
    "mirna_expression_lin = 10**mirna_expression\n",
    "mirna_expression_lin_all = 10**mirna_expression_all\n",
    "expression = mirna_expression_lin.apply(lambda x: transfer_function(x, *popt_filter))"
   ]
  },
  {
   "cell_type": "code",
   "execution_count": 5,
   "metadata": {},
   "outputs": [],
   "source": [
    "# get data for two repeats\n",
    "df_2x = single_dfs[\"2_full_singleX2_context1\"]\n",
    "sub_df = df_2x.filter(regex=\"log10\")\n",
    "sub_df = sub_df.filter(regex=\"3UTR\")\n",
    "sub_df.columns = sub_df.columns.str.replace(\"_3UTR_log10\", \"\")\n",
    "sub_df.index = df_2x[\"miRNA1\"]\n",
    "df_2x.index = df_2x[\"miRNA1\"]\n",
    "\n",
    "# filter to mirnas in the expression data\n",
    "common_index = mirna_expression_lin_all.index.intersection(sub_df.index)\n",
    "df_2x = df_2x.loc[common_index,:]\n",
    "sub_df = sub_df.loc[common_index,:]"
   ]
  },
  {
   "cell_type": "code",
   "execution_count": 7,
   "metadata": {},
   "outputs": [],
   "source": [
    "added_mirnas = add_mirna_expression(mirna_expression_lin_all, df_2x)\n",
    "model_df = added_mirnas.apply(lambda x: transfer_function(x, *popt_filter))\n",
    "model_df = np.log10(model_df.astype(float))"
   ]
  },
  {
   "cell_type": "code",
   "execution_count": null,
   "metadata": {},
   "outputs": [],
   "source": [
    "cell_lines_flow = [\"HEK293T\", \"HeLa\"]\n",
    "\n",
    "for cell_line in cell_lines_flow:\n",
    "    plt.scatter(model_df[cell_line], sub_df[cell_line], label=f\"{cell_line}\", s=15)\n",
    "    \n",
    "plt.ylabel(\"log10(Measurement)\")\n",
    "plt.xlabel(\"log10(Model)\")\n",
    "plt.show()"
   ]
  },
  {
   "cell_type": "code",
   "execution_count": null,
   "metadata": {},
   "outputs": [],
   "source": [
    "# choose miRNAs that span the range of the data\n",
    "mirnas = [\n",
    "    \"hsa-miR-21-5p\",\n",
    "    \"hsa-miR-141-3p\",\n",
    "    \"hsa-let-7a-5p\",\n",
    "    \"hsa-miR-20a-5p\",\n",
    "    \"hsa-miR-122-5p\",\n",
    "    \"hsa-miR-10a-5p\",\n",
    "    \"hsa-miR-18a-5p\",\n",
    "    \"hsa-miR-31-5p\",\n",
    "    \"hsa-miR-7-5p\",\n",
    "    \"hsa-miR-25-3p\",\n",
    "]\n",
    "\n",
    "cell_line = \"HeLa\"\n",
    "filter_df = mirna_expression_all.loc[mirnas, cell_line]\n",
    "model_filter = model_df.loc[mirnas, cell_line]\n",
    "sub_filter = sub_df.loc[mirnas, cell_line]\n",
    "\n",
    "# plt.scatter(model_filter, sub_filter, label=f\"{cell_line}\", s=15)\n",
    "plt.scatter(filter_df, model_filter, label=f\"{cell_line}\", s=15, marker=\"x\", color=\"black\")\n",
    "for i, row in filter_df.iteritems():\n",
    "    plt.text(filter_df.loc[i], model_filter.loc[i], \"-\".join(i.split(\"-\")[2:]), fontsize=9)\n",
    "\n",
    "plt.ylabel(\"log10(Measurement)\")\n",
    "plt.xlabel(\"log10(Model)\")\n",
    "plt.show()"
   ]
  },
  {
   "cell_type": "markdown",
   "metadata": {},
   "source": [
    "## Export the flow sequences needed for cloning"
   ]
  },
  {
   "cell_type": "code",
   "execution_count": 10,
   "metadata": {},
   "outputs": [],
   "source": [
    "output_df = df_2x[df_2x[\"miRNA1\"].isin(mirnas)]\n",
    "output_df.set_index(\"miRNA1\", inplace=True)\n",
    "output_df = output_df[[\"target1\", \"oligoseq\"]]"
   ]
  },
  {
   "cell_type": "code",
   "execution_count": 11,
   "metadata": {},
   "outputs": [],
   "source": [
    "# This is what needs to be added for GoldenGate cloning\n",
    "left_flank = \"TTGGAGCCAAGGGTTCAGAGACTCAG\"\n",
    "right_flank = \"ACTGTGTACAGAATTCTGCTACCTCACT\"\n",
    "left_overhang = \"TCAG\"\n",
    "right_overhang = \"ACTG\""
   ]
  },
  {
   "cell_type": "code",
   "execution_count": 12,
   "metadata": {},
   "outputs": [],
   "source": [
    "oligoseqs = output_df[\"oligoseq\"].copy()"
   ]
  },
  {
   "cell_type": "code",
   "execution_count": 13,
   "metadata": {},
   "outputs": [],
   "source": [
    "inserts_seqs = [oligoseq[oligoseq.find(left_flank)+len(left_flank):oligoseq.find(right_flank)] for oligoseq in oligoseqs]\n",
    "forward_oligos = [left_overhang + insert_seq for insert_seq in inserts_seqs]\n",
    "reverse_oligos = [reverse_complement(insert_seq + right_overhang, alph=\"DNA\") for insert_seq in inserts_seqs]"
   ]
  },
  {
   "cell_type": "code",
   "execution_count": 14,
   "metadata": {},
   "outputs": [],
   "source": [
    "output_df[\"insert_seq\"] = inserts_seqs\n",
    "output_df[\"forward_oligo\"] = forward_oligos\n",
    "output_df[\"reverse_oligo\"] = reverse_oligos"
   ]
  },
  {
   "cell_type": "code",
   "execution_count": 16,
   "metadata": {},
   "outputs": [],
   "source": [
    "# create the output folder if it does not exist\n",
    "os.makedirs(\"../output/1a_output\", exist_ok=True)\n",
    "output_df.to_excel(\"../output/1a_output/1a_flow_control_sequences.xlsx\")"
   ]
  }
 ],
 "metadata": {
  "kernelspec": {
   "display_name": "base",
   "language": "python",
   "name": "python3"
  },
  "language_info": {
   "codemirror_mode": {
    "name": "ipython",
    "version": 3
   },
   "file_extension": ".py",
   "mimetype": "text/x-python",
   "name": "python",
   "nbconvert_exporter": "python",
   "pygments_lexer": "ipython3",
   "version": "3.8.17"
  },
  "orig_nbformat": 4
 },
 "nbformat": 4,
 "nbformat_minor": 2
}
