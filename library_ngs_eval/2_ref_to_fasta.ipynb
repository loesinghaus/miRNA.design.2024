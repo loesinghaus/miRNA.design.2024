{
 "cells": [
  {
   "cell_type": "code",
   "execution_count": 1,
   "metadata": {},
   "outputs": [],
   "source": [
    "import os\n",
    "import pandas\n",
    "import Bio\n",
    "import Bio.Seq\n",
    "import Bio.SeqIO\n",
    "import Bio.SeqRecord"
   ]
  },
  {
   "cell_type": "code",
   "execution_count": 9,
   "metadata": {},
   "outputs": [],
   "source": [
    "input_filepath = \"2_references/library2_sequences.csv\"\n",
    "output_filepath = \"2_references/references/references.fasta\"\n",
    "os.makedirs(os.path.dirname(output_filepath), exist_ok=True)\n",
    "\n",
    "# the adapter on the 5' end of the sequence needs to be removed\n",
    "adaptor_5end = 'ACGACGCTCTTCCGATCT'\n",
    "# the adapter on the 5' end of the sequence needs to be added\n",
    "adaptor_3end = 'CATAGACAAACAGGCATGCAAG'"
   ]
  },
  {
   "cell_type": "code",
   "execution_count": 5,
   "metadata": {},
   "outputs": [],
   "source": [
    "# Open reference file\n",
    "ref_df = pandas.read_csv(input_filepath)\n",
    "# check that all entries are unique\n",
    "assert(len(ref_df['id'].unique())==len(ref_df['id']))\n",
    "# check that all sequences are unique\n",
    "assert(len(ref_df['seq'].unique())==len(ref_df['seq']))"
   ]
  },
  {
   "cell_type": "code",
   "execution_count": 6,
   "metadata": {},
   "outputs": [],
   "source": [
    "# Make column with an adjusted reference sequence\n",
    "ref_df['seq_adjusted'] = ''\n",
    "for index, row in ref_df.iterrows():\n",
    "    seq = row['seq']\n",
    "    start_trim_pos = len(adaptor_5end)\n",
    "    assert(seq[:start_trim_pos]==adaptor_5end)\n",
    "    ref_df.loc[index, 'seq_adjusted'] = seq[start_trim_pos:] + adaptor_3end"
   ]
  },
  {
   "cell_type": "code",
   "execution_count": 10,
   "metadata": {},
   "outputs": [],
   "source": [
    "# Write fasta file\n",
    "seq_records = []\n",
    "for index, row in ref_df.iterrows():\n",
    "    seq_records.append(\n",
    "        Bio.SeqRecord.SeqRecord(\n",
    "            Bio.Seq.Seq(row['seq_adjusted']),\n",
    "            id=str(row['id']),\n",
    "            description=\"\",\n",
    "        )\n",
    "    )\n",
    "\n",
    "with open(output_filepath, \"w\") as output_handle:\n",
    "    Bio.SeqIO.write(seq_records, output_handle, \"fasta\")"
   ]
  },
  {
   "cell_type": "code",
   "execution_count": 11,
   "metadata": {},
   "outputs": [],
   "source": [
    "# are all values in seq_adjusted_3UTR unique?\n",
    "assert(len(ref_df['seq_adjusted'].unique())==len(ref_df['seq_adjusted']))"
   ]
  }
 ],
 "metadata": {
  "kernelspec": {
   "display_name": "Bio",
   "language": "python",
   "name": "python3"
  },
  "language_info": {
   "codemirror_mode": {
    "name": "ipython",
    "version": 3
   },
   "file_extension": ".py",
   "mimetype": "text/x-python",
   "name": "python",
   "nbconvert_exporter": "python",
   "pygments_lexer": "ipython3",
   "version": "3.8.17"
  }
 },
 "nbformat": 4,
 "nbformat_minor": 2
}
