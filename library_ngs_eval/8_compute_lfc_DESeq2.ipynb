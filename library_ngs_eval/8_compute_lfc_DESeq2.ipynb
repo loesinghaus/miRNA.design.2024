{
 "cells": [
  {
   "cell_type": "code",
   "execution_count": 24,
   "metadata": {},
   "outputs": [],
   "source": [
    "import os\n",
    "import pandas as pd\n",
    "import ast\n",
    "\n",
    "from pydeseq2.dds import DeseqDataSet\n",
    "from pydeseq2.default_inference import DefaultInference\n",
    "from pydeseq2.ds import DeseqStats"
   ]
  },
  {
   "cell_type": "markdown",
   "metadata": {},
   "source": [
    "## get the count data"
   ]
  },
  {
   "cell_type": "code",
   "execution_count": 25,
   "metadata": {},
   "outputs": [],
   "source": [
    "input_dir = \"6_counts\"\n",
    "output_dir = \"7_log2fc\"\n",
    "\n",
    "# Create output directory if it doesn't exist\n",
    "if not os.path.exists(output_dir):\n",
    "    os.makedirs(output_dir)"
   ]
  },
  {
   "cell_type": "code",
   "execution_count": 34,
   "metadata": {},
   "outputs": [],
   "source": [
    "# load the design file\n",
    "design_df = pd.read_csv(\"2_references/library2_sequences.csv\", index_col=0)"
   ]
  },
  {
   "cell_type": "code",
   "execution_count": 35,
   "metadata": {},
   "outputs": [],
   "source": [
    "# counts should be given as a pandas dataframe with genes as columns and samples as rows\n",
    "counts_df = pd.read_csv(os.path.join(input_dir, \"all_counts.csv\"), index_col=0)\n",
    "\n",
    "# get relevant columns\n",
    "counts_3utr_df = counts_df[[col for col in counts_df.columns if \"3UTR\" in col]]\n",
    "# reorder such that columns containing \"DNA\" are first\n",
    "counts_3utr_df = counts_3utr_df[sorted(counts_3utr_df.columns, key=lambda x: \"DNA\" not in x)]"
   ]
  },
  {
   "cell_type": "code",
   "execution_count": null,
   "metadata": {},
   "outputs": [],
   "source": [
    "# which indices are in design_df but not in counts_df?\n",
    "print(\"Indices in design_df but not in counts_df:\")\n",
    "print(set(design_df.index) - set(counts_df.index))\n",
    "# which indices are in counts_df but not in design_df?\n",
    "print(\"Indices in counts_df but not in design_df:\")\n",
    "print(set(counts_df.index) - set(design_df.index))"
   ]
  },
  {
   "cell_type": "code",
   "execution_count": null,
   "metadata": {},
   "outputs": [],
   "source": [
    "threeUTRfilter = (counts_3utr_df[\"DNA_3UTR_r1\"] + counts_3utr_df[\"DNA_3UTR_r2\"]) > 100\n",
    "\n",
    "# what is the length of the dataframes before filtering?\n",
    "print(len(counts_3utr_df))\n",
    "\n",
    "# filter the dataframes\n",
    "counts_3utr_df = counts_3utr_df[threeUTRfilter]\n",
    "\n",
    "# which designs were discarded?\n",
    "print(threeUTRfilter[threeUTRfilter == False].index)\n",
    "\n",
    "# what is the length of the dataframes after filtering?\n",
    "print(len(counts_3utr_df))"
   ]
  },
  {
   "cell_type": "code",
   "execution_count": null,
   "metadata": {},
   "outputs": [],
   "source": [
    "threeUTRfilter[threeUTRfilter == False].index"
   ]
  },
  {
   "cell_type": "code",
   "execution_count": 113,
   "metadata": {},
   "outputs": [],
   "source": [
    "# what are the lowest read counts for the remaining designs?\n",
    "# print all designs with a read count below 10 in any of the samples\n",
    "counts_3utr_df[(counts_3utr_df < 10).any(axis=1)].to_excel(f'{output_dir}/low_counts.xlsx')"
   ]
  },
  {
   "cell_type": "markdown",
   "metadata": {},
   "source": [
    "## restore identical designs"
   ]
  },
  {
   "cell_type": "code",
   "execution_count": 114,
   "metadata": {},
   "outputs": [],
   "source": [
    "# get duplicated sequences\n",
    "duplicated = pd.read_excel(\"2_references/library2_duplicated_sequences.xlsx\")"
   ]
  },
  {
   "cell_type": "code",
   "execution_count": 115,
   "metadata": {},
   "outputs": [],
   "source": [
    "# make column 'dup' a list\n",
    "duplicated['dup'] = duplicated['dup'].apply(ast.literal_eval)"
   ]
  },
  {
   "cell_type": "code",
   "execution_count": 116,
   "metadata": {},
   "outputs": [],
   "source": [
    "# iterate over duplicated sequences and add them to the counts\n",
    "for index, row in duplicated.iterrows():\n",
    "    seq1 = row['dup'][0]\n",
    "    seq2 = row['dup'][1]\n",
    "    # is seq1 in the counts?\n",
    "    if seq1 in counts_3utr_df.index:\n",
    "        counts_3utr_df.loc[seq2,:] = counts_3utr_df.loc[seq1,:]\n",
    "    # is seq2 in the counts?\n",
    "    elif seq2 in counts_3utr_df.index:\n",
    "        counts_3utr_df.loc[seq1,:] = counts_3utr_df.loc[seq2,:]\n",
    "    else:\n",
    "        print(f\"Neither {seq1} nor {seq2} are in the counts\")"
   ]
  },
  {
   "cell_type": "markdown",
   "metadata": {},
   "source": [
    "## continue processing"
   ]
  },
  {
   "cell_type": "code",
   "execution_count": 118,
   "metadata": {},
   "outputs": [],
   "source": [
    "# transpose both dataframes so that genes are columns and samples are rows\n",
    "counts_3utr_df = counts_3utr_df.transpose()"
   ]
  },
  {
   "cell_type": "code",
   "execution_count": 119,
   "metadata": {},
   "outputs": [],
   "source": [
    "# metadata should be given as a pandas dataframe with samples as rows and metadata as columns\n",
    "metadata_3utr_df = pd.DataFrame(index=counts_3utr_df.index, columns=[\"condition\"])\n",
    "\n",
    "# individually add groups\n",
    "# the first group is the reference group\n",
    "metadata_3utr_df[\"condition\"] = [\"A\", \"A\", \"B\", \"B\", \"C\", \"C\", \"D\", \"D\", \"E\", \"E\", \"F\", \"F\", \"G\", \"G\", \"H\", \"H\", \"I\", \"I\", \"J\", \"J\", \"K\", \"K\", \"L\", \"L\", \"M\", \"M\"]"
   ]
  },
  {
   "cell_type": "code",
   "execution_count": 127,
   "metadata": {},
   "outputs": [],
   "source": [
    "current_count_df = counts_3utr_df\n",
    "current_metadata_df = metadata_3utr_df"
   ]
  },
  {
   "cell_type": "code",
   "execution_count": 128,
   "metadata": {},
   "outputs": [],
   "source": [
    "%%capture output\n",
    "\n",
    "inference = DefaultInference(n_cpus=4)\n",
    "dds = DeseqDataSet(\n",
    "    counts=current_count_df,\n",
    "    metadata=current_metadata_df,\n",
    "    design_factors=\"condition\",\n",
    "    refit_cooks=True,\n",
    "    inference=inference,\n",
    ")\n",
    "\n",
    "dds.deseq2()"
   ]
  },
  {
   "cell_type": "code",
   "execution_count": 129,
   "metadata": {},
   "outputs": [],
   "source": [
    "%%capture output\n",
    "\n",
    "result_list = []\n",
    "for condition in current_metadata_df[\"condition\"].unique()[1:]:\n",
    "    stat_res = DeseqStats(dds, inference=inference, contrast=[\"condition\", condition, \"A\"])\n",
    "    stat_res.summary()\n",
    "    result_list.append(stat_res.results_df)"
   ]
  },
  {
   "cell_type": "code",
   "execution_count": 130,
   "metadata": {},
   "outputs": [],
   "source": [
    "cell_line_df = current_metadata_df.copy()\n",
    "cell_line_df[\"cell_line\"] = cell_line_df.index\n",
    "cell_line_df[\"cell_line\"] = cell_line_df[\"cell_line\"].apply(lambda x: f\"{x.split(\"_\")[0]}_{x.split('_')[1]}\")\n",
    "cell_line_df.set_index(\"condition\", inplace=True)\n",
    "# drop duplicate entries in the index of current_metadata_df\n",
    "cell_line_df = cell_line_df[~cell_line_df.index.duplicated(keep=\"first\")]"
   ]
  },
  {
   "cell_type": "code",
   "execution_count": 131,
   "metadata": {},
   "outputs": [],
   "source": [
    "# add the cell line name to each column in result_list\n",
    "for i, condition in enumerate(current_metadata_df[\"condition\"].unique()[1:]):\n",
    "    results_df = result_list[i]\n",
    "    results_df.columns = [f\"{cell_line_df.loc[condition, 'cell_line']}_{col}\" for col in results_df.columns]\n",
    "    result_list[i] = results_df "
   ]
  },
  {
   "cell_type": "code",
   "execution_count": 132,
   "metadata": {},
   "outputs": [],
   "source": [
    "# concatenate all dataframes in result_list\n",
    "results_df_3UTR = pd.concat(result_list, axis=1)"
   ]
  },
  {
   "cell_type": "markdown",
   "metadata": {},
   "source": [
    "## concatenate counts and inferred stabilities"
   ]
  },
  {
   "cell_type": "code",
   "execution_count": 135,
   "metadata": {},
   "outputs": [],
   "source": [
    "# transpose counts_3utr_df \n",
    "counts_3utr_df = counts_3utr_df.transpose()\n",
    "# add count_ to each column in counts_3utr_df\n",
    "counts_3utr_df.columns = [f\"count_{col}\" for col in counts_3utr_df.columns]\n",
    "# concatenate this with the counts dataframe\n",
    "output_df = pd.concat([counts_3utr_df, results_df_3UTR], axis=1)\n",
    "# save to csv\n",
    "output_df.to_csv(os.path.join(output_dir, \"library2_log2fc_with_UMIs.csv\"))"
   ]
  }
 ],
 "metadata": {
  "kernelspec": {
   "display_name": "Bio",
   "language": "python",
   "name": "python3"
  },
  "language_info": {
   "codemirror_mode": {
    "name": "ipython",
    "version": 3
   },
   "file_extension": ".py",
   "mimetype": "text/x-python",
   "name": "python",
   "nbconvert_exporter": "python",
   "pygments_lexer": "ipython3",
   "version": "3.12.0"
  }
 },
 "nbformat": 4,
 "nbformat_minor": 2
}
