{
 "cells": [
  {
   "cell_type": "code",
   "execution_count": 8,
   "metadata": {},
   "outputs": [],
   "source": [
    "import pandas as pd\n",
    "import difflib\n",
    "import matplotlib.pyplot as plt\n",
    "import os\n",
    "import numpy as np\n",
    "\n",
    "# set the font size\n",
    "plt.rcParams.update({'font.size': 7})\n",
    "# set Helvetica globally\n",
    "plt.rcParams['font.family'] = 'Helvetica'\n",
    "\n",
    "cell_lines_subset = [\"HEK293T\", \"HeLa\", \"SKNSH\", \"MCF7\", \"HUH7\", \"A549\"]\n",
    "cell_lines_rest = [\"HaCaT\", \"JEG3\", \"Tera1\", \"PC3\"]\n",
    "cell_lines_additional = [\"K562\"]\n",
    "cell_lines_measured = cell_lines_subset + cell_lines_rest + cell_lines_additional"
   ]
  },
  {
   "cell_type": "code",
   "execution_count": 9,
   "metadata": {},
   "outputs": [],
   "source": [
    "df = pd.read_csv('../microrna_data/mRNA_data/rna_cellline.tsv', sep='\\t')"
   ]
  },
  {
   "cell_type": "code",
   "execution_count": 11,
   "metadata": {},
   "outputs": [],
   "source": [
    "cell_lines_data = df['Cell line'].unique()"
   ]
  },
  {
   "cell_type": "code",
   "execution_count": 12,
   "metadata": {},
   "outputs": [],
   "source": [
    "# Convert all entries to lowercase to ensure case-insensitivity\n",
    "cell_lines_data = [line.upper() for line in cell_lines_data]\n",
    "cell_lines_measured = [line.upper() for line in cell_lines_measured]"
   ]
  },
  {
   "cell_type": "code",
   "execution_count": 13,
   "metadata": {},
   "outputs": [],
   "source": [
    "matches = {data_line: difflib.get_close_matches(data_line, cell_lines_data, n=2, cutoff=0.8)[0]\n",
    "           if difflib.get_close_matches(data_line, cell_lines_data, n=2, cutoff=0.8)\n",
    "           else None for data_line in cell_lines_measured}"
   ]
  },
  {
   "cell_type": "code",
   "execution_count": 14,
   "metadata": {},
   "outputs": [],
   "source": [
    "# 'invert' matches for renaming purposes\n",
    "matches_invert = {v: k for k, v in matches.items()}"
   ]
  },
  {
   "cell_type": "code",
   "execution_count": 15,
   "metadata": {},
   "outputs": [],
   "source": [
    "# make the cell line name upper\n",
    "df['Cell line'] = df['Cell line'].apply(lambda x: x.upper())\n",
    "\n",
    "# remove the cell lines that are not in the list\n",
    "df = df[df['Cell line'].isin(matches.values())]"
   ]
  },
  {
   "cell_type": "code",
   "execution_count": 16,
   "metadata": {},
   "outputs": [],
   "source": [
    "# rename the cell ines according to matches\n",
    "df = df.replace({'Cell line': matches_invert})\n",
    "df.index = df['Cell line']"
   ]
  },
  {
   "cell_type": "code",
   "execution_count": 17,
   "metadata": {},
   "outputs": [],
   "source": [
    "# get the AGO2 expression\n",
    "ago1 = df[df['Gene name'] == 'AGO1']\n",
    "ago2 = df[df['Gene name'] == 'AGO2']\n",
    "ago3 = df[df['Gene name'] == 'AGO3']\n",
    "ago4 = df[df['Gene name'] == 'AGO4']\n",
    "snd1 = df[df['Gene name'] == 'SND1']\n",
    "fmr1 = df[df['Gene name'] == 'FMR1']"
   ]
  },
  {
   "cell_type": "code",
   "execution_count": 18,
   "metadata": {},
   "outputs": [],
   "source": [
    "component_dfs = [ago1, ago2, ago3, ago4, snd1, fmr1]"
   ]
  },
  {
   "cell_type": "markdown",
   "metadata": {},
   "source": [
    "# Ago2 expression"
   ]
  },
  {
   "cell_type": "code",
   "execution_count": 19,
   "metadata": {},
   "outputs": [],
   "source": [
    "import pickle\n",
    "\n",
    "with open('../outputs/3_fitting/combined_dataset/combined_dataset_scale_dict_wo_crosstalk.pkl', 'rb') as f:\n",
    "    scale_dict = pickle.load(f)\n",
    "    \n",
    "scale_dict = {k.upper(): 10**v for k, v in scale_dict.items()}\n",
    "scale_df = pd.DataFrame.from_dict(scale_dict, orient='index', columns=['scale'])"
   ]
  },
  {
   "cell_type": "code",
   "execution_count": 20,
   "metadata": {},
   "outputs": [],
   "source": [
    "# make the plot folder\n",
    "plot_folder = '../plots/13_guess_scale_factor/'\n",
    "if not os.path.exists(plot_folder):\n",
    "    os.makedirs(plot_folder)"
   ]
  },
  {
   "cell_type": "code",
   "execution_count": null,
   "metadata": {},
   "outputs": [],
   "source": [
    "# calculate the Pearson r2\n",
    "import numpy as np\n",
    "from scipy.stats import pearsonr\n",
    "\n",
    "# plot scale dict versus ago2 expression\n",
    "plt.figure(figsize=(2.4, 2))\n",
    "curr_df = ago1\n",
    "cell_lines_present = curr_df.index.intersection(scale_df.index)\n",
    "plt.scatter(curr_df.loc[cell_lines_present, 'nTPM'], scale_df.loc[cell_lines_present, 'scale'])\n",
    "\n",
    "# label the individual points\n",
    "for i, txt in enumerate(cell_lines_present):\n",
    "    plt.annotate(txt, (curr_df.loc[txt, 'nTPM']+0.5, scale_df.loc[txt, 'scale']-0.035))\n",
    "\n",
    "# plt.legend(loc=[4, 1.75])\n",
    "r = np.corrcoef(curr_df.loc[cell_lines_present, 'nTPM'], scale_df.loc[cell_lines_present, 'scale'])[0, 1]\n",
    "plt.title(f'AGO1 expression, r = {r:.2f}', fontsize=8)\n",
    "plt.xlabel('expression (nTPM)')\n",
    "plt.ylabel('fitted scaling factor')\n",
    "plt.xlim(3, 20)\n",
    "plt.ylim(0.4, 2.2)\n",
    "plt.tight_layout()\n",
    "for format in ['.svg', '.png']:\n",
    "    plt.savefig(plot_folder + 'AGO1_expression_vs_scale_factor' + format, dpi=300)"
   ]
  },
  {
   "cell_type": "code",
   "execution_count": null,
   "metadata": {},
   "outputs": [],
   "source": [
    "# plot scale dict versus ago2 expression\n",
    "plt.figure(figsize=(2.4, 2))\n",
    "curr_df = ago2\n",
    "cell_lines_present = curr_df.index.intersection(scale_df.index)\n",
    "plt.scatter(curr_df.loc[cell_lines_present, 'nTPM'], scale_df.loc[cell_lines_present, 'scale'])\n",
    "\n",
    "# label the individual points\n",
    "for i, txt in enumerate(cell_lines_present):\n",
    "    plt.annotate(txt, (curr_df.loc[txt, 'nTPM']+0.5, scale_df.loc[txt, 'scale']-0.045))\n",
    "\n",
    "# plt.legend(loc=[4, 1.75])\n",
    "r = np.corrcoef(curr_df.loc[cell_lines_present, 'nTPM'], scale_df.loc[cell_lines_present, 'scale'])[0, 1]\n",
    "# plt.text(10, 1.75, f'r = {r:.2f}', fontsize=7)\n",
    "plt.title(f'AGO2 expression, r = {r:.2f}', fontsize=8)\n",
    "plt.xlabel('expression (nTPM)')\n",
    "plt.ylabel('fitted scaling factor')\n",
    "plt.xlim(8, 28)\n",
    "plt.ylim(0.4, 2.2)\n",
    "plt.tight_layout()\n",
    "for format in ['.svg', '.png']:\n",
    "    plt.savefig(plot_folder + 'AGO2_expression_vs_scale_factor' + format, dpi=300)"
   ]
  },
  {
   "cell_type": "code",
   "execution_count": null,
   "metadata": {},
   "outputs": [],
   "source": [
    "curr_df"
   ]
  },
  {
   "cell_type": "markdown",
   "metadata": {},
   "source": [
    "# Look at context stability"
   ]
  },
  {
   "cell_type": "code",
   "execution_count": 76,
   "metadata": {},
   "outputs": [],
   "source": [
    "relative_stability = pd.read_csv(\"../outputs/6_context_impact/relative_context_stability.csv\", index_col=0).astype(float)\n",
    "# rename the column 0 to \"scale\"\n",
    "relative_stability.columns = [\"scale\"]\n",
    "\n",
    "context_scaling_df = relative_stability\n",
    "context_scaling_df = 1/10**context_scaling_df\n",
    "context_scaling_df.index = context_scaling_df.index.str.upper()"
   ]
  },
  {
   "cell_type": "code",
   "execution_count": null,
   "metadata": {},
   "outputs": [],
   "source": [
    "plt.figure(figsize=(2.4, 2))\n",
    "\n",
    "plt.scatter(context_scaling_df.loc[cell_lines_present], scale_df.loc[cell_lines_present])\n",
    "r = pearsonr(context_scaling_df.loc[cell_lines_present].values.flatten(), scale_df.loc[cell_lines_present].values.flatten())[0]\n",
    "rmsd = np.sqrt(np.mean((context_scaling_df.loc[cell_lines_present].values.flatten() - scale_df.loc[cell_lines_present].values.flatten())**2))\n",
    "plt.plot([0, 2], [0, 2], 'k--')\n",
    "\n",
    "# label each data point\n",
    "for i, txt in enumerate(cell_lines_present):\n",
    "    plt.annotate(txt, (context_scaling_df.loc[txt]+0.08, scale_df.loc[txt, 'scale']-0.05))\n",
    "\n",
    "# plt.xlim(0, 1.5)\n",
    "plt.title(f'r = {r:.2f}', fontsize=8)\n",
    "plt.xlabel('1/mean(context stabilities)')\n",
    "plt.ylabel('fitted scaling factor')\n",
    "plt.tight_layout()\n",
    "for format in ['.svg', '.png']:\n",
    "    plt.savefig(plot_folder + 'context_stability_vs_scale_factor' + format, dpi=300)"
   ]
  },
  {
   "cell_type": "markdown",
   "metadata": {},
   "source": [
    "# Combine the two to guess the scale factor"
   ]
  },
  {
   "cell_type": "code",
   "execution_count": null,
   "metadata": {},
   "outputs": [],
   "source": [
    "# normalize ago2 to the HEK293 expression\n",
    "ago2['nTPM'] = ago2['nTPM'] / ago2.loc['HEK293T', 'nTPM']\n",
    "ago1['nTPM'] = ago1['nTPM'] / ago1.loc['HEK293T', 'nTPM']"
   ]
  },
  {
   "cell_type": "code",
   "execution_count": 83,
   "metadata": {},
   "outputs": [],
   "source": [
    "combined_stability = ago2.loc[cell_lines_present, \"nTPM\"].values*(context_scaling_df.loc[cell_lines_present, \"scale\"].values)"
   ]
  },
  {
   "cell_type": "code",
   "execution_count": null,
   "metadata": {},
   "outputs": [],
   "source": [
    "plt.figure(figsize=(2.4, 2))\n",
    "\n",
    "plt.scatter(combined_stability, scale_df.loc[cell_lines_present])\n",
    "r = pearsonr(combined_stability, scale_df.loc[cell_lines_present].values.flatten())[0]\n",
    "rmsd = np.sqrt(np.mean((combined_stability - scale_df.loc[cell_lines_present].values.flatten())**2))\n",
    "plt.plot([0, 2], [0, 2], 'k--')\n",
    "\n",
    "# label each data point\n",
    "for i, txt in enumerate(cell_lines_present):\n",
    "    plt.annotate(txt, (combined_stability[i]+0.08, scale_df.loc[txt, 'scale']-0.05))\n",
    "\n",
    "# plt.xlim(0, 1.5)\n",
    "plt.title(f'scaling factor = rel. Ago2 expression / mean(context stabilities)\\nr = {r:.2f}', fontsize=7)\n",
    "plt.xlabel('calculated scaling factor')\n",
    "plt.ylabel('fitted scaling factor')\n",
    "plt.tight_layout()\n",
    "for format in ['.svg', '.png']:\n",
    "    plt.savefig(plot_folder + 'combined_stability_vs_scale_factor' + format, dpi=300)"
   ]
  }
 ],
 "metadata": {
  "kernelspec": {
   "display_name": "bio",
   "language": "python",
   "name": "python3"
  },
  "language_info": {
   "codemirror_mode": {
    "name": "ipython",
    "version": 3
   },
   "file_extension": ".py",
   "mimetype": "text/x-python",
   "name": "python",
   "nbconvert_exporter": "python",
   "pygments_lexer": "ipython3",
   "version": "3.10.13"
  }
 },
 "nbformat": 4,
 "nbformat_minor": 2
}
