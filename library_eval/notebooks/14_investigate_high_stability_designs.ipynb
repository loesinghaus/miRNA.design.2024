{
 "cells": [
  {
   "cell_type": "code",
   "execution_count": 1,
   "metadata": {},
   "outputs": [],
   "source": [
    "import pandas as pd\n",
    "import os\n",
    "import matplotlib.pyplot as plt\n",
    "import numpy as np\n",
    "from library2_utils.color_scheme import cell_line_colors, cell_line_symbols\n",
    "import pickle\n",
    "\n",
    "# set the font size\n",
    "plt.rcParams.update({'font.size': 7})\n",
    "# set Helvetica globally\n",
    "plt.rcParams['font.family'] = 'Helvetica'\n",
    "\n",
    "cell_lines_subset = [\"HEK293T\", \"HeLa\", \"SKNSH\", \"MCF7\", \"HUH7\", \"A549\"]\n",
    "cell_lines_rest = [\"HaCaT\", \"JEG3\", \"Tera1\", \"PC3\"]\n",
    "cell_lines_measured = cell_lines_subset + cell_lines_rest\n",
    "cell_lines_UTR = [cell_line + \"_3UTR\" for cell_line in cell_lines_measured]\n",
    "\n",
    "plot_folder = \"../plots/14_high_stability\"\n",
    "# create the folder if it doesn't exist\n",
    "if not os.path.exists(plot_folder):\n",
    "    os.makedirs(plot_folder)\n",
    "    \n",
    "output_folder = \"../outputs/14_high_stability\"\n",
    "# create the folder if it doesn't exist\n",
    "if not os.path.exists(output_folder):\n",
    "    os.makedirs(output_folder)\n",
    "    \n",
    "# get mirbase\n",
    "mirbase = pd.read_csv(\"../microrna_data/mirbase_extended.csv\", index_col=0)"
   ]
  },
  {
   "cell_type": "code",
   "execution_count": 2,
   "metadata": {},
   "outputs": [],
   "source": [
    "data_dir_input = \"../measured_data/2_normalized_log10\"\n",
    "\n",
    "# get the name of all files in \"reference\" folder\n",
    "reference_files = os.listdir(data_dir_input)\n",
    "\n",
    "# read them into a dictionary\n",
    "reference_dict = {}\n",
    "for reference_file in reference_files:\n",
    "    if reference_file.endswith(\".csv\"):\n",
    "        reference_dict[reference_file.split('.')[0]] = pd.read_csv(os.path.join(data_dir_input, reference_file), index_col=0)\n",
    "        \n",
    "used_mirna_data = pd.read_csv(\"../microrna_data/3_output/Alles_Keller_combined_expression_with_crosstalk.csv\", index_col=0)\n",
    "# remove \"hsa-miR-3613-3p\" if present\n",
    "if \"hsa-miR-3613-3p\" in used_mirna_data.index:\n",
    "    df_merge = used_mirna_data.drop(\"hsa-miR-3613-3p\", axis=0)\n",
    "    \n",
    "# get all dfs that contain \"single\" in their key\n",
    "single_dfs = {key: reference_dict[key].copy() for key in reference_dict.keys() if \"single\" in key or \"repeat\" in key}\n",
    "\n",
    "for key, df in single_dfs.items():\n",
    "    df.set_index(\"miRNA1\", inplace=True)\n",
    "    # remove all columns that are not 3UTR\n",
    "    df = df.filter(regex='(3UTR)').copy()\n",
    "\n",
    "    # get the current list of cell lines:\n",
    "    cell_lines = [column.split(\"_\")[0] for column in df.columns]\n",
    "\n",
    "    # drop NaN values\n",
    "    df.dropna(inplace=True)\n",
    "\n",
    "    single_dfs[key] = df\n",
    "\n",
    "repeat_names = [key for key in reference_dict.keys() if \"full_repeat\" in key or \"1_mirna\" in key]\n",
    "repeat_mirnas = reference_dict[\"6_miRNA_full_repeat_x2\"][\"miRNA1\"].values"
   ]
  },
  {
   "cell_type": "code",
   "execution_count": 3,
   "metadata": {},
   "outputs": [],
   "source": [
    "combination_dfs = {key: reference_dict[key].copy() for key in reference_dict.keys() if \"full_combination\" in key or \"AND\" in key}\n",
    "combination_dfs_flat = pd.concat([combination_dfs[key] for key in combination_dfs.keys()], axis=0)"
   ]
  },
  {
   "cell_type": "code",
   "execution_count": 5,
   "metadata": {},
   "outputs": [],
   "source": [
    "high_stability = pd.read_csv('../measured_data/2_normalized_log10/high_stability/high_stability.csv', index_col=0)\n",
    "mirna_columns = high_stability.columns[high_stability.columns.str.contains('miRNA')]"
   ]
  },
  {
   "cell_type": "markdown",
   "metadata": {},
   "source": [
    "## Full repeats"
   ]
  },
  {
   "cell_type": "code",
   "execution_count": 6,
   "metadata": {},
   "outputs": [],
   "source": [
    "current_plot_folder = os.path.join(plot_folder, \"repeats\")\n",
    "# create the folder if it doesn't exist\n",
    "if not os.path.exists(current_plot_folder):\n",
    "    os.makedirs(current_plot_folder)\n",
    "    \n",
    "input_folder = \"../outputs/7a_additive_full\"\n",
    "with open(os.path.join(input_folder, \"7_repeats_by_cell_line_full.pkl\"), \"rb\") as f:\n",
    "    repeats_by_cell_line = pickle.load(f)"
   ]
  },
  {
   "cell_type": "code",
   "execution_count": 7,
   "metadata": {},
   "outputs": [],
   "source": [
    "# get all indices that contain \"repeat_x6\"\n",
    "repeat_x6 = high_stability.index.str.contains('full_repeat_x6')\n",
    "high_x6 = high_stability[repeat_x6]\n",
    "unique_mirnas_x6 = high_x6[mirna_columns].unstack().dropna().unique()\n",
    "\n",
    "# get all indices that contain \"repeat_x5\"\n",
    "repeat_x5 = high_stability.index.str.contains('full_repeat_x5')\n",
    "high_x5 = high_stability[repeat_x5]\n",
    "unique_mirnas_x5 = high_x5[mirna_columns].unstack().dropna().unique()\n",
    "\n",
    "# get all indices that contain \"repeat_x4\"\n",
    "repeat_x4 = high_stability.index.str.contains('full_repeat_x4')\n",
    "high_x4 = high_stability[repeat_x4]\n",
    "unique_mirnas_x4 = high_x4[mirna_columns].unstack().dropna().unique()\n",
    "\n",
    "# get all indices that contain \"repeat_x3\"\n",
    "repeat_x3 = high_stability.index.str.contains('full_repeat_x3')\n",
    "high_x3 = high_stability[repeat_x3]\n",
    "unique_mirnas_x3 = high_x3[mirna_columns].unstack().dropna().unique()\n",
    "\n",
    "# get all indices that contain \"repeat_x2\"\n",
    "repeat_x2 = high_stability.index.str.contains('full_repeat_x2')\n",
    "high_x2 = high_stability[repeat_x2]\n",
    "unique_mirnas_x2 = high_x2[mirna_columns].unstack().dropna().unique()\n",
    "\n",
    "# get all indices that contain \"1_\"\n",
    "repeat_x1 = high_stability.index.str.contains('1_mirna_full_single_high_conf')\n",
    "high_x1 = high_stability[repeat_x1]\n",
    "high_x1 = high_x1[high_x1['miRNA1'].isin(repeat_mirnas)]\n",
    "unique_mirnas_x1 = high_x1[mirna_columns].unstack().dropna().unique()"
   ]
  },
  {
   "cell_type": "code",
   "execution_count": null,
   "metadata": {},
   "outputs": [],
   "source": [
    "plt.figure(figsize=(2, 1.4))\n",
    "total_stable_mirnas = {\n",
    "    \"x1\": len(unique_mirnas_x1),\n",
    "    \"x2\": len(unique_mirnas_x2),\n",
    "    \"x3\": len(unique_mirnas_x3),\n",
    "    \"x4\": len(unique_mirnas_x4),\n",
    "    \"x5\": len(unique_mirnas_x5),\n",
    "    \"x6\": len(unique_mirnas_x6)\n",
    "}\n",
    "plt.bar(total_stable_mirnas.keys(), total_stable_mirnas.values(), color=\"skyblue\")\n",
    "plt.xlabel(\"repeats\")\n",
    "plt.ylabel(\"highly stable constructs\")\n",
    "plt.savefig(os.path.join(current_plot_folder, \"total_stable_mirnas.svg\"), dpi=300, bbox_inches='tight')"
   ]
  },
  {
   "cell_type": "code",
   "execution_count": 9,
   "metadata": {},
   "outputs": [],
   "source": [
    "unique_mirnas_x3_plot = [\"-\".join(mirna.split(\"-\")[2:]) for mirna in unique_mirnas_x3]\n",
    "unique_mirnas_x4_plot = [\"-\".join(mirna.split(\"-\")[2:]) for mirna in unique_mirnas_x4]\n",
    "unique_mirnas_x5_plot = [\"-\".join(mirna.split(\"-\")[2:]) for mirna in unique_mirnas_x5]\n",
    "unique_mirnas_x6_plot = [\"-\".join(mirna.split(\"-\")[2:]) for mirna in unique_mirnas_x6]\n",
    "\n",
    "# remove all x3 mirnas that are also in x4\n",
    "unique_mirnas_x4_plot = [mirna for mirna in unique_mirnas_x4_plot if mirna not in unique_mirnas_x3_plot]\n",
    "# remove all x5 mirnas that are in either x3 or x4\n",
    "unique_mirnas_x5_plot = [mirna for mirna in unique_mirnas_x5_plot if mirna not in unique_mirnas_x3_plot and mirna not in unique_mirnas_x4_plot]\n",
    "# remove all x6 mirnas that are in either x3, x4 or x5\n",
    "unique_mirnas_x6_plot = [mirna for mirna in unique_mirnas_x6_plot if mirna not in unique_mirnas_x3_plot and mirna not in unique_mirnas_x4_plot and mirna not in unique_mirnas_x5_plot]"
   ]
  },
  {
   "cell_type": "code",
   "execution_count": null,
   "metadata": {},
   "outputs": [],
   "source": [
    "plt.figure(figsize=(2, 1.4))\n",
    "\n",
    "center = 0.5\n",
    "for i, mirna in enumerate(unique_mirnas_x3_plot):\n",
    "    plt.text(0, i*0.2, mirna, fontsize=7)\n",
    "for i, mirna in enumerate(unique_mirnas_x4_plot):\n",
    "    plt.text(0.5, i*0.2, mirna, fontsize=7)\n",
    "for i, mirna in enumerate(unique_mirnas_x5_plot):\n",
    "    plt.text(1, i*0.2, mirna, fontsize=7)\n",
    "for i, mirna in enumerate(unique_mirnas_x6_plot):\n",
    "    plt.text(1.5, i*0.2, mirna, fontsize=7)\n",
    "\n",
    "# delete the axes\n",
    "plt.axis('off')\n",
    "plt.savefig(os.path.join(current_plot_folder, \"unique_repeat_mirnas.svg\"), bbox_inches='tight', dpi=300)"
   ]
  },
  {
   "cell_type": "code",
   "execution_count": 12,
   "metadata": {},
   "outputs": [],
   "source": [
    "repeat_by_cell_line_high = {}\n",
    "\n",
    "for cell_line in cell_lines_measured:\n",
    "    repeat_df = pd.DataFrame(index=unique_mirnas_x6, columns=[\"x1\", \"x2\", \"x3\", \"x4\", \"x5\", \"x6\"])\n",
    "    repeat_df[\"x1\"] = 10**single_dfs[\"1_mirna_full_single_high_conf\"].loc[unique_mirnas_x6, cell_line + \"_3UTR\"]\n",
    "    repeat_df[\"x2\"] = 10**single_dfs[\"6_miRNA_full_repeat_x2\"].loc[unique_mirnas_x6, cell_line + \"_3UTR\"]\n",
    "    repeat_df[\"x3\"] = 10**single_dfs[\"7_miRNA_full_repeat_x3\"].loc[unique_mirnas_x6, cell_line + \"_3UTR\"]\n",
    "    repeat_df[\"x4\"] = 10**single_dfs[\"8_miRNA_full_repeat_x4\"].loc[unique_mirnas_x6, cell_line + \"_3UTR\"]\n",
    "    repeat_df[\"x5\"] = 10**single_dfs[\"9_miRNA_full_repeat_x5\"].loc[unique_mirnas_x6, cell_line + \"_3UTR\"]\n",
    "    repeat_df[\"x6\"] = 10**single_dfs[\"10_miRNA_full_repeat_x6\"].loc[unique_mirnas_x6, cell_line + \"_3UTR\"]\n",
    "    repeat_by_cell_line_high[cell_line] = repeat_df\n",
    "    \n",
    "expression_df_by_cell_line = {}\n",
    "for cell_line in cell_lines_measured:\n",
    "    expression_df = pd.DataFrame(index=used_mirna_data.index, columns=[\"x1\", \"x2\", \"x3\", \"x4\", \"x5\", \"x6\"])\n",
    "    for i in range(1, 7):\n",
    "        expression_df[f\"x{i}\"] = np.log10(i* 10 ** used_mirna_data[cell_line])\n",
    "    expression_df_by_cell_line[cell_line] = expression_df"
   ]
  },
  {
   "cell_type": "code",
   "execution_count": 17,
   "metadata": {},
   "outputs": [],
   "source": [
    "for mirna in unique_mirnas_x6:\n",
    "    plt.figure(figsize=(2, 1.1))\n",
    "    for i, cell_line in enumerate(cell_lines_measured):\n",
    "        plt.plot(expression_df_by_cell_line[cell_line].loc[mirna], repeat_by_cell_line_high[cell_line].loc[mirna],\n",
    "                 label=cell_line, color=cell_line_colors[cell_line])\n",
    "    plt.xlim(1, 5)\n",
    "    plt.ylim(0, 4.2)\n",
    "    plt.xlabel(r\"log$_{10}$(repeats x miRNA expression)\")\n",
    "    plt.ylabel(\"stability\")\n",
    "    # plt.tight_layout()\n",
    "    plt.title(mirna, fontsize=8)\n",
    "    plt.tight_layout()\n",
    "    plt.legend(loc=[1.05, -0.05], fontsize=6, ncols=1)\n",
    "    for format in [\"png\", \"svg\"]:\n",
    "        plt.savefig(f\"{current_plot_folder}/{mirna}.{format}\", dpi=300)\n",
    "    plt.close()"
   ]
  },
  {
   "cell_type": "code",
   "execution_count": null,
   "metadata": {},
   "outputs": [],
   "source": [
    "# which percentage of microRNAs is in the next higher repeat?\n",
    "print(f\"percentage of x3 in x4: {100*len([mirna for mirna in unique_mirnas_x3 if mirna in unique_mirnas_x4])/len(unique_mirnas_x3)}\")\n",
    "print(f\"percentage of x4 in x5: {100*len([mirna for mirna in unique_mirnas_x4 if mirna in unique_mirnas_x5])/len(unique_mirnas_x4)}\")\n",
    "print(f\"percentage of x5 in x6: {100*len([mirna for mirna in unique_mirnas_x5 if mirna in unique_mirnas_x6])/len(unique_mirnas_x5)}\")"
   ]
  },
  {
   "cell_type": "markdown",
   "metadata": {},
   "source": [
    "# Target combinations"
   ]
  },
  {
   "cell_type": "code",
   "execution_count": 21,
   "metadata": {},
   "outputs": [],
   "source": [
    "high_stability_non_repeat = high_stability[~high_stability.index.str.contains(\"repeat\")].copy()\n",
    "high_stability_non_repeat = high_stability_non_repeat[high_stability_non_repeat.index.str.contains(\"full\")]\n",
    "high_stability_non_repeat = high_stability_non_repeat[~high_stability_non_repeat.index.str.contains(\"single\")]"
   ]
  },
  {
   "cell_type": "code",
   "execution_count": 22,
   "metadata": {},
   "outputs": [],
   "source": [
    "high_stability_non_repeat_4 = high_stability_non_repeat[high_stability_non_repeat.index.str.contains(\"x4\") | high_stability_non_repeat.index.str.contains(\"AND4\")]\n",
    "high_stability_non_repeat_5 = high_stability_non_repeat[high_stability_non_repeat.index.str.contains(\"x5\") | high_stability_non_repeat.index.str.contains(\"AND5\")]\n",
    "high_stability_non_repeat_6 = high_stability_non_repeat[high_stability_non_repeat.index.str.contains(\"x6\") | high_stability_non_repeat.index.str.contains(\"AND6\")]\n",
    "\n",
    "all_4 = combination_dfs_flat[combination_dfs_flat.index.str.contains(\"x4\") | combination_dfs_flat.index.str.contains(\"AND4\")]\n",
    "all_5 = combination_dfs_flat[combination_dfs_flat.index.str.contains(\"x5\") | combination_dfs_flat.index.str.contains(\"AND5\")]\n",
    "all_6 = combination_dfs_flat[combination_dfs_flat.index.str.contains(\"x6\") | combination_dfs_flat.index.str.contains(\"AND6\")]\n",
    "\n",
    "fraction_4 = 100 * len(high_stability_non_repeat_4) / len(all_4)\n",
    "fraction_5 = 100 * len(high_stability_non_repeat_5) / len(all_5)\n",
    "fraction_6 = 100 * len(high_stability_non_repeat_6) / len(all_6)"
   ]
  },
  {
   "cell_type": "code",
   "execution_count": null,
   "metadata": {},
   "outputs": [],
   "source": [
    "fractions_comb = {\"4\": fraction_4, \"5\": fraction_5, \"6\": fraction_6}\n",
    "plt.figure(figsize=(1.4, 1.4))\n",
    "plt.bar(fractions_comb.keys(), fractions_comb.values(), color=\"skyblue\")\n",
    "plt.xlabel(\"miRNA sites\")\n",
    "plt.ylabel(\"constructs with high stability (%)\")\n",
    "plt.tight_layout()\n",
    "plt.savefig(os.path.join(current_plot_folder, \"fractions_combination.svg\"), dpi=300)"
   ]
  },
  {
   "cell_type": "code",
   "execution_count": 38,
   "metadata": {},
   "outputs": [],
   "source": [
    "intersection_suspicious = set(unique_mirnas_x6).intersection(set(unique_mirnas_x5)).intersection(set(unique_mirnas_x4))  "
   ]
  },
  {
   "cell_type": "code",
   "execution_count": 39,
   "metadata": {},
   "outputs": [],
   "source": [
    "for index, design in high_stability_non_repeat.iterrows():\n",
    "    mirnas = design[mirna_columns].dropna()\n",
    "    if any([mirna in intersection_suspicious for mirna in mirnas]):\n",
    "        high_stability_non_repeat.loc[index, \"in_x6\"] = True\n",
    "        \n",
    "        # get the mirna that is in x6\n",
    "        # mirna = [mirna for mirna in mirnas if mirna in unique_mirnas_x6][0]\n",
    "        # print(index, mirna)\n",
    "    else:\n",
    "        high_stability_non_repeat.loc[index, \"in_x6\"] = False"
   ]
  },
  {
   "cell_type": "code",
   "execution_count": null,
   "metadata": {},
   "outputs": [],
   "source": [
    "high_stability_non_repeat_true = high_stability_non_repeat[high_stability_non_repeat[\"in_x6\"]].copy()\n",
    "high_stability_non_repeat_false = high_stability_non_repeat[high_stability_non_repeat[\"in_x6\"] == False].copy()\n",
    "\n",
    "high_fraction_true = 100 * len(high_stability_non_repeat_true) / len(high_stability_non_repeat)\n",
    "high_fraction_false = 100 * len(high_stability_non_repeat_false) / len(high_stability_non_repeat)\n",
    "\n",
    "# print them\n",
    "print(f\"high fraction true: {high_fraction_true}\")\n",
    "print(f\"high fraction false: {high_fraction_false}\")"
   ]
  },
  {
   "cell_type": "code",
   "execution_count": 41,
   "metadata": {},
   "outputs": [],
   "source": [
    "for index, design in combination_dfs_flat.iterrows():\n",
    "    mirnas = design[mirna_columns].dropna()\n",
    "    if any([mirna in intersection_suspicious for mirna in mirnas]):\n",
    "        combination_dfs_flat.loc[index, \"in_x6\"] = True\n",
    "    else:\n",
    "        combination_dfs_flat.loc[index, \"in_x6\"] = False"
   ]
  },
  {
   "cell_type": "code",
   "execution_count": null,
   "metadata": {},
   "outputs": [],
   "source": [
    "all_true = combination_dfs_flat[combination_dfs_flat[\"in_x6\"]].copy()\n",
    "all_false = combination_dfs_flat[combination_dfs_flat[\"in_x6\"] == False].copy()\n",
    "\n",
    "all_fraction_true = 100 * len(all_true) / len(combination_dfs_flat)\n",
    "all_fraction_false = 100 * len(all_false) / len(combination_dfs_flat)\n",
    "\n",
    "# print them\n",
    "print(f\"all fraction true: {all_fraction_true}\")\n",
    "print(f\"all fraction false: {all_fraction_false}\")"
   ]
  },
  {
   "cell_type": "code",
   "execution_count": null,
   "metadata": {},
   "outputs": [],
   "source": [
    "# create a barplot\n",
    "plt.figure(figsize=(1.4, 1.6))\n",
    "plt.bar([\"all\", \"high stability\"], [all_fraction_true, high_fraction_true], color=\"skyblue\")\n",
    "plt.ylabel(\"fraction containing highly\\nstable repeat miRNAs (%)\")\n",
    "plt.xlabel(\"target combination constructs\")\n",
    "plt.tight_layout()\n",
    "plt.savefig(os.path.join(current_plot_folder, \"fractions_all_high.svg\"), dpi=300)\n"
   ]
  }
 ],
 "metadata": {
  "kernelspec": {
   "display_name": "Bio",
   "language": "python",
   "name": "python3"
  },
  "language_info": {
   "codemirror_mode": {
    "name": "ipython",
    "version": 3
   },
   "file_extension": ".py",
   "mimetype": "text/x-python",
   "name": "python",
   "nbconvert_exporter": "python",
   "pygments_lexer": "ipython3",
   "version": "3.8.19"
  }
 },
 "nbformat": 4,
 "nbformat_minor": 2
}
