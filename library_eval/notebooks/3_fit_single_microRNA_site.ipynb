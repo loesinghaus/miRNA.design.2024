{
 "cells": [
  {
   "cell_type": "code",
   "execution_count": 78,
   "metadata": {},
   "outputs": [],
   "source": [
    "import pandas as pd\n",
    "import numpy as np\n",
    "import matplotlib.pyplot as plt\n",
    "import seaborn as sns\n",
    "import scipy.stats as stats\n",
    "import scipy.optimize as opt\n",
    "import os\n",
    "import pickle\n",
    "from library2_utils.color_scheme import cell_line_colors, cell_line_symbols\n",
    "from library2_utils.mirna_levels import normalize_expr_df_to_rpm_with_index\n",
    "\n",
    "# set the font size\n",
    "plt.rcParams.update({'font.size': 7})\n",
    "# set Helvetica globally\n",
    "plt.rcParams['font.family'] = 'Helvetica'\n",
    "\n",
    "cell_lines_subset = [\"HEK293T\", \"HeLa\", \"SKNSH\", \"MCF7\", \"HUH7\", \"A549\"]\n",
    "cell_lines_rest = [\"HaCaT\", \"JEG3\", \"Tera1\", \"PC3\"]\n",
    "cell_lines_measured = cell_lines_subset + cell_lines_rest\n",
    "    \n",
    "mirna_output_folder = \"../microrna_data/3_output\"\n",
    "# create it if it doesn't exist\n",
    "if not os.path.exists(mirna_output_folder):\n",
    "    os.makedirs(mirna_output_folder)"
   ]
  },
  {
   "cell_type": "markdown",
   "metadata": {},
   "source": [
    "### This notebook analyzes the data for a single full target site."
   ]
  },
  {
   "cell_type": "markdown",
   "metadata": {},
   "source": [
    "## Get the stability data"
   ]
  },
  {
   "cell_type": "code",
   "execution_count": 79,
   "metadata": {},
   "outputs": [],
   "source": [
    "data_dir_input = \"../measured_data/2_normalized_log10\"\n",
    "\n",
    "# get the name of all files in \"reference\" folder\n",
    "reference_files = os.listdir(data_dir_input)\n",
    "\n",
    "# read them into a dictionary\n",
    "reference_dict = {}\n",
    "for reference_file in reference_files:\n",
    "    if reference_file.endswith(\".csv\"):\n",
    "        reference_dict[reference_file.split('.')[0]] = pd.read_csv(os.path.join(data_dir_input, reference_file), index_col=0)"
   ]
  },
  {
   "cell_type": "markdown",
   "metadata": {},
   "source": [
    "## Get the expression data"
   ]
  },
  {
   "cell_type": "code",
   "execution_count": 80,
   "metadata": {},
   "outputs": [],
   "source": [
    "# get only the high confidence microRNAs in mirbase\n",
    "mirbase = pd.read_csv(\"../microrna_data/mirbase_extended.csv\", index_col=0)\n",
    "mirbase_high_confidence = mirbase[mirbase[\"confidence\"] == \"high\"]"
   ]
  },
  {
   "cell_type": "code",
   "execution_count": 81,
   "metadata": {},
   "outputs": [],
   "source": [
    "df_alles = pd.read_csv(\"../microrna_data/2_output/Alles2019_conormalized.csv\", index_col=0)\n",
    "df_alles = np.log10(df_alles)\n",
    "\n",
    "df_keller = pd.read_csv('../microrna_data/2_output/Keller2023_conormalized.csv', index_col=0)\n",
    "df_keller = np.log10(df_keller)"
   ]
  },
  {
   "cell_type": "code",
   "execution_count": 82,
   "metadata": {},
   "outputs": [],
   "source": [
    "# get likely real mirnas\n",
    "with open(\"../microrna_data/likely_real_mirnas.pkl\", \"rb\") as f:\n",
    "    likely_real_mirnas = pickle.load(f)"
   ]
  },
  {
   "cell_type": "code",
   "execution_count": 83,
   "metadata": {},
   "outputs": [],
   "source": [
    "# create an unfiltered merge of df_alles and df_keller\n",
    "common_index = df_alles.index.intersection(df_keller.index)\n",
    "common_columns = df_alles.columns.intersection(df_keller.columns)\n",
    "df_merge_unfiltered = (df_alles.loc[common_index, common_columns]+df_keller.loc[common_index, common_columns])/2\n",
    "\n",
    "# normalize\n",
    "df_merge_unfiltered = normalize_expr_df_to_rpm_with_index(df_merge_unfiltered, likely_real_mirnas)\n",
    "\n",
    "# save it to a file\n",
    "df_merge_unfiltered.to_csv(os.path.join(mirna_output_folder, \"Alles_Keller_completely_unfiltered_merge.csv\"))"
   ]
  },
  {
   "cell_type": "code",
   "execution_count": 84,
   "metadata": {},
   "outputs": [],
   "source": [
    "# !! these only exists later after this notebook has been run\n",
    "df_merge = pd.read_csv(\"../microrna_data/3_output/Alles_Keller_combined_expression_with_crosstalk.csv\", index_col=0)\n",
    "df_merge_crosstalk_filter = pd.read_csv(\"../microrna_data/3_output/Alles_Keller_combined_expression_congruent.csv\", index_col=0).dropna()\n",
    "\n",
    "# remove \"hsa-miR-3613-3p\" if present\n",
    "if \"hsa-miR-3613-3p\" in df_merge.index:\n",
    "    df_merge = df_merge.drop(\"hsa-miR-3613-3p\", axis=0)"
   ]
  },
  {
   "cell_type": "code",
   "execution_count": 85,
   "metadata": {},
   "outputs": [],
   "source": [
    "used_mirna_data = df_keller\n",
    "used_mirna_name = \"Keller2023\"\n",
    "\n",
    "plot_folder = f\"../plots/3_fit_microRNA_data/{used_mirna_name}\"\n",
    "output_folder = f\"../outputs/3_fitting/{used_mirna_name}\"\n",
    "\n",
    "# create it if it does not exist\n",
    "if not os.path.exists(plot_folder):\n",
    "    os.makedirs(plot_folder)\n",
    "if not os.path.exists(output_folder):\n",
    "    os.makedirs(output_folder)"
   ]
  },
  {
   "cell_type": "markdown",
   "metadata": {},
   "source": [
    "## Add the expression to the dataframes"
   ]
  },
  {
   "cell_type": "code",
   "execution_count": 86,
   "metadata": {},
   "outputs": [],
   "source": [
    "# get all dfs that contain \"single\" in their key\n",
    "single_dfs = {key: reference_dict[key].copy() for key in reference_dict.keys() if \"single\" in key}\n",
    "\n",
    "for key, df in single_dfs.items():\n",
    "    df.set_index(\"miRNA1\", inplace=True)\n",
    "    # remove all columns that are not 3UTR\n",
    "    df = df.filter(regex='(3UTR)')\n",
    "    \n",
    "    # check which cell lines are in the expression_df\n",
    "    for column in df.columns:\n",
    "        if column.split(\"_\")[0] not in used_mirna_data.columns:\n",
    "           df = df.drop(column, axis=1)\n",
    "\n",
    "    # restrict to microRNAs that are present in the expression_df\n",
    "    df = df.loc[df.index.intersection(used_mirna_data.index)]\n",
    "\n",
    "    # get the current list of cell lines:\n",
    "    cell_lines = [column.split(\"_\")[0] for column in df.columns]\n",
    "    for cell_line in cell_lines:\n",
    "        df.loc[:, f\"{cell_line}_exp\"] = used_mirna_data.loc[df.index, cell_line]\n",
    "\n",
    "    # drop NaN values\n",
    "    df.dropna(inplace=True)\n",
    "\n",
    "    single_dfs[key] = df"
   ]
  },
  {
   "cell_type": "code",
   "execution_count": 87,
   "metadata": {},
   "outputs": [],
   "source": [
    "# Look only at high confidence mirnas OR those in mirgenedb\n",
    "\n",
    "# high confidence\n",
    "measured_single = single_dfs[\"1_mirna_full_single_high_conf\"]\n",
    "# add mirgenedb\n",
    "measured_single = pd.concat([measured_single, single_dfs[\"2_mirna_full_single_low_conf_mirgenedb\"]], axis=0)\n",
    "\n",
    "# split into knockdown and expression\n",
    "# filter to columns that contain \"_3UTR\"\n",
    "df_knockdown = measured_single.filter(regex='_3UTR')\n",
    "# rename columns to drop everthing except the cell line name\n",
    "df_knockdown.columns = [col.split(\"_\")[0] for col in df_knockdown.columns]\n",
    "\n",
    "# filter to columns that contain \"exp\"\n",
    "df_expression = measured_single.filter(regex='exp')\n",
    "# rename columns to drop the \"_exp\"\n",
    "df_expression.columns = [col.split(\"_\")[0] for col in df_expression.columns]"
   ]
  },
  {
   "cell_type": "code",
   "execution_count": 88,
   "metadata": {},
   "outputs": [],
   "source": [
    "df_knockdown.to_csv(os.path.join(output_folder, f\"{used_mirna_name}_knockdown.csv\"))"
   ]
  },
  {
   "cell_type": "markdown",
   "metadata": {},
   "source": [
    "# 3.1 - Fit to the unscaled data"
   ]
  },
  {
   "cell_type": "markdown",
   "metadata": {},
   "source": [
    "#### Create dataframes to record the rmsd and the correlation"
   ]
  },
  {
   "cell_type": "code",
   "execution_count": 89,
   "metadata": {},
   "outputs": [],
   "source": [
    "correlation_dataframe = pd.DataFrame(columns=cell_lines_measured)\n",
    "rmsd_dataframe = pd.DataFrame(columns=cell_lines_measured)"
   ]
  },
  {
   "cell_type": "code",
   "execution_count": 90,
   "metadata": {},
   "outputs": [],
   "source": [
    "def hill_func_log_scales(x_data, dataset_indices, c1, c2, *scales):\n",
    "    \"\"\"This is a hill function for a set of microRNA expression values that can be scaled individually.\n",
    "    \n",
    "    The expression is assumed to be normalized to one.\n",
    "    The microRNA data is assumed to be log10.\n",
    "    The return value is also log10.\"\"\"\n",
    "    c1 = 10**c1\n",
    "    c2 = 10**c2\n",
    "    results = []\n",
    "\n",
    "    for i, scale in enumerate(scales):\n",
    "        mask = (dataset_indices == i)\n",
    "        x = x_data[mask] + scale\n",
    "        x = 10**x\n",
    "        result = (1 / (1 + x / c1)) * (1 + x / c2)\n",
    "        results.append( np.log10( result ))\n",
    "    return np.concatenate(results)\n",
    "\n",
    "\n",
    "def hill_func_log_regular(x, c1, c2):\n",
    "    \"\"\"The expression is assumed to be normalized to one.\n",
    "    The microRNA data is assumed to be log10.\n",
    "    The return value is also log10.\"\"\"\n",
    "    x = 10**x\n",
    "    c1 = 10**c1\n",
    "    c2 = 10**c2\n",
    "    \n",
    "    result = (1 / (1 + x / c1)) * (1 + x / c2)\n",
    "    return np.log10(result)"
   ]
  },
  {
   "cell_type": "code",
   "execution_count": 91,
   "metadata": {},
   "outputs": [],
   "source": [
    "# constrain cell_lines_measured to those in the data\n",
    "cell_lines_measured = [cell_line for cell_line in cell_lines_measured if cell_line in df_knockdown.columns]"
   ]
  },
  {
   "cell_type": "code",
   "execution_count": 92,
   "metadata": {},
   "outputs": [],
   "source": [
    "x_data = []\n",
    "y_data = []\n",
    "dataset_indices = []\n",
    "for i, cell_line in enumerate(cell_lines_measured):\n",
    "    ex_df = df_expression[cell_line].values\n",
    "    knock_df = df_knockdown[cell_line].values\n",
    "    x_data.append(ex_df)\n",
    "    y_data.append(knock_df)\n",
    "    dataset_indices.append([i] * len(ex_df))\n",
    "\n",
    "x_data = np.concatenate(x_data)\n",
    "y_data = np.concatenate(y_data)\n",
    "dataset_indices = np.concatenate(dataset_indices)"
   ]
  },
  {
   "cell_type": "code",
   "execution_count": 93,
   "metadata": {},
   "outputs": [],
   "source": [
    "# set bounds and initial guesses for non-scale fitting parameters\n",
    "p0 = [3, 10]\n",
    "num_params = len(p0)\n",
    "bounds = ([1, 9.99], [10, 10.01])\n",
    "\n",
    "# Guess initial scale values for all datasets\n",
    "scale_guesses = [0 for _ in range(len(cell_lines_measured))]\n",
    "scale_bounds_min = [-0.001 for _ in range(len(cell_lines_measured))]\n",
    "scale_bounds_max = [0.001 for _ in range(len(cell_lines_measured))]\n",
    "\n",
    "# set up parameters\n",
    "p0_scale = p0 + scale_guesses\n",
    "bounds_scale = (bounds[0]+scale_bounds_min, bounds[1]+scale_bounds_max)\n",
    "\n",
    "popt_scales, pcov = popt_scales_filter, pcov = opt.curve_fit(\n",
    "    lambda x, *params: hill_func_log_scales(x, dataset_indices, *params),\n",
    "    x_data,\n",
    "    y_data,\n",
    "    p0=p0_scale,\n",
    "    bounds=bounds_scale,\n",
    "    maxfev=5000\n",
    ")\n",
    "\n",
    "scales = list(popt_scales[num_params:])\n",
    "hill_params = popt_scales[:num_params]"
   ]
  },
  {
   "cell_type": "code",
   "execution_count": 94,
   "metadata": {},
   "outputs": [],
   "source": [
    "scale_dict_unscaled = {cell_line: scale for cell_line, scale in zip(cell_lines_measured, scales)}\n",
    "\n",
    "with open(os.path.join(output_folder, f\"{used_mirna_name}_popt_unscaled.pkl\"), \"wb\") as f:\n",
    "    pickle.dump(hill_params, f)\n",
    "\n",
    "with open(os.path.join(output_folder, f\"{used_mirna_name}_scale_dict_unscaled.pkl\"), \"wb\") as f:\n",
    "    pickle.dump(scale_dict_unscaled, f)"
   ]
  },
  {
   "cell_type": "code",
   "execution_count": 95,
   "metadata": {},
   "outputs": [],
   "source": [
    "%%capture output\n",
    "df_deviation = pd.DataFrame(columns=df_knockdown.columns, index=df_knockdown.index)\n",
    "\n",
    "# create a figure with 4 subplots\n",
    "fig, axs = plt.subplots(5, 2, figsize=(4, 6), sharex=True, sharey=True)\n",
    "\n",
    "plt.xlim(0, 5.5)\n",
    "plt.ylim(-1.7, 0.25)\n",
    "\n",
    "# make the plot folder if it doesn't exist\n",
    "if not os.path.exists(f\"{plot_folder}/3.1_global_fit_wo_scale\"):\n",
    "    os.makedirs(f\"{plot_folder}/3.1_global_fit_wo_scale\")\n",
    "\n",
    "x_range_log = np.linspace(0, 5.5, 1000)\n",
    "\n",
    "for i, cell_line in enumerate(cell_lines_measured):\n",
    "    current_scale = scales[i]\n",
    "    \n",
    "    axs[i//2, i%2].scatter(df_expression[f\"{cell_line}\"]+current_scale, df_knockdown[f\"{cell_line}\"], s=5, color=\"tab:blue\", rasterized=True)\n",
    "    axs[i//2, i%2].plot(x_range_log, hill_func_log_regular(x_range_log,\n",
    "                *hill_params), color=\"black\", linewidth=1.5, label=\"fit\", ls=\"--\")\n",
    "\n",
    "    # calculate the R2 value\n",
    "    r2 = stats.pearsonr(df_knockdown[f\"{cell_line}\"],\n",
    "                        hill_func_log_regular(df_expression[f\"{cell_line}\"]+current_scale,\n",
    "                        *hill_params))[0]**2\n",
    "    \n",
    "    # calculate the RMSD value\n",
    "    rmsd = np.sqrt(np.mean((df_knockdown[f\"{cell_line}\"]-\n",
    "                            hill_func_log_regular(df_expression[f\"{cell_line}\"]+current_scale,\n",
    "                            *hill_params))**2))\n",
    "\n",
    "    # save r2 and rmsd\n",
    "    correlation_dataframe.loc[\"3.1_no_scale\", cell_line] = r2\n",
    "    rmsd_dataframe.loc[\"3.1_no_scale\", cell_line] = rmsd\n",
    "    \n",
    "    # calculate the deviation\n",
    "    df_deviation[cell_line] = (df_knockdown[f\"{cell_line}\"] - hill_func_log_regular(\n",
    "        df_expression[f\"{cell_line}\"]+current_scale, *hill_params))\n",
    "\n",
    "    if i//2 == 4:\n",
    "        axs[i//2, i%2].set_xlabel(r\"log$_{10}$(miRNA expression)\")\n",
    "    if i%2 == 0:\n",
    "        axs[i//2, i%2].set_ylabel(r\"log$_{10}$(stability)\")\n",
    "    axs[i//2, i%2].set_title(f\"{cell_line}, r2 = {round(r2, 2)}, rmsd = {round(rmsd, 3)}\", fontsize=8)\n",
    "\n",
    "plt.tight_layout()\n",
    "for format in [\"png\", \"svg\"]:\n",
    "    plt.savefig(f\"{plot_folder}/3.1_global_fit_wo_scale/3.1_global_fit_wo_scale.{format}\", dpi=600)"
   ]
  },
  {
   "cell_type": "code",
   "execution_count": 96,
   "metadata": {},
   "outputs": [],
   "source": [
    "%%capture output\n",
    "fig = plt.figure(figsize=(2, 1.4))\n",
    "label_mirna = \"hsa-miR-100-5p\"\n",
    "\n",
    "for i, cell_line in enumerate(cell_lines_measured):\n",
    "    current_scale = scales[i]\n",
    "    r2 = stats.pearsonr(df_knockdown[f\"{cell_line}\"],\n",
    "                        hill_func_log_regular(df_expression[f\"{cell_line}\"]+current_scale,\n",
    "                        *hill_params))[0]**2\n",
    "    \n",
    "    \n",
    "    plt.scatter(df_expression[f\"{cell_line}\"]+current_scale, df_knockdown[f\"{cell_line}\"], color=cell_line_colors[cell_line],\n",
    "        s=3, marker=cell_line_symbols[cell_line], rasterized=True, label=f\"{cell_line}\")\n",
    "\n",
    "for i, cell_line in enumerate(cell_lines_measured):\n",
    "    current_scale = scales[i]\n",
    "    # add text at the position of the label_mirna\n",
    "    if label_mirna in df_expression.index:\n",
    "        label_mirna_text = \"-\".join(label_mirna.split(\"-\")[2:])\n",
    "        if i == 0:\n",
    "            plt.scatter(df_expression.loc[label_mirna, f\"{cell_line}\"]+current_scale, df_knockdown.loc[label_mirna, f\"{cell_line}\"],\n",
    "                color=\"black\", s=8, marker=\"x\", label=label_mirna)\n",
    "        else:\n",
    "            plt.scatter(df_expression.loc[label_mirna, f\"{cell_line}\"]+current_scale, df_knockdown.loc[label_mirna, f\"{cell_line}\"],\n",
    "                color=\"black\", s=8, marker=\"x\")\n",
    "            \n",
    "    if i == 0:\n",
    "        plt.plot(x_range_log, hill_func_log_regular(x_range_log,\n",
    "                *hill_params), color=\"black\", linewidth=1, ls=\"--\")\n",
    "    \n",
    "plt.xlabel(r\"log$_{10}$\"+f\"(miRNA expression)\")\n",
    "plt.ylabel(r\"log$_{10}$(stability)\")\n",
    "\n",
    "plt.xlim(0, 5.5)\n",
    "plt.ylim(-1.7, 0.25)\n",
    "plt.tight_layout()\n",
    "plt.legend(loc=\"lower left\", frameon=False, fontsize=6.5)\n",
    "for format in [\"png\", \"svg\"]:\n",
    "    plt.savefig(f\"{plot_folder}/3.1_global_fit_wo_scale/3.1-global_fit_without_scale_single_plot.{format}\", dpi=600, bbox_inches='tight')"
   ]
  },
  {
   "cell_type": "code",
   "execution_count": 97,
   "metadata": {},
   "outputs": [],
   "source": [
    "%%capture output\n",
    "fig = plt.figure(figsize=(2.0, 1.5))\n",
    "label_mirnas = [\"hsa-miR-100-5p\", \"hsa-let-7g-5p\", \"hsa-miR-218-5p\", \"hsa-miR-122-5p\"]\n",
    "markers = [\"x\", \"o\", \"s\", \"D\"]\n",
    "\n",
    "plt.plot(x_range_log, hill_func_log_regular(x_range_log,\n",
    "                *hill_params), color=\"black\", linewidth=1, ls=\"--\")\n",
    "\n",
    "for i, cell_line in enumerate(cell_lines_measured):\n",
    "    current_scale = scales[i]\n",
    "    # add text at the position of the label_mirna\n",
    "    for j, label_mirna in enumerate(label_mirnas):\n",
    "        if label_mirna in df_expression.index:\n",
    "            plt.scatter(df_expression.loc[label_mirna, f\"{cell_line}\"]+current_scale, df_knockdown.loc[label_mirna, f\"{cell_line}\"],\n",
    "                color=cell_line_colors[cell_line], s=8, marker=markers[j], rasterized=False)\n",
    "            \n",
    "plt.xlabel(r\"log$_{10}$\"+f\"(miRNA expression)\")\n",
    "plt.ylabel(r\"log$_{10}$(stability)\")\n",
    "plt.xticks([1,2,3,4,5])\n",
    "\n",
    "shift = -0.25\n",
    "for i, label_mirna in enumerate(label_mirnas):\n",
    "    plt.scatter(1.3, -0.8+i*shift, color=\"black\", s=8, marker=markers[i])\n",
    "    plt.text(1.5, -0.85+i*shift, f\"{'-'.join(label_mirna.split('-')[1:])}\", fontsize=7, ha=\"left\")\n",
    "\n",
    "plt.xlim(1, 5.5)\n",
    "plt.ylim(-1.7, 0.25)\n",
    "plt.tight_layout()\n",
    "#plt.legend(loc=\"lower left\", frameon=False, fontsize=6)\n",
    "for format in [\"png\", \"svg\"]:\n",
    "    plt.savefig(f\"{plot_folder}/3.1_global_fit_wo_scale/3.1-global_fit_without_scale_label_mirnas.{format}\", dpi=600, bbox_inches='tight')"
   ]
  },
  {
   "cell_type": "code",
   "execution_count": null,
   "metadata": {},
   "outputs": [],
   "source": [
    "fig, ax = plt.subplots(figsize=(0.3, 1.65))\n",
    "sns.heatmap(correlation_dataframe.iloc[0:1].astype('float').T, cmap=\"viridis\", annot=True, fmt=\".2f\", vmin=0.2, vmax=0.8, ax=ax,\n",
    "            annot_kws={\"size\": 6},\n",
    "            cbar_kws={'label': r'$r^2$', 'shrink': 1.4, 'aspect': 25, 'pad': 0.02, 'ticks': [0.2, 0.4, 0.6, 0.8]})\n",
    "\n",
    "plt.xticks([])\n",
    "plt.yticks([])\n",
    "for format in [\"png\", \"svg\"]:\n",
    "    plt.savefig(f\"{plot_folder}/3.1_global_fit_wo_scale/3.1_correlations.{format}\", dpi=600, bbox_inches='tight')"
   ]
  },
  {
   "cell_type": "markdown",
   "metadata": {},
   "source": [
    "#### Illustrate the inverted transfer function"
   ]
  },
  {
   "cell_type": "code",
   "execution_count": null,
   "metadata": {},
   "outputs": [],
   "source": [
    "miRNAs = [\"hsa-miR-100-5p\", \"hsa-miR-20a-5p\"]\n",
    "plt.figure(figsize=(2.4, 1.8))\n",
    "plt.plot(x_range_log, hill_func_log_regular(x_range_log,\n",
    "                *hill_params), color=\"tab:blue\", linewidth=1.5, ls=\"--\", label=\"transfer function t(x)\", zorder=1)\n",
    "for miRNA in miRNAs:\n",
    "    plt.scatter(df_expression.loc[miRNA], df_knockdown.loc[miRNA], color=\"black\", s=12, marker=\"x\", zorder=2)\n",
    "plt.xlabel(r\"log$_{10}$\"+f\"(miRNA expression)\")\n",
    "plt.ylabel(r\"log$_{10}$(stability)\")\n",
    "plt.legend(loc=\"lower left\", fontsize=7)\n",
    "plt.tight_layout()\n",
    "plt.savefig(f\"{plot_folder}/3.1_global_fit_wo_scale/3.1_transfer_function.svg\", dpi=300, bbox_inches='tight')"
   ]
  },
  {
   "cell_type": "code",
   "execution_count": null,
   "metadata": {},
   "outputs": [],
   "source": [
    "from library2_utils.transfer_functions import inverse_transfer\n",
    "\n",
    "plt.figure(figsize=(1.4, 1))\n",
    "y_range_log = 10**hill_func_log_regular(x_range_log, *hill_params)\n",
    "plt.plot(np.log10(y_range_log), np.log10(inverse_transfer(y_range_log, *hill_params)), color=\"tab:blue\", linewidth=1.5,\n",
    "         ls=\"--\", label=\"t$^{-1}$(x)\", zorder=1)\n",
    "for miRNA in miRNAs:\n",
    "    plt.scatter(df_knockdown.loc[miRNA], np.log10(inverse_transfer(10**df_knockdown.loc[miRNA], *hill_params)), color=\"black\", s=12, marker=\"x\", zorder=2)\n",
    "plt.xlabel(r\"log$_{10}$(meas. stability)\")\n",
    "plt.ylabel(r\"log$_{10}$\"+f\"(miRNA expr.)\")\n",
    "plt.xlabel(r\"meas. stability\")\n",
    "plt.ylabel(r\"miRNA expr.\")\n",
    "plt.xticks([])\n",
    "plt.yticks([])\n",
    "plt.legend(loc=\"lower left\", fontsize=7)\n",
    "plt.tight_layout()\n",
    "plt.savefig(f\"{plot_folder}/3.1_global_fit_wo_scale/3.1_inverse_transfer_function.svg\", dpi=300, bbox_inches='tight')"
   ]
  },
  {
   "cell_type": "markdown",
   "metadata": {},
   "source": [
    "# 3.2 - Fit to scaled expression data"
   ]
  },
  {
   "cell_type": "code",
   "execution_count": 101,
   "metadata": {},
   "outputs": [],
   "source": [
    "x_data = []\n",
    "y_data = []\n",
    "dataset_indices = []\n",
    "for i, cell_line in enumerate(cell_lines_measured):\n",
    "    ex_df = df_expression[cell_line].values\n",
    "    knock_df = df_knockdown[cell_line].values\n",
    "    x_data.append(ex_df)\n",
    "    y_data.append(knock_df)\n",
    "    dataset_indices.append([i] * len(ex_df))\n",
    "\n",
    "x_data = np.concatenate(x_data)\n",
    "y_data = np.concatenate(y_data)\n",
    "dataset_indices = np.concatenate(dataset_indices)"
   ]
  },
  {
   "cell_type": "code",
   "execution_count": 102,
   "metadata": {},
   "outputs": [],
   "source": [
    "# set bounds and initial guesses for non-scale fitting parameters\n",
    "p0 = [3, 10]\n",
    "num_params = len(p0)\n",
    "bounds = ([1, 9.99], [10, 10.01])\n",
    "\n",
    "# Guess initial scale values for all datasets\n",
    "scale_guesses = [0 for _ in range(len(cell_lines_measured))]\n",
    "scale_bounds_min = [-2 for _ in range(len(cell_lines_measured))]\n",
    "scale_bounds_max = [2 for _ in range(len(cell_lines_measured))]\n",
    "\n",
    "# set scale for HEK293T to 0\n",
    "scale_bounds_min[0] = -0.001\n",
    "scale_bounds_max[0] = 0.001\n",
    "\n",
    "# set up parameters\n",
    "p0_scale = p0 + scale_guesses\n",
    "bounds_scale = (bounds[0]+scale_bounds_min, bounds[1]+scale_bounds_max)\n",
    "\n",
    "popt_scales, pcov = popt_scales_filter, pcov = opt.curve_fit(\n",
    "    lambda x, *params: hill_func_log_scales(x, dataset_indices, *params),\n",
    "    x_data,\n",
    "    y_data,\n",
    "    p0=p0_scale,\n",
    "    bounds=bounds_scale,\n",
    "    maxfev=5000\n",
    ")\n",
    "\n",
    "scales = list(popt_scales[num_params:])\n",
    "hill_params = popt_scales[:num_params]"
   ]
  },
  {
   "cell_type": "code",
   "execution_count": null,
   "metadata": {},
   "outputs": [],
   "source": [
    "scale_dict = {cell_line: scale for cell_line, scale in zip(cell_lines_measured, scales)}\n",
    "scale_dict"
   ]
  },
  {
   "cell_type": "code",
   "execution_count": 104,
   "metadata": {},
   "outputs": [],
   "source": [
    "with open(os.path.join(output_folder, f\"{used_mirna_name}_popt.pkl\"), \"wb\") as f:\n",
    "    pickle.dump(hill_params, f)\n",
    "\n",
    "with open(os.path.join(output_folder, f\"{used_mirna_name}_scale_dict.pkl\"), \"wb\") as f:\n",
    "    pickle.dump(scale_dict, f)"
   ]
  },
  {
   "cell_type": "markdown",
   "metadata": {},
   "source": [
    "### Plot the global fit data individually"
   ]
  },
  {
   "cell_type": "code",
   "execution_count": 105,
   "metadata": {},
   "outputs": [],
   "source": [
    "%%capture output\n",
    "df_deviation = pd.DataFrame(columns=df_knockdown.columns, index=df_knockdown.index)\n",
    "\n",
    "# create a figure with 4 subplots\n",
    "fig, axs = plt.subplots(5, 2, figsize=(4, 6), sharex=True, sharey=True)\n",
    "\n",
    "plt.xlim(0, 5.5)\n",
    "plt.ylim(-1.7, 0.25)\n",
    "\n",
    "for i, cell_line in enumerate(cell_lines_measured):\n",
    "    # make the plot folder if it doesn't exist\n",
    "    if not os.path.exists(f\"{plot_folder}/3.2_global_fit\"):\n",
    "        os.makedirs(f\"{plot_folder}/3.2_global_fit\")\n",
    "    \n",
    "    current_scale = scales[i]\n",
    "    \n",
    "    axs[i//2, i%2].scatter(df_expression[f\"{cell_line}\"]+current_scale, df_knockdown[f\"{cell_line}\"], s=5, color=\"tab:blue\", rasterized=True)\n",
    "    axs[i//2, i%2].plot(x_range_log, hill_func_log_regular(x_range_log,\n",
    "                *hill_params), color=\"black\", linewidth=1.5, label=\"fit\", ls=\"--\")\n",
    "\n",
    "    # calculate the R2 value\n",
    "    r2 = stats.pearsonr(df_knockdown[f\"{cell_line}\"],\n",
    "                        hill_func_log_regular(df_expression[f\"{cell_line}\"]+current_scale,\n",
    "                        *hill_params))[0]**2\n",
    "    \n",
    "    # calculate the RMSD value\n",
    "    rmsd = np.sqrt(np.mean((df_knockdown[f\"{cell_line}\"]-\n",
    "                            hill_func_log_regular(df_expression[f\"{cell_line}\"]+current_scale,\n",
    "                            *hill_params))**2))\n",
    "\n",
    "    # save r2 and rmsd\n",
    "    correlation_dataframe.loc[\"3.2_global_fit\", cell_line] = r2\n",
    "    rmsd_dataframe.loc[\"3.2_global_fit\", cell_line] = rmsd\n",
    "    \n",
    "    # calculate the deviation\n",
    "    df_deviation[cell_line] = (df_knockdown[f\"{cell_line}\"] - hill_func_log_regular(\n",
    "        df_expression[f\"{cell_line}\"]+current_scale, *hill_params))\n",
    "\n",
    "    if i//2 == 4:\n",
    "        axs[i//2, i%2].set_xlabel(r\"log$_{10}$(miRNA expression)\")\n",
    "    if i%2 == 0:\n",
    "        axs[i//2, i%2].set_ylabel(r\"log$_{10}$(stability)\")\n",
    "    axs[i//2, i%2].set_title(f\"{cell_line}, r2 = {round(r2, 2)}, rmsd = {round(rmsd, 3)}\", fontsize=8)\n",
    "\n",
    "plt.tight_layout()\n",
    "for format in [\"png\", \"svg\"]:\n",
    "    plt.savefig(f\"{plot_folder}/3.2_global_fit/3.2_global_fit_with_scale.{format}\", dpi=600)"
   ]
  },
  {
   "cell_type": "markdown",
   "metadata": {},
   "source": [
    "### plot the data as a single plot"
   ]
  },
  {
   "cell_type": "code",
   "execution_count": 106,
   "metadata": {},
   "outputs": [],
   "source": [
    "%%capture output\n",
    "fig = plt.figure(figsize=(2.5, 1.7))\n",
    "#label_mirna = \"hsa-miR-18a-5p\"\n",
    "label_mirna = \"hsa-miR-100-5p\"\n",
    "\n",
    "for i, cell_line in enumerate(cell_lines_measured):\n",
    "    current_scale = scales[i]\n",
    "    r2 = stats.pearsonr(df_knockdown[f\"{cell_line}\"],\n",
    "                        hill_func_log_regular(df_expression[f\"{cell_line}\"]+current_scale,\n",
    "                        *hill_params))[0]**2\n",
    "    \n",
    "    \n",
    "    plt.scatter(df_expression[f\"{cell_line}\"]+current_scale, df_knockdown[f\"{cell_line}\"], color=cell_line_colors[cell_line],\n",
    "        s=3, marker=cell_line_symbols[cell_line], rasterized=True, label=f\"{cell_line}\")#, \" + r\"$r^2$=\" + f\"{round(r2, 2)}\", )\n",
    "\n",
    "for i, cell_line in enumerate(cell_lines_measured):\n",
    "    current_scale = scales[i]\n",
    "    # add text at the position of the label_mirna\n",
    "    if label_mirna in df_expression.index:\n",
    "        label_mirna_text = \"-\".join(label_mirna.split(\"-\")[2:])\n",
    "        # plt.scatter(df_expression.loc[label_mirna, f\"{cell_line}\"]+current_scale, df_knockdown.loc[label_mirna, f\"{cell_line}\"],\n",
    "        #     color=\"black\", s=10, marker=\"x\")\n",
    "            \n",
    "    if i == 0:\n",
    "        plt.plot(x_range_log, hill_func_log_regular(x_range_log,\n",
    "                *hill_params), color=\"black\", linewidth=1, ls=\"--\")\n",
    "    \n",
    "plt.xlabel(r\"log$_{10}$\"+f\"(miRNA expression)\")\n",
    "plt.ylabel(r\"log$_{10}$(stability)\")\n",
    "\n",
    "plt.xlim(0, 5.5)\n",
    "plt.ylim(-1.7, 0.25)\n",
    "plt.tight_layout()\n",
    "plt.legend(loc=\"lower left\", frameon=False, fontsize=6.5)\n",
    "for format in [\"png\", \"svg\"]:\n",
    "    plt.savefig(f\"{plot_folder}/3.2_global_fit/global_fit_with_scale_single_plot.{format}\", dpi=600, bbox_inches='tight')"
   ]
  },
  {
   "cell_type": "code",
   "execution_count": null,
   "metadata": {},
   "outputs": [],
   "source": [
    "fig, ax = plt.subplots(figsize=(0.3, 1.65))\n",
    "sns.heatmap(correlation_dataframe.iloc[1:2].astype('float').T, cmap=\"viridis\", annot=True, fmt=\".2f\", vmin=0.2, vmax=0.8, ax=ax,\n",
    "            annot_kws={\"size\": 6},\n",
    "            cbar_kws={'label': r'$r^2$', 'shrink': 1.4, 'aspect': 25, 'pad': 0.02, 'ticks': [0.2, 0.4, 0.6, 0.8]})\n",
    "plt.xticks([])\n",
    "plt.yticks([])\n",
    "for format in [\"png\", \"svg\"]:\n",
    "    plt.savefig(f\"{plot_folder}/3.2_global_fit/3.2_correlations.{format}\", dpi=600, bbox_inches='tight')"
   ]
  },
  {
   "cell_type": "code",
   "execution_count": 108,
   "metadata": {},
   "outputs": [],
   "source": [
    "%%capture output\n",
    "fig = plt.figure(figsize=(2.0, 1.5))\n",
    "label_mirnas = [\"hsa-miR-100-5p\", \"hsa-let-7g-5p\", \"hsa-miR-218-5p\", \"hsa-miR-122-5p\"]\n",
    "markers = [\"x\", \"o\", \"s\", \"D\"]\n",
    "\n",
    "plt.plot(x_range_log, hill_func_log_regular(x_range_log,\n",
    "                *hill_params), color=\"black\", linewidth=1, ls=\"--\")\n",
    "\n",
    "for i, cell_line in enumerate(cell_lines_measured):\n",
    "    current_scale = scales[i]\n",
    "    # add text at the position of the label_mirna\n",
    "    for j, label_mirna in enumerate(label_mirnas):\n",
    "        if label_mirna in df_expression.index:\n",
    "            # label_mirna_text = \"-\".join(label_mirna.split(\"-\")[2:])\n",
    "            plt.scatter(df_expression.loc[label_mirna, f\"{cell_line}\"]+current_scale, df_knockdown.loc[label_mirna, f\"{cell_line}\"],\n",
    "                color=cell_line_colors[cell_line], s=8, marker=markers[j], rasterized=False)\n",
    "            \n",
    "plt.xlabel(r\"log$_{10}$\"+f\"(miRNA expression)\")\n",
    "plt.ylabel(r\"log$_{10}$(stability)\")\n",
    "plt.xticks([1,2,3,4,5])\n",
    "\n",
    "shift = -0.25\n",
    "for i, label_mirna in enumerate(label_mirnas):\n",
    "    plt.scatter(1.3, -0.8+i*shift, color=\"black\", s=8, marker=markers[i])\n",
    "    plt.text(1.5, -0.85+i*shift, f\"{'-'.join(label_mirna.split('-')[1:])}\", fontsize=7, ha=\"left\")\n",
    "\n",
    "plt.xlim(1, 5.5)\n",
    "plt.ylim(-1.7, 0.25)\n",
    "plt.tight_layout()\n",
    "#plt.legend(loc=\"lower left\", frameon=False, fontsize=6)\n",
    "for format in [\"png\", \"svg\"]:\n",
    "    plt.savefig(f\"{plot_folder}/3.2_global_fit/global_fit_with_scale_label_mirnas.{format}\", dpi=600, bbox_inches='tight')"
   ]
  },
  {
   "cell_type": "code",
   "execution_count": 109,
   "metadata": {},
   "outputs": [],
   "source": [
    "# save the deviation dataframe\n",
    "df_deviation.to_csv(os.path.join(output_folder, f\"{used_mirna_name}_deviation_all_mirnas.csv\"))"
   ]
  },
  {
   "cell_type": "markdown",
   "metadata": {},
   "source": [
    "# 3.2.2 - Look at tissue data microRNAs\n",
    "This should only be executed after 15_merge_tissue_datasets.ipynb"
   ]
  },
  {
   "cell_type": "code",
   "execution_count": 110,
   "metadata": {},
   "outputs": [],
   "source": [
    "input_folder = \"../microrna_data/15_human_data_merge/processed\"\n",
    "ngs_larger = []\n",
    "with open(os.path.join(input_folder, \"ngs_larger_in_multiple.txt\"), \"r\") as f:\n",
    "    for line in f:\n",
    "        line = line.rstrip()\n",
    "        ngs_larger.append(line)\n",
    "micro_larger = []\n",
    "with open(os.path.join(input_folder, \"micro_larger_in_multiple.txt\"), \"r\") as f:\n",
    "    for line in f:\n",
    "        line = line.rstrip()\n",
    "        micro_larger.append(line)\n",
    "tissue_mirnas = []\n",
    "with open(os.path.join(input_folder, \"tissue_dataset_mirnas.txt\"), \"r\") as f:\n",
    "    for line in f:\n",
    "        line = line.rstrip()\n",
    "        tissue_mirnas.append(line)\n",
    "alles_larger = []\n",
    "with open(os.path.join(input_folder, \"alles_larger_in_multiple.txt\"), \"r\") as f:\n",
    "    for line in f:\n",
    "        line = line.rstrip()\n",
    "        alles_larger.append(line)\n",
    "keller_larger = []\n",
    "with open(os.path.join(input_folder, \"keller_larger_in_multiple.txt\"), \"r\") as f:\n",
    "    for line in f:\n",
    "        line = line.rstrip()\n",
    "        keller_larger.append(line)        "
   ]
  },
  {
   "cell_type": "markdown",
   "metadata": {},
   "source": [
    "### Plot consistent outliers in the Alles-Keller data"
   ]
  },
  {
   "cell_type": "code",
   "execution_count": 111,
   "metadata": {},
   "outputs": [],
   "source": [
    "df_expression_cell_lines = df_expression.copy()\n",
    "\n",
    "# remove \"hsa-miR-3613-3p\" if it exists\n",
    "df_expression_cell_lines = df_expression_cell_lines[~df_expression_cell_lines.index.isin([\"hsa-miR-3613-3p\"])]\n",
    "\n",
    "# add the scale\n",
    "for cell_line in cell_lines_measured:\n",
    "    df_expression_cell_lines[cell_line] = df_expression_cell_lines[cell_line] + scale_dict[cell_line]"
   ]
  },
  {
   "cell_type": "code",
   "execution_count": 112,
   "metadata": {},
   "outputs": [],
   "source": [
    "# filter out potential crosstalk miRNAs\n",
    "# load the crosstalk dict\n",
    "input_folder = \"../outputs/5_mutations\"\n",
    "\n",
    "with open(f\"{input_folder}/5.7_crosstalk_filter_dict.pkl\", \"rb\") as f:\n",
    "    crosstalk_filter_dict = pickle.load(f)\n",
    "\n",
    "from library2_utils.crosstalk import merge_identical_mirnas\n",
    "df_expression_cell_lines, groups = merge_identical_mirnas(df_expression_cell_lines, mirbase)\n",
    "\n",
    "allowed_mirnas_all = {}\n",
    "for cell_line in cell_lines_measured:\n",
    "    allowed_mirnas = []\n",
    "    crosstalk_dict = crosstalk_filter_dict[cell_line]\n",
    "    allowed_mirnas_all[cell_line] = list(df_expression_cell_lines.index.difference(crosstalk_dict))  \n",
    "    df_expression_cell_lines.loc[:, cell_line] = df_expression_cell_lines.loc[allowed_mirnas_all[cell_line], cell_line]\n",
    " \n",
    "df_expression_cell_lines = df_expression_cell_lines.dropna()\n",
    "df_knockdown_cell_lines = df_knockdown.copy()\n",
    "df_knockdown_cell_lines = df_knockdown_cell_lines.loc[df_expression_cell_lines.index]\n",
    "\n",
    "alles_larger = [miRNA for miRNA in alles_larger if miRNA in df_expression_cell_lines.index]\n",
    "keller_larger = [miRNA for miRNA in keller_larger if miRNA in df_expression_cell_lines.index]\n",
    "other_mirnas = df_expression_cell_lines.index.difference(alles_larger+keller_larger)"
   ]
  },
  {
   "cell_type": "code",
   "execution_count": 113,
   "metadata": {},
   "outputs": [],
   "source": [
    "%%capture output\n",
    "fig = plt.figure(figsize=(2.5, 1.7))\n",
    "df_deviation = pd.DataFrame(index=df_expression_cell_lines.index, columns=df_expression_cell_lines.columns)\n",
    "for i, cell_line in enumerate(cell_lines_measured):\n",
    "    # ignore poorly behaving cell lines:\n",
    "    if cell_line == \"JEG3\" or cell_line == \"Tera1\":\n",
    "        continue\n",
    "    \n",
    "    current_scale = scales[i]\n",
    "    \n",
    "    plt.scatter(df_expression_cell_lines[f\"{cell_line}\"].loc[other_mirnas],\n",
    "        df_knockdown[f\"{cell_line}\"].loc[other_mirnas],\n",
    "        color=\"tab:blue\",\n",
    "        s=3,\n",
    "        alpha=1,\n",
    "        edgecolors=\"none\",\n",
    "        rasterized=True,\n",
    "        zorder = 1)\n",
    "    \n",
    "    plt.scatter(df_expression_cell_lines[f\"{cell_line}\"].loc[keller_larger],\n",
    "        df_knockdown[f\"{cell_line}\"].loc[keller_larger],\n",
    "        color=\"tab:red\",\n",
    "        label=\"consistent NGS >> microarray\" if i == 0 else None,\n",
    "        s=5,\n",
    "        alpha=1,\n",
    "        edgecolors=\"none\",\n",
    "        rasterized=True,\n",
    "        zorder = 2)\n",
    "    \n",
    "    plt.scatter(df_expression_cell_lines[f\"{cell_line}\"].loc[alles_larger],\n",
    "        df_knockdown[f\"{cell_line}\"].loc[alles_larger],\n",
    "        color=\"tab:orange\",\n",
    "        label=\"consistent microarray >> NGS\" if i == 0 else None,\n",
    "        s=5,\n",
    "        alpha=1,\n",
    "        edgecolors=\"none\",\n",
    "        rasterized=True,\n",
    "        zorder = 3)\n",
    " \n",
    "    if i == 0:\n",
    "        plt.plot(x_range_log, hill_func_log_regular(x_range_log,\n",
    "                *hill_params), color=\"black\", linewidth=1, ls=\"--\")\n",
    "    \n",
    "    df_deviation.loc[:,cell_line] = df_knockdown_cell_lines.loc[df_expression_cell_lines.index, f\"{cell_line}\"] \\\n",
    "        - hill_func_log_regular(df_expression_cell_lines[f\"{cell_line}\"]+current_scale, *hill_params)\n",
    "\n",
    "translate_dataset_name = {\n",
    "    \"Alles2019\": \"microarray\",\n",
    "    \"Keller2023\": \"NGS\",\n",
    "}\n",
    "\n",
    "plt.xlabel(r\"log$_{10}$\"+f\"(miRNA expression ({translate_dataset_name[used_mirna_name]}))\")\n",
    "plt.ylabel(r\"log$_{10}$(stability)\")\n",
    "\n",
    "plt.xlim(0, 5.5)\n",
    "plt.ylim(-1.7, 0.25)\n",
    "plt.tight_layout()\n",
    "plt.legend(loc=\"lower left\", frameon=False, fontsize=6.5)\n",
    "for format in [\"png\", \"svg\"]:\n",
    "    plt.savefig(f\"{plot_folder}/3.2_global_fit/3.2.2_outliers_alles_keller_mirnas_plot.{format}\", dpi=600, bbox_inches='tight')"
   ]
  },
  {
   "cell_type": "code",
   "execution_count": 114,
   "metadata": {},
   "outputs": [],
   "source": [
    "df_deviation.to_csv(os.path.join(output_folder, f\"{used_mirna_name}_deviation_cell_line_consistent_outliers.csv\"))"
   ]
  },
  {
   "cell_type": "markdown",
   "metadata": {},
   "source": [
    "### Consistent outliers tissue"
   ]
  },
  {
   "cell_type": "code",
   "execution_count": 115,
   "metadata": {},
   "outputs": [],
   "source": [
    "df_expression_tissues = df_expression_cell_lines[df_expression_cell_lines.index.isin(tissue_mirnas)]\n",
    "df_knockdown_tissues = df_knockdown_cell_lines[df_knockdown_cell_lines.index.isin(tissue_mirnas)]"
   ]
  },
  {
   "cell_type": "code",
   "execution_count": 116,
   "metadata": {},
   "outputs": [],
   "source": [
    "micro_larger = [miRNA for miRNA in micro_larger if miRNA in df_expression_tissues.index]\n",
    "ngs_larger = [miRNA for miRNA in ngs_larger if miRNA in df_expression_tissues.index]\n",
    "other_mirnas = df_expression_tissues.index.difference(micro_larger+ngs_larger)"
   ]
  },
  {
   "cell_type": "code",
   "execution_count": 117,
   "metadata": {},
   "outputs": [],
   "source": [
    "%%capture output\n",
    "df_deviation = pd.DataFrame(index=df_expression_tissues.index, columns=df_expression_tissues.columns)\n",
    "fig = plt.figure(figsize=(2.5, 1.7))\n",
    "for i, cell_line in enumerate(cell_lines_measured):\n",
    "    # ignore poorly fitting miRNAs:\n",
    "    if cell_line == \"JEG3\" or cell_line == \"Tera1\":\n",
    "        continue\n",
    "    \n",
    "    current_scale = scales[i]\n",
    "    \n",
    "    plt.scatter(df_expression_tissues[f\"{cell_line}\"].loc[other_mirnas],\n",
    "        df_knockdown_tissues[f\"{cell_line}\"].loc[other_mirnas],\n",
    "        color=\"tab:blue\",\n",
    "        s=3,\n",
    "        edgecolors=\"none\",\n",
    "        rasterized=True,\n",
    "        zorder = 1)\n",
    "    \n",
    "    plt.scatter(df_expression_tissues[f\"{cell_line}\"].loc[ngs_larger],\n",
    "        df_knockdown_tissues[f\"{cell_line}\"].loc[ngs_larger],\n",
    "        color=\"tab:red\",\n",
    "        label=\"consistent NGS >> microarray\" if i == 0 else None,\n",
    "        s=5,\n",
    "        edgecolors=\"none\",\n",
    "        rasterized=True,\n",
    "        zorder = 2)\n",
    "    \n",
    "    plt.scatter(df_expression_tissues[f\"{cell_line}\"].loc[micro_larger],\n",
    "        df_knockdown_tissues[f\"{cell_line}\"].loc[micro_larger],\n",
    "        color=\"tab:orange\",\n",
    "        label=\"consistent microarray >> NGS\" if i == 0 else None,\n",
    "        s=5,\n",
    "        edgecolors=\"none\",\n",
    "        rasterized=True,\n",
    "        zorder = 3)\n",
    " \n",
    "    if i == 0:\n",
    "        plt.plot(x_range_log, hill_func_log_regular(x_range_log,\n",
    "                *hill_params), color=\"black\", linewidth=1, ls=\"--\")\n",
    "    #     # plot a horizontal line at y=0.2 and y=-0.2\n",
    "    #     plt.axhline(y=0.2, color=\"black\", linestyle=\"--\", linewidth=0.5)\n",
    "    #     plt.axhline(y=-0.2, color=\"black\", linestyle=\"--\", linewidth=0.5)\n",
    "\n",
    "    df_deviation.loc[:,cell_line] = df_knockdown_tissues[f\"{cell_line}\"] \\\n",
    "        - hill_func_log_regular(df_expression_tissues[f\"{cell_line}\"], *hill_params)\n",
    "    \n",
    "translate_dataset_name = {\n",
    "    \"Alles2019\": \"microarray\",\n",
    "    \"Keller2023\": \"NGS\",\n",
    "}\n",
    "\n",
    "plt.xlabel(r\"log$_{10}$\"+f\"(miRNA expression ({translate_dataset_name[used_mirna_name]}))\")\n",
    "plt.ylabel(r\"log$_{10}$(stability)\")\n",
    "\n",
    "plt.xlim(0, 5.5)\n",
    "plt.ylim(-1.7, 0.25)\n",
    "plt.tight_layout()\n",
    "plt.legend(loc=\"lower left\", frameon=False, fontsize=6.5)\n",
    "for format in [\"png\", \"svg\"]:\n",
    "    plt.savefig(f\"{plot_folder}/3.2_global_fit/3.2.2_tissue_mirnas_plot.{format}\", dpi=600, bbox_inches='tight')"
   ]
  },
  {
   "cell_type": "code",
   "execution_count": 118,
   "metadata": {},
   "outputs": [],
   "source": [
    "df_deviation.to_csv(os.path.join(output_folder, f\"{used_mirna_name}_deviation_tissue_mirnas.csv\"))"
   ]
  },
  {
   "cell_type": "markdown",
   "metadata": {},
   "source": [
    "### Try to infer correctness\n",
    "The code above needs to be run twice - once for Alles2019 and once for Keller2023"
   ]
  },
  {
   "cell_type": "code",
   "execution_count": 154,
   "metadata": {},
   "outputs": [],
   "source": [
    "current_data_type = \"cell_line\"\n",
    "if current_data_type == \"tissue\":\n",
    "    df_deviation_keller = pd.read_csv(os.path.join('../outputs/3_fitting/Keller2023',\n",
    "                                                   f\"Keller2023_deviation_tissue_mirnas.csv\"), index_col=0)\n",
    "    df_deviation_alles = pd.read_csv(os.path.join('../outputs/3_fitting/Alles2019',\n",
    "                                                  f\"Alles2019_deviation_tissue_mirnas.csv\"), index_col=0)\n",
    "if current_data_type == \"cell_line\":\n",
    "    df_deviation_keller = pd.read_csv(os.path.join('../outputs/3_fitting/Keller2023',\n",
    "                                                   f\"Keller2023_deviation_cell_line_consistent_outliers.csv\"), index_col=0)\n",
    "    df_deviation_alles = pd.read_csv(os.path.join('../outputs/3_fitting/Alles2019',\n",
    "                                                  f\"Alles2019_deviation_cell_line_consistent_outliers.csv\"), index_col=0)"
   ]
  },
  {
   "cell_type": "code",
   "execution_count": 155,
   "metadata": {},
   "outputs": [],
   "source": [
    "df_deviation_keller = df_deviation_keller.abs()\n",
    "df_deviation_alles = df_deviation_alles.abs()"
   ]
  },
  {
   "cell_type": "code",
   "execution_count": 156,
   "metadata": {},
   "outputs": [],
   "source": [
    "# remove JEG3 and Tera1\n",
    "df_deviation_alles = df_deviation_alles.drop(columns=[\"Tera1\", \"JEG3\"])\n",
    "df_deviation_keller = df_deviation_keller.drop(columns=[\"Tera1\", \"JEG3\"])"
   ]
  },
  {
   "cell_type": "code",
   "execution_count": 160,
   "metadata": {},
   "outputs": [],
   "source": [
    "# larger 0: deviation is stronger in the alles data\n",
    "df_diff = df_deviation_alles - df_deviation_keller"
   ]
  },
  {
   "cell_type": "code",
   "execution_count": 161,
   "metadata": {},
   "outputs": [],
   "source": [
    "if current_data_type == \"tissue\":\n",
    "    decision_mirnas = ngs_larger + micro_larger\n",
    "if current_data_type == \"cell_line\":\n",
    "    decision_mirnas = alles_larger + keller_larger\n",
    "    \n",
    "# df_diff = df_diff.loc[decision_mirnas]"
   ]
  },
  {
   "cell_type": "code",
   "execution_count": null,
   "metadata": {},
   "outputs": [],
   "source": [
    "# flatten\n",
    "df_diff_flat = df_diff.melt()\n",
    "plt.figure(figsize=(2, 1.4))\n",
    "plt.hist(x=df_diff_flat[\"value\"], color=\"skyblue\", edgecolor=\"black\", bins=np.arange(-1,1,0.05))\n",
    "# make the y axis logarithmic\n",
    "plt.yscale('log')\n",
    "plt.xlabel(\"abs(deviation(micro)) - abs(deviation(ngs))\")\n",
    "plt.ylabel(\"Count\")\n",
    "# plot vertical lines at -0.2 and 0.2\n",
    "plt.axvline(x=-0.2, color=\"tab:red\", linestyle=\"--\", linewidth=1.5)\n",
    "plt.axvline(x=0.2, color=\"tab:red\", linestyle=\"--\", linewidth=1.5)\n",
    "plt.text(-0.25, 1000, \"ngs wrong\", fontsize=7, ha=\"right\", color=\"tab:red\")\n",
    "plt.text(0.25, 1000, \"micro wrong\", fontsize=7, ha=\"left\", color=\"tab:red\")\n",
    "plt.savefig(f\"{plot_folder}/3.2_global_fit/3.2.2_deviation_difference_histogram_{current_data_type}.svg\", dpi=600, bbox_inches='tight')"
   ]
  },
  {
   "cell_type": "code",
   "execution_count": 140,
   "metadata": {},
   "outputs": [],
   "source": [
    "# alles is wrong for a specific miRNA and cell line\n",
    "df_diff_bool_alles = df_diff > 0.2\n",
    "# keller is wrong for a specific miRNA and cell line\n",
    "df_diff_bool_keller = df_diff < -0.2"
   ]
  },
  {
   "cell_type": "code",
   "execution_count": 141,
   "metadata": {},
   "outputs": [],
   "source": [
    "df_diff_bool_alles_sum = df_diff_bool_alles.sum(axis=1)\n",
    "df_diff_bool_keller_sum = df_diff_bool_keller.sum(axis=1)"
   ]
  },
  {
   "cell_type": "code",
   "execution_count": 142,
   "metadata": {},
   "outputs": [],
   "source": [
    "# larger 0: alles is wrong more often than keller\n",
    "df_call = df_diff_bool_alles_sum - df_diff_bool_keller_sum\n",
    "if current_data_type == \"tissue\":\n",
    "    df_call = df_call[df_call.index.isin(tissue_mirnas)]"
   ]
  },
  {
   "cell_type": "code",
   "execution_count": null,
   "metadata": {},
   "outputs": [],
   "source": [
    "plt.figure(figsize=(1.4, 1.4))\n",
    "plt.hist(x=df_call, color=\"skyblue\", edgecolor=\"black\", bins=np.arange(0,len(df_diff_bool_alles.columns)+1,1))\n",
    "plt.xlabel(\"Consistent deviation difference\")\n",
    "plt.xticks(np.arange(0,len(df_diff_bool_alles.columns)+1,1)+0.5, labels=np.arange(0,len(df_diff_bool_alles.columns)+1,1))\n",
    "plt.xlim(-0.5, len(df_diff_bool_alles.columns)+1.5)\n",
    "plt.yscale('log')\n",
    "plt.ylabel(\"Count\")\n",
    "plt.savefig(f\"{plot_folder}/3.2_global_fit/3.2.2_deviation_consistent_diff_count_{current_data_type}.svg\", dpi=600, bbox_inches='tight')"
   ]
  },
  {
   "cell_type": "code",
   "execution_count": null,
   "metadata": {},
   "outputs": [],
   "source": [
    "df_call_alles_wrong = df_call[df_call > 0]\n",
    "df_call_alles_wrong.value_counts()"
   ]
  },
  {
   "cell_type": "code",
   "execution_count": null,
   "metadata": {},
   "outputs": [],
   "source": [
    "df_call_keller_wrong = df_call[df_call < 0]\n",
    "df_call_keller_wrong.value_counts()"
   ]
  },
  {
   "cell_type": "code",
   "execution_count": 147,
   "metadata": {},
   "outputs": [],
   "source": [
    "decision_ngs_wrong = df_call.index.intersection(df_call_keller_wrong.index.intersection(decision_mirnas))\n",
    "decision_micro_wrong = df_call.index.intersection(df_call_alles_wrong.index.intersection(decision_mirnas))\n",
    "undecided = df_call.index.intersection(set(decision_mirnas).difference(decision_ngs_wrong.union(decision_micro_wrong)))\n",
    "all_others = df_call.index.difference(decision_mirnas)"
   ]
  },
  {
   "cell_type": "code",
   "execution_count": 148,
   "metadata": {},
   "outputs": [],
   "source": [
    "%%capture output\n",
    "fig = plt.figure(figsize=(2.5, 1.7))\n",
    "for i, cell_line in enumerate(cell_lines_measured):\n",
    "    # ignore poorly behaving cell lines:\n",
    "    if cell_line == \"JEG3\" or cell_line == \"Tera1\":\n",
    "        continue\n",
    "    \n",
    "    current_scale = scales[i]\n",
    "    \n",
    "    plt.scatter(df_expression_cell_lines[f\"{cell_line}\"].loc[undecided],\n",
    "        df_knockdown_cell_lines[f\"{cell_line}\"].loc[undecided],\n",
    "        color=\"tab:gray\",\n",
    "        label = \"undecided\" if i == 0 else None,\n",
    "        s=5,\n",
    "        edgecolors=\"none\",\n",
    "        rasterized=True,\n",
    "        zorder = 1)\n",
    "    \n",
    "    plt.scatter(df_expression_cell_lines[f\"{cell_line}\"].loc[decision_ngs_wrong],\n",
    "        df_knockdown_cell_lines[f\"{cell_line}\"].loc[decision_ngs_wrong],\n",
    "        color=\"tab:red\",\n",
    "        label=\"ngs wrong\" if i == 0 else None,\n",
    "        s=5,\n",
    "        edgecolors=\"none\",\n",
    "        rasterized=True,\n",
    "        zorder = 2)\n",
    "    \n",
    "    plt.scatter(df_expression_cell_lines[f\"{cell_line}\"].loc[decision_micro_wrong],\n",
    "        df_knockdown_cell_lines[f\"{cell_line}\"].loc[decision_micro_wrong],\n",
    "        color=\"tab:orange\",\n",
    "        label=\"microarray wrong\" if i == 0 else None,\n",
    "        s=5,\n",
    "        edgecolors=\"none\",\n",
    "        rasterized=True,\n",
    "        zorder = 3)\n",
    " \n",
    "    if i == 0:\n",
    "        plt.plot(x_range_log, hill_func_log_regular(x_range_log,\n",
    "                *hill_params), color=\"black\", linewidth=1, ls=\"--\")\n",
    "\n",
    "translate_dataset_name = {\n",
    "    \"Alles2019\": \"microarray\",\n",
    "    \"Keller2023\": \"NGS\",\n",
    "}\n",
    "\n",
    "plt.xlabel(r\"log$_{10}$\"+f\"(miRNA expression ({translate_dataset_name[used_mirna_name]}))\")\n",
    "plt.ylabel(r\"log$_{10}$(stability)\")\n",
    "\n",
    "plt.xlim(0, 5.5)\n",
    "plt.ylim(-1.7, 0.25)\n",
    "plt.tight_layout()\n",
    "plt.legend(loc=\"lower left\", frameon=False, fontsize=6.5)\n",
    "for format in [\"png\", \"svg\"]:\n",
    "    plt.savefig(f\"{plot_folder}/3.2_global_fit/3.2.2_outliers_{current_data_type}_decision.{format}\", dpi=600, bbox_inches='tight')"
   ]
  },
  {
   "cell_type": "code",
   "execution_count": 149,
   "metadata": {},
   "outputs": [],
   "source": [
    "%%capture output\n",
    "fig = plt.figure(figsize=(2.5, 1.7))\n",
    "for i, cell_line in enumerate(cell_lines_measured):\n",
    "    # ignore poorly behaving cell lines:\n",
    "    if cell_line == \"JEG3\" or cell_line == \"Tera1\":\n",
    "        continue\n",
    "    \n",
    "    current_scale = scales[i]\n",
    "    \n",
    "    plt.scatter(df_expression_cell_lines[f\"{cell_line}\"].loc[undecided],\n",
    "        df_knockdown_cell_lines[f\"{cell_line}\"].loc[undecided],\n",
    "        color=\"tab:gray\",\n",
    "        label = \"undecided\" if i == 0 else None,\n",
    "        s=3,\n",
    "        edgecolors=\"none\",\n",
    "        rasterized=True,\n",
    "        zorder = 1)\n",
    "    \n",
    "    # add text with the miRNA name\n",
    "    for mirna in undecided:\n",
    "        if \"320c\" in mirna:\n",
    "            plt.text(df_expression_cell_lines[f\"{cell_line}\"].loc[undecided], df_knockdown_cell_lines.loc[mirna, f\"{cell_line}\"],\n",
    "                    \"-\".join(mirna.split(\"-\")[2:]), fontsize=4, ha=\"left\", va=\"center\", color=\"black\", zorder=2)\n",
    "    \n",
    "    if i == 0:\n",
    "        plt.plot(x_range_log, hill_func_log_regular(x_range_log,\n",
    "                *hill_params), color=\"black\", linewidth=1, ls=\"--\")\n",
    "\n",
    "plt.xlabel(r\"log$_{10}$\"+f\"(miRNA expression ({translate_dataset_name[used_mirna_name]}))\")\n",
    "plt.ylabel(r\"log$_{10}$(stability)\")\n",
    "\n",
    "plt.xlim(0, 5.5)\n",
    "plt.ylim(-1.7, 0.25)\n",
    "plt.tight_layout()\n",
    "plt.legend(loc=\"lower left\", frameon=False, fontsize=6.5)\n",
    "plt.savefig(f\"{plot_folder}/3.2_global_fit/3.2.2_outliers_{current_data_type}_decision_label_mirnas.png\", dpi=600, bbox_inches='tight')"
   ]
  },
  {
   "cell_type": "code",
   "execution_count": 150,
   "metadata": {},
   "outputs": [],
   "source": [
    "# save these to a file\n",
    "if current_data_type == \"tissue\":\n",
    "    if not os.path.exists(os.path.join(output_folder, \"tissue_mirna_calls\")):\n",
    "        os.makedirs(os.path.join(output_folder, \"tissue_mirna_calls\"))\n",
    "    df_call_alles_wrong.to_csv(os.path.join(os.path.join(output_folder, \"tissue_mirna_calls\"), \"calls_alles.csv\"))\n",
    "    df_call_keller_wrong.to_csv(os.path.join(os.path.join(output_folder, \"tissue_mirna_calls\"), \"calls_keller.csv\"))\n",
    "if current_data_type == \"cell_line\":\n",
    "    if not os.path.exists(os.path.join(output_folder, \"cell_line_mirna_calls\")):\n",
    "        os.makedirs(os.path.join(output_folder, \"cell_line_mirna_calls\"))\n",
    "    df_call_alles_wrong.to_csv(os.path.join(os.path.join(output_folder, \"cell_line_mirna_calls\"), \"calls_alles.csv\"))\n",
    "    df_call_keller_wrong.to_csv(os.path.join(os.path.join(output_folder, \"cell_line_mirna_calls\"), \"calls_keller.csv\"))"
   ]
  },
  {
   "cell_type": "markdown",
   "metadata": {},
   "source": [
    "# 3.3 - Plot outliers"
   ]
  },
  {
   "cell_type": "code",
   "execution_count": null,
   "metadata": {},
   "outputs": [],
   "source": [
    "# these are miRNAs which are used particularly often in this library\n",
    "# can be used to check if these deviate more than others\n",
    "# mut_mirs = ['hsa-let-7a-5p', 'hsa-let-7i-5p', 'hsa-miR-16-5p', 'hsa-miR-19b-3p',\n",
    "#  'hsa-miR-21-5p', 'hsa-miR-22-3p', 'hsa-miR-23a-3p', 'hsa-miR-24-3p',\n",
    "#  'hsa-miR-31-3p', 'hsa-miR-31-5p', 'hsa-miR-365a-3p', 'hsa-miR-107']"
   ]
  },
  {
   "cell_type": "code",
   "execution_count": null,
   "metadata": {},
   "outputs": [],
   "source": [
    "%%capture output\n",
    "for cell_line in cell_lines_measured:\n",
    "    # create the plot folder if it doesn't exist\n",
    "    if not os.path.exists(f\"{plot_folder}/3.3_outliers\"):\n",
    "        os.makedirs(f\"{plot_folder}/3.3_outliers\")\n",
    "    \n",
    "    # get the index of cell_line in cell_lines\n",
    "    cell_line_index = cell_lines_measured.index(cell_line)\n",
    "    current_scale = scales[cell_line_index]\n",
    "\n",
    "    # get the deviation\n",
    "    deviation = abs(df_deviation[cell_line])\n",
    "    deviation.sort_values(inplace=True, ascending=False)\n",
    "    deviation = deviation[:10]\n",
    "\n",
    "    # plot the data\n",
    "    fig = plt.figure(figsize=(2.2, 1.8))\n",
    "    plt.scatter(df_expression[f\"{cell_line}\"]+current_scale, df_knockdown[f\"{cell_line}\"], s=5, color=\"tab:blue\", rasterized=True)\n",
    "    plt.plot(x_range_log+current_scale,\n",
    "            hill_func_log_regular(x_range_log+current_scale, *hill_params), color=\"black\", linewidth=1.5, label=\"fit\", rasterized=True)\n",
    "\n",
    "    # add text with the miRNA names\n",
    "    for i in deviation.index.to_list():\n",
    "        plt.text(df_expression.loc[i, cell_line]+current_scale, df_knockdown.loc[i, cell_line], \"-\".join(i.split(\"-\")[2:]), fontsize=8)\n",
    "\n",
    "    plt.xlabel(\"miRNA expression\")\n",
    "    plt.ylabel(r\"log$_{10}$(stability)\")\n",
    "    plt.title(f\"{cell_line}\", fontsize=8)\n",
    "    \n",
    "    plt.xlim(0, 5.5)\n",
    "    plt.ylim(-1.7, 0.25)\n",
    "    \n",
    "    plt.tight_layout()\n",
    "    for format in [\"png\", \"svg\"]:\n",
    "        plt.savefig(os.path.join(plot_folder, f\"3.3_outliers/outliers_{cell_line}.{format}\"), dpi=600)"
   ]
  },
  {
   "cell_type": "markdown",
   "metadata": {},
   "source": [
    "# 3.4 - Do low mRNA counts explain outliers?"
   ]
  },
  {
   "cell_type": "code",
   "execution_count": null,
   "metadata": {},
   "outputs": [],
   "source": [
    "# load count data\n",
    "raw_counts = pd.read_csv('../measured_data/1_count_data/library2_count_and_log2fc_data.csv', index_col=0)\n",
    "\n",
    "# filter to columns containing \"count\"\n",
    "raw_counts = raw_counts.filter(regex=\"count\")"
   ]
  },
  {
   "cell_type": "code",
   "execution_count": null,
   "metadata": {},
   "outputs": [],
   "source": [
    "# get the single microRNA data\n",
    "mirna_info_df = pd.concat([reference_dict[\"1_mirna_full_single_high_conf\"],\n",
    "                                reference_dict[\"2_mirna_full_single_low_conf_mirgenedb\"]])\n",
    "single_mirna_index = mirna_info_df.index\n",
    "raw_counts = raw_counts.loc[raw_counts.index.intersection(single_mirna_index), :]\n",
    "\n",
    "# add the miRNA name and make it the index\n",
    "raw_counts[\"miRNA\"] = mirna_info_df.loc[raw_counts.index, \"miRNA1\"]\n",
    "raw_counts.set_index(\"miRNA\", inplace=True)"
   ]
  },
  {
   "cell_type": "code",
   "execution_count": null,
   "metadata": {},
   "outputs": [],
   "source": [
    "%%capture output\n",
    "# plot the results\n",
    "# create the plot folder if it doesn't exist\n",
    "if not os.path.exists(f\"{plot_folder}/3.4_counts_vs_deviation\"):\n",
    "    os.makedirs(f\"{plot_folder}/3.4_counts_vs_deviation\")\n",
    "\n",
    "fig = plt.figure(figsize=(2.2, 1.6))\n",
    "all_points_x = []\n",
    "all_poins_y = []\n",
    "for cell_line in cell_lines_measured:\n",
    "    for r in [\"r1\", \"r2\"]:      \n",
    "        plt.scatter(np.log10(raw_counts.loc[df_deviation.index, f\"count_{cell_line}_3UTR_{r}\"]),\n",
    "                    df_deviation[cell_line], s=3, color=\"tab:blue\", rasterized=True, edgecolor=\"none\", alpha=0.5)\n",
    "        all_points_x.extend(np.log10(raw_counts.loc[df_deviation.index, f\"count_{cell_line}_3UTR_{r}\"]))\n",
    "        all_poins_y.extend(df_deviation[cell_line])\n",
    "\n",
    "all_points_x = np.array(all_points_x)\n",
    "all_poins_y = np.array(all_poins_y)\n",
    "# r2 = stats.pearsonr(all_points_x, all_poins_y)[0]**2\n",
    "\n",
    "# plt.text(1.1, 0.7, f\"r$^2$={round(r2, 2)}\", fontsize=8)\n",
    "plt.xticks(np.arange(1, 5, 1))\n",
    "plt.xlabel(r\"log$_{10}$(RNA counts in sequencing data)\")\n",
    "plt.ylabel(\"deviation from fit\")\n",
    "\n",
    "plt.tight_layout()\n",
    "for format in [\"png\", \"svg\"]:\n",
    "    plt.savefig(f\"{plot_folder}/3.4_counts_vs_deviation/3.4_counts_vs_deviation.{format}\", dpi=300)"
   ]
  },
  {
   "cell_type": "code",
   "execution_count": null,
   "metadata": {},
   "outputs": [],
   "source": [
    "%%capture output\n",
    "# plot the results\n",
    "# create the plot folder if it doesn't exist\n",
    "if not os.path.exists(f\"{plot_folder}/3.4_counts_vs_deviation\"):\n",
    "    os.makedirs(f\"{plot_folder}/3.4_counts_vs_deviation\")\n",
    "\n",
    "fig = plt.figure(figsize=(2.2, 1.6))\n",
    "for cell_line in cell_lines_measured:\n",
    "    for r in [\"r1\", \"r2\"]:      \n",
    "        plt.scatter(np.log10(raw_counts.loc[df_deviation.index, f\"count_{cell_line}_3UTR_{r}\"]),\n",
    "                    df_knockdown.loc[df_deviation.index, cell_line], s=3, color=\"tab:blue\",\n",
    "                    rasterized=True, edgecolor=\"none\", alpha=0.5)\n",
    "\n",
    "plt.xticks(np.arange(1, 5, 1))\n",
    "plt.xlabel(r\"log$_{10}$(RNA counts in sequencing data)\")\n",
    "plt.ylabel(r\"log$_{10}$(stability)\")\n",
    "\n",
    "plt.tight_layout()\n",
    "for format in [\"png\", \"svg\"]:\n",
    "    plt.savefig(f\"{plot_folder}/3.4_counts_vs_deviation/3.4_counts_vs_knockdown.{format}\", dpi=300)"
   ]
  },
  {
   "cell_type": "markdown",
   "metadata": {},
   "source": [
    "# 3.5 - Does miRNA GC content explain outliers?"
   ]
  },
  {
   "cell_type": "code",
   "execution_count": 86,
   "metadata": {},
   "outputs": [],
   "source": [
    "%%capture output\n",
    "# plot the results\n",
    "# create the plot folder if it doesn't exist\n",
    "if not os.path.exists(f\"{plot_folder}/3.5_GC_content_vs_deviation\"):\n",
    "    os.makedirs(f\"{plot_folder}/3.5_GC_content_vs_deviation\")\n",
    "\n",
    "fig = plt.figure(figsize=(2.2, 1.6))\n",
    "for cell_line in cell_lines_measured:\n",
    "    plt.scatter(mirbase.loc[df_deviation.index, \"GC_content\"]*100, df_deviation[cell_line], s=3, color = \"tab:blue\",\n",
    "                rasterized=True, edgecolor=\"none\", alpha=0.5)\n",
    "    \n",
    "plt.xlabel(\"GC content in the microRNA\")\n",
    "plt.ylabel(\"deviation from fit\")\n",
    "\n",
    "# # add text with the miRNA names\n",
    "# for i, row in df_deviation.iterrows():\n",
    "# plt.text(mirbase.loc[i, \"GC_content\"]-0.05, row[cell_line], \"-\".join(i.split(\"-\")[2:]), fontsize=8)\n",
    "plt.xlim(0,100)\n",
    "\n",
    "plt.tight_layout()\n",
    "for format in [\"png\", \"svg\"]:\n",
    "    plt.savefig(f\"{plot_folder}/3.5_GC_content_vs_deviation/GC_content_vs_deviation.{format}\", dpi=300)"
   ]
  },
  {
   "cell_type": "code",
   "execution_count": 87,
   "metadata": {},
   "outputs": [],
   "source": [
    "%%capture output\n",
    "# plot the results\n",
    "# create the plot folder if it doesn't exist\n",
    "if not os.path.exists(f\"{plot_folder}/3.5_GC_content_vs_deviation\"):\n",
    "    os.makedirs(f\"{plot_folder}/3.5_GC_content_vs_deviation\")\n",
    "\n",
    "fig = plt.figure(figsize=(2.2, 1.6))\n",
    "for cell_line in cell_lines_measured:\n",
    "    plt.scatter(mirbase.loc[df_deviation.index, \"GC_content\"]*100, df_knockdown.loc[df_deviation.index, cell_line], s=3, color = \"tab:blue\",\n",
    "                rasterized=True, edgecolor=\"none\", alpha=0.5)\n",
    "    \n",
    "plt.xlabel(\"GC content in the microRNA\")\n",
    "plt.ylabel(r\"log$_{10}$(stability)\")\n",
    "\n",
    "# # add text with the miRNA names\n",
    "# for i, row in df_deviation.iterrows():\n",
    "# plt.text(mirbase.loc[i, \"GC_content\"]-0.05, row[cell_line], \"-\".join(i.split(\"-\")[2:]), fontsize=8)\n",
    "plt.xlim(0,100)\n",
    "\n",
    "plt.tight_layout()\n",
    "for format in [\"png\", \"svg\"]:\n",
    "    plt.savefig(f\"{plot_folder}/3.5_GC_content_vs_deviation/GC_content_vs_knockdown.{format}\", dpi=300)"
   ]
  },
  {
   "cell_type": "markdown",
   "metadata": {},
   "source": [
    "# 3.6 - Do weak polyA signals lead to undercounting?"
   ]
  },
  {
   "cell_type": "code",
   "execution_count": 88,
   "metadata": {},
   "outputs": [],
   "source": [
    "# get the polyA signal designs\n",
    "polyA_designs = pd.read_excel(\"../design_info/polyA_signals.xlsx\", index_col=0) \n",
    "polyA_designs = polyA_designs[(polyA_designs.index.str.contains(\"1_mirna_full_single_high_conf\")) | (polyA_designs.index.str.contains(\"2_mirna_full_single_low_conf_mirgenedb\"))]"
   ]
  },
  {
   "cell_type": "code",
   "execution_count": 89,
   "metadata": {},
   "outputs": [],
   "source": [
    "# I filtered out all microRNAs containing a full polyA signal\n",
    "polyA_designs[\"AATAAA\"] = polyA_designs[\"seq\"].str.contains(\"AATAAA\")\n",
    "\n",
    "# Get rid of these as I did not measure them\n",
    "polyA_designs = polyA_designs[~polyA_designs[\"AATAAA\"]]"
   ]
  },
  {
   "cell_type": "code",
   "execution_count": 90,
   "metadata": {},
   "outputs": [],
   "source": [
    "design_df = reference_dict[\"1_mirna_full_single_high_conf\"].copy()\n",
    "design_df = pd.concat([design_df, reference_dict[\"2_mirna_full_single_low_conf_mirgenedb\"]], axis=0)\n",
    "design_df[\"id\"] = design_df.index\n",
    "polyA_designs[\"miRNA1\"] = design_df.loc[polyA_designs.index, \"miRNA1\"]\n",
    "polyA_designs.set_index(\"miRNA1\", inplace=True)"
   ]
  },
  {
   "cell_type": "code",
   "execution_count": 91,
   "metadata": {},
   "outputs": [],
   "source": [
    "polyA_signals = [\"AATAAA\", \"ATTAAA\", \"AGTAAA\", \"TATAAA\", \"ACTAAA\"]\n",
    "# for each design, add whichever signal is found\n",
    "polyA_designs[\"polyA_signal\"] = \"None\"\n",
    "for index, row in polyA_designs.iterrows():\n",
    "    seq = row[\"seq\"]\n",
    "    # check if any of the polyA signals are in the sequence\n",
    "    for signal in polyA_signals:\n",
    "        if signal in seq:\n",
    "            polyA_designs.loc[index, \"polyA_signal\"] = signal"
   ]
  },
  {
   "cell_type": "code",
   "execution_count": null,
   "metadata": {},
   "outputs": [],
   "source": [
    "polyA_deviation = df_deviation.loc[polyA_designs.index]\n",
    "# create the plot folder if it doesn't exist\n",
    "if not os.path.exists(os.path.join(plot_folder, \"3.6_polyA_deviation\")):\n",
    "    os.makedirs(os.path.join(plot_folder, \"3.6_polyA_deviation\"))\n",
    "\n",
    "# plot a histogram\n",
    "plt.figure(figsize=(2.4, 1.8))\n",
    "plt.hist(polyA_deviation.values.flatten(), bins=20, color=\"skyblue\")\n",
    "plt.xlabel(\"deviation from fit\")\n",
    "plt.ylabel(\"count\")\n",
    "plt.title(\"weak poly(A)-signals\\nin microRNA targets\")\n",
    "\n",
    "# add text labeling unique polyA signals\n",
    "unique_signals = polyA_designs[\"polyA_signal\"].unique()\n",
    "signal_text = \"\\n\".join(unique_signals)\n",
    "plt.text(0.1, 20, f\"poly(A) signals:\\n{signal_text}\", fontsize=7)\n",
    "    \n",
    "plt.tight_layout()\n",
    "for format in [\"png\", \"svg\"]:\n",
    "    plt.savefig(f\"{plot_folder}/3.6_polyA_deviation/3.6_polyA_deviation_histogram.{format}\", dpi=300)"
   ]
  },
  {
   "cell_type": "markdown",
   "metadata": {},
   "source": [
    "Theres nothing there! A partial polyA makes no difference whatsoever"
   ]
  },
  {
   "cell_type": "markdown",
   "metadata": {},
   "source": []
  },
  {
   "cell_type": "markdown",
   "metadata": {},
   "source": [
    "# 3.7 - Inspect family outliers"
   ]
  },
  {
   "cell_type": "markdown",
   "metadata": {},
   "source": [
    "First, determine which microRNAs of each family are maximally expressed in each cell line"
   ]
  },
  {
   "cell_type": "code",
   "execution_count": 117,
   "metadata": {},
   "outputs": [],
   "source": [
    "def get_family_mirnas(family):\n",
    "    return mirbase[mirbase['family_extended'] == family].index.to_list()"
   ]
  },
  {
   "cell_type": "code",
   "execution_count": 118,
   "metadata": {},
   "outputs": [],
   "source": [
    "# for each microRNA, find the family member with the highest expression\n",
    "# get a list of family members\n",
    "families = mirbase.loc[used_mirna_data.index, \"family_extended\"].unique()\n",
    "\n",
    "# for each family, find the highest expressed miRNA across cell lines\n",
    "# the output is a dataframe that only contains the highest expressed miRNA for each family\n",
    "# all other values are NaN\n",
    "family_max_df = pd.DataFrame(columns=cell_lines_measured, index=used_mirna_data.index)\n",
    "for family in families:\n",
    "    # get the microRNA names\n",
    "    family_mirnas = get_family_mirnas(family)\n",
    "    df_family = used_mirna_data[used_mirna_data.index.isin(family_mirnas)]\n",
    "    for cell_line in cell_lines:\n",
    "        max_id = df_family[cell_line].idxmax(axis=0)\n",
    "        family_max_df.loc[max_id, cell_line] = df_family.loc[max_id, cell_line]"
   ]
  },
  {
   "cell_type": "markdown",
   "metadata": {},
   "source": [
    "Look at let-7-5p, speficically"
   ]
  },
  {
   "cell_type": "code",
   "execution_count": 119,
   "metadata": {},
   "outputs": [],
   "source": [
    "let7_family = get_family_mirnas(\"let-7-5p\")"
   ]
  },
  {
   "cell_type": "code",
   "execution_count": null,
   "metadata": {},
   "outputs": [],
   "source": [
    "let7a_mirna = mirbase.loc[let7_family, \"sequence_orig\"].str.replace(\"T\", \"U\").iloc[0]\n",
    "# print the number of positions at which each of these differs from the first one\n",
    "for mirna in let7_family:\n",
    "    mirna_seq = mirbase.loc[mirna, \"sequence_orig\"].replace(\"T\", \"U\")\n",
    "    print(mirna, sum([1 for i in range(len(let7a_mirna)) if let7a_mirna[i] != mirna_seq[i]]))"
   ]
  },
  {
   "cell_type": "code",
   "execution_count": null,
   "metadata": {},
   "outputs": [],
   "source": [
    "# make the plot folder if it doesn't exist\n",
    "if not os.path.exists(f\"{plot_folder}/3.7_family_outliers\"):\n",
    "    os.makedirs(f\"{plot_folder}/3.7_family_outliers\")\n",
    "\n",
    "# plot df_alles versus df_keller across cell line for these\n",
    "mirnas = list(let7_family)\n",
    "plt.figure(figsize=(2, 1.8))\n",
    "data_x = []\n",
    "data_y = []\n",
    "for cell_line in cell_lines_measured:\n",
    "    data_x.append(df_alles.loc[mirnas, cell_line])\n",
    "    data_y.append(df_keller.loc[mirnas, cell_line])\n",
    "    \n",
    "plt.scatter(np.concatenate(data_x), np.concatenate(data_y), s=5, color=\"tab:blue\", rasterized=False, edgecolor=\"none\", alpha=1)\n",
    "r2 = stats.pearsonr(np.concatenate(data_x), np.concatenate(data_y))[0]**2\n",
    "\n",
    "plt.text(2, 4.5, f\"r2 = {round(r2, 2)}\", fontsize=7)\n",
    "\n",
    "plt.title(\"5p-arm of the let-7 family\", fontsize=7)\n",
    "plt.xlabel(r\"log$_{10}$(tpm microarray)\")\n",
    "plt.ylabel(r\"log$_{10}$(tpm sequencing)\")\n",
    "plt.xticks(np.arange(2, 6, 1))\n",
    "plt.yticks(np.arange(2, 6, 1))\n",
    "plt.tight_layout()\n",
    "for format in [\"png\", \"svg\"]:\n",
    "    plt.savefig(f\"{plot_folder}/3.7_family_outliers/3.7_let7_family_expression.{format}\", dpi=300)"
   ]
  },
  {
   "cell_type": "code",
   "execution_count": 122,
   "metadata": {},
   "outputs": [],
   "source": [
    "let7a_mirna = mirbase.loc[let7_family, \"sequence_orig\"].str.replace(\"T\", \"U\").iloc[0][:-1]\n",
    "\n",
    "other_targets = mirbase.loc[let7_family, \"target\"].str.replace(\"T\", \"U\").iloc[1:]"
   ]
  },
  {
   "cell_type": "code",
   "execution_count": 123,
   "metadata": {},
   "outputs": [],
   "source": [
    "%%capture output\n",
    "# create a figure with 4 subplots\n",
    "fig, axs = plt.subplots(5, 2, figsize=(4.5, 7), sharex=True, sharey=True)\n",
    "\n",
    "# make the plot folder if it doesn't exist\n",
    "if not os.path.exists(f\"{plot_folder}/3.7_family_outliers\"):\n",
    "    os.makedirs(f\"{plot_folder}/3.7_family_outliers\")\n",
    "\n",
    "for i, cell_line in enumerate(cell_lines_measured):\n",
    "    current_scale = scales[i]\n",
    "    \n",
    "    axs[i//2, i%2].scatter(df_expression[f\"{cell_line}\"]+current_scale, df_knockdown[f\"{cell_line}\"], s=5, color=\"tab:blue\", rasterized=True)\n",
    "    \n",
    "    # plot let7 family members\n",
    "    # find the let7 family members that are in the data\n",
    "    let7_family_filter = [mirna for mirna in let7_family if mirna in df_expression.index]\n",
    "    axs[i//2, i%2].scatter(df_expression[cell_line].loc[let7_family_filter,]+current_scale,\n",
    "                df_knockdown[cell_line].loc[let7_family_filter,], color=\"red\", s=6, rasterized=True)\n",
    "    \n",
    "    # add text with the abbreviated name\n",
    "    for mirna in let7_family_filter:\n",
    "        axs[i//2, i%2].text(\n",
    "            df_expression[cell_line].loc[mirna] + current_scale - 0.15, \n",
    "            df_knockdown[cell_line].loc[mirna] - 0.2,\n",
    "            mirna.split(\"-\")[2], \n",
    "            fontsize=7,\n",
    "            bbox=dict(facecolor='none', alpha=0.5, edgecolor='none', pad=0.1)\n",
    "        )\n",
    "    \n",
    "    # plot the fitting curve\n",
    "    axs[i//2, i%2].plot(x_range_log, hill_func_log_regular(x_range_log,\n",
    "                *hill_params), color=\"black\", linewidth=1.5, label=\"fit\", ls=\"--\")\n",
    "\n",
    "    # calculate the R2 value\n",
    "    r2 = stats.pearsonr(df_knockdown[f\"{cell_line}\"],\n",
    "                        hill_func_log_regular(df_expression[f\"{cell_line}\"]+current_scale,\n",
    "                        *hill_params))[0]**2\n",
    "\n",
    "    plt.xlim(0, 5.5)\n",
    "    plt.ylim(-1.7, 0.25)\n",
    "    \n",
    "    if i % 2 == 0:\n",
    "        axs[i//2, i%2].set_ylabel(r\"log$_{10}$(stability)\")\n",
    "    if i // 2 == 4:\n",
    "        axs[i//2, i%2].set_xlabel(r\"log$_{10}$(miRNA expression)\")\n",
    "    axs[i//2, i%2].set_title(f\"{cell_line}\", fontsize=7)\n",
    "\n",
    "plt.tight_layout()\n",
    "for format in [\"png\", \"svg\"]:\n",
    "    plt.savefig(os.path.join(plot_folder, f\"3.7_family_outliers/3.7_let7_mirnas.{format}\"), dpi=600)"
   ]
  },
  {
   "cell_type": "markdown",
   "metadata": {},
   "source": [
    "# 3.8 - Filter the crosstalk\n",
    "### This requires input files generated in Notebook 5."
   ]
  },
  {
   "cell_type": "code",
   "execution_count": 124,
   "metadata": {},
   "outputs": [],
   "source": [
    "# load the crosstalk dict\n",
    "input_folder = \"../outputs/5_mutations\"\n",
    "\n",
    "with open(f\"{input_folder}/5.7_crosstalk_filter_dict.pkl\", \"rb\") as f:\n",
    "    crosstalk_filter_dict = pickle.load(f)"
   ]
  },
  {
   "cell_type": "code",
   "execution_count": 125,
   "metadata": {},
   "outputs": [],
   "source": [
    "used_mirna_data_filter = used_mirna_data.copy()\n",
    "df_expression_filter = df_expression.copy()\n",
    "df_knockdown_filter = df_knockdown.copy()"
   ]
  },
  {
   "cell_type": "code",
   "execution_count": 126,
   "metadata": {},
   "outputs": [],
   "source": [
    "# make a list of allowed mirnas per cell line\n",
    "allowed_mirnas_all = {}\n",
    "for cell_line in cell_lines_measured:\n",
    "    allowed_mirnas = []\n",
    "    crosstalk_dict = crosstalk_filter_dict[cell_line]\n",
    "    allowed_mirnas_all[cell_line] = list(df_knockdown_filter.index.difference(crosstalk_dict))"
   ]
  },
  {
   "cell_type": "code",
   "execution_count": 127,
   "metadata": {},
   "outputs": [],
   "source": [
    "x_data = []\n",
    "y_data = []\n",
    "dataset_indices = []\n",
    "allowed_mirnas_all_measured = {}\n",
    "for i, cell_line in enumerate(cell_lines_measured):\n",
    "    # check which miRNAs I actually measured of those allowed\n",
    "    allowed_mirnas_measured = [mirna for mirna in allowed_mirnas_all[cell_line] if mirna in df_expression_filter.index]\n",
    "    allowed_mirnas_all_measured[cell_line] = allowed_mirnas_measured\n",
    "    \n",
    "    # add those to the dataset\n",
    "    ex_df = df_expression_filter.loc[allowed_mirnas_measured, cell_line].values\n",
    "    knock_df = df_knockdown_filter.loc[allowed_mirnas_measured, cell_line].values\n",
    "    x_data.append(ex_df)\n",
    "    y_data.append(knock_df)\n",
    "    dataset_indices.append([i] * len(ex_df))\n",
    "\n",
    "x_data = np.concatenate(x_data)\n",
    "y_data = np.concatenate(y_data)\n",
    "dataset_indices = np.concatenate(dataset_indices)"
   ]
  },
  {
   "cell_type": "code",
   "execution_count": 128,
   "metadata": {},
   "outputs": [],
   "source": [
    "popt_scales, pcov = opt.curve_fit(\n",
    "    lambda x, *params: hill_func_log_scales(x, dataset_indices, *params),\n",
    "    x_data,\n",
    "    y_data,\n",
    "    p0=p0_scale,\n",
    "    bounds=bounds_scale,\n",
    "    maxfev=5000\n",
    ")\n",
    "\n",
    "scales = list(popt_scales_filter[num_params:])\n",
    "hill_params = popt_scales_filter[:num_params]"
   ]
  },
  {
   "cell_type": "code",
   "execution_count": null,
   "metadata": {},
   "outputs": [],
   "source": [
    "hill_params"
   ]
  },
  {
   "cell_type": "code",
   "execution_count": 130,
   "metadata": {},
   "outputs": [],
   "source": [
    "%%capture output\n",
    "\n",
    "r2_vals_scales = {}\n",
    "rmsd_vals_scales = {}\n",
    "df_deviation_filter = {}\n",
    "\n",
    "# create a figure with 4 subplots\n",
    "fig, axs = plt.subplots(5, 2, figsize=(6, 10), sharex=True, sharey=True)\n",
    "# make the plot folder if it doesn't exist\n",
    "if not os.path.exists(f\"{plot_folder}/3.8_crosstalk_removed\"):\n",
    "    os.makedirs(f\"{plot_folder}/3.8_crosstalk_removed\")\n",
    "\n",
    "for i, cell_line in enumerate(cell_lines_measured):\n",
    "    current_scale = scales[i]\n",
    "    \n",
    "    # drop all non-maximum values for each family in this cell line\n",
    "    allowed_mirnas_measured = allowed_mirnas_all_measured[cell_line]\n",
    "\n",
    "    # get the expression and knockdown data for these microRNAs\n",
    "    ex_df = df_expression_filter.loc[allowed_mirnas_measured, cell_line].values\n",
    "    knock_df = df_knockdown_filter.loc[allowed_mirnas_measured, cell_line].values\n",
    "    \n",
    "    axs[i//2, i%2].scatter(ex_df+current_scale, knock_df, s=5, color=\"tab:blue\", rasterized=True)\n",
    "    axs[i//2, i%2].plot(x_range_log, hill_func_log_regular(x_range_log,\n",
    "                *hill_params), color=\"black\", linewidth=1, label=\"fit\", ls=\"--\")\n",
    "\n",
    "    # calculate the R2 value\n",
    "    r2 = stats.pearsonr(knock_df,\n",
    "                        hill_func_log_regular(ex_df+current_scale,\n",
    "                        *hill_params))[0]**2\n",
    "    r2_vals_scales[cell_line] = r2\n",
    "    \n",
    "    # calculate the RMSD value\n",
    "    rmsd = np.sqrt(np.mean((knock_df-\n",
    "                            hill_func_log_regular(ex_df+current_scale,\n",
    "                            *hill_params))**2))\n",
    "    rmsd_vals_scales[cell_line] = rmsd\n",
    "\n",
    "    # calculate the deviation\n",
    "    df_deviation_filter[cell_line] = (df_knockdown_filter.loc[allowed_mirnas_measured, cell_line] - hill_func_log_regular(ex_df+current_scale, *hill_params))\n",
    "    \n",
    "    # also plot the microRNAs that were filtered\n",
    "    ex_df = df_expression_filter.loc[:, cell_line]\n",
    "    knock_df = df_knockdown_filter.loc[:, cell_line]\n",
    "    \n",
    "    forbidden_mirnas = ex_df.index.difference(allowed_mirnas_measured)\n",
    "    ex_df = ex_df.loc[forbidden_mirnas]\n",
    "    knock_df = knock_df.loc[forbidden_mirnas]\n",
    "    \n",
    "    axs[i//2, i%2].scatter(ex_df+current_scale, knock_df, s=5, color=\"tab:red\", rasterized=True)\n",
    "    \n",
    "    axs[i//2, i%2].set_xlabel(\"miRNA expression\")\n",
    "    axs[i//2, i%2].set_ylabel(r\"log$_{10}$(stability)\")\n",
    "    axs[i//2, i%2].set_title(f\"{cell_line}, r2 = {round(r2, 2)}, rmsd = {round(rmsd, 2)}\", fontsize=7.5)\n",
    "\n",
    "plt.tight_layout()\n",
    "for format in [\"png\", \"svg\"]:\n",
    "    plt.savefig(f\"{plot_folder}/3.8_crosstalk_removed/global_fit_crosstalk_removed.{format}\", dpi=300)"
   ]
  },
  {
   "cell_type": "code",
   "execution_count": 131,
   "metadata": {},
   "outputs": [],
   "source": [
    "df_deviation_filter = pd.DataFrame(df_deviation_filter)\n",
    "df_deviation_filter.to_csv(os.path.join(output_folder, f\"{used_mirna_name}_deviation_crosstalk_filtered.csv\"))"
   ]
  },
  {
   "cell_type": "code",
   "execution_count": 132,
   "metadata": {},
   "outputs": [],
   "source": [
    "# filter df_knockdown and df_expression to the allowed mirnas\n",
    "for cell_line in cell_lines_measured:\n",
    "    df_knockdown_filter[cell_line] = df_knockdown_filter.loc[allowed_mirnas_all_measured[cell_line], cell_line]\n",
    "    df_expression_filter[cell_line] = df_expression_filter.loc[allowed_mirnas_all_measured[cell_line], cell_line]"
   ]
  },
  {
   "cell_type": "markdown",
   "metadata": {},
   "source": [
    "# 3.9 - Investigate false positives"
   ]
  },
  {
   "cell_type": "markdown",
   "metadata": {},
   "source": [
    "## Generate false positive info for both datasets and save it"
   ]
  },
  {
   "cell_type": "code",
   "execution_count": 133,
   "metadata": {},
   "outputs": [],
   "source": [
    "false_positives = {}\n",
    "for cell_line in cell_lines_measured:\n",
    "    # filter to those with little knockdown\n",
    "    df_knockdown_low = df_knockdown_filter.loc[:, cell_line].dropna()\n",
    "    df_knockdown_low = df_knockdown_low[df_knockdown_low > -0.25]\n",
    "    \n",
    "    # filter to those with high expression\n",
    "    df_expression_high = df_expression_filter.loc[:, cell_line].dropna()\n",
    "    df_expression_high = df_expression_high[df_expression_high > 3.8]\n",
    "    \n",
    "    # get common indices between the two and the associated df_deviation_false_pos\n",
    "    common_indices = df_knockdown_low.index.intersection(df_expression_high.index)\n",
    "    df_deviation_false_pos = df_deviation_filter[cell_line].loc[common_indices]\n",
    "    \n",
    "    # restrain to those that knock down less than expected\n",
    "    df_deviation_false_pos = df_deviation_false_pos[df_deviation_false_pos > 0.3]\n",
    "    \n",
    "    false_positives[cell_line] = df_deviation_false_pos.index.to_list()"
   ]
  },
  {
   "cell_type": "code",
   "execution_count": 134,
   "metadata": {},
   "outputs": [],
   "source": [
    "# get a list of how often each microRNA is a false positive\n",
    "false_positives_count = {}\n",
    "for cell_line in cell_lines_measured:\n",
    "    for mirna in false_positives[cell_line]:\n",
    "        if mirna in false_positives_count.keys():\n",
    "            false_positives_count[mirna] += 1\n",
    "        else:\n",
    "            false_positives_count[mirna] = 1"
   ]
  },
  {
   "cell_type": "code",
   "execution_count": 135,
   "metadata": {},
   "outputs": [],
   "source": [
    "false_positives_count = pd.Series(false_positives_count)\n",
    "false_positives_count.to_csv(os.path.join(output_folder, f\"{used_mirna_name}_false_positives_count.csv\"))\n",
    "\n",
    "false_positives_df = pd.DataFrame(columns=cell_lines_measured, index=false_positives_count.index)\n",
    "for cell_line in cell_lines_measured:\n",
    "    false_positives_df.loc[false_positives[cell_line], cell_line] = 1\n",
    "false_positives_df.to_csv(os.path.join(output_folder, f\"{used_mirna_name}_false_positives.csv\"))"
   ]
  },
  {
   "cell_type": "markdown",
   "metadata": {},
   "source": [
    "## Load the filtered false positive data\n",
    "### The data loaded here is generated using Notebook 4."
   ]
  },
  {
   "cell_type": "code",
   "execution_count": 136,
   "metadata": {},
   "outputs": [],
   "source": [
    "false_positives_df_filter = pd.read_csv(os.path.join(output_folder, f\"{used_mirna_name}_false_positives_filtered.csv\"), index_col=0)"
   ]
  },
  {
   "cell_type": "code",
   "execution_count": null,
   "metadata": {},
   "outputs": [],
   "source": [
    "false_positives_df_filter"
   ]
  },
  {
   "cell_type": "code",
   "execution_count": null,
   "metadata": {},
   "outputs": [],
   "source": [
    "# count those that have a value that is not NaN in at least four cell lines\n",
    "false_positives_df_filter[\"sum\"] = false_positives_df_filter.sum(axis=1)\n",
    "false_positives_df_filter = false_positives_df_filter[false_positives_df_filter[\"sum\"] > 3]\n",
    "false_positives_df_filter"
   ]
  },
  {
   "cell_type": "code",
   "execution_count": 139,
   "metadata": {},
   "outputs": [],
   "source": [
    "%%capture output\n",
    "fig, axs = plt.subplots(5, 2, figsize=(6, 8), sharex=True, sharey=True)\n",
    "# make the plot folder if it doesn't exist\n",
    "if not os.path.exists(f\"{plot_folder}/3.9_false_positives\"):\n",
    "    os.makedirs(f\"{plot_folder}/3.9_false_positives\")\n",
    "\n",
    "for i, cell_line in enumerate(cell_lines_measured):\n",
    "    current_scale = scales[i]\n",
    "    \n",
    "    # there should be not filtering for NaN values - a false positive in one cell line is probably one elsewhere as well\n",
    "    false_pos_df_cell_line = false_positives_df_filter[cell_line]\n",
    "    index_wo_false_pos = df_expression_filter.index.difference(false_pos_df_cell_line.index)\n",
    "    df_ex = df_expression_filter.loc[index_wo_false_pos, cell_line].dropna()\n",
    "    df_knock = df_knockdown_filter.loc[index_wo_false_pos, cell_line].dropna()\n",
    "    \n",
    "    # remove \"hsa-miR-3613-3p\" from df_ex and df_knock for plotting purposes\n",
    "    df_ex = df_ex[df_ex.index != \"hsa-miR-3613-3p\"]\n",
    "    df_knock = df_knock[df_knock.index != \"hsa-miR-3613-3p\"]\n",
    "    \n",
    "    axs[i//2, i%2].scatter(df_ex+current_scale,df_knock, s=5, color=\"tab:blue\", rasterized=True)\n",
    "    axs[i//2, i%2].scatter(df_expression_filter[cell_line].loc[false_pos_df_cell_line.index,]+current_scale,\n",
    "                df_knockdown_filter[cell_line].loc[false_pos_df_cell_line.index,], color=\"red\", s=5, rasterized=True)\n",
    "    \n",
    "    axs[i//2, i%2].plot(x_range_log, hill_func_log_regular(x_range_log,\n",
    "                        *hill_params), color=\"black\", linewidth=1.5, label=\"fit\")\n",
    "\n",
    "    # calculate the R2 value\n",
    "    r2 = stats.pearsonr(df_knock,\n",
    "                        hill_func_log_regular(df_ex+current_scale,\n",
    "                        *hill_params))[0]**2\n",
    "    \n",
    "    # calculate the RMSD value\n",
    "    rmsd = np.sqrt(np.mean((df_knock-\n",
    "                            hill_func_log_regular(df_ex+current_scale,\n",
    "                            *hill_params))**2))\n",
    "\n",
    "    plt.xlim(0, 5.5)\n",
    "    plt.ylim(-1.7, 0.25)\n",
    "    \n",
    "    axs[i//2, i%2].set_xlabel(r\"log$_{10}$(miRNA expression)\")\n",
    "    axs[i//2, i%2].set_ylabel(r\"log$_{10}$(stability)\")\n",
    "    axs[i//2, i%2].set_title(f\"{cell_line}, r2 = {round(r2, 2)}, rmsd = {round(rmsd, 2)}\", fontsize=7.5)\n",
    "\n",
    "plt.tight_layout()\n",
    "for format in [\"png\", \"svg\"]:\n",
    "    plt.savefig(os.path.join(plot_folder, f\"3.9_false_positives/3.9.1_false_positives_highlighted.{format}\"), dpi=600)"
   ]
  },
  {
   "cell_type": "code",
   "execution_count": 140,
   "metadata": {},
   "outputs": [],
   "source": [
    "%%capture output\n",
    "fig = plt.figure(figsize=(3, 1.8))\n",
    "\n",
    "for i, cell_line in enumerate(cell_lines_measured):\n",
    "    current_scale = scales[i]\n",
    "    \n",
    "    # there should be not filtering for NaN values - a false positive in one cell line is probably one elsewhere as well\n",
    "    # false_pos_df_cell_line = false_positives_df_filter[cell_line]\n",
    "    # index_wo_false_pos = df_expression_filter.index.difference(false_pos_df_cell_line.index)\n",
    "    # df_ex = df_expression_filter.loc[index_wo_false_pos, cell_line].dropna()\n",
    "    # df_knock = df_knockdown_filter.loc[index_wo_false_pos, cell_line].dropna()\n",
    "    false_pos_df_cell_line = false_positives_df_filter[cell_line]\n",
    "    index_wo_false_pos = df_expression.index.difference(false_pos_df_cell_line.index)\n",
    "    df_ex = df_expression.loc[index_wo_false_pos, cell_line].dropna()\n",
    "    df_knock = df_knockdown.loc[index_wo_false_pos, cell_line].dropna()\n",
    "    \n",
    "    # remove \"hsa-miR-3613-3p\" from df_ex and df_knock for plotting purposes\n",
    "    df_ex = df_ex[df_ex.index != \"hsa-miR-3613-3p\"]\n",
    "    df_knock = df_knock[df_knock.index != \"hsa-miR-3613-3p\"]\n",
    "    \n",
    "    r2 = stats.pearsonr(df_knock,\n",
    "                        hill_func_log_regular(df_ex+current_scale,\n",
    "                        *hill_params))[0]**2\n",
    "    \n",
    "    plt.scatter(df_ex+current_scale,df_knock, s=4, color=\"tab:blue\", rasterized=True, zorder=1, edgecolors=\"none\")\n",
    "    \n",
    "    if used_mirna_name == \"Alles2019\":\n",
    "        if i ==0:\n",
    "            plt.scatter(df_expression_filter[cell_line].loc[false_pos_df_cell_line.index,]+current_scale,\n",
    "                        df_knockdown_filter[cell_line].loc[false_pos_df_cell_line.index,],\n",
    "                        color=\"tab:orange\", s=5, rasterized=True, zorder=2, label=\"false positives microarray\")\n",
    "            plt.title(\"filtered false positives (microarray)\", fontsize=8)\n",
    "        else:\n",
    "            plt.scatter(df_expression_filter[cell_line].loc[false_pos_df_cell_line.index,]+current_scale,\n",
    "                        df_knockdown_filter[cell_line].loc[false_pos_df_cell_line.index,],\n",
    "                        color=\"tab:orange\", s=5, rasterized=True, zorder=2)\n",
    "    else:\n",
    "        if i == 0:\n",
    "            plt.scatter(df_expression_filter[cell_line].loc[false_pos_df_cell_line.index,]+current_scale,\n",
    "                        df_knockdown_filter[cell_line].loc[false_pos_df_cell_line.index,],\n",
    "                        color=\"tab:red\", s=5, rasterized=True, zorder=2, label=\"false positives sequencing\")\n",
    "            plt.title(\"filtered false positives (sequencing)\", fontsize=8)\n",
    "        else:\n",
    "            plt.scatter(df_expression_filter[cell_line].loc[false_pos_df_cell_line.index,]+current_scale,\n",
    "                        df_knockdown_filter[cell_line].loc[false_pos_df_cell_line.index,],\n",
    "                        color=\"tab:red\", s=5, rasterized=True, zorder=2)\n",
    "\n",
    "    if i == 0:\n",
    "        plt.plot(x_range_log, hill_func_log_regular(x_range_log,\n",
    "                *hill_params), color=\"black\", linewidth=1, ls=\"--\")\n",
    "    \n",
    "plt.xlabel(r\"log$_{10}$\"+f\"(miRNA expression)\")\n",
    "plt.ylabel(r\"log$_{10}$(stability)\")\n",
    "\n",
    "plt.xlim(0, 5.5)\n",
    "plt.ylim(-1.7, 0.25)\n",
    "plt.tight_layout()\n",
    "plt.legend(loc=\"lower left\", frameon=False, fontsize=7)\n",
    "for format in [\"png\", \"svg\"]:\n",
    "    plt.savefig(f\"{plot_folder}/3.9_false_positives/3.9.1_false_positives_highlighted_single_plot.{format}\", dpi=600, bbox_inches='tight')"
   ]
  },
  {
   "cell_type": "code",
   "execution_count": 141,
   "metadata": {},
   "outputs": [],
   "source": [
    "# remove these from the data\n",
    "df_knockdown_filter = df_knockdown_filter[~df_knockdown_filter.index.isin(false_positives_df_filter.index)]\n",
    "df_expression_filter = df_expression_filter[~df_expression_filter.index.isin(false_positives_df_filter.index)]\n",
    "used_mirna_data_filter = used_mirna_data[~used_mirna_data.index.isin(false_positives_df_filter.index)]\n",
    "df_deviation_filter = df_deviation_filter[~df_deviation_filter.index.isin(false_positives_df_filter.index)]"
   ]
  },
  {
   "cell_type": "markdown",
   "metadata": {},
   "source": [
    "# 3.10 - Look at homopolymers / Investigate the remaining false positives"
   ]
  },
  {
   "cell_type": "code",
   "execution_count": 142,
   "metadata": {},
   "outputs": [],
   "source": [
    "false_positives_df.drop(false_positives_df_filter.index, inplace=True)"
   ]
  },
  {
   "cell_type": "code",
   "execution_count": null,
   "metadata": {},
   "outputs": [],
   "source": [
    "# print the sequence of all of these\n",
    "for index, row in false_positives_df.iterrows():\n",
    "    mirna_seq = mirbase.loc[index, \"sequence_norm\"]\n",
    "    print(index, mirna_seq)"
   ]
  },
  {
   "cell_type": "code",
   "execution_count": 144,
   "metadata": {},
   "outputs": [],
   "source": [
    "def find_largest_homopolymer_stretch(sequence, min_length=5, max_gap=0):\n",
    "    \"\"\"\n",
    "    Finds the largest homopolymer stretch in a given DNA sequence that is at least `min_length` bases long,\n",
    "    allowing for a customizable gap, and returns only the single largest stretch in terms of total identical nucleotides.\n",
    "\n",
    "    Args:\n",
    "    - sequence (str): The DNA sequence to search within.\n",
    "    - min_length (int): The minimum length of the homopolymer stretch.\n",
    "    - max_gap (int): The maximum number of different bases allowed in the homopolymer stretch.\n",
    "\n",
    "    Returns:\n",
    "    - tuple: Contains the start index, end index, the sequence of the homopolymer stretch, and the base of the homopolymer.\n",
    "    \"\"\"\n",
    "    \n",
    "    # Initialize variables to keep track of the largest homopolymer stretch\n",
    "    largest_stretch = None\n",
    "    largest_count = 0\n",
    "    \n",
    "    for i in range(len(sequence)):\n",
    "        for j in range(i + min_length, len(sequence) + 1):\n",
    "            subseq = sequence[i:j]\n",
    "            base_counts = {base: subseq.count(base) for base in set(subseq)}\n",
    "            dominant_base, dominant_count = max(base_counts.items(), key=lambda x: x[1])\n",
    "            gap_count = len(subseq) - dominant_count\n",
    "\n",
    "            if dominant_count > largest_count and gap_count <= max_gap:\n",
    "                largest_stretch = (i, j, subseq, dominant_base)\n",
    "                largest_count = dominant_count\n",
    "\n",
    "    return largest_stretch"
   ]
  },
  {
   "cell_type": "code",
   "execution_count": null,
   "metadata": {},
   "outputs": [],
   "source": [
    "# print the sequence of all of these\n",
    "for index, row in false_positives_df.iterrows():\n",
    "    mirna_seq = mirbase.loc[index, \"sequence_norm\"]\n",
    "    stretches = find_largest_homopolymer_stretch(mirna_seq)\n",
    "    print(index, mirna_seq, stretches)"
   ]
  },
  {
   "cell_type": "code",
   "execution_count": 146,
   "metadata": {},
   "outputs": [],
   "source": [
    "# is df_deviation_filter in the local environment\n",
    "if not \"df_deviation_filter\" in locals():\n",
    "    df_deviation_filter = df_deviation.copy()\n",
    "    df_expression_filter = df_expression.copy()\n",
    "    df_knockdown_filter = df_knockdown.copy()"
   ]
  },
  {
   "cell_type": "code",
   "execution_count": 147,
   "metadata": {},
   "outputs": [],
   "source": [
    "# add homopolymer stretch info to deviation_df_filter\n",
    "for index, row in df_deviation_filter.iterrows():\n",
    "    mirna_seq = mirbase.loc[index, \"sequence_norm\"]\n",
    "    homopolymer = find_largest_homopolymer_stretch(mirna_seq)\n",
    "    if homopolymer is not None:\n",
    "        df_deviation_filter.loc[index, \"homopolymer\"] = True\n",
    "    else:\n",
    "        df_deviation_filter.loc[index, \"homopolymer\"] = False"
   ]
  },
  {
   "cell_type": "code",
   "execution_count": 148,
   "metadata": {},
   "outputs": [],
   "source": [
    "# unroll df_deviation along cell lines\n",
    "df_deviation_filter_unroll = pd.DataFrame(columns=[\"deviation\", \"homopolymer\"])\n",
    "\n",
    "for index, row in df_deviation_filter.iterrows():\n",
    "    for cell_line in cell_lines_measured:\n",
    "        new_index = index + \"_\" + cell_line\n",
    "        df_deviation_filter_unroll.loc[new_index, [\"deviation\", \"homopolymer\"]] = [df_deviation_filter.loc[index, cell_line], df_deviation_filter.loc[index, \"homopolymer\"]]"
   ]
  },
  {
   "cell_type": "code",
   "execution_count": null,
   "metadata": {},
   "outputs": [],
   "source": [
    "# make a boxplot containing all values for which homopolymer is true or false\n",
    "# create the output folder if necessary\n",
    "if not os.path.exists(os.path.join(plot_folder, \"3.10_remaining_false_positives\")):\n",
    "    os.makedirs(os.path.join(plot_folder, \"3.10_remaining_false_positives\"))\n",
    "\n",
    "fig = plt.figure(figsize=(1.6, 1.6))\n",
    "sns.boxplot(data=df_deviation_filter_unroll, x=\"homopolymer\", y=\"deviation\", flierprops=dict(marker='o', markersize=2))\n",
    "plt.ylabel(\"deviation from fit\")\n",
    "plt.xlabel(\"homopolymers >=5 nt\")\n",
    "\n",
    "# get all hsa-miR-3613-3p entries\n",
    "index_3613 = df_deviation_filter_unroll.index[df_deviation_filter_unroll.index.str.contains(\"hsa-miR-3613-3p\")]\n",
    "\n",
    "# label these as red dots\n",
    "#plt.scatter(df_deviation_filter_unroll.loc[index_3613, \"homopolymer\"], df_deviation_filter_unroll.loc[index_3613, \"deviation\"], color=\"red\", s=10)\n",
    "plt.tight_layout()\n",
    "for format in [\"png\", \"svg\"]:\n",
    "    plt.savefig(os.path.join(plot_folder, f\"3.10_remaining_false_positives/3.10_homopolymer_boxplot.{format}\"), dpi=300)"
   ]
  },
  {
   "cell_type": "code",
   "execution_count": 151,
   "metadata": {},
   "outputs": [],
   "source": [
    "# which microRNAs have a deviation below -0.5?\n",
    "strong_deviation_dict = {}\n",
    "for cell_line in cell_lines_measured:\n",
    "    strong_deviation_index = df_deviation_filter[df_deviation_filter[cell_line] < -0.5].index\n",
    "    strong_deviation_dict[cell_line] = strong_deviation_index"
   ]
  },
  {
   "cell_type": "code",
   "execution_count": null,
   "metadata": {},
   "outputs": [],
   "source": [
    "# create counts across cell lines!\n",
    "strong_deviation_count = {}\n",
    "for cell_line in cell_lines_measured:\n",
    "    for mirna in strong_deviation_dict[cell_line]:\n",
    "        if mirna in strong_deviation_count.keys():\n",
    "            strong_deviation_count[mirna] += 1\n",
    "        else:\n",
    "            strong_deviation_count[mirna] = 1\n",
    "\n",
    "# sort by count\n",
    "strong_deviation_count = pd.Series(strong_deviation_count)\n",
    "strong_deviation_count.sort_values(ascending=False, inplace=True)\n",
    "strong_deviation_count"
   ]
  },
  {
   "cell_type": "markdown",
   "metadata": {},
   "source": [
    "#### hsa-miR-3613-3p stands out in every single measurement!"
   ]
  },
  {
   "cell_type": "code",
   "execution_count": 155,
   "metadata": {},
   "outputs": [],
   "source": [
    "# filter out \"hsa-miR-3613-3p\"\n",
    "df_expression_filter = df_expression_filter[~df_expression_filter.index.isin([\"hsa-miR-3613-3p\"])]\n",
    "df_knockdown_filter = df_knockdown_filter[~df_knockdown_filter.index.isin([\"hsa-miR-3613-3p\"])]\n",
    "df_deviation_filter = df_deviation_filter[~df_deviation_filter.index.isin([\"hsa-miR-3613-3p\"])]"
   ]
  },
  {
   "cell_type": "markdown",
   "metadata": {},
   "source": [
    "### Redo the fitting"
   ]
  },
  {
   "cell_type": "code",
   "execution_count": 156,
   "metadata": {},
   "outputs": [],
   "source": [
    "# do df_expression_filter and df_knockdown_filter exist in the local variables?\n",
    "if not (\"df_expression_filter\" in locals() and \"df_knockdown_filter\" in locals()):\n",
    "    df_expression_filter = df_expression.copy()\n",
    "    df_knockdown_filter = df_knockdown.copy()"
   ]
  },
  {
   "cell_type": "code",
   "execution_count": null,
   "metadata": {},
   "outputs": [],
   "source": [
    "x_data = []\n",
    "y_data = []\n",
    "dataset_indices = []\n",
    "for i, cell_line in enumerate(cell_lines_measured):\n",
    "    ex_df = df_expression_filter[cell_line].dropna().values\n",
    "    knock_df = df_knockdown_filter[cell_line].dropna().values\n",
    "    x_data.append(ex_df)\n",
    "    y_data.append(knock_df)\n",
    "    dataset_indices.append([i] * len(ex_df))\n",
    "\n",
    "x_data = np.concatenate(x_data)\n",
    "y_data = np.concatenate(y_data)\n",
    "dataset_indices = np.concatenate(dataset_indices)\n",
    "\n",
    "popt_scales, pcov = popt_scales_filter, pcov = opt.curve_fit(\n",
    "    lambda x, *params: hill_func_log_scales(x, dataset_indices, *params),\n",
    "    x_data,\n",
    "    y_data,\n",
    "    p0=p0_scale,\n",
    "    bounds=bounds_scale,\n",
    "    maxfev=5000\n",
    ")\n",
    "\n",
    "scales = list(popt_scales[num_params:])\n",
    "hill_params = popt_scales[:num_params]\n",
    "hill_params"
   ]
  },
  {
   "cell_type": "code",
   "execution_count": 158,
   "metadata": {},
   "outputs": [],
   "source": [
    "scale_dict = {cell_line: scale for cell_line, scale in zip(cell_lines_measured, scales)}"
   ]
  },
  {
   "cell_type": "code",
   "execution_count": 159,
   "metadata": {},
   "outputs": [],
   "source": [
    "%%capture output\n",
    "df_deviation_filter = pd.DataFrame(columns=df_knockdown_filter.columns, index=df_knockdown_filter.index)\n",
    "\n",
    "# create a figure with 4 subplots\n",
    "fig, axs = plt.subplots(5, 2, figsize=(6, 8), sharex=True, sharey=True)\n",
    "# make the plot folder if it doesn't exist\n",
    "if not os.path.exists(f\"{plot_folder}/3.9_false_positives\"):\n",
    "    os.makedirs(f\"{plot_folder}/3.9_false_positives\")\n",
    "\n",
    "for i, cell_line in enumerate(cell_lines_measured):\n",
    "    current_scale = scales[i]\n",
    "    \n",
    "    df_ex = df_expression_filter.loc[:, cell_line].dropna()\n",
    "    df_knock = df_knockdown_filter.loc[:, cell_line].dropna()\n",
    "    \n",
    "    axs[i//2, i%2].scatter(df_ex+current_scale,df_knock, s=5, color=\"tab:blue\")\n",
    "    axs[i//2, i%2].plot(x_range_log, hill_func_log_regular(x_range_log,\n",
    "                        *hill_params), color=\"black\", linewidth=1.5, label=\"fit\", ls=\"--\")\n",
    "\n",
    "    # calculate the R2 value\n",
    "    r2 = stats.pearsonr(df_knock,\n",
    "                        hill_func_log_regular(df_ex+current_scale,\n",
    "                        *hill_params))[0]**2\n",
    "    \n",
    "    # calculate the RMSD value\n",
    "    rmsd = np.sqrt(np.mean((df_knock-\n",
    "                            hill_func_log_regular(df_ex+current_scale,\n",
    "                            *hill_params))**2))\n",
    "\n",
    "    \n",
    "    # calculate the deviation\n",
    "    df_deviation_filter[cell_line] = (df_knock - hill_func_log_regular(df_ex+current_scale, *hill_params))\n",
    "    \n",
    "    plt.xlim(0, 5.5)\n",
    "    plt.ylim(-1.7, 0.25)\n",
    "    \n",
    "    if i % 2 == 0:\n",
    "        axs[i//2, i%2].set_ylabel(r\"log$_{10}$(stability)\")\n",
    "    if i // 2 == 4:\n",
    "        axs[i//2, i%2].set_xlabel(r\"log$_{10}$(miRNA expression)\")\n",
    "    axs[i//2, i%2].set_title(f\"{cell_line}, r2 = {round(r2, 2)}, rmsd = {round(rmsd, 2)}\", fontsize=7.5)\n",
    "\n",
    "plt.tight_layout()\n",
    "for format in [\"png\", \"svg\"]:\n",
    "    plt.savefig(os.path.join(plot_folder, f\"3.9_false_positives/3.9.2_global_fit_false_positives_filtered.{format}\"), dpi=300)"
   ]
  },
  {
   "cell_type": "code",
   "execution_count": 160,
   "metadata": {},
   "outputs": [],
   "source": [
    "# save the deviation dict\n",
    "df_deviation_filter.to_csv(os.path.join(output_folder, f\"{used_mirna_name}_deviation_step_3.10.csv\"))"
   ]
  },
  {
   "cell_type": "markdown",
   "metadata": {},
   "source": [
    "# 3.11 - Investigate the remaining deviating miRNAs"
   ]
  },
  {
   "cell_type": "markdown",
   "metadata": {},
   "source": [
    "## 3.11.1 - False negatives"
   ]
  },
  {
   "cell_type": "markdown",
   "metadata": {},
   "source": [
    "### Get false negative info for both datasets and save them"
   ]
  },
  {
   "cell_type": "code",
   "execution_count": 161,
   "metadata": {},
   "outputs": [],
   "source": [
    "false_negatives = {}\n",
    "for cell_line in cell_lines_measured:\n",
    "    # restrain to those that actually have significant knockdown\n",
    "    df_knockdown_high = df_knockdown_filter.loc[:, cell_line].dropna()\n",
    "    df_knockdown_high = df_knockdown_high[df_knockdown_high < -0.25]\n",
    "    \n",
    "    df_expression_low = df_expression_filter.loc[:, cell_line].dropna()\n",
    "    # ignore this requirement for now\n",
    "    df_expression_low = df_expression_low[df_expression_low < 3.5]\n",
    "    \n",
    "    # get common indices between the two and the associated df_deviation_false_pos\n",
    "    common_indices = df_knockdown_high.index.intersection(df_expression_low.index)\n",
    "    df_deviation_false_neg = df_deviation_filter[cell_line].loc[common_indices]\n",
    "    \n",
    "    # restrain to those that knock down more than expected\n",
    "    df_deviation_false_neg = df_deviation_false_neg[df_deviation_false_neg < - 0.3]\n",
    "    \n",
    "    false_negatives[cell_line] = df_deviation_false_neg.index.to_list()"
   ]
  },
  {
   "cell_type": "code",
   "execution_count": 162,
   "metadata": {},
   "outputs": [],
   "source": [
    "# get a list of how often each microRNA is a false negative\n",
    "false_negatives_count = {}\n",
    "for cell_line in cell_lines_measured:\n",
    "    for mirna in false_negatives[cell_line]:\n",
    "        if mirna in false_negatives_count.keys():\n",
    "            false_negatives_count[mirna] += 1\n",
    "        else:\n",
    "            false_negatives_count[mirna] = 1"
   ]
  },
  {
   "cell_type": "code",
   "execution_count": 163,
   "metadata": {},
   "outputs": [],
   "source": [
    "false_negatives_count = pd.Series(false_negatives_count)\n",
    "false_negatives_count.to_csv(os.path.join(output_folder, f\"{used_mirna_name}_false_negatives_count.csv\"))\n",
    "\n",
    "false_negatives_df = pd.DataFrame(columns=cell_lines_measured, index=false_negatives_count.index)\n",
    "for cell_line in cell_lines_measured:\n",
    "    false_negatives_df.loc[false_negatives[cell_line], cell_line] = 1\n",
    "false_negatives_df.to_csv(os.path.join(output_folder, f\"{used_mirna_name}_false_negatives.csv\"))"
   ]
  },
  {
   "cell_type": "markdown",
   "metadata": {},
   "source": [
    "## Load the filtered false negative data\n",
    "### The processing and filterting occurs in Notebook 4"
   ]
  },
  {
   "cell_type": "code",
   "execution_count": 164,
   "metadata": {},
   "outputs": [],
   "source": [
    "false_negative_df_filter = pd.read_csv(os.path.join(output_folder, f\"{used_mirna_name}_false_negatives_filtered.csv\"), index_col=0)"
   ]
  },
  {
   "cell_type": "code",
   "execution_count": null,
   "metadata": {},
   "outputs": [],
   "source": [
    "# count those that have a value that is not NaN in at least four cell lines\n",
    "false_negative_df_filter[\"sum\"] = false_negative_df_filter.sum(axis=1)\n",
    "false_negative_df_filter = false_negative_df_filter[false_negative_df_filter[\"sum\"] > 3]\n",
    "false_negative_df_filter"
   ]
  },
  {
   "cell_type": "code",
   "execution_count": 166,
   "metadata": {},
   "outputs": [],
   "source": [
    "%%capture output\n",
    "fig, axs = plt.subplots(5, 2, figsize=(6, 8), sharex=True, sharey=True)\n",
    "# make the plot folder if it doesn't exist\n",
    "if not os.path.exists(f\"{plot_folder}/3.11.1_false_negatives\"):\n",
    "    os.makedirs(f\"{plot_folder}/3.11.1_false_negatives\")\n",
    "\n",
    "for i, cell_line in enumerate(cell_lines_measured):\n",
    "    current_scale = scales[i]\n",
    "    \n",
    "    # if it's a false negative in one cell line, it needs to be one in the other cell lines as well!\n",
    "    #false_neg_df_cell_line = false_negative_df_filter[cell_line].dropna()\n",
    "    false_neg_df_cell_line = false_negative_df_filter[cell_line]\n",
    "    index_wo_false_neg = df_expression_filter.index.difference(false_neg_df_cell_line.index)\n",
    "    df_ex = df_expression_filter.loc[index_wo_false_neg, cell_line].dropna()\n",
    "    df_knock = df_knockdown_filter.loc[index_wo_false_neg, cell_line].dropna()\n",
    "    \n",
    "    axs[i//2, i%2].scatter(df_ex+current_scale,df_knock, s=5, color=\"tab:blue\", rasterized=True)\n",
    "    axs[i//2, i%2].scatter(df_expression_filter[cell_line].loc[false_neg_df_cell_line.index,]+current_scale,\n",
    "                df_knockdown_filter[cell_line].loc[false_neg_df_cell_line.index,], color=\"red\", s=5, rasterized=True)\n",
    "    \n",
    "    axs[i//2, i%2].plot(x_range_log, hill_func_log_regular(x_range_log,\n",
    "                        *hill_params), color=\"black\", linewidth=1.5, label=\"fit\", ls=\"--\")\n",
    "\n",
    "    # calculate the R2 value\n",
    "    r2 = stats.pearsonr(df_knock,\n",
    "                        hill_func_log_regular(df_ex+current_scale,\n",
    "                        *hill_params))[0]**2\n",
    "    \n",
    "    # calculate the RMSD value\n",
    "    rmsd = np.sqrt(np.mean((df_knock-\n",
    "                            hill_func_log_regular(df_ex+current_scale,\n",
    "                            *hill_params))**2))\n",
    "\n",
    "    plt.xlim(0, 5.5)\n",
    "    plt.ylim(-1.7, 0.25)\n",
    "    \n",
    "    if i % 2 == 0:\n",
    "        axs[i//2, i%2].set_ylabel(r\"log$_{10}$(stability)\")\n",
    "    if i // 2 == 4:\n",
    "        axs[i//2, i%2].set_xlabel(r\"log$_{10}$(miRNA expression)\")\n",
    "    axs[i//2, i%2].set_title(f\"{cell_line}, r2 = {round(r2, 2)}, rmsd = {round(rmsd, 2)}\", fontsize=7.5)\n",
    "\n",
    "plt.tight_layout()\n",
    "for format in [\"png\", \"svg\"]:\n",
    "    plt.savefig(os.path.join(plot_folder, f\"3.11.1_false_negatives/3.11.1_false_negatives_highlighted.{format}\"), dpi=600)"
   ]
  },
  {
   "cell_type": "code",
   "execution_count": 167,
   "metadata": {},
   "outputs": [],
   "source": [
    "%%capture output\n",
    "fig = plt.figure(figsize=(3, 1.8))\n",
    "\n",
    "for i, cell_line in enumerate(cell_lines_measured):\n",
    "    current_scale = scales[i]\n",
    "    \n",
    "    false_neg_df_cell_line = false_negative_df_filter[cell_line]\n",
    "    index_wo_false_neg = df_expression.index.difference(false_neg_df_cell_line.index)\n",
    "    \n",
    "    df_ex = df_expression.loc[index_wo_false_neg, cell_line].dropna()\n",
    "    df_knock = df_knockdown.loc[index_wo_false_neg, cell_line].dropna()\n",
    "    \n",
    "    plt.scatter(df_ex+current_scale,df_knock, s=3, color=\"tab:blue\", rasterized=True, zorder=1, edgecolors=\"none\")\n",
    "    \n",
    "    if used_mirna_name == \"Alles2019\":\n",
    "        # plt.scatter(df_expression[cell_line].loc[false_pos_df_cell_line.index,]+current_scale,\n",
    "        #             df_knockdown[cell_line].loc[false_pos_df_cell_line.index,], color=\"tab:orange\", s=6, rasterized=True, zorder=2, edgecolors=\"none\")\n",
    "\n",
    "        plt.scatter(df_expression[cell_line].loc[false_neg_df_cell_line.index,]+current_scale,\n",
    "                    df_knockdown[cell_line].loc[false_neg_df_cell_line.index,],\n",
    "                    color=\"tab:orange\", s=5, rasterized=True, zorder=2, marker=\"x\", label=\"false negatives microarray\" if i == 0 else None)\n",
    "        plt.title(\"filtered false negatives (microarray)\", fontsize=8)\n",
    "    else:\n",
    "        plt.scatter(df_expression[cell_line].loc[false_neg_df_cell_line.index,]+current_scale,\n",
    "                    df_knockdown[cell_line].loc[false_neg_df_cell_line.index,],\n",
    "                    color=\"tab:red\", s=5, rasterized=True, zorder=2, marker=\"x\", label=\"false negatives sequencing\" if i == 0 else None)\n",
    "        plt.title(\"filtered false negatives (sequencing)\", fontsize=8)\n",
    "\n",
    "    if i == 0:\n",
    "        plt.plot(x_range_log, hill_func_log_regular(x_range_log,\n",
    "                *hill_params), color=\"black\", linewidth=1, ls=\"--\")\n",
    "    \n",
    "plt.xlabel(r\"log$_{10}$\"+f\"(miRNA expression)\")\n",
    "plt.ylabel(r\"log$_{10}$(stability)\")\n",
    "\n",
    "# plt.scatter(0.5, -1.2, color=\"black\", s=10, marker=\"x\")\n",
    "# plt.text(0.6, -1.25, f\"{label_mirna}\", fontsize=7, ha=\"left\")\n",
    "# plt.text(0.6, -1.25, r\"$t(x)=1-\\frac{x}{c+x}$\", fontsize=7, ha=\"left\")\n",
    "\n",
    "plt.xlim(0, 5.5)\n",
    "plt.ylim(-1.7, 0.25)\n",
    "plt.tight_layout()\n",
    "plt.legend(loc=\"lower left\", frameon=False, fontsize=6.5)\n",
    "for format in [\"png\", \"svg\"]:\n",
    "    plt.savefig(os.path.join(plot_folder, f\"3.11.1_false_negatives/3.11.1_false_pos_and_neg_single_plot.{format}\"), dpi=600)"
   ]
  },
  {
   "cell_type": "markdown",
   "metadata": {},
   "source": [
    "## 3.11.2 - Does the length of the microRNA matter?"
   ]
  },
  {
   "cell_type": "code",
   "execution_count": null,
   "metadata": {},
   "outputs": [],
   "source": [
    "original_sequences = mirbase.loc[df_expression_filter.index, [\"sequence_orig\"]]\n",
    "original_sequences[\"length\"] = original_sequences[\"sequence_orig\"].apply(len)\n",
    "df_expression_filter[\"length\"] = original_sequences[\"length\"]\n",
    "original_sequences[\"length\"]"
   ]
  },
  {
   "cell_type": "code",
   "execution_count": 169,
   "metadata": {},
   "outputs": [],
   "source": [
    "# get a boxplot of the deviation for each length\n",
    "df_deviation_filter[\"length\"] = original_sequences[\"length\"]\n",
    "df_deviation_filter_flattened = pd.DataFrame(columns=[\"deviation\", \"length\"])\n",
    "\n",
    "for index, row in df_deviation_filter.iterrows():\n",
    "    for cell_line in cell_lines_measured:\n",
    "        new_index = index + \"_\" + cell_line\n",
    "        df_deviation_filter_flattened.loc[new_index, [\"deviation\", \"length\"]] = [df_deviation_filter.loc[index, cell_line], df_deviation_filter.loc[index, \"length\"]]"
   ]
  },
  {
   "cell_type": "code",
   "execution_count": null,
   "metadata": {},
   "outputs": [],
   "source": [
    "# create a plot folder if none exists\n",
    "if not os.path.exists(os.path.join(plot_folder, \"3.11_length_deviation\")):\n",
    "    os.makedirs(os.path.join(plot_folder, \"3.11_length_deviation\"))\n",
    "\n",
    "plt.figure(figsize=(2.5, 1.6))\n",
    "sns.boxplot(data=df_deviation_filter_flattened, x=\"length\", y=\"deviation\", flierprops=dict(marker='o', markersize=1, color=\"blue\", linewidth=0.0))\n",
    "plt.xlabel(\"microRNA length\")\n",
    "plt.ylabel(\"deviation from fit\")\n",
    "plt.tight_layout()\n",
    "for format in [\"png\", \"svg\"]:\n",
    "    plt.savefig(os.path.join(plot_folder, f\"3.11_length_deviation/3.11_length_deviation_boxplot.{format}\"), dpi=300)"
   ]
  },
  {
   "cell_type": "code",
   "execution_count": null,
   "metadata": {},
   "outputs": [],
   "source": [
    "from library2_utils.plotting_utilities import HandlerSize\n",
    "\n",
    "# create the plot\n",
    "plt.clf()\n",
    "fig = plt.figure(figsize=(3, 2))\n",
    "\n",
    "# get tab10 as a color palette\n",
    "colors = sns.color_palette(\"tab10\")\n",
    "# create a scatterplot for each of these\n",
    "sc_plots = []\n",
    "for length_i, length in enumerate(sorted(df_expression_filter[\"length\"].unique())):\n",
    "    # create the plot folder if it doesn't exist\n",
    "    \n",
    "    # get the indices of the current length\n",
    "    current_indices = df_expression_filter[df_expression_filter[\"length\"] == length].index\n",
    "    \n",
    "    \n",
    "    for i, cell_line in enumerate(cell_lines_measured):\n",
    "        current_scale = scales[i]\n",
    "        sc = plt.scatter(df_expression_filter.loc[current_indices, cell_line]+current_scale,\n",
    "                    df_knockdown_filter.loc[current_indices, cell_line],\n",
    "                    s=3, edgecolors=\"none\", color=colors[length_i], rasterized=True, label = str(length)+\" nt\" if i == 0 else None)\n",
    "        if i == 0:\n",
    "            sc_plots.append(sc)\n",
    "    if length_i == 0:\n",
    "        plt.plot(x_range_log, hill_func_log_regular(x_range_log,\n",
    "                        *hill_params), color=\"black\", linewidth=1.5, linestyle=\"--\")\n",
    "plt.xlim(0, 5.5)\n",
    "plt.ylim(-1.7, 0.25)\n",
    "\n",
    "plt.xlabel(r\"log$_{10}$(miRNA expression)\")\n",
    "plt.ylabel(r\"log$_{10}$(stability)\")\n",
    "plt.legend(loc=\"lower left\", frameon=False, fontsize=7, ncols=2, handler_map={sc: HandlerSize(12) for sc in sc_plots})\n",
    "plt.tight_layout()\n",
    "for format in [\"png\", \"svg\"]:\n",
    "    plt.savefig(f\"{plot_folder}/3.11_length_deviation/3.11_mirna_length.{format}\", dpi=600)"
   ]
  },
  {
   "cell_type": "markdown",
   "metadata": {},
   "source": [
    "# 3.12 - False positive and negative aware merging"
   ]
  },
  {
   "cell_type": "markdown",
   "metadata": {},
   "source": [
    "## This requires that false positives and negatives to already have been identified."
   ]
  },
  {
   "cell_type": "code",
   "execution_count": 81,
   "metadata": {},
   "outputs": [],
   "source": [
    "# create the plot folder if it doesn't exist\n",
    "if not os.path.exists(f\"{plot_folder}/3.12_data_congruence\"):\n",
    "    os.makedirs(f\"{plot_folder}/3.12_data_congruence\")"
   ]
  },
  {
   "cell_type": "code",
   "execution_count": 82,
   "metadata": {},
   "outputs": [],
   "source": [
    "def sum_filtering(df):\n",
    "    \"\"\"\n",
    "    Filters a dataframe by summing the values in each row and keeping only those that are above 3.\n",
    "    \"\"\"\n",
    "    df[\"sum\"] = df.sum(axis=1)\n",
    "    df_filtered = df[df[\"sum\"] > 3]\n",
    "    return df_filtered.drop(columns=\"sum\")\n",
    "\n",
    "false_negatives_keller = pd.read_csv(\"../outputs/3_fitting/Keller2023/Keller2023_false_negatives_filtered.csv\", index_col=0)\n",
    "false_negatives_alles = pd.read_csv(\"../outputs/3_fitting/Alles2019/Alles2019_false_negatives_filtered.csv\", index_col=0)\n",
    "false_positives_keller = pd.read_csv(\"../outputs/3_fitting/Keller2023/Keller2023_false_positives_filtered.csv\", index_col=0)\n",
    "false_positives_alles = pd.read_csv(\"../outputs/3_fitting/Alles2019/Alles2019_false_positives_filtered.csv\", index_col=0)\n",
    "\n",
    "# apply the sum filtering\n",
    "false_negatives_keller = sum_filtering(false_negatives_keller)\n",
    "false_negatives_alles = sum_filtering(false_negatives_alles)\n",
    "false_positives_keller = sum_filtering(false_positives_keller)\n",
    "false_positives_alles = sum_filtering(false_positives_alles)\n",
    "\n",
    "false_positives_and_negatives = [false_negatives_keller, false_negatives_alles, false_positives_keller, false_positives_alles]\n",
    "false_positives_and_negatives_label = [\"false negatives sequencing\", \"false negatives microarray\", \"false positives sequencing\", \"false positives microarray\"]\n",
    "false_positives_and_negatives_symbols = [\"x\", \"x\", \"o\", \"o\"]\n",
    "false_positives_and_negatives_colors = [\"tab:red\", \"tab:orange\", \"tab:red\", \"tab:orange\"]"
   ]
  },
  {
   "cell_type": "code",
   "execution_count": 83,
   "metadata": {},
   "outputs": [],
   "source": [
    "# make a list of allowed mirnas per cell line (crosstalk)\n",
    "df_knockdown_filter_congruence = df_knockdown.copy()\n",
    "\n",
    "# Run first with false-false, then with false-true, then with true-true\n",
    "crosstalk_filtered = True\n",
    "bias_aware = True\n",
    "\n",
    "# load the crosstalk dict\n",
    "input_folder = \"../outputs/5_mutations\"\n",
    "\n",
    "with open(f\"{input_folder}/5.7_crosstalk_filter_dict.pkl\", \"rb\") as f:\n",
    "    crosstalk_filter_dict = pickle.load(f)\n",
    "\n",
    "allowed_mirnas_all = {}\n",
    "for cell_line in cell_lines_measured:\n",
    "    allowed_mirnas = []\n",
    "    crosstalk_dict = crosstalk_filter_dict[cell_line]\n",
    "    allowed_mirnas_all[cell_line] = list(df_knockdown.index.difference(crosstalk_dict))\n",
    "if crosstalk_filtered:        \n",
    "    for cell_line in cell_lines_measured:\n",
    "        df_knockdown_filter_congruence[cell_line] = df_knockdown_filter_congruence.loc[allowed_mirnas_all[cell_line], cell_line]\n",
    " \n",
    "df_knockdown_filter_congruence = df_knockdown_filter_congruence[df_knockdown_filter_congruence.index != \"hsa-miR-3613-3p\"]"
   ]
  },
  {
   "cell_type": "code",
   "execution_count": 84,
   "metadata": {},
   "outputs": [],
   "source": [
    "df_alles_filter = df_alles[cell_lines_measured].copy()\n",
    "df_keller_filter = df_keller[cell_lines_measured].copy()\n",
    "\n",
    "# harmonize the indices\n",
    "common_index = df_alles_filter.index.intersection(df_keller_filter.index)\n",
    "df_alles_filter = df_alles_filter.loc[common_index, :]\n",
    "df_keller_filter = df_keller_filter.loc[common_index, :]\n",
    "\n",
    "mirna_ex_geometric_mean = pd.DataFrame(columns = cell_lines_measured, index = df_alles_filter.index)\n",
    "\n",
    "if bias_aware:\n",
    "    forbidden_Alles = false_positives_alles.index.union(false_negatives_alles.index)\n",
    "    forbidden_Keller = false_positives_keller.index.union(false_negatives_keller.index)\n",
    "\n",
    "    for mirna in mirna_ex_geometric_mean.index:\n",
    "        if mirna in forbidden_Alles:\n",
    "            mirna_ex_geometric_mean.loc[mirna, :] = df_keller_filter.loc[mirna, :]\n",
    "        elif mirna in forbidden_Keller:\n",
    "            mirna_ex_geometric_mean.loc[mirna, :] = df_alles_filter.loc[mirna, :]\n",
    "        else:\n",
    "            mirna_ex_geometric_mean.loc[mirna, :] = (df_alles_filter.loc[mirna, :] + df_keller_filter.loc[mirna, :])/2\n",
    "else:\n",
    "    mirna_ex_geometric_mean = (df_alles_filter + df_keller_filter)/2.0"
   ]
  },
  {
   "cell_type": "code",
   "execution_count": 85,
   "metadata": {},
   "outputs": [],
   "source": [
    "with open(\"../microrna_data/likely_real_mirnas.pkl\", \"rb\") as f:\n",
    "    likely_real_mirnas = pickle.load(f)\n",
    "    \n",
    "mirna_ex_geometric_mean = normalize_expr_df_to_rpm_with_index(mirna_ex_geometric_mean.astype(float), likely_real_mirnas)"
   ]
  },
  {
   "cell_type": "code",
   "execution_count": null,
   "metadata": {},
   "outputs": [],
   "source": [
    "fig, axs = plt.subplots(5, 2, figsize=(4, 6), sharex=True, sharey=True)\n",
    "\n",
    "for i, cell_line in enumerate(cell_lines_measured):\n",
    "    current_scale = scales[i]\n",
    "\n",
    "    # specifically plot false positives and negatives\n",
    "    excluded_points = []\n",
    "    for curr_index, df in enumerate(false_positives_and_negatives):\n",
    "        alles = df_alles_filter.loc[df.index, cell_line]\n",
    "        keller = df_keller_filter.loc[df.index, cell_line]\n",
    "        if i == 0:\n",
    "            axs[i//2, i%2].scatter(alles, keller, s=6, color=false_positives_and_negatives_colors[curr_index],\n",
    "                                label=false_positives_and_negatives_label[curr_index], marker=false_positives_and_negatives_symbols[curr_index],\n",
    "                                rasterized=True, zorder=2)\n",
    "        else:\n",
    "            axs[i//2, i%2].scatter(alles, keller, s=6, color=false_positives_and_negatives_colors[curr_index],\n",
    "                                marker=false_positives_and_negatives_symbols[curr_index],\n",
    "                                rasterized=True, zorder=2)\n",
    "        excluded_points.append(df.index)\n",
    "        \n",
    "    # flatten excluded points\n",
    "    excluded_points = [item for sublist in excluded_points for item in sublist]\n",
    "    alles = df_alles_filter.loc[:, cell_line]\n",
    "    keller = df_keller_filter.loc[:, cell_line]\n",
    "    \n",
    "    # remove excluded points\n",
    "    alles = alles[~alles.index.isin(excluded_points)]\n",
    "    keller = keller[~keller.index.isin(excluded_points)]\n",
    "    \n",
    "    axs[i//2, i%2].scatter(alles,keller, s=2, color=\"tab:blue\", rasterized=True, zorder=1, edgecolors=\"none\")\n",
    "    axs[i//2, i%2].plot([0,6], [0,6], color=\"black\", linewidth=1.5, ls=\"--\", zorder=1)\n",
    "    \n",
    "    if i == 0:\n",
    "        axs[i//2, i%2].legend()\n",
    "    if i//2 == 4:\n",
    "        axs[i//2, i%2].set_xlabel(r\"log$_{10}$(expr. microarray)\")\n",
    "    if i % 2 == 0:\n",
    "        axs[i//2, i%2].set_ylabel(r\"log$_{10}$(expr. sequencing)\")\n",
    "    \n",
    "plt.tight_layout()\n",
    "for format in [\"png\", \"svg\"]:\n",
    "    plt.savefig(os.path.join(plot_folder, f\"3.12_data_congruence/3.12.2_alles_keller.{format}\"), dpi=600)"
   ]
  },
  {
   "cell_type": "code",
   "execution_count": 87,
   "metadata": {},
   "outputs": [],
   "source": [
    "df_expression_filter_congruence = mirna_ex_geometric_mean.loc[df_knockdown_filter_congruence.index, cell_lines_measured]\n",
    "for cell_line in cell_lines_measured:\n",
    "    valid_mirnas = df_knockdown_filter_congruence[cell_line].dropna().index\n",
    "    df_expression_filter_congruence.loc[~(df_expression_filter_congruence.index.isin(valid_mirnas)), cell_line] = np.nan\n",
    "df_expression_filter_congruence = df_expression_filter_congruence.astype(float)"
   ]
  },
  {
   "cell_type": "code",
   "execution_count": null,
   "metadata": {},
   "outputs": [],
   "source": [
    "# set bounds and initial guesses for non-scale fitting parameters\n",
    "p0 = [3, 10]\n",
    "num_params = len(p0)\n",
    "bounds = ([1, 9.99], [10, 10.01])\n",
    "\n",
    "# Guess initial scale values for all datasets\n",
    "scale_guesses = [0 for _ in range(len(cell_lines_measured))]\n",
    "scale_bounds_min = [-2 for _ in range(len(cell_lines_measured))]\n",
    "scale_bounds_max = [2 for _ in range(len(cell_lines_measured))]\n",
    "\n",
    "# set scale for HEK293T to 0\n",
    "scale_bounds_min[0] = -0.001\n",
    "scale_bounds_max[0] = 0.001\n",
    "\n",
    "# set up parameters\n",
    "p0_scale = p0 + scale_guesses\n",
    "bounds_scale = (bounds[0]+scale_bounds_min, bounds[1]+scale_bounds_max)\n",
    "\n",
    "x_data = []\n",
    "y_data = []\n",
    "dataset_indices = []\n",
    "for i, cell_line in enumerate(cell_lines_measured):\n",
    "    ex_df = df_expression_filter_congruence[cell_line].dropna().values\n",
    "    knock_df = df_knockdown_filter_congruence[cell_line].dropna().values\n",
    "    x_data.append(ex_df)\n",
    "    y_data.append(knock_df)\n",
    "    dataset_indices.append([i] * len(ex_df))\n",
    "\n",
    "x_data = np.concatenate(x_data)\n",
    "y_data = np.concatenate(y_data)\n",
    "dataset_indices = np.concatenate(dataset_indices)\n",
    "\n",
    "popt_scales, pcov = popt_scales_filter, pcov = opt.curve_fit(\n",
    "    lambda x, *params: hill_func_log_scales(x, dataset_indices, *params),\n",
    "    x_data,\n",
    "    y_data,\n",
    "    p0=p0_scale,\n",
    "    bounds=bounds_scale,\n",
    "    maxfev=5000\n",
    ")\n",
    "\n",
    "scales = list(popt_scales[num_params:])\n",
    "hill_params = popt_scales[:num_params]\n",
    "hill_params"
   ]
  },
  {
   "cell_type": "code",
   "execution_count": null,
   "metadata": {},
   "outputs": [],
   "source": [
    "scale_dict = {cell_line: scale for cell_line, scale in zip(cell_lines_measured, scales)}\n",
    "scale_dict"
   ]
  },
  {
   "cell_type": "code",
   "execution_count": null,
   "metadata": {},
   "outputs": [],
   "source": [
    "from library2_utils.crosstalk import merge_identical_mirnas\n",
    "# apply the scale\n",
    "for cell_line in cell_lines_measured:\n",
    "    df_expression_filter_congruence[cell_line] += scale_dict[cell_line]\n",
    "\n",
    "if crosstalk_filtered:\n",
    "    df_expression_filter_congruence, groups = merge_identical_mirnas(df_expression_filter_congruence, mirbase)"
   ]
  },
  {
   "cell_type": "code",
   "execution_count": 99,
   "metadata": {},
   "outputs": [],
   "source": [
    "# create output folder if it doesn't exist\n",
    "output_dir = f\"../outputs/3_fitting/combined_dataset\"\n",
    "if not os.path.exists(output_dir):\n",
    "    os.makedirs(output_dir)\n",
    "\n",
    "if crosstalk_filtered:\n",
    "    with open(os.path.join(output_dir, f\"combined_dataset_popt_wo_crosstalk_scaled.pkl\"), \"wb\") as f:\n",
    "        pickle.dump(hill_params, f)\n",
    "\n",
    "    with open(os.path.join(output_dir, f\"combined_dataset_scale_dict_wo_crosstalk_scaled.pkl\"), \"wb\") as f:\n",
    "        pickle.dump(scale_dict, f)\n",
    "        \n",
    "    # also save the expression data\n",
    "    df_expression_filter_congruence.to_csv(\"../microrna_data/3_output/Alles_Keller_combined_expression_wo_crosstalk_scaled.csv\")\n",
    "    df_knockdown_filter_congruence.to_csv(\"../microrna_data/3_output/Alles_Keller_combined_knockdown_wo_crosstalk_scaled.csv\")\n",
    "    \n",
    "if (not crosstalk_filtered) and bias_aware:\n",
    "    with open(os.path.join(output_dir, f\"combined_dataset_popt_with_crosstalk.pkl\"), \"wb\") as f:\n",
    "        pickle.dump(hill_params, f)\n",
    "\n",
    "    with open(os.path.join(output_dir, f\"combined_dataset_scale_dict_with_crosstalk.pkl\"), \"wb\") as f:\n",
    "        pickle.dump(scale_dict, f)\n",
    "\n",
    "    # also save the expression data\n",
    "    df_expression_filter_congruence.to_csv(\"../microrna_data/3_output/Alles_Keller_combined_expression_with_crosstalk.csv\")\n",
    "    df_knockdown_filter_congruence.to_csv(\"../microrna_data/3_output/Alles_Keller_combined_knockdown_with_crosstalk.csv\")"
   ]
  },
  {
   "cell_type": "markdown",
   "metadata": {},
   "source": [
    "### plot outlier-aware fit"
   ]
  },
  {
   "cell_type": "code",
   "execution_count": 95,
   "metadata": {},
   "outputs": [],
   "source": [
    "%%capture output\n",
    "# create a figure with 4 subplots\n",
    "fig, axs = plt.subplots(5, 2, figsize=(6, 8), sharex=True, sharey=True)\n",
    "df_deviation_congruent = pd.DataFrame(columns=cell_lines_measured, index=df_knockdown_filter_congruence.index)\n",
    "x_range_log = np.linspace(0, 5.5, 1000)\n",
    "\n",
    "# create the plot folder if it doesn't exist\n",
    "if not os.path.exists(f\"{plot_folder}/3.12_data_congruence\"):\n",
    "    os.makedirs(f\"{plot_folder}/3.12_data_congruence\")\n",
    "\n",
    "for i, cell_line in enumerate(cell_lines_measured):\n",
    "    current_scale = scales[i]\n",
    "\n",
    "    df_knock = df_knockdown_filter_congruence.loc[:, cell_line].dropna()\n",
    "    df_ex = df_expression_filter_congruence.loc[:, cell_line].dropna()\n",
    "    \n",
    "    axs[i//2, i%2].scatter(df_ex,df_knock, s=5, color=\"tab:blue\", rasterized=True)\n",
    "    axs[i//2, i%2].plot(x_range_log, hill_func_log_regular(x_range_log,\n",
    "                        *hill_params), color=\"black\", linewidth=1.5, label=\"fit\", ls=\"--\")\n",
    "\n",
    "    # calculate the R2 value\n",
    "    r2 = stats.pearsonr(df_knock,\n",
    "                        hill_func_log_regular(df_ex,\n",
    "                        *hill_params))[0]**2\n",
    "    \n",
    "    # calculate the RMSD value\n",
    "    rmsd = np.sqrt(np.mean((df_knock-\n",
    "                            hill_func_log_regular(df_ex,\n",
    "                            *hill_params))**2))\n",
    "\n",
    "    if crosstalk_filtered:\n",
    "        correlation_dataframe.loc[\"3.12.3-crosstalk-filtered\", cell_line] = r2\n",
    "        rmsd_dataframe.loc[\"3.12.3-crosstalk-filtered\", cell_line] = rmsd\n",
    "    else:\n",
    "        if bias_aware:\n",
    "            correlation_dataframe.loc[\"3.12.3-bias-aware\", cell_line] = r2\n",
    "            rmsd_dataframe.loc[\"3.12.3-bias-aware\", cell_line] = rmsd\n",
    "        else:\n",
    "            correlation_dataframe.loc[\"3.12.3-congruent\", cell_line] = r2\n",
    "            rmsd_dataframe.loc[\"3.12.3-merged\", cell_line] = rmsd\n",
    "    \n",
    "    df_deviation_congruent.loc[df_knock.index, cell_line] = df_knock - hill_func_log_regular(df_ex, *hill_params)\n",
    "    \n",
    "    plt.xlim(0, 5.5)\n",
    "    plt.ylim(-1.7, 0.25)\n",
    "    \n",
    "    if i //2 == 4:\n",
    "        axs[i//2, i%2].set_xlabel(r\"log$_{10}$(miRNA expression)\")\n",
    "    if i % 2 == 0:\n",
    "        axs[i//2, i%2].set_ylabel(r\"log$_{10}$(stability)\")\n",
    "    axs[i//2, i%2].set_title(f\"{cell_line}, r2 = {round(r2, 2)}, rmsd = {round(rmsd, 2)}\", fontsize=8)\n",
    "\n",
    "plt.tight_layout()\n",
    "if crosstalk_filtered:   \n",
    "    for format in [\"png\", \"svg\"]:\n",
    "        plt.savefig(os.path.join(plot_folder, f\"3.12_data_congruence/3.12.3_crosstalk_filtered.{format}\"), dpi=600)\n",
    "elif bias_aware:\n",
    "    for format in [\"png\", \"svg\"]:\n",
    "        plt.savefig(os.path.join(plot_folder, f\"3.12_data_congruence/3.12.3_geometric_mean_outlier_aware.{format}\"), dpi=600)\n",
    "else:\n",
    "    for format in [\"png\", \"svg\"]:\n",
    "        plt.savefig(os.path.join(plot_folder, f\"3.12_data_congruence/3.12.3_geometric_mean_merged.{format}\"), dpi=600)"
   ]
  },
  {
   "cell_type": "code",
   "execution_count": 68,
   "metadata": {},
   "outputs": [],
   "source": [
    "if not crosstalk_filtered and bias_aware:\n",
    "    df_deviation_congruent.to_csv(os.path.join(output_dir, \"combined_dataset_deviation_bias_aware.csv\"))"
   ]
  },
  {
   "cell_type": "markdown",
   "metadata": {},
   "source": [
    "### plot outlier-aware fit with false positives and negatives"
   ]
  },
  {
   "cell_type": "code",
   "execution_count": 72,
   "metadata": {},
   "outputs": [],
   "source": [
    "%%capture output\n",
    "# create a figure with 10 subplots\n",
    "fig, axs = plt.subplots(5, 2, figsize=(6, 8), sharex=True, sharey=True)\n",
    "\n",
    "for i, cell_line in enumerate(cell_lines_measured):\n",
    "    current_scale = scales[i]\n",
    "\n",
    "    # specifically plot false positives and negatives\n",
    "    excluded_points = []\n",
    "    for curr_index, df in enumerate(false_positives_and_negatives):\n",
    "        #df = df[df[cell_line].notna()]\n",
    "        df_ex = df_expression_filter_congruence.loc[df.index, cell_line]\n",
    "        df_knock = df_knockdown_filter_congruence.loc[df.index, cell_line]\n",
    "        if i == 0:\n",
    "            axs[i//2, i%2].scatter(df_ex, df_knock, s=5, color=false_positives_and_negatives_colors[curr_index],\n",
    "                                label=false_positives_and_negatives_label[curr_index], marker=false_positives_and_negatives_symbols[curr_index],\n",
    "                                rasterized=True, zorder=2)\n",
    "        else:\n",
    "            axs[i//2, i%2].scatter(df_ex, df_knock, s=5, color=false_positives_and_negatives_colors[curr_index],\n",
    "                                marker=false_positives_and_negatives_symbols[curr_index],\n",
    "                                rasterized=True, zorder=2)\n",
    "        excluded_points.append(df.index)\n",
    "        \n",
    "    # flatten excluded points\n",
    "    excluded_points = [item for sublist in excluded_points for item in sublist]\n",
    "\n",
    "    df_knock = df_knockdown_filter_congruence.loc[:, cell_line].dropna()\n",
    "    df_ex = df_expression_filter_congruence.loc[:, cell_line].dropna()\n",
    "    \n",
    "    # These should be calculated BEFORE exluding points for plotting purposes\n",
    "    # calculate the R2 value\n",
    "    r2 = stats.pearsonr(df_knock,\n",
    "                        hill_func_log_regular(df_ex,\n",
    "                        *hill_params))[0]**2\n",
    "    \n",
    "    # calculate the RMSD value\n",
    "    rmsd = np.sqrt(np.mean((df_knock-\n",
    "                            hill_func_log_regular(df_ex,\n",
    "                            *hill_params))**2))\n",
    "    \n",
    "    # remove excluded points\n",
    "    df_ex = df_ex[~df_ex.index.isin(excluded_points)]\n",
    "    df_knock = df_knock[~df_knock.index.isin(excluded_points)]\n",
    "    \n",
    "    axs[i//2, i%2].scatter(df_ex,df_knock, s=5, color=\"tab:blue\", rasterized=True, zorder=1)\n",
    "    axs[i//2, i%2].plot(x_range_log, hill_func_log_regular(x_range_log,\n",
    "                        *hill_params), color=\"black\", linewidth=1.5, label=\"fit\", ls=\"--\", zorder=1)\n",
    "    \n",
    "    plt.xlim(0, 5.5)\n",
    "    plt.ylim(-1.7, 0.25)\n",
    "    \n",
    "    if i//2 == 4:\n",
    "        axs[i//2, i%2].set_xlabel(r\"log$_{10}$(miRNA expression)\")\n",
    "    if i % 2 == 0:\n",
    "        axs[i//2, i%2].set_ylabel(r\"log$_{10}$(stability)\")\n",
    "    axs[i//2, i%2].set_title(f\"{cell_line}, r2 = {round(r2, 2)}\", fontsize=7.5)\n",
    "    if i == 0:\n",
    "        axs[i//2, i%2].legend()\n",
    "\n",
    "plt.tight_layout()\n",
    "for format in [\"png\", \"svg\"]:\n",
    "    plt.savefig(os.path.join(plot_folder, f\"3.12_data_congruence/3.12.3_geometric_mean_aware_with_outliers.{format}\"), dpi=600)"
   ]
  },
  {
   "cell_type": "markdown",
   "metadata": {},
   "source": [
    "## create a plot showing the filtered crosstalk"
   ]
  },
  {
   "cell_type": "code",
   "execution_count": 73,
   "metadata": {},
   "outputs": [],
   "source": [
    "allowed_mirnas_all = {}\n",
    "for cell_line in cell_lines_measured:\n",
    "    allowed_mirnas = []\n",
    "    crosstalk_dict = crosstalk_filter_dict[cell_line]\n",
    "    allowed_mirnas_all[cell_line] = list(df_knockdown.index.difference(crosstalk_dict))"
   ]
  },
  {
   "cell_type": "code",
   "execution_count": 74,
   "metadata": {},
   "outputs": [],
   "source": [
    "if bias_aware and not crosstalk_filtered:\n",
    "    fig = plt.figure(figsize=(3, 2.1))\n",
    "    x_range_log = np.linspace(0, 5.5, 1000)\n",
    "\n",
    "    for i, cell_line in enumerate(cell_lines_measured):\n",
    "        current_scale = scales[i]\n",
    "        \n",
    "        df_knock = df_knockdown_filter_congruence.loc[:, cell_line].dropna()\n",
    "        df_ex = df_expression_filter_congruence.loc[:, cell_line].dropna()\n",
    "        \n",
    "        # specifically plot false positives and negatives\n",
    "        allowed_mirnas = allowed_mirnas_all[cell_line]\n",
    "        \n",
    "        non_crosstalk = df_knock.index.intersection(allowed_mirnas) \n",
    "        crosstalk = df_knock.index.difference(allowed_mirnas)\n",
    "        \n",
    "        plt.scatter(df_ex.loc[non_crosstalk], df_knock.loc[non_crosstalk], s=3,\n",
    "                    color=\"tab:blue\", rasterized=True, zorder=1, edgecolors=\"none\")\n",
    "        plt.scatter(df_ex.loc[crosstalk], df_knock.loc[crosstalk], s=3,\n",
    "                    color=\"tab:red\", rasterized=True, zorder=2, edgecolors=\"none\")\n",
    "        \n",
    "        if i == 0:\n",
    "            plt.plot(x_range_log, hill_func_log_regular(x_range_log,\n",
    "                    *hill_params), color=\"black\", linewidth=1, ls=\"--\")\n",
    "        \n",
    "    plt.xlabel(r\"log$_{10}$\"+f\"(miRNA expression)\")\n",
    "    plt.ylabel(r\"log$_{10}$(stability)\")\n",
    "\n",
    "    plt.xlim(0, 5.5)\n",
    "    plt.ylim(-1.7, 0.25)\n",
    "    plt.tight_layout()\n",
    "    plt.legend(loc=\"lower left\", frameon=False, fontsize=6.5)\n",
    "    for format in [\"png\", \"svg\"]:\n",
    "        plt.savefig(os.path.join(plot_folder, f\"3.12_data_congruence/3.12.3_show_crosstalk.{format}\"), dpi=600, bbox_inches='tight')"
   ]
  },
  {
   "cell_type": "markdown",
   "metadata": {},
   "source": [
    "### plot outlier-aware fit as a single plot"
   ]
  },
  {
   "cell_type": "code",
   "execution_count": 97,
   "metadata": {},
   "outputs": [],
   "source": [
    "%%capture output\n",
    "fig = plt.figure(figsize=(2.5, 1.7))\n",
    "\n",
    "x_range_log = np.linspace(0, 5.5, 1000)\n",
    "for i, cell_line in enumerate(cell_lines_measured):\n",
    "    current_scale = scales[i]\n",
    "    \n",
    "    df_knock = df_knockdown_filter_congruence.loc[:, cell_line].dropna()\n",
    "    df_ex = df_expression_filter_congruence.loc[:, cell_line].dropna()\n",
    "    \n",
    "    # calculate the R2 value\n",
    "    r2 = stats.pearsonr(df_knock,\n",
    "                        hill_func_log_regular(df_ex,\n",
    "                        *hill_params))[0]**2\n",
    "    plt.scatter(df_ex, df_knock, color=cell_line_colors[cell_line],\n",
    "        s=3, marker=cell_line_symbols[cell_line], rasterized=True, label=f\"{cell_line}\")#, \" + r\"$r^2$=\" + f\"{round(r2, 2)}\")\n",
    "\n",
    "plt.plot(x_range_log, hill_func_log_regular(x_range_log,\n",
    "        *hill_params), color=\"black\", linewidth=1, ls=\"--\")\n",
    "plt.text(0.5, -1.2, r\"$\\frac{k_{\\mathrm{deg}}}{k_{\\mathrm{on}}}=$\"+f\"{10**hill_params[0]:.0f}\", fontsize=7, ha=\"left\")\n",
    "    \n",
    "plt.xlabel(r\"log$_{10}$\"+f\"(merged miRNA expression)\")\n",
    "plt.ylabel(r\"log$_{10}$(stability)\")\n",
    "plt.xlim(0, 5.5)\n",
    "plt.xticks([0, 1, 2, 3, 4, 5])\n",
    "plt.ylim(-1.7, 0.25)\n",
    "\n",
    "plt.tight_layout()\n",
    "plt.legend(loc = [1,-0.05], frameon=False, fontsize=6.5)\n",
    "for format in [\"png\", \"svg\"]:\n",
    "    plt.savefig(os.path.join(plot_folder, f\"3.12_data_congruence/3.12.3_geometric_mean_single_plot_aware_merging.{format}\"), dpi=600, bbox_inches='tight')"
   ]
  },
  {
   "cell_type": "code",
   "execution_count": 111,
   "metadata": {},
   "outputs": [],
   "source": [
    "%%capture output\n",
    "fig = plt.figure(figsize=(2.5, 1.7))\n",
    "\n",
    "for i, cell_line in enumerate(cell_lines_measured):\n",
    "    current_scale = scales[i]\n",
    "    \n",
    "    df_knock = 1/10**df_knockdown_filter_congruence.loc[:, cell_line].dropna()\n",
    "    df_ex = df_expression_filter_congruence.loc[:, cell_line].dropna()\n",
    "    \n",
    "    # calculate the R2 value\n",
    "    r2 = stats.pearsonr(df_knock,\n",
    "                        10**hill_func_log_regular(df_ex,\n",
    "                        *hill_params))[0]**2\n",
    "    plt.scatter(df_ex, df_knock, color=cell_line_colors[cell_line],\n",
    "        s=1, edgecolor=\"none\", marker=cell_line_symbols[cell_line], rasterized=True, label=f\"{cell_line}\")#, \" + r\"$r^2$=\" + f\"{round(r2, 2)}\")\n",
    "     \n",
    "plt.plot(x_range_log, 1/10**hill_func_log_regular(x_range_log,\n",
    "        *hill_params), color=\"black\", linewidth=1, ls=\"--\")\n",
    "    \n",
    "plt.xlabel(r\"log$_{10}$\"+f\"(merged miRNA expression)\")\n",
    "plt.ylabel(r\"log$_{10}$(stability)\")\n",
    "plt.xlim(0, 5.5)\n",
    "plt.xticks([0, 1, 2, 3, 4, 5])\n",
    "#plt.ylim(-1.7, 0.25)\n",
    "\n",
    "plt.tight_layout()\n",
    "plt.legend(loc = [1,-0.05], frameon=False, fontsize=6.5)\n",
    "for format in [\"png\", \"svg\"]:\n",
    "    plt.savefig(os.path.join(plot_folder, f\"3.12_data_congruence/3.12.3_geometric_mean_linear.{format}\"), dpi=600, bbox_inches='tight')"
   ]
  },
  {
   "cell_type": "code",
   "execution_count": 76,
   "metadata": {},
   "outputs": [],
   "source": [
    "if bias_aware and not crosstalk_filtered:\n",
    "    fig = plt.figure(figsize=(3, 2.1))\n",
    "\n",
    "    for i, cell_line in enumerate(cell_lines_measured):\n",
    "        current_scale = scales[i]\n",
    "        \n",
    "        # specifically plot false positives and negatives\n",
    "        excluded_points = []\n",
    "        for curr_index, df in enumerate(false_positives_and_negatives):\n",
    "            df_ex = df_expression_filter_congruence.loc[df.index, cell_line]\n",
    "            df_knock = df_knockdown_filter_congruence.loc[df.index, cell_line]\n",
    "            if i == 0:\n",
    "                plt.scatter(df_ex, df_knock, s=5, color=false_positives_and_negatives_colors[curr_index],\n",
    "                                    label=false_positives_and_negatives_label[curr_index], marker=false_positives_and_negatives_symbols[curr_index],\n",
    "                                    rasterized=True, zorder=2)\n",
    "            else:\n",
    "                plt.scatter(df_ex, df_knock, s=5, color=false_positives_and_negatives_colors[curr_index],\n",
    "                                    marker=false_positives_and_negatives_symbols[curr_index],\n",
    "                                    rasterized=True, zorder=2)\n",
    "            excluded_points.append(df.index)\n",
    "            \n",
    "        # flatten excluded points\n",
    "        excluded_points = [item for sublist in excluded_points for item in sublist]\n",
    "\n",
    "        df_knock = df_knockdown_filter_congruence.loc[:, cell_line].dropna()\n",
    "        df_ex = df_expression_filter_congruence.loc[:, cell_line].dropna()\n",
    "\n",
    "        # remove excluded points\n",
    "        df_ex = df_ex[~df_ex.index.isin(excluded_points)]\n",
    "        df_knock = df_knock[~df_knock.index.isin(excluded_points)]\n",
    "        \n",
    "        plt.scatter(df_ex,df_knock, s=3, color=\"tab:blue\", rasterized=True, zorder=1, edgecolors=\"none\")\n",
    "        \n",
    "        if i == 0:\n",
    "            plt.plot(x_range_log, hill_func_log_regular(x_range_log,\n",
    "                    *hill_params), color=\"black\", linewidth=1, ls=\"--\")\n",
    "        \n",
    "    plt.xlabel(r\"log$_{10}$\"+f\"(merged miRNA expression)\")\n",
    "    plt.ylabel(r\"log$_{10}$(stability)\")\n",
    "\n",
    "    # plt.scatter(0.5, -1.2, color=\"black\", s=10, marker=\"x\")\n",
    "    # plt.text(0.6, -1.25, f\"{label_mirna}\", fontsize=7, ha=\"left\")\n",
    "    # plt.text(0.6, -1.25, r\"$t(x)=1-\\frac{x}{c+x}$\", fontsize=7, ha=\"left\")\n",
    "\n",
    "    plt.xlim(0, 5.5)\n",
    "    plt.ylim(-1.7, 0.25)\n",
    "    plt.tight_layout()\n",
    "    plt.legend(loc=\"lower left\", frameon=False, fontsize=6.5)\n",
    "    for format in [\"png\", \"svg\"]:\n",
    "        plt.savefig(os.path.join(plot_folder, f\"3.12_data_congruence/3.12.3_geometric_mean_aware_show_fals_pos_and_neg.{format}\"), dpi=600, bbox_inches='tight')"
   ]
  },
  {
   "cell_type": "code",
   "execution_count": null,
   "metadata": {},
   "outputs": [],
   "source": [
    "rmsd_dataframe.index = [\"step 1\", \"2\",\n",
    "                        \"3\", \"4\",\n",
    "                        \"5\"]\n",
    "\n",
    "fig, ax = plt.subplots(figsize=(1.6, 1.4))\n",
    "sns.heatmap(rmsd_dataframe.T.astype('float')*10, cmap=\"cividis_r\", annot=False, fmt=\".2f\", vmin=0.5, vmax=1.3, ax=ax,\n",
    "            annot_kws={\"size\": 7}, cbar=True, square=False,\n",
    "            cbar_kws={'label': r'10x rmsd', 'shrink': 1, 'aspect': 15, 'pad': 0.02})\n",
    "\n",
    "# # Add white lines between columns\n",
    "# for i in range(1, rmsd_dataframe.shape[0]):\n",
    "#     ax.axhline(y=i, color='white', lw=5)  # 'lw' sets the line width\n",
    "    \n",
    "# plt.yticks([])\n",
    "# rotate xticks\n",
    "plt.xticks(rotation=0, ha='right')\n",
    "for format in [\"png\", \"svg\"]:\n",
    "    plt.savefig(f\"{plot_folder}/3.12_data_congruence/3.12.3_rmsd_all_single_alt_format.{format}\", dpi=600, bbox_inches='tight')"
   ]
  },
  {
   "cell_type": "code",
   "execution_count": null,
   "metadata": {},
   "outputs": [],
   "source": [
    "fig, ax = plt.subplots(figsize=(1.6, 1.4))\n",
    "x = [\"1\", \"2\", \"3\", \"4\", \"5\"]\n",
    "for column in rmsd_dataframe.columns:\n",
    "    # column_name = column.replace(\"293T\", \"HEK293T\")\n",
    "    column_name = column\n",
    "    plt.plot(rmsd_dataframe.loc[:, column].values, label=column, color=cell_line_colors[column_name],\n",
    "             marker=cell_line_symbols[column_name], markersize=4, lw=1)\n",
    "plt.xticks(range(5), x)\n",
    "plt.xlabel(\"step\")\n",
    "plt.ylabel(\"rmsd\")\n",
    "plt.legend(loc=[1.05, -0.1], frameon=False, fontsize=6)\n",
    "plt.savefig(f\"{plot_folder}/3.12_data_congruence/3.12.3_rmsd_all_single_alt_format_lineplot.png\", dpi=600, bbox_inches='tight')"
   ]
  },
  {
   "cell_type": "code",
   "execution_count": null,
   "metadata": {},
   "outputs": [],
   "source": [
    "correlation_dataframe"
   ]
  },
  {
   "cell_type": "code",
   "execution_count": null,
   "metadata": {},
   "outputs": [],
   "source": [
    "fig, ax = plt.subplots(figsize=(0.3, 1.65))\n",
    "sns.heatmap(correlation_dataframe.iloc[-1:].astype('float').T, cmap=\"viridis\", annot=True, fmt=\".2f\", vmin=0.2, vmax=0.8, ax=ax,\n",
    "            annot_kws={\"size\": 6},\n",
    "            cbar_kws={'label': r'$r^2$', 'shrink': 1.4, 'aspect': 25, 'pad': 0.02, 'ticks': [0.2, 0.4, 0.6, 0.8]})\n",
    "plt.xticks([])\n",
    "plt.yticks([])\n",
    "for format in [\"png\", \"svg\"]:\n",
    "    plt.savefig(f\"{plot_folder}/3.12_data_congruence/3.12.3_correlations_aware.{format}\", dpi=600, bbox_inches='tight')"
   ]
  }
 ],
 "metadata": {
  "kernelspec": {
   "display_name": "Bio",
   "language": "python",
   "name": "python3"
  },
  "language_info": {
   "codemirror_mode": {
    "name": "ipython",
    "version": 3
   },
   "file_extension": ".py",
   "mimetype": "text/x-python",
   "name": "python",
   "nbconvert_exporter": "python",
   "pygments_lexer": "ipython3",
   "version": "3.10.13"
  }
 },
 "nbformat": 4,
 "nbformat_minor": 2
}
