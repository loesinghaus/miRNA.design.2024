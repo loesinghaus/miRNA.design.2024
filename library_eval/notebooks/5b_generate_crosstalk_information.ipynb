{
 "cells": [
  {
   "cell_type": "code",
   "execution_count": 1,
   "metadata": {},
   "outputs": [],
   "source": [
    "import pandas as pd\n",
    "import numpy as np\n",
    "import matplotlib.pyplot as plt\n",
    "import seaborn as sns\n",
    "import scipy.stats as stats\n",
    "import itertools\n",
    "import os\n",
    "import pickle\n",
    "from library2_utils.color_scheme import cell_line_colors, cell_line_symbols\n",
    "from library2_utils.transfer_functions import transfer_function\n",
    "from typing import Union\n",
    "import ast\n",
    "\n",
    "# set the font size\n",
    "plt.rcParams.update({'font.size': 7})\n",
    "# set Helvetica globally\n",
    "plt.rcParams['font.family'] = 'Helvetica'"
   ]
  },
  {
   "cell_type": "code",
   "execution_count": 2,
   "metadata": {},
   "outputs": [],
   "source": [
    "# add the mirna target sequence \n",
    "mirbase = pd.read_csv(\"../microrna_data/mirbase_extended.csv\", index_col=0)\n",
    "\n",
    "# working on the RNA level\n",
    "mirbase[\"sequence_norm\"] = mirbase[\"sequence_norm\"].str.replace(\"T\", \"U\")\n",
    "mirbase[\"target\"] = mirbase[\"target\"].str.replace(\"T\", \"U\")"
   ]
  },
  {
   "cell_type": "markdown",
   "metadata": {},
   "source": [
    "# find identical miRNAs"
   ]
  },
  {
   "cell_type": "code",
   "execution_count": 8,
   "metadata": {},
   "outputs": [],
   "source": [
    "# First, we merge identical miRNAs\n",
    "mirbase[\"sequence_norm_short\"] = mirbase[\"sequence_norm\"].str[:18]\n",
    "\n",
    "# find out which miRNAs are identical\n",
    "mirna_groups = mirbase.groupby(\"sequence_norm_short\").groups\n",
    "mirna_groups = [list(v) for _, v in mirna_groups.items() if len(v) > 1]"
   ]
  },
  {
   "cell_type": "code",
   "execution_count": 11,
   "metadata": {},
   "outputs": [],
   "source": [
    "# write this to a text file\n",
    "with open(\"../outputs/5_mutations/mirna_merge_groups.txt\", \"w\") as f:\n",
    "    for group in mirna_groups:\n",
    "        f.write(str(group).replace(\"'\",\"\").replace(\"[\",\"\").replace(\"]\",\"\") + \"\\n\")"
   ]
  },
  {
   "cell_type": "markdown",
   "metadata": {},
   "source": [
    "# find crosstalking miRNAs"
   ]
  },
  {
   "cell_type": "code",
   "execution_count": 12,
   "metadata": {},
   "outputs": [],
   "source": [
    "output_folder = f\"../outputs/5_mutations\"\n",
    "\n",
    "# load full_crosstalk_dict\n",
    "with open(f\"{output_folder}/5.5_full_crosstalk_dict.pkl\", \"rb\") as f:\n",
    "    full_crosstalk_dict = pickle.load(f)"
   ]
  },
  {
   "cell_type": "code",
   "execution_count": 33,
   "metadata": {},
   "outputs": [],
   "source": [
    "crosstalk_filter_df = pd.DataFrame(columns=[\"crosstalking miRNAs\"], index=full_crosstalk_dict.keys())\n",
    "crosstalk_filter_df.loc[:, :] = False\n",
    "\n",
    "for key in full_crosstalk_dict.keys():    \n",
    "    df = full_crosstalk_dict[key].copy()\n",
    "    df = df[df.index != key]\n",
    "    \n",
    "    # check for total less than 5 mutations\n",
    "    df = df[(df[\"no_total_impact\"]) < 5]\n",
    "    \n",
    "    # check for high impact mutations\n",
    "    df = df[df[\"no_high_impact\"] < 2]\n",
    "    \n",
    "    # check for mid_impact mutations\n",
    "    df = df[(df[\"no_mid_impact\"]+df[\"no_high_impact\"]) < 4]\n",
    "    \n",
    "    # check for all mutations\n",
    "    df = df[(df[\"no_low_impact\"]+df[\"no_mid_impact\"]+df[\"no_high_impact\"]) < 5]\n",
    "    \n",
    "    crosstalk_filter_df.loc[key, \"crosstalking miRNAs\"] = str(list(df.index))[1:-1].replace(\"'\",\"\")"
   ]
  },
  {
   "cell_type": "code",
   "execution_count": 37,
   "metadata": {},
   "outputs": [],
   "source": [
    "# drop all empty rows\n",
    "crosstalk_filter_df = crosstalk_filter_df[crosstalk_filter_df[\"crosstalking miRNAs\"] != \"\"]"
   ]
  },
  {
   "cell_type": "code",
   "execution_count": 39,
   "metadata": {},
   "outputs": [],
   "source": [
    "crosstalk_filter_df.to_csv(f\"{output_folder}/5b_crosstalk_filter_df_str.csv\")"
   ]
  }
 ],
 "metadata": {
  "kernelspec": {
   "display_name": "bio",
   "language": "python",
   "name": "python3"
  },
  "language_info": {
   "codemirror_mode": {
    "name": "ipython",
    "version": 3
   },
   "file_extension": ".py",
   "mimetype": "text/x-python",
   "name": "python",
   "nbconvert_exporter": "python",
   "pygments_lexer": "ipython3",
   "version": "3.10.13"
  }
 },
 "nbformat": 4,
 "nbformat_minor": 2
}
