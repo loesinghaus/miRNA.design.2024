{
 "cells": [
  {
   "cell_type": "code",
   "execution_count": 1,
   "metadata": {},
   "outputs": [],
   "source": [
    "import pandas as pd\n",
    "import numpy as np\n",
    "import scipy.stats as stats\n",
    "import scipy.optimize as opt\n",
    "import matplotlib.pyplot as plt\n",
    "import seaborn as sns\n",
    "from functools import reduce\n",
    "import os\n",
    "import pickle\n",
    "from library2_utils.transfer_functions import transfer_function\n",
    "from library2_utils.mirna_levels import normalize_expr_df_to_rpm, normalize_expr_df_to_rpm_with_partner\n",
    "\n",
    "cell_lines_measured = [\"HEK293T\", \"HeLa\", \"SKNSH\", \"MCF7\", \"HUH7\", \"A549\", \"HaCaT\", \"JEG3\", \"Tera1\", \"PC3\"]\n",
    "\n",
    "# set the font size\n",
    "plt.rcParams.update({'font.size': 7})\n",
    "# set Helvetica globally\n",
    "plt.rcParams['font.family'] = 'Helvetica'"
   ]
  },
  {
   "cell_type": "markdown",
   "metadata": {},
   "source": [
    "We use four datasets:  \n",
    "Two human tissue atlases (Ludwig 2016, Keller2022), which are microarray and ngs-based, respectively. These datasets have to be downloaded to run this notebook.  \n",
    "Two human cell line datasets (Alles2019, Keller2023 (measured in this publication)), which are microarray and ngs-based, respectively. \n",
    "\n",
    "The cell line dataset is included in the repository. The tissue atlas data can be downloaded based on the info in the respective publications. The necessary files are:\n",
    "NGS - raw/ngs/hsa_snc_expression.csv\n",
    "microarray - data_matrix_quantile.txt\n",
    "\n",
    "The tissue atlases are named microarray_tisse and ngs_tissue, while the cell line data is referred to as alles and keller. Thus \"keller\" always refers to the cell line data in this publication, rather than to the 2022 tissue atlas."
   ]
  },
  {
   "cell_type": "code",
   "execution_count": 2,
   "metadata": {},
   "outputs": [],
   "source": [
    "# get mirbase\n",
    "mirbase = pd.read_csv(\"../microrna_data/mirbase_extended.csv\", index_col=0)\n",
    "\n",
    "# load mirgeneDB\n",
    "mirgenedb = pd.read_csv(\"../microrna_data/mirgenedb.csv\", index_col=0)\n",
    "\n",
    "base_plot_folder = \"../plots/15_tissue_data_merge\"\n",
    "# create folder if it does not exist\n",
    "if not os.path.exists(base_plot_folder):\n",
    "    os.makedirs(base_plot_folder)"
   ]
  },
  {
   "cell_type": "code",
   "execution_count": 3,
   "metadata": {},
   "outputs": [],
   "source": [
    "# get high confidence miRNAs in mirgenedb\n",
    "mirbase_high_conf = mirbase[mirbase[\"confidence\"] == \"high\"]\n",
    "\n",
    "# get relevant miRNAs from mirgenedb\n",
    "mirgenedb_mirnas = list(mirgenedb[\"5p accession\"].unique()) + list(mirgenedb[\"3p accession\"].unique())\n",
    "mirgenedb_mirnas = [mirna for mirna in mirgenedb_mirnas if mirna != \"None\"]\n",
    "mirgenedb_mirnas = mirbase[mirbase[\"MIMAT\"].isin(mirgenedb_mirnas)]\n",
    "\n",
    "allowed_mirnas = list(set(mirbase_high_conf.index.tolist() + mirgenedb_mirnas.index.tolist()))"
   ]
  },
  {
   "cell_type": "markdown",
   "metadata": {},
   "source": [
    "# 15.1 - Dataset preprocessing"
   ]
  },
  {
   "cell_type": "code",
   "execution_count": 4,
   "metadata": {},
   "outputs": [],
   "source": [
    "dataset_folder = \"../microrna_data/15_human_data_merge\"\n",
    "dataset_processed_folder = \"../microrna_data/15_human_data_merge/processed\"\n",
    "# create folder if it does not exist\n",
    "if not os.path.exists(dataset_processed_folder):\n",
    "    os.makedirs(dataset_processed_folder)"
   ]
  },
  {
   "cell_type": "markdown",
   "metadata": {},
   "source": [
    "## 15.1.1 - NGS data (Keller 2022)"
   ]
  },
  {
   "cell_type": "code",
   "execution_count": 5,
   "metadata": {},
   "outputs": [],
   "source": [
    "df_ngs = pd.read_csv(os.path.join(dataset_folder, 'raw/ngs/hsa_snc_expression.csv'))"
   ]
  },
  {
   "cell_type": "code",
   "execution_count": 6,
   "metadata": {},
   "outputs": [],
   "source": [
    "# filter to type \"mirna\"\n",
    "df_ngs = df_ngs[df_ngs['type'] == 'mirna']"
   ]
  },
  {
   "cell_type": "code",
   "execution_count": 7,
   "metadata": {},
   "outputs": [],
   "source": [
    "# split the dataframe into a list of dataframes, one for each body\n",
    "df_ngs_list = [df_ngs[df_ngs['body'] == i] for i in range(1, len(df_ngs['body'].unique()) + 1)]\n",
    "# filter to allowed mirnas\n",
    "df_ngs_list = [df_ngs[df_ngs['acc'].isin(allowed_mirnas)] for df_ngs in df_ngs_list]"
   ]
  },
  {
   "cell_type": "code",
   "execution_count": 8,
   "metadata": {},
   "outputs": [],
   "source": [
    "%%capture output\n",
    "# create folder if it does not exist\n",
    "if not os.path.exists(os.path.join(base_plot_folder, \"15.1.1_ngs_correlation\")):\n",
    "    os.makedirs(os.path.join(base_plot_folder, \"15.1.1_ngs_correlation\"))\n",
    "    \n",
    "correlations = {}\n",
    "tissue_expression_ngs = {}\n",
    "tissues = df_ngs_list[0][\"tissue\"].unique()\n",
    "for tissue in tissues:\n",
    "    expression_list = [df_ngs_list[i][df_ngs_list[i][\"tissue\"] == tissue][[\"acc\",\"expression\"]] for i in range(len(df_ngs_list))]\n",
    "    # remove any empty dataframes\n",
    "    expression_list = [expression for expression in expression_list if len(expression) > 0]\n",
    "    # make \"acc\" (accession) the index\n",
    "    expression_list = [expression.set_index(\"acc\") for expression in expression_list]\n",
    "    # rename \"expression\" column to body number\n",
    "    expression_list = [expression.rename(columns={\"expression\": i}) for i, expression in enumerate(expression_list)]\n",
    "    # merge the dataframes using pd.merge\n",
    "    expression_df = reduce(lambda x, y: pd.merge(x, y, left_index=True, right_index=True), expression_list)\n",
    "    # average values with identical indices\n",
    "    expression_df = expression_df.groupby(expression_df.index).mean()\n",
    "    # normalize to rpm\n",
    "    expression_df = normalize_expr_df_to_rpm(expression_df)\n",
    "    # get the geometric mean over bodies\n",
    "    tissue_expression_ngs[tissue] = expression_df.apply(stats.gmean, axis=1)\n",
    "\n",
    "    # get log 10 values\n",
    "    expression_df = np.log10(expression_df)\n",
    "    # filter to allowed mirnas\n",
    "    expression_df = expression_df[expression_df.index.isin(allowed_mirnas)]\n",
    "    expression_df_higher = expression_df.copy()\n",
    "    expression_df_higher[expression_df_higher < 2] = 2.0\n",
    "     # get the correlation matrix\n",
    "    correlations[tissue] = expression_df_higher.corr()**2\n",
    "\n",
    "    # get the first two bodies and make a scatter plot\n",
    "    if len(expression_df.columns) > 1:\n",
    "        plt.clf()\n",
    "        plt.scatter(expression_df[0], expression_df[1], s=1)\n",
    "        plt.xlabel(\"Body 1\")\n",
    "        plt.ylabel(\"Body 2\")\n",
    "        plt.title(tissue)\n",
    "        plt.tight_layout()\n",
    "        plt.savefig(os.path.join(base_plot_folder, f\"15.1.1_ngs_correlation/15.1.1_ngs_correlation_{tissue}_scatter.png\"))    \n",
    "        \n",
    "    # plot the correlation matrices\n",
    "    plt.clf()\n",
    "    # set the global sns font to\n",
    "    sns.set(font_scale=1.5)\n",
    "    # plot a heatmap of the correlation matrix\n",
    "    # also insert the actual values in white font\n",
    "    heat = sns.heatmap(correlations[tissue], vmax=1, vmin=0, cmap=\"viridis\", annot=True, annot_kws={\"color\": \"white\"},\n",
    "                       cbar_kws={'label': 'Pearson R2', })\n",
    "    # set the title to the tissue type\n",
    "    plt.title(tissue)\n",
    "    # save the figure\n",
    "    plt.savefig(os.path.join(base_plot_folder, f\"15.1.1_ngs_correlation/15.1.1_ngs_correlation_{tissue}.png\"))"
   ]
  },
  {
   "cell_type": "code",
   "execution_count": 9,
   "metadata": {},
   "outputs": [],
   "source": [
    "# remove diagonal values from the correlation matrices\n",
    "correlations_no_diag = {tissue: correlations[tissue].mask(np.eye(len(correlations[tissue])) == 1) for tissue in tissues}"
   ]
  },
  {
   "cell_type": "code",
   "execution_count": 10,
   "metadata": {},
   "outputs": [],
   "source": [
    "# plot a histogram across all correlation values\n",
    "flattenend_correlations = [correlations_no_diag[tissue].values.flatten() for tissue in tissues]\n",
    "flattenend_correlations = [correlation for sublist in flattenend_correlations for correlation in sublist if not np.isnan(correlation)]\n",
    "# reset matplotlib parameters\n",
    "plt.rcParams.update(plt.rcParamsDefault)\n",
    "# set the font size\n",
    "plt.rcParams.update({'font.size': 7})\n",
    "# set Helvetica globally\n",
    "plt.rcParams['font.family'] = 'Helvetica'\n",
    "plt.clf()\n",
    "plt.figure(figsize=(2, 1.8))\n",
    "plt.hist(flattenend_correlations, bins=np.arange(0,1.05,0.05), density=True, color=\"skyblue\")\n",
    "plt.text(0, 5, f\"median: {np.median(flattenend_correlations):.2f}\", fontsize=7, ha='left')\n",
    "plt.xlabel(f\"Pearson $r^2$\")\n",
    "plt.ylabel(\"frequency\")\n",
    "plt.title(\"NGS expression correlation\\nbetween 6 bodies\", fontsize=7)\n",
    "plt.tight_layout()\n",
    "for format in [\"png\", \"svg\"]:\n",
    "    plt.savefig(os.path.join(base_plot_folder, f\"15.1.1_ngs_correlation/15.1.1_ngs_correlation_histogram.{format}\"), dpi=300)"
   ]
  },
  {
   "cell_type": "code",
   "execution_count": 11,
   "metadata": {},
   "outputs": [],
   "source": [
    "# make it a dataframe\n",
    "tissue_expression_ngs_df = pd.DataFrame.from_dict(tissue_expression_ngs)"
   ]
  },
  {
   "cell_type": "code",
   "execution_count": 12,
   "metadata": {},
   "outputs": [],
   "source": [
    "# normalize the dataframes\n",
    "tissue_expression_ngs_df = normalize_expr_df_to_rpm(tissue_expression_ngs_df)"
   ]
  },
  {
   "cell_type": "code",
   "execution_count": 13,
   "metadata": {},
   "outputs": [],
   "source": [
    "tissue_expression_ngs_df.to_csv(os.path.join(dataset_processed_folder, \"ngs_expression.csv\"))"
   ]
  },
  {
   "cell_type": "markdown",
   "metadata": {},
   "source": [
    "## Microarray data (Ludwig 2016)"
   ]
  },
  {
   "cell_type": "code",
   "execution_count": 14,
   "metadata": {},
   "outputs": [],
   "source": [
    "# read microarray data\n",
    "df_microarray = pd.read_csv(os.path.join(dataset_folder, 'raw/microarray/data_matrix_quantile.txt'), sep=\"\\t\")"
   ]
  },
  {
   "cell_type": "code",
   "execution_count": 15,
   "metadata": {},
   "outputs": [],
   "source": [
    "# for all entries in df_microarray, replace \",\" with \".\"\n",
    "# then, convert to float\n",
    "df_microarray = df_microarray.applymap(lambda x: float(x.replace(\",\", \".\")))\n",
    "df_microarray = df_microarray.astype(float)"
   ]
  },
  {
   "cell_type": "code",
   "execution_count": 16,
   "metadata": {},
   "outputs": [],
   "source": [
    "df_microarray = df_microarray[df_microarray.index.isin(allowed_mirnas)]\n",
    "# normalize the dataframes\n",
    "df_microarray = normalize_expr_df_to_rpm(df_microarray)"
   ]
  },
  {
   "cell_type": "code",
   "execution_count": 17,
   "metadata": {},
   "outputs": [],
   "source": [
    "def split_and_rename_df(df):\n",
    "    # Create two empty dataframes for each sample\n",
    "    df1 = pd.DataFrame()\n",
    "    df2 = pd.DataFrame()\n",
    "\n",
    "    # Loop through each column in the original dataframe\n",
    "    for column in df.columns:\n",
    "        # Split the column name by '.' and sample number\n",
    "        split_column = column.split('.', 2)\n",
    "        for i in range(len(split_column)):\n",
    "            split_column[i] = split_column[i].replace(\".\",\"\")\n",
    "\n",
    "        # If there is a tissue specified\n",
    "        if len(split_column[2]) > 0:\n",
    "            organ, tissue, sample = split_column\n",
    "            new_column_name = tissue\n",
    "        # If there is no tissue specified\n",
    "        else:\n",
    "            organ, sample, _ = split_column\n",
    "            new_column_name = organ\n",
    "\n",
    "        # Assign the column to the corresponding new dataframe\n",
    "        if sample == '1':\n",
    "            df1[new_column_name] = df[column]\n",
    "        elif sample == '2':\n",
    "            df2[new_column_name] = df[column]\n",
    "    \n",
    "    return df1, df2"
   ]
  },
  {
   "cell_type": "code",
   "execution_count": 18,
   "metadata": {},
   "outputs": [],
   "source": [
    "body1, body2 = split_and_rename_df(df_microarray)"
   ]
  },
  {
   "cell_type": "code",
   "execution_count": 19,
   "metadata": {},
   "outputs": [],
   "source": [
    "# create a scatterplot of each tissue type for the two bodies\n",
    "# reset the rcparams\n",
    "plt.rcParams.update(plt.rcParamsDefault)\n",
    "# set the font size\n",
    "plt.rcParams.update({'font.size': 7})\n",
    "# set Helvetica globally\n",
    "plt.rcParams['font.family'] = 'Helvetica'\n",
    "\n",
    "# first, establish which tissues are present in both bodies\n",
    "tissues_both = [tissue for tissue in body1.keys() if tissue in body2.keys()]\n",
    "correlation_vals = []\n",
    "# create a folder for the scatterplots\n",
    "if not os.path.exists(os.path.join(base_plot_folder, \"15.1.2_microarray\")):\n",
    "    os.makedirs(os.path.join(base_plot_folder, \"15.1.2_microarray\"))\n",
    "for tissue in tissues_both:\n",
    "    plt.clf()\n",
    "    # calculate the correlation coefficient\n",
    "    r, p = stats.pearsonr(np.log10(body1[tissue]), np.log10(body2[tissue]))\n",
    "    plt.figure(figsize=(3,2.5))\n",
    "    plt.scatter(np.log10(body1[tissue]), np.log10(body2[tissue]), s=3, edgecolors=\"none\")\n",
    "    plt.title(f\"{tissue} (r2={r**2:.2f})\")\n",
    "    plt.xlabel(\"Body 1\")\n",
    "    plt.ylabel(\"Body 2\")\n",
    "    \n",
    "    body1_higher = np.log10(body1.copy())\n",
    "    body2_higher = np.log10(body2.copy())\n",
    "    body1_higher[body1_higher < 2] = 2.0\n",
    "    body2_higher[body2_higher < 2] = 2.0\n",
    "    r, p = stats.pearsonr(body1_higher[tissue], body2_higher[tissue])\n",
    "    correlation_vals.append(r**2)\n",
    "    \n",
    "    plt.tight_layout()\n",
    "    plt.savefig(os.path.join(base_plot_folder, f\"15.1.2_microarray/15.1.2_scatter_{tissue}.png\"))"
   ]
  },
  {
   "cell_type": "code",
   "execution_count": 20,
   "metadata": {},
   "outputs": [],
   "source": [
    "# reset matplotlib parameters\n",
    "plt.rcParams.update(plt.rcParamsDefault)\n",
    "# set the font size\n",
    "plt.rcParams.update({'font.size': 7})\n",
    "# set Helvetica globally\n",
    "plt.rcParams['font.family'] = 'Helvetica'\n",
    "plt.clf()\n",
    "plt.figure(figsize=(2, 1.8))\n",
    "plt.hist(correlation_vals, bins=np.arange(0,1.05,0.05), density=True, color=\"skyblue\")\n",
    "plt.text(0, 5, f\"median: {np.median(correlation_vals):.2f}\", fontsize=7, ha='left')\n",
    "plt.xlabel(f\"Pearson $r^2$\")\n",
    "plt.ylabel(\"frequency\")\n",
    "plt.title(\"Microarray expression correlation\\nbetween 2 bodies\", fontsize=7)\n",
    "plt.tight_layout()\n",
    "for format in [\"png\", \"svg\"]:\n",
    "    plt.savefig(os.path.join(base_plot_folder, f\"15.1.2_microarray/15.1.2_microarray_correlation_histogram.{format}\"))"
   ]
  },
  {
   "cell_type": "code",
   "execution_count": 21,
   "metadata": {},
   "outputs": [],
   "source": [
    "# for the two bodies, create a new dataframe with the average expression values for each tissue\n",
    "# if a tissue is present in one body but not the other, use the value from the body where it is present\n",
    "\n",
    "# get a list of tissues present in at least one body\n",
    "tissues_at_least_one = list(set(body1.keys()).union(set(body2.keys())))\n",
    "\n",
    "use_body_1 = False\n",
    "df_microarray_tissue = {}\n",
    "if use_body_1:\n",
    "    for tissue in body2.keys():\n",
    "        df_microarray_tissue[tissue] = body2[tissue]\n",
    "else:\n",
    "    for tissue in tissues_at_least_one:\n",
    "        if tissue in body1.keys() and tissue in body2.keys():\n",
    "            df_microarray_tissue[tissue] = pd.merge(body1[tissue], body2[tissue], left_index=True, right_index=True)\n",
    "            # get the geometric mean of the two values\n",
    "            # gmean is imported from scipy.stats\n",
    "            df_microarray_tissue[tissue] = df_microarray_tissue[tissue].apply(lambda x: stats.gmean(x), axis=1)\n",
    "        elif tissue in body1.keys():\n",
    "            df_microarray_tissue[tissue] = body1[tissue]\n",
    "        elif tissue in body2.keys():\n",
    "            df_microarray_tissue[tissue] = body2[tissue]"
   ]
  },
  {
   "cell_type": "code",
   "execution_count": 22,
   "metadata": {},
   "outputs": [],
   "source": [
    "# make a dataframe from the dictionary\n",
    "df_microarray_tissue = pd.DataFrame.from_dict(df_microarray_tissue)"
   ]
  },
  {
   "cell_type": "code",
   "execution_count": 23,
   "metadata": {},
   "outputs": [],
   "source": [
    "# conormalize the dataframes\n",
    "df_microarray_tissue = normalize_expr_df_to_rpm(df_microarray_tissue)"
   ]
  },
  {
   "cell_type": "code",
   "execution_count": 24,
   "metadata": {},
   "outputs": [],
   "source": [
    "# save to csv\n",
    "df_microarray_tissue.to_csv(os.path.join(dataset_processed_folder, \"microarray_expression.csv\"))"
   ]
  },
  {
   "cell_type": "markdown",
   "metadata": {},
   "source": [
    "## Tissue cross-correlation"
   ]
  },
  {
   "cell_type": "code",
   "execution_count": 25,
   "metadata": {},
   "outputs": [],
   "source": [
    "df_ngs_tissue = pd.read_csv(os.path.join(dataset_processed_folder, \"ngs_expression.csv\"), index_col=0)\n",
    "df_microarray_tissue = pd.read_csv(os.path.join(dataset_processed_folder, \"microarray_expression.csv\"), index_col=0)\n",
    "\n",
    "# make them both log10\n",
    "df_ngs_tissue = np.log10(df_ngs_tissue)\n",
    "df_microarray_tissue = np.log10(df_microarray_tissue)"
   ]
  },
  {
   "cell_type": "code",
   "execution_count": 26,
   "metadata": {},
   "outputs": [],
   "source": [
    "# reorder ngs tissues\n",
    "\n",
    "organ_dict_ngs = {\n",
    "    'brain': ['spinal_cord', 'temporal_lobe', 'occipital_lobe', 'cerebellum', \n",
    "              'frontal_lobe', 'thalamus',  'white_matter', \n",
    "              'nucleus_caudatus', 'grey_matter', 'dura_mater'],\n",
    "    'nervous': ['nerve'],\n",
    "    'circulatory': ['artery', 'vein'],\n",
    "    'musculoskeletal': ['muscle', 'bone'],\n",
    "    'digestive': ['esophagus', 'stomach', 'colon', 'duodenum', 'jejunum', 'liver', 'pancreas'],\n",
    "    'respiratory': ['pleurae', 'lung'],\n",
    "    'endocrine': ['pituitary_gland', 'adrenal_gland', 'thyroid'],\n",
    "    'lymphatic': ['lymph_node', 'spleen'],\n",
    "    'urinary': ['kidney'],\n",
    "    'reproductive': ['prostate', 'testis'],\n",
    "    'integumentary': ['skin', 'adipocyte'],\n",
    "}\n",
    "\n",
    "ordered_columns_ngs = []\n",
    "for organ_system in organ_dict_ngs:\n",
    "    ordered_columns_ngs.extend(organ_dict_ngs[organ_system])\n",
    "\n",
    "df_ngs_tissue = df_ngs_tissue[ordered_columns_ngs]"
   ]
  },
  {
   "cell_type": "code",
   "execution_count": 27,
   "metadata": {},
   "outputs": [],
   "source": [
    "# calculate the correlation between all tissues and plot a heatmap\n",
    "corr_ngs = df_ngs_tissue.corr()\n",
    "\n",
    "# create a list to store the start index of each organ system\n",
    "organ_indices = [0]\n",
    "for organ_system in organ_dict_ngs.values():\n",
    "    organ_indices.append(organ_indices[-1] + len(organ_system))\n",
    "organ_indices = organ_indices[:-1]  # remove the last index, which is out of bounds\n",
    "\n",
    "# plot the heatmap\n",
    "plt.close()\n",
    "plt.clf()\n",
    "fig, ax = plt.subplots(figsize=(5,5))\n",
    "\n",
    "\n",
    "heatmap = sns.heatmap(corr_ngs**2, ax=ax, vmin=0.3, vmax=1, cmap=\"viridis\", \n",
    "                      square=True, cbar_kws={\"shrink\": 0.7, \"label\": \"r2\"},\n",
    "                      linewidths=.5, linecolor='grey')  # add lines between cells\n",
    "# set sns font size\n",
    "sns.set(font_scale=0.5)\n",
    "\n",
    "# draw organ system boundaries\n",
    "for idx in organ_indices[1:]:  # skip the first index (0)\n",
    "    heatmap.hlines(idx, *heatmap.get_xlim(), colors='black', linewidth=1)\n",
    "    heatmap.vlines(idx, *heatmap.get_ylim(), colors='black', linewidth=1)\n",
    "\n",
    "# label organ systems on x axis\n",
    "for i in range(len(organ_indices)):\n",
    "    start = organ_indices[i]\n",
    "    if i < len(organ_indices) - 1:\n",
    "        end = organ_indices[i + 1]\n",
    "    else:\n",
    "        end = len(ordered_columns_ngs)\n",
    "    \n",
    "    label_position = (start + end) / 2\n",
    "    plt.text(label_position, -1, list(organ_dict_ngs.keys())[i],\n",
    "             ha='center', va='center', rotation=0, fontsize=8) \n",
    "    \n",
    "# move x and y ticks to the middle of the cells\n",
    "ax.set_xticks(np.arange(corr_ngs.shape[1]) + 0.5, minor=False)\n",
    "ax.set_yticks(np.arange(corr_ngs.shape[0]) + 0.5, minor=False)\n",
    "ax.tick_params(which='both', length=0)  # hide tick marks\n",
    "\n",
    "#plt.title(\"NGS\")\n",
    "plt.tight_layout()\n",
    "for format in [\"png\", \"svg\"]:\n",
    "    plt.savefig(os.path.join(base_plot_folder, f\"15.1.1_ngs_correlation/15.1.1_ngs_correlation_heatmap.{format}\"), format=format)"
   ]
  },
  {
   "cell_type": "code",
   "execution_count": 28,
   "metadata": {},
   "outputs": [],
   "source": [
    "# rename gray_matter to grey_matter in the micro columns\n",
    "df_microarray_tissue = df_microarray_tissue.rename(columns={\n",
    "    \"gray_matter\": \"grey_matter\",\n",
    "    \"nervus_intercostalis\": \"nerve\",\n",
    "    \"pleura\": \"pleurae\",\n",
    "    \"glandula_suprarenalis\": \"adrenal_gland\",})\n",
    "\n",
    "organ_dict_micro = {\n",
    "    'brain': ['brain', 'thalamus', 'white_matter', 'grey_matter', 'nucleus_caudatus', 'cerebellum', 'spinal_cord', 'arachnoid_mater', 'dura_mater'],\n",
    "    'nervous': ['nerve'],\n",
    "    'circulatory': ['vein', 'artery', 'marrow'],\n",
    "    'musculoskeletal': ['bone', 'muscle', 'fascia'],\n",
    "    'digestive': ['esophagus', 'stomach', 'duodenum', 'jejunum', 'small_intestine', 'colon', 'liver', 'gallbladder', 'pancreas'],\n",
    "    'respiratory': ['pleurae', 'lung'],\n",
    "    'endocrine': ['pituitary_gland', \"adrenal_gland\", 'thyroid'],\n",
    "    'lymphatic': ['lymph_node', 'spleen'],\n",
    "    'urinary': ['kidney', 'cortex_renalis', 'medulla_renalis', 'bladder'],\n",
    "    'reproductive': ['testis', 'epididymis', 'tunica_albuginea', 'prostate'],\n",
    "    'integumentary': ['skin', 'adipocyte'],\n",
    "}\n",
    "\n",
    "ordered_columns_micro = []\n",
    "for organ_system in organ_dict_micro:\n",
    "    for organ in organ_dict_micro[organ_system]:\n",
    "        if organ in df_microarray_tissue.columns:\n",
    "            ordered_columns_micro.append(organ)\n",
    "        else:\n",
    "            print(f\"organ {organ} not found in microarray data\")\n",
    "\n",
    "df_microarray_tissue = df_microarray_tissue[ordered_columns_micro]"
   ]
  },
  {
   "cell_type": "code",
   "execution_count": 29,
   "metadata": {},
   "outputs": [],
   "source": [
    "# calculate the correlation between all tissues and plot a heatmap\n",
    "corr_micro = df_microarray_tissue.corr()\n",
    "\n",
    "# create a list to store the start index of each organ system\n",
    "organ_indices = [0]\n",
    "for organ_system in organ_dict_micro.values():\n",
    "    organ_indices.append(organ_indices[-1] + len(organ_system))\n",
    "organ_indices = organ_indices[:-1]  # remove the last index, which is out of bounds\n",
    "\n",
    "# plot the heatmap\n",
    "plt.clf()\n",
    "fig, ax = plt.subplots(figsize=(5.5,5.5))\n",
    "\n",
    "heatmap = sns.heatmap(corr_micro**2, ax=ax, vmin=0.3, vmax=1, cmap=\"viridis\", \n",
    "                      square=True, cbar_kws={\"shrink\": 0.7, \"label\": \"r2\"},\n",
    "                      linewidths=.5, linecolor='grey')  # add lines between cells\n",
    "# set sns font size\n",
    "sns.set(font_scale=0.5)\n",
    "\n",
    "# draw organ system boundaries\n",
    "for idx in organ_indices[1:]:  # skip the first index (0)\n",
    "    heatmap.hlines(idx, *heatmap.get_xlim(), colors='black', linewidth=1)\n",
    "    heatmap.vlines(idx, *heatmap.get_ylim(), colors='black', linewidth=1)\n",
    "\n",
    "\n",
    "# label organ systems on x axis\n",
    "for i in range(len(organ_indices)):\n",
    "    start = organ_indices[i]\n",
    "    if i < len(organ_indices) - 1:\n",
    "        end = organ_indices[i + 1]\n",
    "    else:\n",
    "        end = len(ordered_columns_micro)\n",
    "    \n",
    "    label_position = (start + end) / 2\n",
    "    plt.text(label_position, -1, list(organ_dict_micro.keys())[i],\n",
    "             ha='center', va='center', rotation=0, fontsize=7)  # changed the x-coordinate to 'center'\n",
    "    \n",
    "# move x and y ticks to the middle of the cells\n",
    "ax.set_xticks(np.arange(corr_micro.shape[1]) + 0.5, minor=False)\n",
    "ax.set_yticks(np.arange(corr_micro.shape[0]) + 0.5, minor=False)\n",
    "ax.tick_params(which='both', length=0)  # hide tick marks\n",
    "\n",
    "plt.tight_layout()\n",
    "for format in [\"png\", \"svg\"]:\n",
    "    plt.savefig(os.path.join(base_plot_folder, f\"15.1.2_microarray/15.1.2_microarray_correlation_heatmap.{format}\"), format=format)"
   ]
  },
  {
   "cell_type": "markdown",
   "metadata": {},
   "source": [
    "# 15.2 - Merge the two datasets"
   ]
  },
  {
   "cell_type": "code",
   "execution_count": 30,
   "metadata": {},
   "outputs": [],
   "source": [
    "if not os.path.exists(os.path.join(base_plot_folder, \"15.2_merge_datasets\")):\n",
    "    os.makedirs(os.path.join(base_plot_folder, \"15.2_merge_datasets\"))"
   ]
  },
  {
   "cell_type": "markdown",
   "metadata": {},
   "source": [
    "## 15.2.1 - Compare the unprocessed two datasets"
   ]
  },
  {
   "cell_type": "code",
   "execution_count": 31,
   "metadata": {},
   "outputs": [],
   "source": [
    "# average temporal_lobe, occipital_lobe, frontal_lobe in ngs_data as brain\n",
    "df_ngs_tissue['brain'] = df_ngs_tissue[['temporal_lobe', 'occipital_lobe', 'frontal_lobe', 'white_matter', 'grey_matter']].mean(axis=1)"
   ]
  },
  {
   "cell_type": "code",
   "execution_count": 32,
   "metadata": {},
   "outputs": [],
   "source": [
    "# get the list of column names for the microarray data\n",
    "micro_columns = df_microarray_tissue.columns\n",
    "\n",
    "# get the list of column names for the NGS data\n",
    "ngs_columns = df_ngs_tissue.columns\n",
    "\n",
    "# get the list of column names that are in both datasets\n",
    "common_columns = list(set(micro_columns).intersection(ngs_columns))"
   ]
  },
  {
   "cell_type": "code",
   "execution_count": null,
   "metadata": {},
   "outputs": [],
   "source": [
    "# for both, find columns that aren't in the other\n",
    "micro_only = [column for column in micro_columns if column not in ngs_columns]\n",
    "ngs_only = [column for column in ngs_columns if column not in micro_columns]\n",
    "\n",
    "# print them\n",
    "print(\"Microarray only:\")\n",
    "print(micro_only)\n",
    "print(\"NGS only:\")\n",
    "print(ngs_only)"
   ]
  },
  {
   "cell_type": "code",
   "execution_count": 34,
   "metadata": {},
   "outputs": [],
   "source": [
    "# filter the datasets to only include the common columns in the same order\n",
    "df_microarray_tissue = df_microarray_tissue[common_columns]\n",
    "df_ngs_tissue = df_ngs_tissue[common_columns]"
   ]
  },
  {
   "cell_type": "code",
   "execution_count": 35,
   "metadata": {},
   "outputs": [],
   "source": [
    "# harmonize their indices\n",
    "df_ngs_tissue = df_ngs_tissue.loc[df_microarray_tissue.index]"
   ]
  },
  {
   "cell_type": "code",
   "execution_count": 36,
   "metadata": {},
   "outputs": [],
   "source": [
    "df_ngs_tissue_orig = df_ngs_tissue.copy()\n",
    "df_microarray_tissue_orig = df_microarray_tissue.copy()\n",
    "\n",
    "# remove small values to better assess the relevant correlation\n",
    "df_ngs_tissue[df_ngs_tissue < 2] = 2.0\n",
    "df_microarray_tissue[df_microarray_tissue < 2] = 2.0\n",
    "\n",
    "df_ngs_tissue = df_ngs_tissue.astype(float)\n",
    "df_microarray_tissue = df_microarray_tissue.astype(float)"
   ]
  },
  {
   "cell_type": "code",
   "execution_count": 37,
   "metadata": {},
   "outputs": [],
   "source": [
    "# renormalize the two\n",
    "df_ngs_tissue = normalize_expr_df_to_rpm(df_ngs_tissue, 2)\n",
    "df_microarray_tissue = normalize_expr_df_to_rpm(df_microarray_tissue, 2)"
   ]
  },
  {
   "cell_type": "code",
   "execution_count": null,
   "metadata": {},
   "outputs": [],
   "source": [
    "organs = ['white_matter', 'pituitary_gland', 'colon', 'skin', 'lymph_node',\n",
    "       'nerve', 'nucleus_caudatus', 'stomach', 'thalamus', 'kidney', 'testis',\n",
    "       'vein', 'muscle', 'lung', 'prostate', 'jejunum', 'adrenal_gland',\n",
    "       'thyroid', 'spinal_cord', 'adipocyte', 'grey_matter', 'duodenum',\n",
    "       'spleen', 'cerebellum', 'dura_mater', 'bone', 'liver', 'artery',\n",
    "       'esophagus', 'pancreas', 'pleurae', 'brain']\n",
    "\n",
    "# are there any columns that were left out?\n",
    "print(\"Columns left out:\")\n",
    "print([column for column in common_columns if column not in organs])"
   ]
  },
  {
   "cell_type": "code",
   "execution_count": 39,
   "metadata": {},
   "outputs": [],
   "source": [
    "organ_dict = {\n",
    "    'brain': ['brain', 'thalamus', 'white_matter', 'grey_matter', 'nucleus_caudatus', 'cerebellum', 'spinal_cord', 'dura_mater'],\n",
    "    'nervous': ['nerve'],\n",
    "    'circulatory': ['vein', 'artery'],\n",
    "    'musculoskeletal': ['bone', 'muscle'],\n",
    "    'digestive': ['esophagus', 'stomach', 'duodenum', 'jejunum', 'colon', 'liver', 'pancreas'],\n",
    "    'respiratory': ['pleurae', 'lung'],\n",
    "    'endocrine': ['thyroid', 'pituitary_gland', 'adrenal_gland'],\n",
    "    'lymphatic': ['lymph_node', 'spleen'],\n",
    "    'urinary': ['kidney'],\n",
    "    'reproductive': ['testis', 'prostate'],\n",
    "    'integumentary': ['skin', 'adipocyte'],\n",
    "}\n",
    "\n",
    "ordered_columns = []\n",
    "for organ_system in organ_dict:\n",
    "    for organ in organ_dict[organ_system]:\n",
    "        if organ in df_microarray_tissue.columns and organ in df_ngs_tissue.columns:\n",
    "            ordered_columns.append(organ)\n",
    "        else:\n",
    "            print(f\"organ {organ} not found in microarray or ngs data\")\n",
    "        \n",
    "df_ngs_tissue = df_ngs_tissue[ordered_columns]\n",
    "df_microarray_tissue = df_microarray_tissue[ordered_columns]"
   ]
  },
  {
   "cell_type": "code",
   "execution_count": 40,
   "metadata": {},
   "outputs": [],
   "source": [
    "# Combine the dataframes along the column axis\n",
    "df_combined = pd.concat([df_ngs_tissue, df_microarray_tissue], axis=1)\n",
    "\n",
    "# Calculate the correlation\n",
    "corr = df_combined.corr()\n",
    "\n",
    "# Get number of columns in each dataframe\n",
    "n_ngs = df_ngs_tissue.shape[1]\n",
    "n_micro = df_microarray_tissue.shape[1]\n",
    "\n",
    "# Get correlation between different dataframes\n",
    "corr_diff = corr.iloc[:n_ngs, n_ngs:] \n",
    "\n",
    "# plot the heatmap\n",
    "plt.clf()\n",
    "fig, ax = plt.subplots(figsize=(4.5,4.5))\n",
    "\n",
    "heatmap = sns.heatmap(corr_diff**2, ax=ax, vmin=0.3, vmax=0.9, cmap=\"viridis\", \n",
    "                      square=True, cbar_kws={\"shrink\": 0.7, \"label\": \"r2\"},\n",
    "                      linewidths=.5, linecolor='grey')  # add lines between cells\n",
    "\n",
    "for i in range(min(n_ngs, n_micro)):\n",
    "    rect = plt.Rectangle((i, i), 1, 1, fill=False, edgecolor='red', lw=1)\n",
    "    ax.add_patch(rect)\n",
    "\n",
    "# set sns font size\n",
    "sns.set(font_scale=0.5)\n",
    "\n",
    "plt.xlabel(\"Microarray\", fontsize=7)\n",
    "plt.ylabel(\"NGS\", fontsize=7)\n",
    "\n",
    "plt.tight_layout()\n",
    "for format in [\"png\", \"svg\"]:\n",
    "    plt.savefig(os.path.join(base_plot_folder, f\"15.2_merge_datasets/15.2_correlation_unprocessed.{format}\"), dpi=300)"
   ]
  },
  {
   "cell_type": "markdown",
   "metadata": {},
   "source": [
    "## 15.2.2 - Determine outlier miRNAs"
   ]
  },
  {
   "cell_type": "markdown",
   "metadata": {},
   "source": [
    "First, we find all outliers to redo the normalization - the background miRNAs in the microarray dataset bias the normalization procedure."
   ]
  },
  {
   "cell_type": "code",
   "execution_count": 41,
   "metadata": {},
   "outputs": [],
   "source": [
    "def count_df_dict(dict1):\n",
    "    counts = {}\n",
    "    for key in dict1.keys():\n",
    "        for i in dict1[key].index:\n",
    "            if i not in counts:\n",
    "                counts[i] = 0\n",
    "            else:\n",
    "                counts[i] += 1\n",
    "    return counts"
   ]
  },
  {
   "cell_type": "code",
   "execution_count": 42,
   "metadata": {},
   "outputs": [],
   "source": [
    "df_difference = df_ngs_tissue - df_microarray_tissue"
   ]
  },
  {
   "cell_type": "code",
   "execution_count": 43,
   "metadata": {},
   "outputs": [],
   "source": [
    "# get the 30 most different microRNAs for each tissue\n",
    "most_different = {}\n",
    "for tissue in common_columns:\n",
    "    # get the 30 most different microRNAs\n",
    "    most_different[tissue] = df_difference[tissue].abs().sort_values(ascending=False).head(30)\n",
    "    \n",
    "# get count statistics\n",
    "counts_most_diff = count_df_dict(most_different)"
   ]
  },
  {
   "cell_type": "code",
   "execution_count": 44,
   "metadata": {},
   "outputs": [],
   "source": [
    "# plot a histogram of the number of times each microRNA is in the top 30 most different\n",
    "# reset matplotlib settings\n",
    "plt.rcParams.update(plt.rcParamsDefault)\n",
    "# set the font size\n",
    "plt.rcParams.update({'font.size': 7})\n",
    "# set Helvetica globally\n",
    "plt.rcParams['font.family'] = 'Helvetica'\n",
    "\n",
    "plt.clf()\n",
    "plt.figure(figsize=(2, 1.4))\n",
    "organ_bins = np.arange(1, len(organs) + 1)\n",
    "plt.hist(counts_most_diff.values(), bins=organ_bins, edgecolor=\"black\", color=\"skyblue\")\n",
    "plt.xlabel(\"# in top 30 most different\")\n",
    "plt.ylabel(\"microRNAs\")\n",
    "plt.tight_layout()\n",
    "plt.savefig(os.path.join(base_plot_folder, \"15.2_merge_datasets/15.2_most_different_histogram.png\"), dpi=300)"
   ]
  },
  {
   "cell_type": "code",
   "execution_count": 45,
   "metadata": {},
   "outputs": [],
   "source": [
    "exclude_mirnas = [microRNA for microRNA, count in counts_most_diff.items() if count >= 3]"
   ]
  },
  {
   "cell_type": "code",
   "execution_count": 46,
   "metadata": {},
   "outputs": [],
   "source": [
    "# renormalize the two\n",
    "df_ngs_tissue_exclude = df_ngs_tissue[~df_ngs_tissue.index.isin(exclude_mirnas)]\n",
    "df_microarray_tissue_exclude = df_microarray_tissue[~df_microarray_tissue.index.isin(exclude_mirnas)]\n",
    "\n",
    "df_ngs_tissue_exclude, df_ngs_tissue = normalize_expr_df_to_rpm_with_partner(df_ngs_tissue_exclude, df_ngs_tissue, minimum=2)\n",
    "df_microarray_tissue_exclude, df_microarray_tissue = normalize_expr_df_to_rpm_with_partner(df_microarray_tissue_exclude, df_microarray_tissue, minimum=2)"
   ]
  },
  {
   "cell_type": "markdown",
   "metadata": {},
   "source": [
    "Now, we identify which microRNAs are consistently higher in one or the other dataset."
   ]
  },
  {
   "cell_type": "code",
   "execution_count": 47,
   "metadata": {},
   "outputs": [],
   "source": [
    "df_difference = df_ngs_tissue - df_microarray_tissue"
   ]
  },
  {
   "cell_type": "code",
   "execution_count": 48,
   "metadata": {},
   "outputs": [],
   "source": [
    "ngs_larger_micro = {}\n",
    "micro_larger_ngs = {}\n",
    "for tissue in common_columns:\n",
    "    # get the miRNAs with large differences\n",
    "    ngs_larger_micro[tissue] = df_difference[tissue][df_difference[tissue] > 1]\n",
    "    micro_larger_ngs[tissue] = df_difference[tissue][df_difference[tissue] < -1]\n",
    "    \n",
    "counts_larger_ngs = count_df_dict(ngs_larger_micro)\n",
    "counts_larger_micro = count_df_dict(micro_larger_ngs)    "
   ]
  },
  {
   "cell_type": "code",
   "execution_count": 49,
   "metadata": {},
   "outputs": [],
   "source": [
    "# add 0 counts for missing miRNAs\n",
    "counts_larger_micro_plot = counts_larger_micro.copy()\n",
    "micro_total_mirna_not_counted = 0\n",
    "for mirna in df_difference.index:\n",
    "    if mirna not in counts_larger_micro_plot:\n",
    "        counts_larger_micro_plot[mirna] = 0\n",
    "        micro_total_mirna_not_counted += 1\n",
    "        \n",
    "counts_larger_ngs_plot = counts_larger_ngs.copy()\n",
    "ngs_total_mirna_not_counted = 0\n",
    "for mirna in df_difference.index:\n",
    "    if mirna not in counts_larger_ngs_plot:\n",
    "        counts_larger_ngs_plot[mirna] = 0\n",
    "        ngs_total_mirna_not_counted += 1"
   ]
  },
  {
   "cell_type": "code",
   "execution_count": null,
   "metadata": {},
   "outputs": [],
   "source": [
    "# plot a histogram of the number of times each microRNA is in the top 30 most different\n",
    "plt.clf()\n",
    "organ_bins = np.arange(1, len(organs) + 1)\n",
    "plt.figure(figsize=(2, 1.4))\n",
    "plt.text(20, 5, f\"miRNAs #0 count: {ngs_total_mirna_not_counted}\", fontsize=7, ha='center', va='center')\n",
    "plt.hist(counts_larger_ngs_plot.values(), bins=organ_bins, edgecolor=\"black\", color=\"skyblue\")\n",
    "plt.axvline(x=5, color='black', linestyle='--')\n",
    "plt.xlabel(\"# tissues NGS >> microarray\")\n",
    "plt.ylabel(\"microRNAs\")\n",
    "plt.tight_layout()\n",
    "for format in [\"png\", \"svg\"]:\n",
    "    plt.savefig(os.path.join(base_plot_folder, f\"15.2_merge_datasets/15.2_larger_ngs_histogram.{format}\"), dpi=300)"
   ]
  },
  {
   "cell_type": "code",
   "execution_count": 51,
   "metadata": {},
   "outputs": [],
   "source": [
    "# plot a histogram of the number of times each microRNA is in the top 30 most different\n",
    "plt.clf()\n",
    "organ_bins = np.arange(1, len(organs) + 1)\n",
    "plt.figure(figsize=(2, 1.4))\n",
    "plt.text(20, 15, f\"miRNAs #0 count: {micro_total_mirna_not_counted}\", fontsize=7, ha='center', va='center')\n",
    "plt.hist(counts_larger_micro_plot.values(), bins=organ_bins, edgecolor=\"black\", color=\"skyblue\")\n",
    "# create a vertical line at 5\n",
    "plt.axvline(x=5, color='black', linestyle='--')\n",
    "plt.ylim(0, 22)\n",
    "plt.xlabel(\"# tissues microarray >> NGS\")\n",
    "plt.ylabel(\"microRNAs\")\n",
    "plt.tight_layout()\n",
    "for format in [\"png\", \"svg\"]:\n",
    "    plt.savefig(os.path.join(base_plot_folder, f\"15.2_merge_datasets/15.2_larger_micro_histogram.{format}\"), dpi=300)"
   ]
  },
  {
   "cell_type": "code",
   "execution_count": null,
   "metadata": {},
   "outputs": [],
   "source": [
    "# get all miRNAs that are in the top 30 most different in at least 3 tissues\n",
    "ngs_larger_in_multiple = [microRNA for microRNA, count in counts_larger_ngs.items() if count >= 5]\n",
    "print(len(ngs_larger_in_multiple))"
   ]
  },
  {
   "cell_type": "code",
   "execution_count": null,
   "metadata": {},
   "outputs": [],
   "source": [
    "# get all miRNAs that are in the top 30 most different in at least 3 tissues\n",
    "micro_larger_in_multiple = [microRNA for microRNA, count in counts_larger_micro.items() if count >= 5]\n",
    "print(len(micro_larger_in_multiple))"
   ]
  },
  {
   "cell_type": "code",
   "execution_count": 54,
   "metadata": {},
   "outputs": [],
   "source": [
    "# specifically plot false positives and negatives\n",
    "excluded_points = micro_larger_in_multiple + ngs_larger_in_multiple\n",
    "non_exclude_index = df_ngs_tissue.index[~df_ngs_tissue.index.isin(excluded_points)]"
   ]
  },
  {
   "cell_type": "code",
   "execution_count": 55,
   "metadata": {},
   "outputs": [],
   "source": [
    "for tissue in common_columns:\n",
    "    plt.clf()\n",
    "    # reset matplotlib settings\n",
    "    plt.rcParams.update(plt.rcParamsDefault)\n",
    "    plt.rcParams.update({'font.size': 7})\n",
    "    plt.rcParams['font.family'] = 'Helvetica'\n",
    "    \n",
    "    fig = plt.figure(figsize=(2,1.8))\n",
    "    r2_all = stats.pearsonr(df_microarray_tissue[tissue], df_ngs_tissue[tissue])[0]**2\n",
    "    \n",
    "    plt.scatter(df_microarray_tissue.loc[ngs_larger_in_multiple, tissue],\n",
    "                df_ngs_tissue.loc[ngs_larger_in_multiple, tissue], s=5, edgecolors=\"none\", alpha=1,\n",
    "                label=\"ngs larger\", color=\"tab:red\", marker=\"v\", zorder=2)\n",
    "    plt.scatter(df_microarray_tissue.loc[micro_larger_in_multiple, tissue],\n",
    "                df_ngs_tissue.loc[micro_larger_in_multiple, tissue], s=5, edgecolors=\"none\", alpha=1,\n",
    "                label=\"microarray larger\", color=\"tab:orange\", marker=\"o\", zorder=2)\n",
    "\n",
    "    non_exclude_index = df_ngs_tissue.index[~df_ngs_tissue.index.isin(excluded_points)]\n",
    "    plt.scatter(df_microarray_tissue.loc[non_exclude_index, tissue], df_ngs_tissue.loc[non_exclude_index, tissue],\n",
    "                s=5, edgecolors=\"none\", alpha=1, zorder=1)\n",
    "    # calculate the correlation coefficient\n",
    "    r2 = stats.pearsonr(df_microarray_tissue.loc[non_exclude_index, tissue], df_ngs_tissue.loc[non_exclude_index, tissue])[0]**2\n",
    "    plt.plot([0, 6], [0, 6], color=\"black\", linestyle=\"--\", linewidth=1)\n",
    "\n",
    "    plt.xlabel(\"Microarray\")\n",
    "    plt.ylabel(\"NGS\")\n",
    "    plt.xlim(1.5, 6)\n",
    "    plt.ylim(1.5, 6)\n",
    "    plt.title(f\"{tissue}\", fontsize=7)\n",
    "    plt.text(1.6, 5.4, f\"$r^2$ (all)={r2_all:.2f}\", fontsize=7, ha=\"left\")\n",
    "    plt.text(1.6, 4.9, f\"$r^2$ (excl.)={r2:.2f}\", fontsize=7, ha=\"left\")\n",
    "    plt.tight_layout()\n",
    "    plt.legend(loc=[1.05,0.5], fontsize=7)\n",
    "    for format in [\"png\", \"svg\"]:\n",
    "        plt.savefig(os.path.join(base_plot_folder, f\"15.2_merge_datasets/15.2_scatter_{tissue}.{format}\"), dpi=300)\n",
    "    plt.close()"
   ]
  },
  {
   "cell_type": "code",
   "execution_count": 56,
   "metadata": {},
   "outputs": [],
   "source": [
    "# Create a figure with a grid of subplots\n",
    "fig, axes = plt.subplots(2, 3, figsize=(5, 3.2))\n",
    "\n",
    "# Flatten the array of axes for easy iteration\n",
    "axes = axes.flatten()\n",
    "chosen_columns = [\"adipocyte\", \"grey_matter\", \"liver\", \"lung\", \"prostate\", \"skin\"]\n",
    "\n",
    "for i, tissue in enumerate(chosen_columns):\n",
    "    ax = axes[i]\n",
    "    \n",
    "    r2_all = stats.pearsonr(df_microarray_tissue[tissue], df_ngs_tissue[tissue])[0]**2\n",
    "    \n",
    "    ax.scatter(df_microarray_tissue.loc[ngs_larger_in_multiple, tissue],\n",
    "               df_ngs_tissue.loc[ngs_larger_in_multiple, tissue], s=6, edgecolors=\"none\", alpha=1,\n",
    "               label=\"ngs consistently larger\", color=\"tab:red\", marker=\"v\", zorder=2, rasterized=True)\n",
    "    ax.scatter(df_microarray_tissue.loc[micro_larger_in_multiple, tissue],\n",
    "               df_ngs_tissue.loc[micro_larger_in_multiple, tissue], s=6, edgecolors=\"none\", alpha=1,\n",
    "               label=\"microarray consistently larger\", color=\"tab:orange\", marker=\"o\", zorder=2, rasterized=True)\n",
    "    \n",
    "    non_exclude_index = df_ngs_tissue.index[~df_ngs_tissue.index.isin(excluded_points)]\n",
    "    ax.scatter(df_microarray_tissue.loc[non_exclude_index, tissue], df_ngs_tissue.loc[non_exclude_index, tissue],\n",
    "               s=6, edgecolors=\"none\", alpha=1, zorder=1, rasterized=True)\n",
    "    \n",
    "    r2 = stats.pearsonr(df_microarray_tissue.loc[non_exclude_index, tissue], df_ngs_tissue.loc[non_exclude_index, tissue])[0]**2\n",
    "    ax.plot([0, 6], [0, 6], color=\"black\", linestyle=\"--\", linewidth=1)\n",
    "    \n",
    "    ax.set_xlim(1.5, 5.8)\n",
    "    ax.set_ylim(1.5, 5.8)\n",
    "    ax.set_title(f\"{tissue}\", fontsize=8)\n",
    "    ax.text(1.6, 5.4, f\"$r^2$ (all)={r2_all:.2f}\", fontsize=7, ha=\"left\")\n",
    "    ax.text(1.6, 4.9, f\"$r^2$ (excl.)={r2:.2f}\", fontsize=7, ha=\"left\")\n",
    "    \n",
    "    ax.set_xticks([2, 3, 4, 5])\n",
    "    ax.set_yticks([2, 3, 4, 5])\n",
    "    \n",
    "    if i % 3 == 0:\n",
    "        ax.set_ylabel(\"NGS\")\n",
    "    if i >= 3:\n",
    "        ax.set_xlabel(\"Microarray\")\n",
    "\n",
    "    # Hide inner tick labels\n",
    "    if i % 3 != 0:\n",
    "        ax.tick_params(labelleft=False)\n",
    "    if i < 3:\n",
    "        ax.tick_params(labelbottom=False)\n",
    "        \n",
    "\n",
    "# Adjust layout\n",
    "plt.tight_layout()\n",
    "plt.legend(loc='best', fontsize=7)\n",
    "for format in [\"png\", \"svg\"]:\n",
    "    plt.savefig(os.path.join(base_plot_folder, f\"15.2_merge_datasets/15.2_scatter_chosen_columns.{format}\"), dpi=600)"
   ]
  },
  {
   "cell_type": "code",
   "execution_count": 57,
   "metadata": {},
   "outputs": [],
   "source": [
    "# calculate the correlation between all columns in the NGS and all columns microarray datasets\n",
    "# This is NOT supposed to compare columns with the same names only\n",
    "# Combine the dataframes along the column axis\n",
    "df_combined = pd.concat([df_ngs_tissue.loc[non_exclude_index], df_microarray_tissue.loc[non_exclude_index]], axis=1)\n",
    "\n",
    "# Calculate the correlation\n",
    "corr = df_combined.corr()\n",
    "\n",
    "# Get number of columns in each dataframe\n",
    "n_ngs = df_ngs_tissue.shape[1]\n",
    "n_micro = df_microarray_tissue.shape[1]\n",
    "\n",
    "# Get correlation between different dataframes\n",
    "corr_diff = corr.iloc[:n_ngs, n_ngs:]  # correlations between df_ngs_tissue and df_microarray_tissue\n",
    "\n",
    "# plot the heatmap\n",
    "plt.clf()\n",
    "fig, ax = plt.subplots(figsize=(4.5,4.5))\n",
    "\n",
    "heatmap = sns.heatmap(corr_diff**2, ax=ax, vmin=0.3, vmax=0.9, cmap=\"viridis\", \n",
    "                      square=True, cbar_kws={\"shrink\": 0.7, \"label\": \"r2\"},\n",
    "                      linewidths=.5, linecolor='grey')  # add lines between cells\n",
    "\n",
    "sns.set(font_scale=0.5)\n",
    "\n",
    "for i in range(min(n_ngs, n_micro)):\n",
    "    rect = plt.Rectangle((i, i), 1, 1, fill=False, edgecolor='red', lw=1)\n",
    "    ax.add_patch(rect)\n",
    "\n",
    "plt.xlabel(\"Microarray\", fontsize=7)\n",
    "plt.ylabel(\"NGS\", fontsize=7)\n",
    "\n",
    "plt.tight_layout()\n",
    "for format in [\"png\", \"svg\"]:\n",
    "    plt.savefig(os.path.join(base_plot_folder, f\"15.2_merge_datasets/15.2_correlation_excluded_mirnas.{format}\"), dpi=300)"
   ]
  },
  {
   "cell_type": "code",
   "execution_count": 58,
   "metadata": {},
   "outputs": [],
   "source": [
    "# save these two to a file\n",
    "with open(os.path.join(dataset_processed_folder, \"ngs_larger_in_multiple.txt\"), \"w\") as f:\n",
    "    f.write(\"\\n\".join(ngs_larger_in_multiple))\n",
    "with open(os.path.join(dataset_processed_folder, \"micro_larger_in_multiple.txt\"), \"w\") as f:\n",
    "    f.write(\"\\n\".join(micro_larger_in_multiple))\n",
    "with open(os.path.join(dataset_processed_folder, \"tissue_dataset_mirnas.txt\"), \"w\") as f:\n",
    "    for mirna in df_microarray_tissue.index:\n",
    "        f.write(mirna+\"\\n\")"
   ]
  },
  {
   "cell_type": "markdown",
   "metadata": {},
   "source": [
    "## 15.2.3 - Apply the same procedure to the cell line data"
   ]
  },
  {
   "cell_type": "code",
   "execution_count": 59,
   "metadata": {},
   "outputs": [],
   "source": [
    "if not os.path.exists(os.path.join(base_plot_folder, \"15.2.3_cell_line_data\")):\n",
    "    os.makedirs(os.path.join(base_plot_folder, \"15.2.3_cell_line_data\"))"
   ]
  },
  {
   "cell_type": "code",
   "execution_count": 60,
   "metadata": {},
   "outputs": [],
   "source": [
    "def sum_filtering(df):\n",
    "    \"\"\"\n",
    "    Filters a dataframe by summing the values in each row and keeping only those that are above 3.\n",
    "    \"\"\"\n",
    "    df[\"sum\"] = df.sum(axis=1)\n",
    "    df_filtered = df[df[\"sum\"] > 3]\n",
    "    return df_filtered.drop(columns=\"sum\")\n",
    "\n",
    "false_negatives_ngs = pd.read_csv(\"../outputs/3_fitting/Keller2023/Keller2023_false_negatives_filtered.csv\", index_col=0)\n",
    "false_negatives_microarray = pd.read_csv(\"../outputs/3_fitting/Alles2019/Alles2019_false_negatives_filtered.csv\", index_col=0)\n",
    "false_positives_ngs = pd.read_csv(\"../outputs/3_fitting/Keller2023/Keller2023_false_positives_filtered.csv\", index_col=0)\n",
    "false_positives_microarray = pd.read_csv(\"../outputs/3_fitting/Alles2019/Alles2019_false_positives_filtered.csv\", index_col=0)\n",
    "\n",
    "# # apply the sum filtering\n",
    "false_negatives_ngs = sum_filtering(false_negatives_ngs)\n",
    "false_negatives_microarray = sum_filtering(false_negatives_microarray)\n",
    "false_positives_ngs = sum_filtering(false_positives_ngs)\n",
    "false_positives_microarray = sum_filtering(false_positives_microarray)\n",
    "\n",
    "false_positives_and_negatives = [false_negatives_ngs, false_negatives_microarray, false_positives_ngs, false_positives_microarray]\n",
    "false_positives_and_negatives_label = [\"false negatives sequencing\", \"false negatives microarray\", \"false positives sequencing\", \"false positives microarray\"]\n",
    "false_positives_and_negatives_symbols = [\"v\", \"v\", \"o\", \"o\"]\n",
    "false_positives_and_negatives_colors = [\"tab:red\", \"tab:orange\", \"tab:red\", \"tab:orange\"]"
   ]
  },
  {
   "cell_type": "code",
   "execution_count": null,
   "metadata": {},
   "outputs": [],
   "source": [
    "# create a plot containing the names of all false positives and negatives\n",
    "false_negatives_microarray.index"
   ]
  },
  {
   "cell_type": "code",
   "execution_count": 62,
   "metadata": {},
   "outputs": [],
   "source": [
    "df_alles = pd.read_csv(\"../microrna_data/2_output/Alles2019_conormalized.csv\", index_col=0)\n",
    "df_alles = np.log10(df_alles)\n",
    "df_alles = df_alles[df_alles.index.isin(allowed_mirnas)]\n",
    "\n",
    "df_keller = pd.read_csv('../microrna_data/2_output/Keller2023_conormalized.csv', index_col=0)\n",
    "df_keller = np.log10(df_keller)\n",
    "df_keller = df_keller[df_keller.index.isin(allowed_mirnas)]\n",
    "\n",
    "common_index = df_keller.index.intersection(df_alles.index)\n",
    "common_columns = df_keller.columns.intersection(df_alles.columns)\n",
    "df_alles = df_alles.loc[common_index, common_columns]\n",
    "df_keller = df_keller.loc[common_index, common_columns]\n",
    "\n",
    "df_alles_original_mean = df_alles.drop(columns=[\"JEG3\", \"Tera1\"]).mean(axis=1)\n",
    "df_keller_original_mean = df_keller.drop(columns=[\"JEG3\", \"Tera1\"]).mean(axis=1)\n",
    "\n",
    "df_alles[df_alles < 2] = 2\n",
    "df_keller[df_keller < 2] = 2"
   ]
  },
  {
   "cell_type": "code",
   "execution_count": 63,
   "metadata": {},
   "outputs": [],
   "source": [
    "df_difference = df_keller - df_alles"
   ]
  },
  {
   "cell_type": "code",
   "execution_count": 64,
   "metadata": {},
   "outputs": [],
   "source": [
    "# get the 30 most different microRNAs for each tissue\n",
    "most_different = {}\n",
    "for tissue in common_columns:\n",
    "    # get the 30 most different microRNAs\n",
    "    most_different[tissue] = df_difference[tissue].abs().sort_values(ascending=False).head(30)\n",
    "    \n",
    "# get count statistics\n",
    "counts_most_diff = count_df_dict(most_different)"
   ]
  },
  {
   "cell_type": "code",
   "execution_count": 65,
   "metadata": {},
   "outputs": [],
   "source": [
    "# plot a histogram of the number of times each microRNA is in the top 30 most different\n",
    "# reset matplotlib settings\n",
    "plt.rcParams.update(plt.rcParamsDefault)\n",
    "# set the font size\n",
    "plt.rcParams.update({'font.size': 7})\n",
    "# set Helvetica globally\n",
    "plt.rcParams['font.family'] = 'Helvetica'\n",
    "\n",
    "plt.clf()\n",
    "plt.figure(figsize=(2, 1.4))\n",
    "organ_bins = np.arange(1, len(df_alles.columns) + 1)\n",
    "plt.hist(counts_most_diff.values(), bins=organ_bins, edgecolor=\"black\", color=\"skyblue\")\n",
    "plt.xlabel(\"# in top 30 most different\")\n",
    "plt.ylabel(\"microRNAs\")\n",
    "plt.tight_layout()\n",
    "plt.savefig(os.path.join(base_plot_folder, \"15.2.3_cell_line_data/15.2.3_most_different_histogram.png\"), dpi=300)"
   ]
  },
  {
   "cell_type": "code",
   "execution_count": 66,
   "metadata": {},
   "outputs": [],
   "source": [
    "exclude_mirnas = [microRNA for microRNA, count in counts_most_diff.items() if count >= 3]\n",
    "\n",
    "# renormalize the two\n",
    "df_keller_exclude = df_keller[~df_keller.index.isin(exclude_mirnas)]\n",
    "df_alles_exclude = df_alles[~df_alles.index.isin(exclude_mirnas)]\n",
    "\n",
    "df_keller_exclude, df_keller = normalize_expr_df_to_rpm_with_partner(df_keller_exclude, df_keller, minimum=2)\n",
    "df_alles_exclude, df_alles = normalize_expr_df_to_rpm_with_partner(df_alles_exclude, df_alles, minimum=2)"
   ]
  },
  {
   "cell_type": "markdown",
   "metadata": {},
   "source": [
    "### Now, identify consistent outliers"
   ]
  },
  {
   "cell_type": "code",
   "execution_count": 67,
   "metadata": {},
   "outputs": [],
   "source": [
    "df_difference = df_keller - df_alles"
   ]
  },
  {
   "cell_type": "code",
   "execution_count": 68,
   "metadata": {},
   "outputs": [],
   "source": [
    "# get the most different microRNAs\n",
    "keller_larger_alles = {}\n",
    "alles_larger_keller = {}\n",
    "for tissue in df_difference.columns:\n",
    "    # get the most different microRNAs\n",
    "    keller_larger_alles[tissue] = df_difference[tissue][df_difference[tissue] > 1]\n",
    "    alles_larger_keller[tissue] = df_difference[tissue][df_difference[tissue] < -1]\n",
    "    \n",
    "# get statistics for the most different microRNAs\n",
    "counts_larger_keller = count_df_dict(keller_larger_alles)\n",
    "counts_larger_alles = count_df_dict(alles_larger_keller)    "
   ]
  },
  {
   "cell_type": "code",
   "execution_count": 69,
   "metadata": {},
   "outputs": [],
   "source": [
    "# add 0 counts for missing miRNAs\n",
    "counts_larger_alles_plot = counts_larger_alles.copy()\n",
    "alles_total_mirna_not_counted = 0\n",
    "for mirna in df_difference.index:\n",
    "    if mirna not in counts_larger_alles_plot:\n",
    "        counts_larger_alles_plot[mirna] = 0\n",
    "        alles_total_mirna_not_counted += 1\n",
    "        \n",
    "counts_larger_keller_plot = counts_larger_keller.copy()\n",
    "keller_total_mirna_not_counted = 0\n",
    "for mirna in df_difference.index:\n",
    "    if mirna not in counts_larger_keller_plot:\n",
    "        counts_larger_keller_plot[mirna] = 0\n",
    "        keller_total_mirna_not_counted += 1"
   ]
  },
  {
   "cell_type": "code",
   "execution_count": 70,
   "metadata": {},
   "outputs": [],
   "source": [
    "# plot a histogram of the number of times each microRNA is in the top 30 most different\n",
    "cell_line_bins = np.arange(1, len(df_difference.columns) + 1)\n",
    "\n",
    "plt.clf()\n",
    "plt.figure(figsize=(1.8, 1.4))\n",
    "plt.hist(counts_larger_keller.values(), bins=cell_line_bins, edgecolor=\"black\", color=\"skyblue\")\n",
    "plt.text(7, 5, f\"miRNAs #0 count: {keller_total_mirna_not_counted}\", fontsize=7, ha='center', va='center')\n",
    "plt.xlim(0,13)\n",
    "plt.ylim(0,7)\n",
    "plt.axvline(x=3, color='black', linestyle='--')\n",
    "plt.xlabel(\"# tissues NGS >> microarray\")\n",
    "plt.ylabel(\"microRNAs\")\n",
    "plt.tight_layout()\n",
    "for format in [\"png\", \"svg\"]:\n",
    "    plt.savefig(os.path.join(base_plot_folder, f\"15.2.3_cell_line_data/15.2.3_larger_keller_histogram.{format}\"), dpi=300)"
   ]
  },
  {
   "cell_type": "code",
   "execution_count": 71,
   "metadata": {},
   "outputs": [],
   "source": [
    "# plot a histogram of the number of times each microRNA is in the top 30 most different\n",
    "plt.clf()\n",
    "plt.figure(figsize=(1.8, 1.4))\n",
    "plt.hist(counts_larger_alles.values(), bins=cell_line_bins, edgecolor=\"black\", color=\"skyblue\")\n",
    "plt.text(7, 5, f\"miRNAs #0 count: {alles_total_mirna_not_counted}\", fontsize=7, ha='center', va='center')\n",
    "plt.xlabel(\"# tissues microarray >> NGS\")\n",
    "plt.xlim(0,13)\n",
    "plt.ylim(0,7)\n",
    "plt.axvline(x=3, color='black', linestyle='--')\n",
    "plt.ylabel(\"microRNAs\")\n",
    "plt.tight_layout()\n",
    "for format in [\"png\", \"svg\"]:\n",
    "    plt.savefig(os.path.join(base_plot_folder, f\"15.2.3_cell_line_data/15.2_larger_alles_histogram.{format}\"), dpi=300)"
   ]
  },
  {
   "cell_type": "code",
   "execution_count": null,
   "metadata": {},
   "outputs": [],
   "source": [
    "alles_larger_in_multiple = [microRNA for microRNA, count in counts_larger_alles.items() if count >= 3]\n",
    "print(len(alles_larger_in_multiple))\n",
    "\n",
    "keller_larger_in_multiple = [microRNA for microRNA, count in counts_larger_keller.items() if count >= 3]\n",
    "print(len(keller_larger_in_multiple))"
   ]
  },
  {
   "cell_type": "code",
   "execution_count": 73,
   "metadata": {},
   "outputs": [],
   "source": [
    "# create the folder for the scatterplots\n",
    "if not os.path.exists(os.path.join(base_plot_folder, \"alles_keller\")):\n",
    "    os.makedirs(os.path.join(base_plot_folder, \"alles_keller\"))\n",
    "\n",
    "for tissue in common_columns:\n",
    "    fig = plt.figure(figsize=(2,1.6))\n",
    "\n",
    "    # specifically plot false positives and negatives\n",
    "    excluded_points = alles_larger_in_multiple + keller_larger_in_multiple\n",
    "    non_exclude_index = df_keller.index[~df_keller.index.isin(excluded_points)]\n",
    "    plt.scatter(df_alles.loc[keller_larger_in_multiple, tissue],\n",
    "                df_keller.loc[keller_larger_in_multiple, tissue], s=3, alpha=1,\n",
    "                label=\"keller larger\", color=\"tab:red\", marker=\"v\", zorder=2)\n",
    "    plt.scatter(df_alles.loc[alles_larger_in_multiple, tissue],\n",
    "                df_keller.loc[alles_larger_in_multiple, tissue], s=3, alpha=1,\n",
    "                label=\"alles larger\", color=\"tab:orange\", marker=\"o\", zorder=2)\n",
    "\n",
    "    non_exclude_index = df_keller.index[~df_keller.index.isin(excluded_points)]\n",
    "    plt.scatter(df_alles.loc[non_exclude_index, tissue], df_keller.loc[non_exclude_index, tissue],\n",
    "                s=3, alpha=1, zorder=1)\n",
    "    # calculate the correlation coefficient\n",
    "    r, p = stats.pearsonr(df_alles.loc[non_exclude_index, tissue], df_keller.loc[non_exclude_index, tissue])\n",
    "    plt.plot([0, 5.5], [0, 5.5], color=\"black\", linestyle=\"--\")\n",
    "\n",
    "    plt.xlabel(\"Micro\")\n",
    "    plt.ylabel(\"NGS\")\n",
    "    plt.xlim(1.5, 6)\n",
    "    plt.ylim(1.5, 6)\n",
    "    plt.title(f\"{tissue} (r2={r**2:.2f})\", fontsize=7)\n",
    "    plt.tight_layout()\n",
    "    plt.legend(loc=[1.05,0.5], fontsize=7)\n",
    "    plt.savefig(os.path.join(base_plot_folder, f\"15.2.3_cell_line_data/15.2.3_keller_alles_scatter_most_diff_{tissue}.png\"), dpi=300)\n",
    "    plt.close()\n",
    "    \n",
    "fig = plt.figure(figsize=(2,1.6))\n",
    "# specifically plot false positives and negatives\n",
    "excluded_points = alles_larger_in_multiple + keller_larger_in_multiple\n",
    "non_exclude_index = df_keller.index[~df_keller.index.isin(excluded_points)]\n",
    "plt.scatter(df_alles_original_mean.loc[keller_larger_in_multiple],\n",
    "            df_keller_original_mean.loc[keller_larger_in_multiple], s=3, alpha=1,\n",
    "            label=\"keller larger\", color=\"tab:red\", marker=\"v\", zorder=2)\n",
    "plt.scatter(df_alles_original_mean.loc[alles_larger_in_multiple],\n",
    "            df_keller_original_mean.loc[alles_larger_in_multiple], s=3, alpha=1,\n",
    "            label=\"alles larger\", color=\"tab:orange\", marker=\"o\", zorder=2)\n",
    "\n",
    "non_exclude_index = df_keller.index[~df_keller.index.isin(excluded_points)]\n",
    "plt.scatter(df_alles_original_mean.loc[non_exclude_index], df_keller_original_mean.loc[non_exclude_index],\n",
    "            s=3, alpha=1, zorder=1)\n",
    "# calculate the correlation coefficient\n",
    "plt.plot([0, 5.5], [0, 5.5], color=\"black\", linestyle=\"--\")\n",
    "\n",
    "plt.xlabel(\"Micro mean\")\n",
    "plt.ylabel(\"NGS mean\")\n",
    "plt.xlim(1, 5)\n",
    "plt.ylim(-0.5, 5)\n",
    "plt.xticks(np.arange(1, 5, 1))\n",
    "plt.yticks(np.arange(0, 5, 1))\n",
    "plt.title(f\"Cell line mean\", fontsize=7)\n",
    "plt.tight_layout()\n",
    "plt.legend(loc=[1.05,0.5], fontsize=7)\n",
    "for format in [\"png\", \"svg\"]:\n",
    "    plt.savefig(os.path.join(base_plot_folder, f\"15.2.3_cell_line_data/15.2.3_keller_alles_scatter_most_diff_mean.{format}\"), dpi=300)\n",
    "plt.close()   "
   ]
  },
  {
   "cell_type": "code",
   "execution_count": 74,
   "metadata": {},
   "outputs": [],
   "source": [
    "# save these two to a file\n",
    "with open(os.path.join(dataset_processed_folder, \"alles_larger_in_multiple.txt\"), \"w\") as f:\n",
    "    f.write(\"\\n\".join(alles_larger_in_multiple))\n",
    "with open(os.path.join(dataset_processed_folder, \"keller_larger_in_multiple.txt\"), \"w\") as f:\n",
    "    f.write(\"\\n\".join(keller_larger_in_multiple))"
   ]
  },
  {
   "cell_type": "markdown",
   "metadata": {},
   "source": [
    "### Load the calls for the cell line data\n",
    "Here, we used the collected cell line stability data to determine which dataset is wrong. The calls are made in notebook 3."
   ]
  },
  {
   "cell_type": "code",
   "execution_count": 75,
   "metadata": {},
   "outputs": [],
   "source": [
    "input_folder = \"../outputs/3_fitting/Alles2019/cell_line_mirna_calls\"\n",
    "df_call_alles_wrong = pd.read_csv(os.path.join(input_folder, \"calls_alles.csv\"), index_col=0)\n",
    "df_call_keller_wrong = pd.read_csv(os.path.join(input_folder, \"calls_keller.csv\"), index_col=0)"
   ]
  },
  {
   "cell_type": "code",
   "execution_count": 76,
   "metadata": {},
   "outputs": [],
   "source": [
    "alles_larger_in_multiple_alles_wrong = [mirna for mirna in alles_larger_in_multiple if mirna in df_call_alles_wrong.index]\n",
    "alles_larger_in_multiple_keller_wrong = [mirna for mirna in alles_larger_in_multiple if mirna in df_call_keller_wrong.index]\n",
    "alles_larger_in_multiple_undecided = [mirna for mirna in alles_larger_in_multiple if (mirna not in alles_larger_in_multiple_alles_wrong)\n",
    "                                      and (mirna not in alles_larger_in_multiple_keller_wrong)]\n",
    "assert len(alles_larger_in_multiple_alles_wrong) + len(alles_larger_in_multiple_keller_wrong) + len(alles_larger_in_multiple_undecided) == len(alles_larger_in_multiple)\n",
    "\n",
    "keller_larger_in_multiple_alles_wrong = [mirna for mirna in keller_larger_in_multiple if mirna in df_call_alles_wrong.index]\n",
    "keller_larger_in_multiple_keller_wrong = [mirna for mirna in keller_larger_in_multiple if mirna in df_call_keller_wrong.index]\n",
    "keller_larger_in_multiple_undecided = [mirna for mirna in keller_larger_in_multiple if (mirna not in keller_larger_in_multiple_alles_wrong)\n",
    "                                      and (mirna not in keller_larger_in_multiple_keller_wrong)]\n",
    "assert len(keller_larger_in_multiple_alles_wrong) + len(keller_larger_in_multiple_keller_wrong) + len(keller_larger_in_multiple_undecided) == len(keller_larger_in_multiple)"
   ]
  },
  {
   "cell_type": "code",
   "execution_count": 77,
   "metadata": {},
   "outputs": [],
   "source": [
    "os.makedirs(os.path.join(base_plot_folder, \"15.2.3_calls\"), exist_ok=True)\n",
    "\n",
    "for tissue in df_keller.columns:\n",
    "    plt.clf()\n",
    "    fig = plt.figure(figsize=(2,2))\n",
    "\n",
    "    # specifically plot false positives and negatives\n",
    "    excluded_points = alles_larger_in_multiple + keller_larger_in_multiple\n",
    "    non_exclude_index = df_keller.index[~df_keller.index.isin(excluded_points)]\n",
    "    \n",
    "    # call set 1\n",
    "    plt.scatter(df_alles.loc[keller_larger_in_multiple_keller_wrong, tissue],\n",
    "                df_keller.loc[keller_larger_in_multiple_keller_wrong, tissue], s=3, alpha=1,\n",
    "                label=\"ngs larger | ngs wrong\", color=\"tab:red\", marker=\"v\", zorder=2)\n",
    "    plt.scatter(df_alles.loc[keller_larger_in_multiple_alles_wrong, tissue],\n",
    "                df_keller.loc[keller_larger_in_multiple_alles_wrong, tissue], s=3, alpha=1,\n",
    "                label=\"ngs larger | micro wrong\", color=\"tab:red\", marker=\"*\", zorder=2)\n",
    "    \n",
    "     # call set 2\n",
    "    plt.scatter(df_alles.loc[alles_larger_in_multiple_keller_wrong, tissue],\n",
    "                df_keller.loc[alles_larger_in_multiple_keller_wrong, tissue], s=3, alpha=1,\n",
    "                label=\"micro larger | ngs wrong\", color=\"tab:orange\", marker=\"v\", zorder=2)\n",
    "    plt.scatter(df_alles.loc[alles_larger_in_multiple_alles_wrong, tissue],\n",
    "                df_keller.loc[alles_larger_in_multiple_alles_wrong, tissue], s=3, alpha=1,\n",
    "                label=\"micro larger | micro wrong\", color=\"tab:orange\", marker=\"*\", zorder=2)\n",
    "    \n",
    "    non_exclude_index = df_keller.index[~df_keller.index.isin(excluded_points)]\n",
    "    plt.scatter(df_alles.loc[non_exclude_index, tissue], df_keller.loc[non_exclude_index, tissue],\n",
    "                s=3, alpha=1, zorder=1)\n",
    "    \n",
    "    # calculate the correlation coefficient\n",
    "    r, p = stats.pearsonr(df_alles.loc[non_exclude_index, tissue], df_keller.loc[non_exclude_index, tissue])\n",
    "    plt.plot([0, 5.5], [0, 5.5], color=\"black\", linestyle=\"--\")\n",
    "\n",
    "    plt.xlabel(\"Alles\")\n",
    "    plt.ylabel(\"Keller\")\n",
    "    plt.xlim(1.5, 6)\n",
    "    plt.ylim(1.5, 6)\n",
    "    plt.title(f\"{tissue} (r2={r**2:.2f})\", fontsize=7)\n",
    "    plt.tight_layout()\n",
    "    plt.legend(loc=\"upper left\", fontsize=4)\n",
    "    plt.savefig(os.path.join(base_plot_folder, f\"15.2.3_calls/15.2.3_calls_{tissue}.png\"), dpi=300)\n",
    "    plt.close()"
   ]
  },
  {
   "cell_type": "code",
   "execution_count": 78,
   "metadata": {},
   "outputs": [],
   "source": [
    "plt.figure(figsize=(2, 1.7))\n",
    "plt.scatter(df_alles_original_mean.loc[alles_larger_in_multiple_alles_wrong+keller_larger_in_multiple_alles_wrong],\\\n",
    "            df_keller_original_mean.loc[alles_larger_in_multiple_alles_wrong+keller_larger_in_multiple_alles_wrong],\n",
    "            label='micro wrong', color=\"tab:blue\", s=10, edgecolors=\"none\", zorder=3)\n",
    "plt.scatter(df_alles_original_mean.loc[keller_larger_in_multiple_keller_wrong+alles_larger_in_multiple_keller_wrong],\n",
    "            df_keller_original_mean.loc[keller_larger_in_multiple_keller_wrong+alles_larger_in_multiple_keller_wrong], \n",
    "             label='NGS wrong', color=\"tab:red\", s=10, edgecolors=\"none\", zorder=3)\n",
    "plt.scatter(df_alles_original_mean.loc[alles_larger_in_multiple_undecided+keller_larger_in_multiple_undecided],\\\n",
    "            df_keller_original_mean.loc[alles_larger_in_multiple_undecided+keller_larger_in_multiple_undecided],\n",
    "            label='undecided', color=\"tab:grey\", s=10, edgecolors=\"none\", zorder=2)\n",
    "\n",
    "plt.plot([0, 5.5], [0, 5.5], color=\"black\", linestyle=\"--\", zorder=2)\n",
    "plt.ylabel('NGS cell line mean')\n",
    "plt.xlabel('microarray tissue mean')\n",
    "plt.xlim(1, 5)\n",
    "plt.ylim(-0.5, 5)\n",
    "plt.xticks(np.arange(1, 5, 1))\n",
    "plt.yticks(np.arange(0, 5, 1))\n",
    "plt.grid(True, zorder=1)\n",
    "plt.tight_layout()\n",
    "plt.legend(loc=\"lower left\", fontsize=4)\n",
    "for format in [\"png\", \"svg\"]:\n",
    "    plt.savefig(os.path.join(base_plot_folder, f\"15.2.3_calls/15.2.3_mean_calls.{format}\"), dpi=300)"
   ]
  },
  {
   "cell_type": "code",
   "execution_count": null,
   "metadata": {},
   "outputs": [],
   "source": [
    "def find_common_mirnas(miRNA_list, df):\n",
    "    \"\"\"\n",
    "    Find the miRNAs that are in both the list and the dataframe.\n",
    "    \"\"\"\n",
    "    return [miRNA for miRNA in miRNA_list if miRNA in df.index]\n",
    "\n",
    "keller_wrong_indices = [0, 2]\n",
    "alles_wrong_indices = [1, 3]\n",
    "keller_wrong = []\n",
    "alles_wrong = []\n",
    "\n",
    "for index in range(len(false_positives_and_negatives)):\n",
    "    print(f\"{false_positives_and_negatives_label[index]} in alles larger:\")\n",
    "    mirnas = find_common_mirnas(alles_larger_in_multiple, false_positives_and_negatives[index])\n",
    "    print(mirnas)\n",
    "    print(f\"{false_positives_and_negatives_label[index]} in keller larger:\")\n",
    "    print(find_common_mirnas(keller_larger_in_multiple, false_positives_and_negatives[index]))"
   ]
  },
  {
   "cell_type": "code",
   "execution_count": 80,
   "metadata": {},
   "outputs": [],
   "source": [
    "alles_wrong = [false_positives_and_negatives[i].index.to_list() for i in alles_wrong_indices]\n",
    "keller_wrong = [false_positives_and_negatives[i].index.to_list() for i in keller_wrong_indices]\n",
    "\n",
    "# flatten them\n",
    "alles_wrong = [item for sublist in alles_wrong for item in sublist]\n",
    "keller_wrong = [item for sublist in keller_wrong for item in sublist]\n",
    "undecided_cell_lines = [mirna for mirna in alles_larger_in_multiple if not mirna in alles_wrong and not mirna in keller_wrong] +\\\n",
    "                        [mirna for mirna in keller_larger_in_multiple if not mirna in alles_wrong and not mirna in keller_wrong]"
   ]
  },
  {
   "cell_type": "code",
   "execution_count": 81,
   "metadata": {},
   "outputs": [],
   "source": [
    "plt.figure(figsize=(2, 1.7))\n",
    "plt.scatter(df_alles_original_mean.loc[alles_wrong],\\\n",
    "    df_keller_original_mean.loc[alles_wrong],\n",
    "            label='micro wrong', color=\"tab:blue\", s=10, edgecolors=\"none\", zorder=3)\n",
    "plt.scatter(df_alles_original_mean.loc[keller_wrong],\n",
    "            df_keller_original_mean.loc[keller_wrong], \n",
    "             label='NGS wrong', color=\"tab:red\", s=10, edgecolors=\"none\", zorder=3)\n",
    "plt.scatter(df_alles_original_mean.loc[undecided_cell_lines],\n",
    "            df_keller_original_mean.loc[undecided_cell_lines], \n",
    "             label='undecided', color=\"tab:grey\", s=10, edgecolors=\"none\", zorder=2)\n",
    "plt.plot([0, 5.5], [0, 5.5], color=\"black\", linestyle=\"--\", zorder=2)\n",
    "plt.ylabel('NGS cell line mean')\n",
    "plt.xlabel('microarray cell line mean')\n",
    "plt.xlim(1, 5)\n",
    "plt.ylim(-0.5, 5)\n",
    "plt.xticks(np.arange(1, 5, 1))\n",
    "plt.yticks(np.arange(0, 5, 1))\n",
    "plt.grid(True, zorder=1)\n",
    "plt.tight_layout()\n",
    "plt.legend(loc=[1,0.05])\n",
    "for format in [\"png\", \"svg\"]:\n",
    "    plt.savefig(os.path.join(base_plot_folder, f\"15.2.3_cell_line_data/15.2.3_mean_false_pos_and_neg.{format}\"), dpi=300)"
   ]
  },
  {
   "cell_type": "markdown",
   "metadata": {},
   "source": [
    "## 15.2.4 - Decide which miRNAs are correct\n",
    "### Use the calls from the MPRA (Notebook 3 - 3.2.2)"
   ]
  },
  {
   "cell_type": "code",
   "execution_count": 82,
   "metadata": {},
   "outputs": [],
   "source": [
    "input_folder = \"../outputs/3_fitting/Keller2023/tissue_mirna_calls\"\n",
    "df_call_alles_wrong = pd.read_csv(os.path.join(input_folder, \"calls_alles.csv\"), index_col=0)\n",
    "df_call_keller_wrong = pd.read_csv(os.path.join(input_folder, \"calls_keller.csv\"), index_col=0)"
   ]
  },
  {
   "cell_type": "code",
   "execution_count": 83,
   "metadata": {},
   "outputs": [],
   "source": [
    "micro_larger_in_multiple_alles_wrong = [mirna for mirna in micro_larger_in_multiple if mirna in df_call_alles_wrong.index]\n",
    "micro_larger_in_multiple_keller_wrong = [mirna for mirna in micro_larger_in_multiple if mirna in df_call_keller_wrong.index]\n",
    "micro_larger_in_multiple_undecided = [mirna for mirna in micro_larger_in_multiple if (mirna not in micro_larger_in_multiple_alles_wrong)\n",
    "                                      and (mirna not in micro_larger_in_multiple_keller_wrong)]\n",
    "assert len(micro_larger_in_multiple_alles_wrong) + len(micro_larger_in_multiple_keller_wrong) + len(micro_larger_in_multiple_undecided) == len(micro_larger_in_multiple)\n",
    "\n",
    "ngs_larger_in_multiple_alles_wrong = [mirna for mirna in ngs_larger_in_multiple if mirna in df_call_alles_wrong.index]\n",
    "ngs_larger_in_multiple_keller_wrong = [mirna for mirna in ngs_larger_in_multiple if mirna in df_call_keller_wrong.index]\n",
    "ngs_larger_in_multiple_undecided = [mirna for mirna in ngs_larger_in_multiple if (mirna not in ngs_larger_in_multiple_alles_wrong)\n",
    "                                      and (mirna not in ngs_larger_in_multiple_keller_wrong)]\n",
    "assert len(ngs_larger_in_multiple_alles_wrong) + len(ngs_larger_in_multiple_keller_wrong) + len(ngs_larger_in_multiple_undecided) == len(ngs_larger_in_multiple)"
   ]
  },
  {
   "cell_type": "code",
   "execution_count": 84,
   "metadata": {},
   "outputs": [],
   "source": [
    "# reload the original data\n",
    "df_ngs_tissue_orig_min = pd.read_csv(os.path.join(dataset_processed_folder, \"ngs_expression.csv\"), index_col=0)\n",
    "df_microarray_tissue_orig_min = pd.read_csv(os.path.join(dataset_processed_folder, \"microarray_expression.csv\"), index_col=0)\n",
    "\n",
    "# make them both log10\n",
    "df_ngs_tissue_orig_min = np.log10(df_ngs_tissue_orig_min)\n",
    "df_microarray_tissue_orig_min = np.log10(df_microarray_tissue_orig_min)"
   ]
  },
  {
   "cell_type": "code",
   "execution_count": 85,
   "metadata": {},
   "outputs": [],
   "source": [
    "# this is the geometric mean of the tissues\n",
    "df_ngs_tissue_mean = df_ngs_tissue_orig_min.mean(axis=1)\n",
    "df_ngs_tissue_std = df_ngs_tissue_orig_min.std(axis=1)\n",
    "\n",
    "df_microarray_tissue_mean = df_microarray_tissue_orig_min.mean(axis=1)\n",
    "df_microarray_tissue_std = df_microarray_tissue_orig_min.std(axis=1)"
   ]
  },
  {
   "cell_type": "code",
   "execution_count": 86,
   "metadata": {},
   "outputs": [],
   "source": [
    "# Create scatter plot with error bars\n",
    "plt.figure(figsize=(2, 1.7))\n",
    "\n",
    "plt.scatter(df_microarray_tissue_mean.loc[micro_larger_in_multiple_alles_wrong], df_ngs_tissue_mean.loc[micro_larger_in_multiple_alles_wrong],\n",
    "            label='micro larger|NGS wrong', color=\"tab:blue\", s=10, edgecolors=\"none\", zorder=2)\n",
    "plt.scatter(df_microarray_tissue_mean.loc[micro_larger_in_multiple_keller_wrong], df_ngs_tissue_mean.loc[micro_larger_in_multiple_keller_wrong], \n",
    "             label='micro larger|micro wrong', color=\"tab:red\", s=10, edgecolors=\"none\", zorder=2)\n",
    "plt.plot([0, 5.5], [0, 5.5], color=\"black\", linestyle=\"--\", zorder=2)\n",
    "plt.ylabel(r'mean(log$_{10}$(NGS exp.))')\n",
    "plt.xlabel(r'mean(log$_{10}$(micro exp.))')\n",
    "plt.xlim(1, 5)\n",
    "plt.ylim(-0.5, 5)\n",
    "plt.xticks(np.arange(1, 5, 1))\n",
    "plt.yticks(np.arange(0, 5, 1))\n",
    "plt.grid(True, zorder=1)\n",
    "plt.tight_layout()\n",
    "plt.legend(loc=[1,0.05])\n",
    "for format in [\"png\", \"svg\"]:\n",
    "    plt.savefig(os.path.join(base_plot_folder, f\"15.2.4_calls/15.2.4_mean_micro_larger.{format}\"), dpi=300)"
   ]
  },
  {
   "cell_type": "code",
   "execution_count": 87,
   "metadata": {},
   "outputs": [],
   "source": [
    "# Create scatter plot with error bars\n",
    "plt.figure(figsize=(2, 1.7))\n",
    "plt.scatter(df_microarray_tissue_mean.loc[ngs_larger_in_multiple_alles_wrong], df_ngs_tissue_mean.loc[ngs_larger_in_multiple_alles_wrong],\n",
    "            label='NGS larger|NGS wrong', color=\"tab:blue\", s=10, edgecolors=\"none\", zorder=2)\n",
    "plt.scatter(df_microarray_tissue_mean.loc[ngs_larger_in_multiple_keller_wrong], df_ngs_tissue_mean.loc[ngs_larger_in_multiple_keller_wrong], \n",
    "             label='NGS larger|micro wrong', color=\"tab:red\", s=10, edgecolors=\"none\", zorder=2)\n",
    "plt.plot([0, 5.5], [0, 5.5], color=\"black\", linestyle=\"--\", zorder=2)\n",
    "plt.ylabel(r'mean(log$_{10}$(NGS exp.))')\n",
    "plt.xlabel(r'mean(log$_{10}$(micro exp.))')\n",
    "plt.xlim(1, 5)\n",
    "plt.ylim(-0.5, 5)\n",
    "plt.xticks(np.arange(1, 5, 1))\n",
    "plt.yticks(np.arange(0, 5, 1))\n",
    "plt.grid(True, zorder=1)\n",
    "plt.tight_layout()\n",
    "plt.legend(loc=[1,0.05])\n",
    "for format in [\"png\", \"svg\"]:\n",
    "    plt.savefig(os.path.join(base_plot_folder, f\"15.2.4_calls/15.2.4_mean_ngs_larger.{format}\"), dpi=300)"
   ]
  },
  {
   "cell_type": "code",
   "execution_count": 88,
   "metadata": {},
   "outputs": [],
   "source": [
    "# Create scatter plot with error bars\n",
    "plt.figure(figsize=(2, 1.7))\n",
    "plt.ylabel(r'mean(log$_{10}$(NGS exp.))')\n",
    "plt.xlabel(r'mean(log$_{10}$(micro exp.))')\n",
    "plt.xlim(1, 5)\n",
    "plt.ylim(-0.5, 5)\n",
    "plt.xticks(np.arange(1, 5, 1))\n",
    "plt.yticks(np.arange(0, 5, 1))\n",
    "plt.grid(True, zorder=1)\n",
    "plt.scatter(df_microarray_tissue_mean.loc[micro_larger_in_multiple_undecided], df_ngs_tissue_mean.loc[micro_larger_in_multiple_undecided],\n",
    "            label='Micro larger|Undecided', color=\"tab:blue\", s=5, edgecolors=\"none\", zorder=2)\n",
    "plt.scatter(df_microarray_tissue_mean.loc[ngs_larger_in_multiple_undecided], df_ngs_tissue_mean.loc[ngs_larger_in_multiple_undecided], \n",
    "             label='NGS larger|Undecided', color=\"tab:red\", s=5, edgecolors=\"none\", zorder=2)\n",
    "plt.plot([0, 5.5], [0, 5.5], color=\"black\", linestyle=\"--\", zorder=2)\n",
    "plt.tight_layout()\n",
    "plt.legend(loc=[1,0.05])\n",
    "for format in [\"png\", \"svg\"]:\n",
    "    plt.savefig(os.path.join(base_plot_folder, f\"15.2.4_calls/15.2.4_mean_undecided.{format}\"), dpi=300)"
   ]
  },
  {
   "cell_type": "code",
   "execution_count": 94,
   "metadata": {},
   "outputs": [],
   "source": [
    "# Create scatter plot with error bars\n",
    "plt.figure(figsize=(2.4, 1.7))\n",
    "plt.ylabel(r'mean(log$_{10}$(NGS exp.))')\n",
    "plt.xlabel(r'mean(log$_{10}$(micro exp.))')\n",
    "plt.xlim(1, 5)\n",
    "plt.ylim(-0.5, 5)\n",
    "plt.xticks(np.arange(1, 5, 1))\n",
    "plt.yticks(np.arange(0, 5, 1))\n",
    "plt.grid(True, zorder=1)\n",
    "plt.scatter(df_microarray_tissue_mean.loc[set_micro_real], df_ngs_tissue_mean.loc[set_micro_real],\n",
    "            label='validated', color=\"tab:blue\", s=5, edgecolors=\"none\", zorder=3)\n",
    "plt.scatter(df_microarray_tissue_mean.loc[set_micro_false], df_ngs_tissue_mean.loc[set_micro_false], \n",
    "             label='invalidated', color=\"tab:red\", s=5, edgecolors=\"none\", zorder=3)\n",
    "plt.scatter(df_microarray_tissue_mean.loc[set_all_others], df_ngs_tissue_mean.loc[set_all_others], \n",
    "             label='other', color=\"grey\", s=2, edgecolors=\"none\", zorder=2, alpha=0.5)\n",
    "plt.plot([0, 5.5], [0, 5.5], color=\"black\", linestyle=\"--\", zorder=2)\n",
    "plt.tight_layout()\n",
    "plt.legend(loc=[0.0,0.65])\n",
    "for format in [\"png\", \"svg\"]:\n",
    "    plt.savefig(os.path.join(base_plot_folder, f\"15.2.4_calls/15.2.4_mean_keller_publication.{format}\"), dpi=300)"
   ]
  },
  {
   "cell_type": "markdown",
   "metadata": {},
   "source": [
    "### Look into GC content"
   ]
  },
  {
   "cell_type": "code",
   "execution_count": 95,
   "metadata": {},
   "outputs": [],
   "source": [
    "micro_larger = mirbase.loc[micro_larger_in_multiple, \"sequence_orig\"].to_list()\n",
    "other_mirnas = [mirna for mirna in df_microarray_tissue.index if mirna not in micro_larger]\n",
    "other_seqs = mirbase.loc[other_mirnas, \"sequence_orig\"].to_list()"
   ]
  },
  {
   "cell_type": "code",
   "execution_count": 96,
   "metadata": {},
   "outputs": [],
   "source": [
    "# calculate the GC content of each mirna\n",
    "def gc_content(seq):\n",
    "    return 100*(seq.count(\"G\") + seq.count(\"C\")) / len(seq)\n",
    "\n",
    "def nuc_content(seq, nucleotide):\n",
    "    return 100*seq.count(nucleotide) / len(seq)\n",
    "\n",
    "micro_larger_gc = [gc_content(seq) for seq in micro_larger]\n",
    "other_seqs_gc = [gc_content(seq) for seq in other_seqs]\n",
    "\n",
    "plt.figure(figsize=(2.2, 1.6))\n",
    "plt.hist(micro_larger_gc, bins=np.arange(0, 101, 5), color=\"tab:blue\", \n",
    "         edgecolor=\"black\", label=f\"micro >> ngs, mean: {np.mean(micro_larger_gc):.1f}\",\n",
    "         density=True, alpha=0.5)\n",
    "plt.hist(other_seqs_gc, bins=np.arange(0, 101, 5), color=\"tab:red\",\n",
    "            edgecolor=\"black\", label=f\"other, mean: {np.mean(other_seqs_gc):.1f}\",\n",
    "            density=True, alpha=0.5)\n",
    "\n",
    "plt.legend(loc=\"upper left\")\n",
    "plt.xlabel(\"GC content(%)\")\n",
    "plt.ylabel(\"Density\")\n",
    "\n",
    "plt.ylim(0, 0.08)\n",
    "# perform a statistical test (Mann-Whitney U test)\n",
    "u, p = stats.mannwhitneyu(micro_larger_gc, other_seqs_gc)\n",
    "\n",
    "# add the mean and p-value to the plot\n",
    "plt.title(f\"p={p:.2e}\", fontsize=8)\n",
    "plt.tight_layout()\n",
    "for format in [\"png\", \"svg\"]:\n",
    "    plt.savefig(os.path.join(base_plot_folder, f\"15.2.4_calls/15.2.4_content_gc.{format}\"), dpi=300)"
   ]
  },
  {
   "cell_type": "code",
   "execution_count": 97,
   "metadata": {},
   "outputs": [],
   "source": [
    "\n",
    "fig, axes = plt.subplots(2, 2, figsize=(4, 3))  # Adjust the figure size as needed\n",
    "\n",
    "nucleotides = [\"A\", \"C\", \"G\", \"T\"]\n",
    "\n",
    "for i, nucleotide in enumerate(nucleotides):\n",
    "    micro_larger_nuc = [nuc_content(seq, nucleotide) for seq in micro_larger]\n",
    "    other_seqs_nuc = [nuc_content(seq, nucleotide) for seq in other_seqs]\n",
    "\n",
    "    # Determine the row and column index for the subplot\n",
    "    row = i // 2\n",
    "    col = i % 2\n",
    "    ax = axes[row, col]\n",
    "\n",
    "    # Plot histograms for the current nucleotide\n",
    "    ax.hist(micro_larger_nuc, bins=np.arange(0, 101, 5), color=\"tab:blue\", \n",
    "            edgecolor=\"black\", label=f\"micro >> ngs\\nmean: {np.mean(micro_larger_nuc):.1f}\",\n",
    "            density=True, alpha=0.5)\n",
    "    ax.hist(other_seqs_nuc, bins=np.arange(0, 101, 5), color=\"tab:red\",\n",
    "            edgecolor=\"black\", label=f\"other\\nmiRNAs: {np.mean(other_seqs_nuc):.1f}\",\n",
    "            density=True, alpha=0.5)\n",
    "\n",
    "    # Add legends and labels\n",
    "    ax.legend(loc=\"upper right\")\n",
    "    ax.set_xlabel(f\"{nucleotide} content(%)\")\n",
    "    ax.set_ylabel(\"Density\")\n",
    "    ax.set_ylim(0, 0.08)\n",
    "    \n",
    "    # hide x and y ticks on the inside\n",
    "    if row == 0:\n",
    "        ax.set_xticks([])\n",
    "    if col == 1:\n",
    "        ax.set_yticks([])\n",
    "        ax.set_ylabel(\"\")\n",
    "\n",
    "    # Perform a statistical test (Mann-Whitney U test)\n",
    "    u, p = stats.mannwhitneyu(micro_larger_nuc, other_seqs_nuc)\n",
    "\n",
    "    # Add the p-value to the plot title\n",
    "    ax.set_title(f\"p={p:.2e}\", fontsize=8)\n",
    "\n",
    "# Adjust layout for better spacing\n",
    "plt.tight_layout()\n",
    "for format in [\"png\", \"svg\"]:\n",
    "    plt.savefig(os.path.join(base_plot_folder, f\"15.2.4_calls/15.2.4_content_all.{format}\"), dpi=300)"
   ]
  },
  {
   "cell_type": "code",
   "execution_count": 98,
   "metadata": {},
   "outputs": [],
   "source": [
    "df_gc_content_all = pd.DataFrame(index = df_microarray_tissue.index, columns=[\"GC content\"])\n",
    "df_gc_content_all[\"GC content\"] = [gc_content(seq) for seq in mirbase.loc[df_microarray_tissue.index, \"sequence_orig\"]]\n",
    "df_gc_content_all[\"G content\"] = [nuc_content(seq, \"G\") for seq in mirbase.loc[df_microarray_tissue.index, \"sequence_orig\"]]\n",
    "df_gc_content_all[\"C content\"] = [nuc_content(seq, \"C\") for seq in mirbase.loc[df_microarray_tissue.index, \"sequence_orig\"]]\n",
    "df_gc_content_all[\"A content\"] = [nuc_content(seq, \"A\") for seq in mirbase.loc[df_microarray_tissue.index, \"sequence_orig\"]]\n",
    "df_gc_content_all[\"T content\"] = [nuc_content(seq, \"T\") for seq in mirbase.loc[df_microarray_tissue.index, \"sequence_orig\"]]"
   ]
  },
  {
   "cell_type": "code",
   "execution_count": null,
   "metadata": {},
   "outputs": [],
   "source": [
    "extreme_outliers = df_microarray_tissue_mean - df_ngs_tissue_mean.loc[df_microarray_tissue.index]\n",
    "extreme_outliers = extreme_outliers[extreme_outliers.abs() > 2.5].index\n",
    "\"hsa-miR-3940-5p\" in extreme_outliers"
   ]
  },
  {
   "cell_type": "code",
   "execution_count": null,
   "metadata": {},
   "outputs": [],
   "source": [
    "# get all miRNAs with more than 40% G content\n",
    "ABs = []\n",
    "for x in np.arange(0,100,2.5):\n",
    "    high_g = df_gc_content_all[df_gc_content_all[\"G content\"] > x].index\n",
    "    other = df_gc_content_all.index[~df_gc_content_all.index.isin(high_g)]\n",
    "\n",
    "    A = len([outlier for outlier in extreme_outliers if outlier in high_g])/len(extreme_outliers)\n",
    "    B = len([outlier for outlier in extreme_outliers if outlier in high_g])/len(high_g) if len(high_g) > 0 else 0\n",
    "    # print(A)\n",
    "    # print(B)\n",
    "    # print(A*B)\n",
    "    ABs.append(A*B)\n",
    "\n",
    "# find the maximum \n",
    "max_index = np.argmax(ABs)\n",
    "print(max_index*2.5, ABs[max_index])\n",
    "\n",
    "plt.plot(np.arange(0,100,2.5), ABs)\n",
    "plt.show()"
   ]
  },
  {
   "cell_type": "code",
   "execution_count": 103,
   "metadata": {},
   "outputs": [],
   "source": [
    "high_g = df_gc_content_all[df_gc_content_all[\"G content\"] > 50].index\n",
    "other = df_gc_content_all.index[~df_gc_content_all.index.isin(high_g)]"
   ]
  },
  {
   "cell_type": "code",
   "execution_count": 104,
   "metadata": {},
   "outputs": [],
   "source": [
    "# Create scatter plot with error bars\n",
    "plt.figure(figsize=(2, 1.7))\n",
    "plt.scatter(df_microarray_tissue_mean.loc[high_g],\\\n",
    "    df_ngs_tissue_mean.loc[high_g],\n",
    "            label='>50% G', color=\"tab:red\", s=10, edgecolors=\"none\", zorder=3)\n",
    "plt.scatter(df_microarray_tissue_mean.loc[other],\n",
    "            df_ngs_tissue_mean.loc[other],\n",
    "             label='other', color=\"tab:blue\", s=3, edgecolors=\"none\", zorder=2)\n",
    "plt.plot([0, 5.5], [0, 5.5], color=\"black\", linestyle=\"--\", zorder=2)\n",
    "plt.ylabel(r'mean(log$_{10}$(NGS exp.))')\n",
    "plt.xlabel(r'mean(log$_{10}$(micro exp.))')\n",
    "plt.xlim(1, 5)\n",
    "plt.ylim(-0.5, 5)\n",
    "plt.xticks(np.arange(1, 5, 1))\n",
    "plt.yticks(np.arange(0, 5, 1))\n",
    "plt.grid(True, zorder=1)\n",
    "plt.tight_layout()\n",
    "plt.legend(loc=[0,0.75])\n",
    "for format in [\"png\", \"svg\"]:\n",
    "    plt.savefig(os.path.join(base_plot_folder, f\"15.2.4_calls/15.2.4_mean_high_g.{format}\"), dpi=300)"
   ]
  },
  {
   "cell_type": "markdown",
   "metadata": {},
   "source": [
    "# 15.3 - Merge datasets"
   ]
  },
  {
   "cell_type": "markdown",
   "metadata": {},
   "source": [
    "At this point, we have various sources of information about which dataset is wrong about which microRNA.  \n",
    "Based on our fitting data, we infer that the following microRNAs are probably incorrect in the sequencing data:  \n",
    "ngs_larger_in_multiple_keller_wrong  \n",
    "micro_larger_in_multiple_keller_wrong\n",
    "\n",
    "Based on our fitting data, we infer that the following microRNAs are probably incorrect in sequencing data:  \n",
    "ngs_larger_in_multiple_alles_wrong  \n",
    "micro_larger_in_multiple_alles_wrong\n",
    "\n",
    "We additionally have information gained from outer treatment of false positives and negatives in the cell line data:   \n",
    "false_positives_and_negatives = [false_negatives_ngs, false_negatives_microarray, false_positives_ngs, false_positives_microarray]\n",
    "\n",
    "Heuristically, miRNAs that are almost always very small in the sequencing data and large in the microarray data are probably false positives.  \n",
    "Thus, if we don't have information otherwise, we use  \n",
    "heuristic_micro_wrong   \n",
    "to exclude microarray data.\n",
    "\n",
    "Finally, all other miRNAs are merged by the geometric mean."
   ]
  },
  {
   "cell_type": "code",
   "execution_count": null,
   "metadata": {},
   "outputs": [],
   "source": [
    "sequencing_wrong = []\n",
    "sequencing_wrong += ngs_larger_in_multiple_keller_wrong\n",
    "sequencing_wrong += micro_larger_in_multiple_keller_wrong\n",
    "print(len(sequencing_wrong))\n",
    "\n",
    "print([mirna for mirna in false_negatives_ngs.index if mirna in sequencing_wrong])\n",
    "print([mirna for mirna in false_positives_ngs.index if mirna in sequencing_wrong])\n",
    "\n",
    "sequencing_wrong += list(false_negatives_ngs.index)\n",
    "sequencing_wrong += list(false_positives_ngs.index)\n",
    "sequencing_wrong = list(set(sequencing_wrong))\n",
    "sequencing_wrong\n",
    "print(len(sequencing_wrong))"
   ]
  },
  {
   "cell_type": "code",
   "execution_count": null,
   "metadata": {},
   "outputs": [],
   "source": [
    "microarray_wrong = []\n",
    "microarray_wrong += ngs_larger_in_multiple_alles_wrong\n",
    "microarray_wrong += micro_larger_in_multiple_alles_wrong\n",
    "\n",
    "print([mirna for mirna in false_negatives_microarray.index if mirna in microarray_wrong])\n",
    "print([mirna for mirna in false_positives_microarray.index if mirna in microarray_wrong])\n",
    "\n",
    "microarray_wrong += list(false_negatives_microarray.index)\n",
    "microarray_wrong += list(false_positives_microarray.index)\n",
    "print(len(microarray_wrong))\n",
    "print(len(heuristic_micro_wrong))\n",
    "heuristic_micro_wrong_filter = [mirna for mirna in heuristic_micro_wrong if not mirna in sequencing_wrong+microarray_wrong]\n",
    "print(len(heuristic_micro_wrong_filter))\n",
    "microarray_wrong += list(heuristic_micro_wrong_filter)\n",
    "print(len(microarray_wrong))\n",
    "microarray_wrong = list(set(microarray_wrong))\n",
    "print(len(microarray_wrong))"
   ]
  },
  {
   "cell_type": "code",
   "execution_count": 108,
   "metadata": {},
   "outputs": [],
   "source": [
    "exclude_mirnas = sequencing_wrong + microarray_wrong"
   ]
  },
  {
   "cell_type": "code",
   "execution_count": 109,
   "metadata": {},
   "outputs": [],
   "source": [
    "# Create scatter plot with error bars\n",
    "plt.figure(figsize=(2, 1.7))\n",
    "plt.scatter(df_microarray_tissue_mean.loc[sequencing_wrong],\\\n",
    "    df_ngs_tissue_mean.loc[sequencing_wrong],\n",
    "            label='NGS wrong', color=\"tab:red\", s=10, edgecolors=\"none\", zorder=3)\n",
    "plt.scatter(df_microarray_tissue_mean.loc[microarray_wrong],\\\n",
    "    df_ngs_tissue_mean.loc[microarray_wrong],\n",
    "            label='microarray wrong', color=\"tab:orange\", s=10, edgecolors=\"none\", zorder=3)\n",
    "plt.scatter(df_microarray_tissue_mean.loc[other],\n",
    "            df_ngs_tissue_mean.loc[other],\n",
    "             label='others', color=\"tab:blue\", s=3, edgecolors=\"none\", zorder=2)\n",
    "plt.plot([0, 5.5], [0, 5.5], color=\"black\", linestyle=\"--\", zorder=2)\n",
    "plt.ylabel(r'mean(log$_{10}$(NGS exp.))')\n",
    "plt.xlabel(r'mean(log$_{10}$(micro exp.))')\n",
    "plt.xlim(1, 5)\n",
    "plt.ylim(-0.5, 5)\n",
    "plt.xticks(np.arange(1, 5, 1))\n",
    "plt.yticks(np.arange(0, 5, 1))\n",
    "plt.grid(True, zorder=1)\n",
    "plt.tight_layout()\n",
    "plt.legend(loc=[0,0.75])\n",
    "for format in [\"png\", \"svg\"]:\n",
    "    plt.savefig(os.path.join(base_plot_folder, f\"15.2.4_calls/15.2.4_all_calls.{format}\"), dpi=300)"
   ]
  },
  {
   "cell_type": "code",
   "execution_count": 110,
   "metadata": {},
   "outputs": [],
   "source": [
    "# GET THE TISSUE DATASET\n",
    "df_ngs_tissue = df_ngs_tissue_orig.copy()\n",
    "df_microarray_tissue = df_microarray_tissue_orig.copy()\n",
    "\n",
    "# renormalize the two\n",
    "df_ngs_tissue_exclude = df_ngs_tissue[~df_ngs_tissue.index.isin(exclude_mirnas)]\n",
    "df_microarray_tissue_exclude = df_microarray_tissue[~df_microarray_tissue.index.isin(exclude_mirnas)]\n",
    "\n",
    "df_ngs_tissue_exclude, df_ngs_tissue = normalize_expr_df_to_rpm_with_partner(df_ngs_tissue_exclude, df_ngs_tissue)\n",
    "df_microarray_tissue_exclude, df_microarray_tissue = normalize_expr_df_to_rpm_with_partner(df_microarray_tissue_exclude, df_microarray_tissue)"
   ]
  },
  {
   "cell_type": "code",
   "execution_count": 111,
   "metadata": {},
   "outputs": [],
   "source": [
    "# GET THE CELL LINE DATASET\n",
    "allowed_mirnas = df_microarray_tissue.index\n",
    "\n",
    "# reload datasets\n",
    "df_alles = pd.read_csv(\"../microrna_data/2_output/Alles2019_conormalized.csv\", index_col=0)\n",
    "df_alles = np.log10(df_alles)\n",
    "df_alles = df_alles[df_alles.index.isin(allowed_mirnas)]\n",
    "\n",
    "df_keller = pd.read_csv('../microrna_data/2_output/Keller2023_conormalized.csv', index_col=0)\n",
    "df_keller = np.log10(df_keller)\n",
    "df_keller = df_keller[df_keller.index.isin(allowed_mirnas)]\n",
    "\n",
    "common_index = df_keller.index.intersection(df_alles.index)\n",
    "common_columns = df_keller.columns.intersection(df_alles.columns)\n",
    "df_alles = df_alles.loc[common_index, common_columns]\n",
    "df_keller = df_keller.loc[common_index, common_columns]\n",
    "\n",
    "df_alles_exclude = df_alles[~df_alles.index.isin(exclude_mirnas)]\n",
    "df_keller_exclude = df_keller[~df_keller.index.isin(exclude_mirnas)]\n",
    "\n",
    "df_alles_exclude, df_alles = normalize_expr_df_to_rpm_with_partner(df_alles_exclude, df_alles)\n",
    "df_keller_exclude, df_keller = normalize_expr_df_to_rpm_with_partner(df_keller_exclude, df_keller)"
   ]
  },
  {
   "cell_type": "code",
   "execution_count": 112,
   "metadata": {},
   "outputs": [],
   "source": [
    "sequencing_merge = pd.concat([df_ngs_tissue, df_keller], axis=1).astype(float)\n",
    "microarray_merge = pd.concat([df_microarray_tissue, df_alles], axis=1).astype(float)"
   ]
  },
  {
   "cell_type": "code",
   "execution_count": 113,
   "metadata": {},
   "outputs": [],
   "source": [
    "total_merge = pd.DataFrame(index=sequencing_merge.index, columns=sequencing_merge.columns)\n",
    "for mirna in total_merge.index:\n",
    "    for tissue in total_merge.columns:\n",
    "        if mirna in microarray_wrong:\n",
    "            total_merge.loc[mirna, tissue] = sequencing_merge.loc[mirna, tissue]\n",
    "        elif mirna in sequencing_wrong:\n",
    "            total_merge.loc[mirna, tissue] = microarray_merge.loc[mirna, tissue]\n",
    "        else:\n",
    "            total_merge.loc[mirna, tissue] = (sequencing_merge.loc[mirna, tissue] + microarray_merge.loc[mirna, tissue]) / 2.0\n",
    "total_merge = total_merge.astype(float)"
   ]
  },
  {
   "cell_type": "code",
   "execution_count": 114,
   "metadata": {},
   "outputs": [],
   "source": [
    "# renormalize total merge\n",
    "total_merge = normalize_expr_df_to_rpm(total_merge)\n",
    "\n",
    "# remove unwanted mirna\n",
    "if \"hsa-miR-3613-3p\" in total_merge.index:\n",
    "    df_merge = total_merge.drop(\"hsa-miR-3613-3p\", axis=0)\n",
    "    \n",
    "# merge identical mirnas\n",
    "from library2_utils.crosstalk import merge_identical_mirnas\n",
    "\n",
    "df_expression_orig = total_merge.copy()\n",
    "total_merge, groups = merge_identical_mirnas(total_merge, mirbase)"
   ]
  },
  {
   "cell_type": "markdown",
   "metadata": {},
   "source": [
    "## Crosstalk filtering"
   ]
  },
  {
   "cell_type": "code",
   "execution_count": 115,
   "metadata": {},
   "outputs": [],
   "source": [
    "# filter crosstalk\n",
    "from library2_utils.transfer_functions import transfer_function\n",
    "\n",
    "with open(f\"../outputs/3_fitting/combined_dataset/combined_dataset_popt_wo_crosstalk.pkl\", \"rb\") as f:\n",
    "    popt = pickle.load(f)\n",
    "with open(f\"../outputs/3_fitting/combined_dataset/combined_dataset_scale_dict_wo_crosstalk.pkl\", \"rb\") as f:\n",
    "    scale_dict = pickle.load(f)\n",
    "    \n",
    "input_folder_crosstalk = f\"../outputs/5_mutations\"\n",
    "\n",
    "# load full_crosstalk_dict\n",
    "with open(f\"{input_folder_crosstalk}/5.5_full_crosstalk_dict.pkl\", \"rb\") as f:\n",
    "    full_crosstalk_dict = pickle.load(f)"
   ]
  },
  {
   "cell_type": "code",
   "execution_count": 116,
   "metadata": {},
   "outputs": [],
   "source": [
    "df_knockdown_predicted = np.log10((10**total_merge).apply(lambda x: transfer_function(x, *popt)))   \n",
    "\n",
    "crosstalk_filter_df = pd.DataFrame(columns=total_merge.columns, index=total_merge.index)\n",
    "crosstalk_filter_df.loc[:, :] = False\n",
    "\n",
    "for key in full_crosstalk_dict.keys():\n",
    "    if not key in df_knockdown_predicted.index:\n",
    "        continue\n",
    "    \n",
    "    df = full_crosstalk_dict[key].copy()\n",
    "    df = df[df.index != key]\n",
    "    \n",
    "    # check for total less than 5 mutations\n",
    "    df = df[(df[\"no_total_impact\"]) < 5]\n",
    "    \n",
    "    # check for high impact mutations\n",
    "    df = df[df[\"no_high_impact\"] < 2]\n",
    "    \n",
    "    # check for mid_impact mutations\n",
    "    df = df[(df[\"no_mid_impact\"]+df[\"no_high_impact\"]) < 4]\n",
    "    \n",
    "    # check for all mutations\n",
    "    df = df[(df[\"no_low_impact\"]+df[\"no_mid_impact\"]+df[\"no_high_impact\"]) < 5]\n",
    "\n",
    "    # add an expression row to the df\n",
    "    df = df[df.index.isin(df_knockdown_predicted.index)]\n",
    "    \n",
    "    if len(df) > 0:\n",
    "        df.loc[:, total_merge.columns] = df_knockdown_predicted.loc[df.index, total_merge.columns]\n",
    "    else:\n",
    "        continue\n",
    "    \n",
    "    # this is the knockdown across all remaining miRNAs after identifying those with likely crosstalk\n",
    "    min_by_cell_line = df[total_merge.columns].min(axis=0)\n",
    "    \n",
    "    # this is the expected knockdown for the miRNA itself\n",
    "    knockdown_orig = df_knockdown_predicted.loc[key, total_merge.columns]\n",
    "    \n",
    "    # we only filter if there is substantial expression of at least one of the potentially crosstalking miRNAs\n",
    "    # this is min_by_cell_line < -0.2\n",
    "    crosstalk_filter_df.loc[key, :] = ((10**knockdown_orig)/3 > 10**min_by_cell_line) & (min_by_cell_line < -0.5)"
   ]
  },
  {
   "cell_type": "code",
   "execution_count": 117,
   "metadata": {},
   "outputs": [],
   "source": [
    "filtered_mirnas = crosstalk_filter_df[crosstalk_filter_df.any(axis=1)].index\n",
    "total_merge = total_merge.drop(filtered_mirnas, axis=0)"
   ]
  },
  {
   "cell_type": "markdown",
   "metadata": {},
   "source": [
    "### We use somewhat fewer miRNAs than before - we should redo the fitting to make sure this doesn't alter the constants. Also, redoing the fitting will tell us if our merge improved the fit.\n",
    "#### Load the MPRA data"
   ]
  },
  {
   "cell_type": "code",
   "execution_count": 119,
   "metadata": {},
   "outputs": [],
   "source": [
    "data_dir_input = \"../measured_data/2_normalized_log10\"\n",
    "\n",
    "# get the name of all files in \"reference\" folder\n",
    "reference_files = os.listdir(data_dir_input)\n",
    "\n",
    "# read them into a dictionary\n",
    "reference_dict = {}\n",
    "for reference_file in reference_files:\n",
    "    if reference_file.endswith(\".csv\"):\n",
    "        reference_dict[reference_file.split('.')[0]] = pd.read_csv(os.path.join(data_dir_input, reference_file), index_col=0)\n",
    "        \n",
    "# get all dfs that contain \"single\" in their key\n",
    "single_dfs = {key: reference_dict[key].copy() for key in reference_dict.keys() if \"single\" in key}\n",
    "\n",
    "for key, df in single_dfs.items():\n",
    "    df.set_index(\"miRNA1\", inplace=True)\n",
    "    # remove all columns that are not 3UTR\n",
    "    df = df.filter(regex='(3UTR)')\n",
    "    \n",
    "    # check which cell lines are in the expression_df\n",
    "    for column in df.columns:\n",
    "        if column.split(\"_\")[0] not in total_merge.columns:\n",
    "           df = df.drop(column, axis=1)\n",
    "\n",
    "    # restrict to microRNAs that are present in the expression_df\n",
    "    df = df.loc[df.index.intersection(total_merge.index)]\n",
    "\n",
    "    # get the current list of cell lines:\n",
    "    cell_lines = [column.split(\"_\")[0] for column in df.columns]\n",
    "    for cell_line in cell_lines:\n",
    "        df.loc[:, f\"{cell_line}_exp\"] = total_merge.loc[df.index, cell_line]\n",
    "\n",
    "    # drop NaN values\n",
    "    df.dropna(inplace=True)\n",
    "\n",
    "    single_dfs[key] = df\n",
    "    \n",
    "# high confidence\n",
    "measured_single = single_dfs[\"1_mirna_full_single_high_conf\"]\n",
    "# add mirgenedb\n",
    "measured_single = pd.concat([measured_single, single_dfs[\"2_mirna_full_single_low_conf_mirgenedb\"]], axis=0)\n",
    "\n",
    "# split into knockdown and expression\n",
    "# filter to columns that contain \"_3UTR\"\n",
    "df_knockdown = measured_single.filter(regex='_3UTR')\n",
    "# rename columns to drop everthing except the cell line name\n",
    "df_knockdown.columns = [col.split(\"_\")[0] for col in df_knockdown.columns]\n",
    "\n",
    "# filter to columns that contain \"exp\"\n",
    "df_expression = measured_single.filter(regex='exp')\n",
    "# rename columns to drop the \"_exp\"\n",
    "df_expression.columns = [col.split(\"_\")[0] for col in df_expression.columns]"
   ]
  },
  {
   "cell_type": "code",
   "execution_count": 120,
   "metadata": {},
   "outputs": [],
   "source": [
    "# constrain cell_lines_measured to those in the data\n",
    "cell_lines_measured = [cell_line for cell_line in cell_lines_measured if cell_line in df_knockdown.columns]\n",
    "\n",
    "x_data = []\n",
    "y_data = []\n",
    "dataset_indices = []\n",
    "for i, cell_line in enumerate(cell_lines_measured):\n",
    "    ex_df = df_expression[cell_line].dropna().values\n",
    "    knock_df = df_knockdown[cell_line].dropna().values\n",
    "    x_data.append(ex_df)\n",
    "    y_data.append(knock_df)\n",
    "    dataset_indices.append([i] * len(ex_df))\n",
    "\n",
    "x_data = np.concatenate(x_data)\n",
    "y_data = np.concatenate(y_data)\n",
    "dataset_indices = np.concatenate(dataset_indices)"
   ]
  },
  {
   "cell_type": "code",
   "execution_count": null,
   "metadata": {},
   "outputs": [],
   "source": [
    "def hill_func_log_scales(x_data, dataset_indices, c1=3, c2=5, *scales):\n",
    "    \"\"\"This is a hill function for a set of microRNA expression values that can be scaled individually.\n",
    "    \n",
    "    The expression is assumed to be normalized to one.\n",
    "    The microRNA data is assumed to be log10.\n",
    "    The return value is also log10.\"\"\"\n",
    "    c1 = 10**c1\n",
    "    c2 = 10**c2\n",
    "    results = []\n",
    "\n",
    "    for i, scale in enumerate(scales):\n",
    "        mask = (dataset_indices == i)\n",
    "        x = x_data[mask] + scale\n",
    "        x = 10**x\n",
    "        result = (1 / (1 + x / c1)) * (1 + x / c2)\n",
    "        results.append( np.log10( result ))\n",
    "    return np.concatenate(results)\n",
    "\n",
    "# set bounds and initial guesses for non-scale fitting parameters\n",
    "p0 = [3, 10]\n",
    "num_params = len(p0)\n",
    "bounds = ([1, 9.99], [10, 10.01])\n",
    "\n",
    "# Guess initial scale values for all datasets\n",
    "scale_guesses = [0 for _ in range(len(cell_lines_measured))]\n",
    "# scale_bounds_min = [-0.001 for _ in range(len(cell_lines_measured))]\n",
    "# scale_bounds_max = [0.001 for _ in range(len(cell_lines_measured))]\n",
    "scale_bounds_min = [-2 for _ in range(len(cell_lines_measured))]\n",
    "scale_bounds_max = [2 for _ in range(len(cell_lines_measured))]\n",
    "\n",
    "# set scale for HEK293T to 0\n",
    "scale_bounds_min[0] = -0.001\n",
    "scale_bounds_max[0] = 0.001\n",
    "\n",
    "# set up parameters\n",
    "p0_scale = p0 + scale_guesses\n",
    "bounds_scale = (bounds[0]+scale_bounds_min, bounds[1]+scale_bounds_max)\n",
    "\n",
    "popt_scales, pcov = popt_scales_filter, pcov = opt.curve_fit(\n",
    "    lambda x, *params: hill_func_log_scales(x, dataset_indices, *params),\n",
    "    x_data,\n",
    "    y_data,\n",
    "    p0=p0_scale,\n",
    "    bounds=bounds_scale,\n",
    "    maxfev=5000\n",
    ")\n",
    "\n",
    "scales = list(popt_scales[num_params:])\n",
    "hill_params = popt_scales[:num_params]\n",
    "print(hill_params)"
   ]
  },
  {
   "cell_type": "code",
   "execution_count": 122,
   "metadata": {},
   "outputs": [],
   "source": [
    "%%capture output\n",
    "x_range_log = np.linspace(0, 5.5, 1000)\n",
    "fig = plt.figure(figsize=(2.5, 1.7))\n",
    "r2_dict = {}\n",
    "for i, cell_line in enumerate(cell_lines_measured):\n",
    "    current_scale = scales[i]\n",
    "    \n",
    "    df_ex = df_expression[f\"{cell_line}\"].dropna()+current_scale\n",
    "    df_knock = df_knockdown[f\"{cell_line}\"].dropna()\n",
    "    \n",
    "    plt.scatter(df_ex,\n",
    "        df_knock,\n",
    "        color=\"tab:blue\",\n",
    "        s=3,\n",
    "        edgecolors=\"none\",\n",
    "        rasterized=True,\n",
    "        zorder = 1)\n",
    "    \n",
    "    r2 = stats.pearsonr(df_knock,\n",
    "                        np.log10(transfer_function(10**df_ex,\n",
    "                        *hill_params)))[0]**2\n",
    "    r2_dict[cell_line] = r2\n",
    "    \n",
    "    if i == 0:\n",
    "        plt.plot(x_range_log, np.log10(transfer_function(10**x_range_log,\n",
    "                *hill_params)), color=\"black\", linewidth=1, ls=\"--\", zorder=2)\n",
    "    \n",
    "plt.xlabel(r\"log$_{10}$\"+f\"(miRNA expression)\")\n",
    "plt.ylabel(r\"log$_{10}$(stability)\")\n",
    "\n",
    "plt.xlim(0, 5.5)\n",
    "plt.ylim(-1.7, 0.25)\n",
    "plt.tight_layout()\n",
    "plt.legend(loc=\"lower left\", frameon=False, fontsize=6.5)\n",
    "for format in [\"png\", \"svg\"]:\n",
    "    plt.savefig(f\"{base_plot_folder}/15.3-merged-fit-with-scaling.{format}\", dpi=600, bbox_inches='tight')"
   ]
  },
  {
   "cell_type": "code",
   "execution_count": 123,
   "metadata": {},
   "outputs": [],
   "source": [
    "correlation_dataframe = pd.DataFrame.from_dict(r2_dict, orient=\"index\")\n",
    "fig, ax = plt.subplots(figsize=(0.3, 1.65))\n",
    "sns.heatmap(correlation_dataframe.astype('float'), cmap=\"viridis\", annot=True, fmt=\".2f\", vmin=0.2, vmax=0.8, ax=ax,\n",
    "            annot_kws={\"size\": 6},\n",
    "            cbar_kws={'label': r'$r^2$', 'shrink': 1.4, 'aspect': 25, 'pad': 0.02, 'ticks': [0.2, 0.4, 0.6, 0.8]})\n",
    "\n",
    "plt.xticks([])\n",
    "plt.yticks([])\n",
    "for format in [\"png\", \"svg\"]:\n",
    "    plt.savefig(f\"{base_plot_folder}/15.3-merged-r2-with-scaling.{format}\", dpi=600, bbox_inches='tight')"
   ]
  },
  {
   "cell_type": "code",
   "execution_count": null,
   "metadata": {},
   "outputs": [],
   "source": [
    "tissue_scales = {}\n",
    "for i, tissue in enumerate(cell_lines_measured):\n",
    "    tissue_scales[tissue] = scales[i]\n",
    "tissue_scales"
   ]
  },
  {
   "cell_type": "code",
   "execution_count": 125,
   "metadata": {},
   "outputs": [],
   "source": [
    "with open(os.path.join(dataset_processed_folder, \"tissue_data_popt.pkl\"), \"wb\") as f:\n",
    "    pickle.dump(hill_params, f)\n",
    "with open(os.path.join(dataset_processed_folder, \"tissue_data_scales.pkl\"), \"wb\") as f:\n",
    "    pickle.dump(tissue_scales, f)"
   ]
  },
  {
   "cell_type": "code",
   "execution_count": 126,
   "metadata": {},
   "outputs": [],
   "source": [
    "organ_dict = {\n",
    "    'cell_lines': [\"HEK293T\", \"HeLa\", \"SKNSH\", \"MCF7\", \"HUH7\", \"A549\", \"HaCaT\", \"JEG3\", \"Tera1\", \"PC3\"],\n",
    "    'brain': ['brain', 'thalamus', 'white_matter', 'grey_matter', 'nucleus_caudatus', 'cerebellum', 'spinal_cord', 'dura_mater'],\n",
    "    'nervous': ['nerve'],\n",
    "    'circulatory': ['vein', 'artery'],\n",
    "    'musculoskeletal': ['bone', 'muscle'],\n",
    "    'digestive': ['esophagus', 'stomach', 'duodenum', 'jejunum', 'colon', 'liver', 'pancreas'],\n",
    "    'respiratory': ['pleurae', 'lung'],\n",
    "    'endocrine': ['thyroid', 'pituitary_gland', 'adrenal_gland'],\n",
    "    'lymphatic': ['lymph_node', 'spleen'],\n",
    "    'urinary': ['kidney'],\n",
    "    'reproductive': ['testis', 'prostate'],\n",
    "    'integumentary': ['skin', 'adipocyte'],\n",
    "}\n",
    "\n",
    "ordered_columns = []\n",
    "for organ_system in organ_dict:\n",
    "    ordered_columns.extend(organ_dict[organ_system])\n",
    "\n",
    "total_merge = total_merge[ordered_columns]"
   ]
  },
  {
   "cell_type": "code",
   "execution_count": 127,
   "metadata": {},
   "outputs": [],
   "source": [
    "# save the dataset to csv\n",
    "total_merge.to_csv(os.path.join(dataset_processed_folder, \"15.3_merged_tissue_datasets.csv\"))"
   ]
  }
 ],
 "metadata": {
  "kernelspec": {
   "display_name": "bio",
   "language": "python",
   "name": "python3"
  },
  "language_info": {
   "codemirror_mode": {
    "name": "ipython",
    "version": 3
   },
   "file_extension": ".py",
   "mimetype": "text/x-python",
   "name": "python",
   "nbconvert_exporter": "python",
   "pygments_lexer": "ipython3",
   "version": "3.10.13"
  }
 },
 "nbformat": 4,
 "nbformat_minor": 2
}
