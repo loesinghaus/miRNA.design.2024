{
 "cells": [
  {
   "cell_type": "code",
   "execution_count": 18,
   "metadata": {},
   "outputs": [],
   "source": [
    "import pandas as pd\n",
    "import pickle\n",
    "from library2_utils.NA_sequence_utilities import reverse_complement"
   ]
  },
  {
   "cell_type": "markdown",
   "metadata": {},
   "source": [
    "### This notebook does some preprocessing on mirbase tables"
   ]
  },
  {
   "cell_type": "code",
   "execution_count": null,
   "metadata": {},
   "outputs": [],
   "source": [
    "def fill_in_sequence(sequence):\n",
    "    \"\"\"Fill in the sequence with Ts to make it 21 nts long.\n",
    "    Avoid introduction of ATGs.\"\"\"\n",
    "    if len(sequence) > 20:\n",
    "        sequence = sequence\n",
    "    elif len(sequence) == 20 and sequence[-1] == \"A\":\n",
    "        sequence = sequence + \"A\"\n",
    "    else:\n",
    "        sequence = sequence + \"T\"* (21-len(sequence))\n",
    "    return sequence"
   ]
  },
  {
   "cell_type": "code",
   "execution_count": 3,
   "metadata": {},
   "outputs": [],
   "source": [
    "mirbase = pd.read_csv(\"../microrna_data/mirbase_original.csv\", index_col=0)\n",
    "\n",
    "# convert sequence to a DNA sequence\n",
    "mirbase[\"sequence\"] = mirbase[\"sequence\"].str.replace(\"U\", \"T\")\n",
    "\n",
    "# create a normalized sequence column with a length of 21 nt\n",
    "mirbase[\"sequence_norm\"] = mirbase[\"sequence\"].str[:21]\n",
    "mirbase[\"sequence_norm\"] = mirbase[\"sequence_norm\"].apply(fill_in_sequence)\n",
    "\n",
    "# rename the original sequence column\n",
    "mirbase = mirbase.rename(columns={\"sequence\": \"sequence_orig\"})"
   ]
  },
  {
   "cell_type": "code",
   "execution_count": 6,
   "metadata": {},
   "outputs": [],
   "source": [
    "# create a target column based on the normalized sequence\n",
    "mirbase[\"target\"] = mirbase[\"sequence_norm\"].apply(lambda x: reverse_complement(x, \"DNA\"))"
   ]
  },
  {
   "cell_type": "code",
   "execution_count": 7,
   "metadata": {},
   "outputs": [],
   "source": [
    "# get the GC content of the original sequence\n",
    "mirbase[\"GC_content\"] = (mirbase[\"sequence_orig\"].str.count(\"G\") + mirbase[\"sequence_orig\"].str.count(\"C\")) / mirbase[\"sequence_orig\"].str.len()"
   ]
  },
  {
   "cell_type": "code",
   "execution_count": null,
   "metadata": {},
   "outputs": [],
   "source": [
    "# add an extra columns with families divided in to 3p and 5p\n",
    "# fix nan values in mirbase by using the microRNA name\n",
    "mirbase[\"family\"] = mirbase[\"family\"].astype(str)\n",
    "mirbase[\"family\"] = mirbase.apply(lambda x: \"mir-\" + x.name.split(\"-\")[2] if x[\"family\"]==\"nan\" else x[\"family\"], axis=1)\n",
    "\n",
    "for index, row in mirbase.iterrows():\n",
    "    # if the miRNA name does not contain \"5p\" or \"3p\", check if the seed matches the 5p or 3p entries of other miRNAs in the family\n",
    "    if not index.split('-')[-1] in [\"5p\", \"3p\"]:\n",
    "        family_mirnas = mirbase.loc[mirbase[\"family\"] == row[\"family\"], :].index\n",
    "        seed_mirna = row[\"sequence_orig\"][1:8]\n",
    "        for mirna in family_mirnas:\n",
    "            if mirbase.loc[mirna, \"sequence_orig\"][1:8] == seed_mirna:\n",
    "                if mirna.split('-')[-1] in [\"5p\", \"3p\"]:\n",
    "                    mirbase.loc[index, \"family_extended\"] = row[\"family\"] + \"-\" + mirna.split('-')[-1]\n",
    "        if not isinstance(mirbase.loc[index, \"family_extended\"], str):\n",
    "            mirbase.loc[index, \"family_extended\"] = row[\"family\"]\n",
    "    else:\n",
    "        mirbase.loc[index, \"family_extended\"] = row[\"family\"] + \"-\" + index.split('-')[-1]"
   ]
  },
  {
   "cell_type": "code",
   "execution_count": 9,
   "metadata": {},
   "outputs": [],
   "source": [
    "# save the result to a file\n",
    "mirbase.to_csv(\"../microrna_data/mirbase_extended.csv\")"
   ]
  },
  {
   "cell_type": "markdown",
   "metadata": {},
   "source": [
    "# Get all likely real miRNAs (high confidence in miRBase or in MirGeneDB)"
   ]
  },
  {
   "cell_type": "code",
   "execution_count": 10,
   "metadata": {},
   "outputs": [],
   "source": [
    "# load mirgeneDB\n",
    "mirgenedb = pd.read_csv(\"../microrna_data/mirgenedb.csv\", index_col=0)\n",
    "\n",
    "# get high confidence miRNAs in mirgenedb\n",
    "mirbase_high_conf = mirbase[mirbase[\"confidence\"] == \"high\"]"
   ]
  },
  {
   "cell_type": "code",
   "execution_count": 11,
   "metadata": {},
   "outputs": [],
   "source": [
    "# get relevant miRNAs from mirgenedb\n",
    "mirgenedb_mirnas = list(mirgenedb[\"5p accession\"].unique()) + list(mirgenedb[\"3p accession\"].unique())\n",
    "mirgenedb_mirnas = [mirna for mirna in mirgenedb_mirnas if mirna != \"None\"]\n",
    "mirgenedb_mirnas = mirbase[mirbase[\"MIMAT\"].isin(mirgenedb_mirnas)]"
   ]
  },
  {
   "cell_type": "code",
   "execution_count": 17,
   "metadata": {},
   "outputs": [],
   "source": [
    "real_mirnas = list(mirgenedb_mirnas.index.union(mirbase_high_conf.index))"
   ]
  },
  {
   "cell_type": "code",
   "execution_count": 19,
   "metadata": {},
   "outputs": [],
   "source": [
    "# save the result to a file with pickle\n",
    "with open(\"../microrna_data/likely_real_mirnas.pkl\", \"wb\") as f:\n",
    "    pickle.dump(real_mirnas, f)"
   ]
  }
 ],
 "metadata": {
  "kernelspec": {
   "display_name": "Bio",
   "language": "python",
   "name": "python3"
  },
  "language_info": {
   "codemirror_mode": {
    "name": "ipython",
    "version": 3
   },
   "file_extension": ".py",
   "mimetype": "text/x-python",
   "name": "python",
   "nbconvert_exporter": "python",
   "pygments_lexer": "ipython3",
   "version": "3.12.0"
  }
 },
 "nbformat": 4,
 "nbformat_minor": 2
}
