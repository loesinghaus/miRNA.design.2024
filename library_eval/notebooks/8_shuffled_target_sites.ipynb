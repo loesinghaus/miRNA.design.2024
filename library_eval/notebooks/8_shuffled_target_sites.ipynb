{
 "cells": [
  {
   "cell_type": "code",
   "execution_count": 1,
   "metadata": {},
   "outputs": [],
   "source": [
    "import pandas as pd\n",
    "import numpy as np\n",
    "import matplotlib.pyplot as plt\n",
    "import seaborn as sns\n",
    "import scipy.stats as stats\n",
    "import scipy.optimize as opt\n",
    "import itertools\n",
    "import random\n",
    "import pickle\n",
    "import os\n",
    "from library2_utils.color_scheme import cell_line_colors, cell_line_symbols\n",
    "from library2_utils.additive_model import add_mirna_expression, max_mirna_expression\n",
    "from typing import Union\n",
    "import ast\n",
    "\n",
    "# set the font size\n",
    "plt.rcParams.update({'font.size': 7})\n",
    "# set Helvetica globally\n",
    "plt.rcParams['font.family'] = 'Helvetica'\n",
    "\n",
    "cell_lines_measured = [\"HEK293T\", \"HeLa\", \"SKNSH\", \"MCF7\", \"HUH7\", \"A549\", \"HaCaT\", \"JEG3\", \"Tera1\", \"PC3\"]\n",
    "\n",
    "plot_folder = \"../plots/8_shuffled_target_sites\"\n",
    "# create folder if it does not exist\n",
    "if not os.path.exists(plot_folder):\n",
    "    os.makedirs(plot_folder)"
   ]
  },
  {
   "cell_type": "markdown",
   "metadata": {},
   "source": [
    "## Load the measurement data"
   ]
  },
  {
   "cell_type": "code",
   "execution_count": 2,
   "metadata": {},
   "outputs": [],
   "source": [
    "data_dir_input = \"../measured_data/2_normalized_log10\"\n",
    "\n",
    "# get the name of all files in \"reference\" folder\n",
    "reference_files = os.listdir(data_dir_input)\n",
    "\n",
    "# read them into a dictionary\n",
    "reference_dict = {}\n",
    "for reference_file in reference_files:\n",
    "    if reference_file.endswith(\".csv\"):\n",
    "        reference_dict[reference_file.split('.')[0]] = pd.read_csv(os.path.join(data_dir_input, reference_file), index_col=0)"
   ]
  },
  {
   "cell_type": "code",
   "execution_count": 3,
   "metadata": {},
   "outputs": [],
   "source": [
    "# inidividual miRNA sites\n",
    "single_df_full = reference_dict[\"1_mirna_full_single_high_conf\"].copy()"
   ]
  },
  {
   "cell_type": "code",
   "execution_count": 4,
   "metadata": {},
   "outputs": [],
   "source": [
    "# shuffled designs\n",
    "df_shuffle_full = reference_dict[\"22_miRNA_full_combination_shuffle_x5\"].copy()\n",
    "# remove the _3UTR from column names\n",
    "df_shuffle_full.columns = [x.replace(\"_3UTR\", \"\") for x in df_shuffle_full.columns]"
   ]
  },
  {
   "cell_type": "markdown",
   "metadata": {},
   "source": [
    "## Calculate miRNA expression by using the inverted transfer function"
   ]
  },
  {
   "cell_type": "code",
   "execution_count": 5,
   "metadata": {},
   "outputs": [],
   "source": [
    "from library2_utils.transfer_functions import transfer_function, inverse_transfer\n",
    "from library2_utils.mirna_combinations import get_combinations\n",
    "from library2_utils.additive_model import add_mirna_expression"
   ]
  },
  {
   "cell_type": "code",
   "execution_count": null,
   "metadata": {},
   "outputs": [],
   "source": [
    "single_df_full = reference_dict[\"1_mirna_full_single_high_conf\"].copy()\n",
    "single_df_full.set_index(\"miRNA1\", inplace=True)\n",
    "single_df_full.columns = [x.replace(\"_3UTR\", \"\") for x in single_df_full.columns]\n",
    "\n",
    "# get the actual stability values\n",
    "single_knockdown = single_df_full[cell_lines_measured].copy()\n",
    "single_knockdown = 10**single_knockdown\n",
    "single_knockdown"
   ]
  },
  {
   "cell_type": "code",
   "execution_count": 7,
   "metadata": {},
   "outputs": [],
   "source": [
    "used_mirna_name=\"combined_dataset\"\n",
    "with open(f\"../outputs/3_fitting/{used_mirna_name}/{used_mirna_name}_popt_wo_crosstalk.pkl\", \"rb\") as f:\n",
    "    popt = pickle.load(f)\n",
    "with open(f\"../outputs/3_fitting/{used_mirna_name}/{used_mirna_name}_scale_dict_wo_crosstalk.pkl\", \"rb\") as f:\n",
    "    scale_dict = pickle.load(f)\n",
    "\n",
    "# make all values larger than 1 equal to 0.999\n",
    "single_knockdown[single_knockdown > 1] = 0.999\n",
    "\n",
    "# get the inverse of the expression\n",
    "mirna_expr_fr_knockdown = inverse_transfer(single_knockdown, *popt)"
   ]
  },
  {
   "cell_type": "code",
   "execution_count": 8,
   "metadata": {},
   "outputs": [],
   "source": [
    "# add the calculcated stability\n",
    "df = df_shuffle_full.copy()\n",
    "# check all columns containing \"miRNA\" for whether they are in mirna_expr_fr_knockdown\n",
    "miRNA_columns = [col for col in df.columns if col.startswith(\"miRNA\")]\n",
    "df[miRNA_columns] = df[df[miRNA_columns].isin(mirna_expr_fr_knockdown.index)][miRNA_columns]\n",
    "df_shuffle_full = df.copy()"
   ]
  },
  {
   "cell_type": "code",
   "execution_count": 9,
   "metadata": {},
   "outputs": [],
   "source": [
    "added_df = add_mirna_expression(mirna_expr_fr_knockdown, df_shuffle_full)\n",
    "strongest_df = max_mirna_expression(mirna_expr_fr_knockdown, df_shuffle_full)\n",
    "\n",
    "# apply the transfer function\n",
    "knockdown_from_added = np.log10(transfer_function(added_df, *popt))\n",
    "knockdown_from_strongest = np.log10(transfer_function(strongest_df, *popt))       "
   ]
  },
  {
   "cell_type": "markdown",
   "metadata": {},
   "source": [
    "# mean versus individual stability"
   ]
  },
  {
   "cell_type": "code",
   "execution_count": 10,
   "metadata": {},
   "outputs": [],
   "source": [
    "# unroll the dataframe\n",
    "unrolled_df = pd.DataFrame(columns=[\"cell_line\", \"sorted_mirnas\", \"stability\", \"additive\", \"antagonistic\"])\n",
    "\n",
    "# add the knockdown of the non-mutated mirna\n",
    "for i, row in df_shuffle_full.iterrows():\n",
    "    # get the mirnas\n",
    "    sorted_mirnas = row[\"sorted_mirnas\"]\n",
    "    for cell_line in cell_lines_measured:\n",
    "        stability = row[cell_line]\n",
    "        additive_model = knockdown_from_added.loc[i, cell_line]\n",
    "        antagonistic_model = knockdown_from_strongest.loc[i, cell_line]\n",
    "        new_index = f\"{i}_{cell_line}\"\n",
    "        \n",
    "        # add the new row\n",
    "        new_row = {\"cell_line\": cell_line, \"sorted_mirnas\": sorted_mirnas, \"stability\": stability, \"additive\": additive_model, \"antagonistic\": antagonistic_model}\n",
    "        unrolled_df.loc[new_index] = new_row\n",
    "        \n",
    "# for each group of cell lines and sorted_mirnas, calculate the mean\n",
    "mean_df = unrolled_df.groupby([\"sorted_mirnas\", \"cell_line\"])[\"stability\"].mean().reset_index()\n",
    "\n",
    "# add the mean to the unrolled dataframe\n",
    "unrolled_df = unrolled_df.merge(mean_df, on=[\"sorted_mirnas\", \"cell_line\"], suffixes=(\"\", \"_mean\"))"
   ]
  },
  {
   "cell_type": "code",
   "execution_count": null,
   "metadata": {},
   "outputs": [],
   "source": [
    "# plot the mean expression versus the expression\n",
    "#plt.figure(figsize=(2, 1.6))\n",
    "plt.figure(figsize=(1.5, 1.2))\n",
    "\n",
    "r2 = stats.pearsonr(unrolled_df[\"stability\"], unrolled_df[\"stability_mean\"])[0]**2\n",
    "rmsd = np.sqrt(np.mean((unrolled_df[\"stability\"] - unrolled_df[\"stability_mean\"])**2))\n",
    "plt.scatter(unrolled_df[\"stability_mean\"], unrolled_df[\"stability\"], color=\"tab:blue\", s=2, alpha=0.5, rasterized=True, edgecolors=\"none\")\n",
    "    \n",
    "plt.plot([-2, 0.25], [-2, 0.25], color=\"black\", linestyle=\"--\", linewidth=1)\n",
    "plt.xlabel(r\"log$_{10}$(mean stability)\")\n",
    "plt.ylabel(r\"log$_{10}$(stability)\")\n",
    "plt.text(-2, 0, r\"$r^2$\"+f\": {r2:.2f}\", fontsize=7)\n",
    "# plt.text(-2, -0, f\"rmsd: {rmsd:.2f}\", fontsize=7)\n",
    "plt.tight_layout()\n",
    "for format in [\".png\", \".svg\"]:\n",
    "    plt.savefig(os.path.join(plot_folder, f\"8.1_mean_vs_stability_full_rmsd{format}\"), dpi=600)"
   ]
  },
  {
   "cell_type": "code",
   "execution_count": null,
   "metadata": {},
   "outputs": [],
   "source": [
    "# plot the additive model versus the expression\n",
    "plt.figure(figsize=(2, 1.6))\n",
    "\n",
    "r2 = stats.pearsonr(unrolled_df[\"stability\"], unrolled_df[\"additive\"])[0]**2\n",
    "rmsd = np.sqrt(np.mean((unrolled_df[\"stability\"] - unrolled_df[\"additive\"])**2))\n",
    "plt.scatter(unrolled_df[\"additive\"], unrolled_df[\"stability\"], color=\"tab:blue\", s=2, alpha=0.5, rasterized=True, edgecolors=\"none\")\n",
    "    \n",
    "plt.plot([-2, 0.25], [-2, 0.25], color=\"black\", linestyle=\"--\", linewidth=1)\n",
    "plt.xlabel(r\"log$_{10}$(additive model stability)\")\n",
    "plt.ylabel(r\"log$_{10}$(stability)\")\n",
    "# plt.text(-2, 0, r\"$r^2$\"+f\": {r2:.2f}\", fontsize=7)\n",
    "plt.text(-2, 0, f\"rmsd: {rmsd:.2f}\", fontsize=7)\n",
    "plt.tight_layout()\n",
    "for format in [\".png\", \".svg\"]:\n",
    "    plt.savefig(os.path.join(plot_folder, f\"8.1_additive_model_vs_stability_full{format}\"), dpi=600)"
   ]
  },
  {
   "cell_type": "code",
   "execution_count": null,
   "metadata": {},
   "outputs": [],
   "source": [
    "# plot the additive model versus the expression\n",
    "plt.figure(figsize=(2, 1.6))\n",
    "\n",
    "r2 = stats.pearsonr(unrolled_df[\"stability\"], unrolled_df[\"antagonistic\"])[0]**2\n",
    "rmsd = np.sqrt(np.mean((unrolled_df[\"stability\"] - unrolled_df[\"antagonistic\"])**2))\n",
    "plt.scatter(unrolled_df[\"antagonistic\"], unrolled_df[\"stability\"], color=\"tab:blue\", s=2, alpha=0.5, rasterized=True, edgecolors=\"none\")\n",
    "    \n",
    "plt.plot([-2, 0.25], [-2, 0.25], color=\"black\", linestyle=\"--\", linewidth=1)\n",
    "plt.xlabel(r\"log$_{10}$(antagonistic model stability)\")\n",
    "plt.ylabel(r\"log$_{10}$(stability)\")\n",
    "# plt.text(-2, 0, r\"$r^2$\"+f\": {r2:.2f}\", fontsize=7)\n",
    "plt.text(-2, 0, f\"rmsd: {rmsd:.2f}\", fontsize=7)\n",
    "plt.tight_layout()\n",
    "for format in [\".png\", \".svg\"]:\n",
    "    plt.savefig(os.path.join(plot_folder, f\"8.1_antagonistic_model_vs_stability_full{format}\"), dpi=600)"
   ]
  }
 ],
 "metadata": {
  "kernelspec": {
   "display_name": "bio",
   "language": "python",
   "name": "python3"
  },
  "language_info": {
   "codemirror_mode": {
    "name": "ipython",
    "version": 3
   },
   "file_extension": ".py",
   "mimetype": "text/x-python",
   "name": "python",
   "nbconvert_exporter": "python",
   "pygments_lexer": "ipython3",
   "version": "3.10.13"
  }
 },
 "nbformat": 4,
 "nbformat_minor": 2
}
