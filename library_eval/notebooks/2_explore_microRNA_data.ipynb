{
 "cells": [
  {
   "cell_type": "code",
   "execution_count": 1,
   "metadata": {},
   "outputs": [],
   "source": [
    "import pandas as pd\n",
    "import numpy as np\n",
    "import matplotlib.pyplot as plt\n",
    "import scipy.stats as stats\n",
    "import pickle\n",
    "import os\n",
    "from library2_utils.mirna_levels import normalize_expr_df_to_rpm_with_index\n",
    "from library2_utils.color_scheme import cell_line_colors, cell_line_symbols\n",
    "\n",
    "# set the font size\n",
    "plt.rcParams.update({'font.size': 7})\n",
    "# set Helvetica globally\n",
    "plt.rcParams['font.family'] = 'Helvetica'\n",
    "\n",
    "cell_lines_subset = [\"HEK293T\", \"HeLa\", \"SKNSH\", \"MCF7\", \"HUH7\", \"A549\"]\n",
    "cell_lines_rest = [\"HaCaT\", \"JEG3\", \"Tera1\", \"PC3\"]\n",
    "cell_lines_measured = cell_lines_subset + cell_lines_rest\n",
    "\n",
    "plot_folder = \"../plots/2_explore_microRNA_data\"\n",
    "output_folder = f'../microrna_data/2_output/'\n",
    "\n",
    "# create these folders if they don't exist\n",
    "os.makedirs(plot_folder, exist_ok=True)\n",
    "os.makedirs(output_folder, exist_ok=True)"
   ]
  },
  {
   "cell_type": "markdown",
   "metadata": {},
   "source": [
    "### This notebook represents some initial exploration of the data"
   ]
  },
  {
   "cell_type": "code",
   "execution_count": 2,
   "metadata": {},
   "outputs": [],
   "source": [
    "data_dir_input = \"../measured_data/2_normalized_log10\"\n",
    "\n",
    "# get the name of all files in \"reference\" folder\n",
    "reference_files = os.listdir(data_dir_input)\n",
    "\n",
    "# read them into a dictionary\n",
    "reference_dict = {}\n",
    "for reference_file in reference_files:\n",
    "    if reference_file.endswith(\".csv\"):\n",
    "        reference_dict[reference_file.split('.')[0]] = pd.read_csv(os.path.join(data_dir_input, reference_file), index_col=0)"
   ]
  },
  {
   "cell_type": "markdown",
   "metadata": {},
   "source": [
    "## read the microRNA expression data"
   ]
  },
  {
   "cell_type": "markdown",
   "metadata": {},
   "source": [
    "### conormalize the data\n",
    "'Conormalization corresponds to the notion that we calculate the normalization factor looking only a high confidence microRNAs from miRbase, normalizing all other microRNAs according to the same factor"
   ]
  },
  {
   "cell_type": "code",
   "execution_count": 3,
   "metadata": {},
   "outputs": [],
   "source": [
    "mirbase = pd.read_csv('../microrna_data/mirbase_original.csv', index_col=0)"
   ]
  },
  {
   "cell_type": "code",
   "execution_count": 4,
   "metadata": {},
   "outputs": [],
   "source": [
    "# get likely real mirnas\n",
    "with open(\"../microrna_data/likely_real_mirnas.pkl\", \"rb\") as f:\n",
    "    likely_real_mirnas = pickle.load(f)"
   ]
  },
  {
   "cell_type": "code",
   "execution_count": 5,
   "metadata": {},
   "outputs": [],
   "source": [
    "df_alles = pd.read_csv(\"../microrna_data/1_input/Alles2019_all.csv\", index_col=0)\n",
    "df_alles = normalize_expr_df_to_rpm_with_index(df_alles, likely_real_mirnas)\n",
    "df_alles.to_csv(f\"{output_folder}/Alles2019_conormalized.csv\")"
   ]
  },
  {
   "cell_type": "code",
   "execution_count": 7,
   "metadata": {},
   "outputs": [],
   "source": [
    "df_keller = pd.read_excel('../microrna_data/1_input/Keller2023_all.csv', index_col=0)\n",
    "df_keller = normalize_expr_df_to_rpm_with_index(df_keller, likely_real_mirnas)\n",
    "df_keller.to_csv(f\"{output_folder}/Keller2023_conormalized.csv\")"
   ]
  },
  {
   "cell_type": "code",
   "execution_count": 8,
   "metadata": {},
   "outputs": [],
   "source": [
    "# this one is already normalized\n",
    "# df_merged_unfiltered = pd.read_csv(\"../microrna_data/3_output/Alles_Keller_completely_unfiltered_merge.csv\", index_col=0)\n",
    "# df_merged_unfiltered = 10**df_merged_unfiltered"
   ]
  },
  {
   "cell_type": "markdown",
   "metadata": {},
   "source": [
    "## Add the expression data to the dataframes"
   ]
  },
  {
   "cell_type": "code",
   "execution_count": 9,
   "metadata": {},
   "outputs": [],
   "source": [
    "used_mirna_data = df_alles\n",
    "used_mirna_name = \"Alles2019\"\n",
    "# make it log10\n",
    "used_mirna_data = np.log10(used_mirna_data)"
   ]
  },
  {
   "cell_type": "code",
   "execution_count": 10,
   "metadata": {},
   "outputs": [],
   "source": [
    "# ADD EXPRESSION DATA TO THE DATAFRAMES\n",
    "# get all dfs that contain \"single\" in their key\n",
    "single_dfs = {key: reference_dict[key].copy() for key in reference_dict.keys() if \"single\" in key or \"full_repeat\" in key}\n",
    "\n",
    "for key, df in single_dfs.items():\n",
    "    # add miRNA expression data\n",
    "    # this is done by matching the column \"miRNA1\" in the df with the column \"miRNA\" in the mirna_expression_df\n",
    "    # not all values are present in the mirna_expression_df, so we have to match them\n",
    "    df.set_index(\"miRNA1\", inplace=True)\n",
    "    \n",
    "    # remove all columns that are not 3UTR\n",
    "    df = df.filter(regex='3UTR')\n",
    "    \n",
    "    # check which cell lines are in the expression_df\n",
    "    for column in df.columns:\n",
    "        if column.split(\"_\")[0] not in used_mirna_data.columns:\n",
    "           df = df.drop(column, axis=1)\n",
    "\n",
    "    # restrict to microRNAs that are present in the expression_df\n",
    "    df = df.loc[df.index.intersection(used_mirna_data.index)]\n",
    "\n",
    "    # get the current list of cell lines:\n",
    "    cell_lines = [column.split(\"_\")[0] for column in df.columns]\n",
    "    for cell_line in cell_lines:\n",
    "        df.loc[:, f\"{cell_line}_exp\"] = used_mirna_data.loc[df.index, cell_line]\n",
    "\n",
    "    # drop NaN values\n",
    "    df.dropna(inplace=True)\n",
    "\n",
    "    single_dfs[key] = df"
   ]
  },
  {
   "cell_type": "markdown",
   "metadata": {},
   "source": [
    "# 2.1 Plot all designs containing only a single microRNA against the expression"
   ]
  },
  {
   "cell_type": "markdown",
   "metadata": {},
   "source": [
    "### 2.1.1 - Plot each individually in subplots"
   ]
  },
  {
   "cell_type": "code",
   "execution_count": 11,
   "metadata": {},
   "outputs": [],
   "source": [
    "%%capture output\n",
    "label_mirna = \"hsa-miR-100-5p\"\n",
    "\n",
    "# create the plot folder if it doesn't exist\n",
    "if not os.path.exists(f\"{plot_folder}/{used_mirna_name}/2.1.1_individual_plots\"):\n",
    "    os.makedirs(f\"{plot_folder}/{used_mirna_name}/2.1.1_individual_plots\")\n",
    "\n",
    "for key in single_dfs.keys():\n",
    "    plt.clf()\n",
    "    # create a figure with 10 subplots\n",
    "    fig, axs = plt.subplots(5, 2, figsize=(6, 8), sharex=True, sharey=True)\n",
    "    for i, cell_line in enumerate(cell_lines_measured):\n",
    "\n",
    "        df = single_dfs[key].copy()\n",
    "        rs = []\n",
    "        # calculate the correlation coefficient\n",
    "        r, p = stats.spearmanr(df[f\"{cell_line}_exp\"], df[f\"{cell_line}_3UTR\"])\n",
    "        r2 = r**2\n",
    "        # plot the data\n",
    "        axs[i//2, i%2].scatter(df[f\"{cell_line}_exp\"], df[f\"{cell_line}_3UTR\"], color=\"black\", s=3)\n",
    "        \n",
    "        if label_mirna in df.index:\n",
    "            axs[i//2, i%2].scatter(df.loc[label_mirna, f\"{cell_line}_exp\"], df.loc[label_mirna, f\"{cell_line}_3UTR\"], color=\"red\", s=10, marker=\"x\",label=label_mirna)\n",
    "        \n",
    "        # only show the axis labels on the outer plots\n",
    "        if i//2 == 4:\n",
    "            axs[i//2, i%2].set_xlabel(r\"log$_{10}$(miRNA expression)\")\n",
    "        if i%2 == 0:\n",
    "            axs[i//2, i%2].set_ylabel(r\"log$_{10}$(RNA/DNA)\")\n",
    "        \n",
    "        axs[i//2, i%2].set_xlim(0, 5.5)\n",
    "        axs[i//2, i%2].set_ylim(-1.7, 0.25)\n",
    "        \n",
    "        axs[i//2, i%2].legend(loc='lower left', fontsize=7)\n",
    "        axs[i//2, i%2].set_title(f\"{cell_line}\", fontsize=7) #, \"+r\"$\\rho^2$=\" + f\"{round(r2, 2)}\n",
    "\n",
    "    plt.tight_layout()\n",
    "    for format in [\"png\", \"svg\"]:\n",
    "        plt.savefig(f\"{plot_folder}/{used_mirna_name}/2.1.1_individual_plots/{key}_individual.{format}\", dpi=300)"
   ]
  },
  {
   "cell_type": "markdown",
   "metadata": {},
   "source": [
    "### 2.1.2 - Plot each individually in subplots"
   ]
  },
  {
   "cell_type": "code",
   "execution_count": 12,
   "metadata": {},
   "outputs": [],
   "source": [
    "%%capture output\n",
    "label_mirna = \"hsa-miR-100-5p\"\n",
    "\n",
    "# create the plot folder if it doesn't exist\n",
    "if not os.path.exists(f\"{plot_folder}/{used_mirna_name}/2.1.2_individual_plots\"):\n",
    "    os.makedirs(f\"{plot_folder}/{used_mirna_name}/2.1.2_individual_plots\")\n",
    "\n",
    "for key in single_dfs.keys():\n",
    "    for i, cell_line in enumerate(cell_lines_measured):\n",
    "        plt.clf()\n",
    "        fig, ax = plt.subplots(figsize=(3, 2))\n",
    "\n",
    "        df = single_dfs[key].copy()\n",
    "        rs = []\n",
    "        # calculate the correlation coefficient\n",
    "        r, p = stats.spearmanr(df[f\"{cell_line}_exp\"], df[f\"{cell_line}_3UTR\"])\n",
    "        r2 = r**2\n",
    "        # plot the data\n",
    "        plt.scatter(df[f\"{cell_line}_exp\"], df[f\"{cell_line}_3UTR\"], color=\"black\", s=3)\n",
    "        \n",
    "        if label_mirna in df.index:\n",
    "            label_mirna_text = \"-\".join(label_mirna.split(\"-\")[2:])\n",
    "            # plt.text(df.loc[label_mirna, f\"{cell_line}_exp\"]+0.1, df.loc[label_mirna, f\"{cell_line}_3UTR\"],\n",
    "            #     label_mirna, fontsize=7, color=\"red\",\n",
    "            #     bbox=dict(facecolor='white', alpha=0.5, edgecolor=\"black\", boxstyle=\"round,pad=0.1\"))\n",
    "            plt.scatter(df.loc[label_mirna, f\"{cell_line}_exp\"]+0.1, df.loc[label_mirna, f\"{cell_line}_3UTR\"],\n",
    "                color=\"red\", s=10, marker=\"x\", label=label_mirna)\n",
    "        \n",
    "        ax.set_xlabel(r\"log$_{10}$(miRNA expression)\")\n",
    "        ax.set_ylabel(r\"log$_{10}$(RNA/DNA)\")\n",
    "        \n",
    "        ax.set_xlim(0, 5.5)\n",
    "        ax.set_ylim(-1.7, 0.25)\n",
    "        \n",
    "        ax.set_title(f\"{cell_line}\", fontsize=8) #+ r\"$\\rho^2$=\" + f\"{round(r2, 2)}\n",
    "        plt.legend(loc=\"lower left\", fontsize=8)\n",
    "        \n",
    "        plt.tight_layout()\n",
    "        for format in [\"png\", \"svg\"]:\n",
    "            plt.savefig(f\"{plot_folder}/{used_mirna_name}/2.1.2_individual_plots/{key}_{cell_line}.{format}\", dpi=300)"
   ]
  },
  {
   "cell_type": "markdown",
   "metadata": {},
   "source": [
    "### 2.1.3 - Plot them all into the same plot"
   ]
  },
  {
   "cell_type": "code",
   "execution_count": 13,
   "metadata": {},
   "outputs": [],
   "source": [
    "%%capture output\n",
    "\n",
    "# create the plot folder if it doesn't exist\n",
    "if not os.path.exists(f\"{plot_folder}/{used_mirna_name}/2.1.3_combined_plots\"):\n",
    "    os.makedirs(f\"{plot_folder}/{used_mirna_name}/2.1.3_combined_plots\")\n",
    "\n",
    "for key in single_dfs.keys():    \n",
    "    fig = plt.figure(figsize=(2.5, 1.8))\n",
    "\n",
    "    df = single_dfs[key].copy()\n",
    "    rs = []\n",
    "    for cell_line in list(set(cell_lines) & set(cell_lines_measured)):\n",
    "        # calculate the correlation coefficient\n",
    "        r, p = stats.spearmanr(df[f\"{cell_line}_exp\"], df[f\"{cell_line}_3UTR\"])\n",
    "        # plot the data\n",
    "        plt.scatter(df[f\"{cell_line}_exp\"], df[f\"{cell_line}_3UTR\"], color=cell_line_colors[cell_line], \n",
    "            s=1.5, marker=cell_line_symbols[cell_line], label=f\"{cell_line}\") #, \" + r\"$\\rho^2$=\" + f\"{round(r**2, 2)}\")\n",
    "        \n",
    "    plt.xlabel(r\"log$_{10}$\"+f\"(miRNA expression)\")\n",
    "    plt.ylabel(r\"log$_{10}$(RNA/DNA)\")\n",
    "\n",
    "    plt.xlim(0, 5.5)\n",
    "    plt.ylim(-2, 0.5)\n",
    "    plt.legend(loc=\"lower left\", frameon=False, fontsize=7, ncol=1)\n",
    "    plt.title(f\"{used_mirna_name}, {key}\", fontsize=7)\n",
    "    for format in [\"png\", \"svg\"]:\n",
    "        plt.savefig(f\"{plot_folder}/{used_mirna_name}/2.1.3_combined_plots/{key}_{used_mirna_name}.{format}\", dpi=300, bbox_inches='tight')"
   ]
  },
  {
   "cell_type": "markdown",
   "metadata": {},
   "source": [
    "# 2.3 - Compare the results of library 1 and library 2"
   ]
  },
  {
   "cell_type": "code",
   "execution_count": 14,
   "metadata": {},
   "outputs": [],
   "source": [
    "data_dir_input = \"../measured_data/0_library 1\"\n",
    "\n",
    "# get the name of all files in \"reference\" folder\n",
    "reference_files_lib1 = os.listdir(data_dir_input)\n",
    "\n",
    "# read them into a dictionary\n",
    "reference_dict_lib1 = {}\n",
    "for reference_file_lib1 in reference_files_lib1:\n",
    "    if reference_file_lib1.endswith(\".csv\"):\n",
    "        reference_dict_lib1[reference_file_lib1.split('.')[0]] = pd.read_csv(os.path.join(data_dir_input, reference_file_lib1), index_col=0)"
   ]
  },
  {
   "cell_type": "code",
   "execution_count": 15,
   "metadata": {},
   "outputs": [],
   "source": [
    "measured_single_lib1 = reference_dict_lib1[\"1_full_single_context1\"]\n",
    "measured_single_lib2 = reference_dict[\"1_mirna_full_single_high_conf\"]"
   ]
  },
  {
   "cell_type": "code",
   "execution_count": 16,
   "metadata": {},
   "outputs": [],
   "source": [
    "measured_single_lib1.set_index(\"miRNA1\", inplace=True)\n",
    "measured_single_lib2.set_index(\"miRNA1\", inplace=True)"
   ]
  },
  {
   "cell_type": "code",
   "execution_count": 17,
   "metadata": {},
   "outputs": [],
   "source": [
    "measured_single_lib1 = measured_single_lib1.filter(regex='(3UTR)')\n",
    "measured_single_lib1.columns = [f\"{column.split('_')[1]}\" for column in measured_single_lib1.columns]"
   ]
  },
  {
   "cell_type": "code",
   "execution_count": 18,
   "metadata": {},
   "outputs": [],
   "source": [
    "measured_single_lib2 = measured_single_lib2.filter(regex='(3UTR)')\n",
    "measured_single_lib2.columns = [f\"{column.split('_')[0]}\" for column in measured_single_lib2.columns]"
   ]
  },
  {
   "cell_type": "code",
   "execution_count": 19,
   "metadata": {},
   "outputs": [],
   "source": [
    "# find the five strongest outliers for each cell line\n",
    "common_columns = measured_single_lib1.columns.intersection(measured_single_lib2.columns)\n",
    "\n",
    "outliers = {}\n",
    "for column in common_columns:\n",
    "    df1 = measured_single_lib1[column]\n",
    "    df2 = measured_single_lib2[column]\n",
    "    \n",
    "    # make them have the same index\n",
    "    index_both = df1.index.intersection(df2.index)\n",
    "    df1 = df1.loc[index_both]\n",
    "    df2 = df2.loc[index_both]\n",
    "    \n",
    "    # calculate the difference\n",
    "    diff = df1 - df2\n",
    "    \n",
    "    # find the five strongest outliers\n",
    "    outliers[column] = diff.abs().nlargest(5).index"
   ]
  },
  {
   "cell_type": "code",
   "execution_count": 105,
   "metadata": {},
   "outputs": [],
   "source": [
    "mut_mirs = ['hsa-let-7a-5p', 'hsa-let-7i-5p', 'hsa-miR-16-5p', 'hsa-miR-19b-3p',\n",
    " 'hsa-miR-21-5p', 'hsa-miR-22-3p', 'hsa-miR-23a-3p', 'hsa-miR-24-3p',\n",
    " 'hsa-miR-31-3p', 'hsa-miR-31-5p', 'hsa-miR-365a-3p', 'hsa-miR-107']"
   ]
  },
  {
   "cell_type": "code",
   "execution_count": 106,
   "metadata": {},
   "outputs": [],
   "source": [
    "%%capture output\n",
    "# create the output folder if it doesn't exist\n",
    "if not os.path.exists(f\"{plot_folder}/{used_mirna_name}/2.3_library_comparison\"):\n",
    "    os.makedirs(f\"{plot_folder}/{used_mirna_name}/2.3_library_comparison\")\n",
    "\n",
    "for column in common_columns:\n",
    "    df1 = measured_single_lib1[column]\n",
    "    df2 = measured_single_lib2[column]\n",
    "    \n",
    "    # make them have the same index\n",
    "    index_both = df1.index.intersection(df2.index)\n",
    "    df1 = df1.loc[index_both]\n",
    "    df2 = df2.loc[index_both]\n",
    "    \n",
    "    fig, ax = plt.subplots(figsize=(2.3, 1.8))\n",
    "    r2 = stats.pearsonr(df1, df2)[0]**2\n",
    "    plt.scatter(df1, df2, color=\"black\", s=3)\n",
    "    plt.plot(df1, df1, color=\"black\", linestyle=\"--\", linewidth=0.5)\n",
    "    \n",
    "    # # add a label for the five strongest outliers if desired\n",
    "    # for i, txt in enumerate(outliers[column]):\n",
    "    #     ax.annotate(\"-\".join(txt.split(\"-\")[2:]), (df1[txt], df2[txt]), fontsize=7, color=\"red\")\n",
    "    # add a label for the mutated miRNAs\n",
    "    # for txt in mut_mirs:\n",
    "    #     if txt in df1.index:\n",
    "    #         ax.annotate(\"-\".join(txt.split(\"-\")[2:]), (df1[txt], df2[txt]), fontsize=7, color=\"red\")\n",
    "    \n",
    "    plt.xlabel(\"stability (library 1)\")\n",
    "    plt.ylabel(\"stability (library 2)\")\n",
    "    plt.title(f\"{column}, \"+r\"$r^2$=\" + f\"{round(r2, 2)}\", fontsize=7)\n",
    "    plt.tight_layout()\n",
    "    plt.savefig(f\"{plot_folder}/{used_mirna_name}/2.3_library_comparison/{column}_library_comparison.png\", dpi=300)"
   ]
  },
  {
   "cell_type": "code",
   "execution_count": null,
   "metadata": {},
   "outputs": [],
   "source": [
    "# Create the output folder if it doesn't exist\n",
    "if not os.path.exists(f\"{plot_folder}/{used_mirna_name}/2.3_library_comparison\"):\n",
    "    os.makedirs(f\"{plot_folder}/{used_mirna_name}/2.3_library_comparison\")\n",
    "\n",
    "# Prepare a grid of subplots\n",
    "fig, axs = plt.subplots(2, 2, figsize=(4, 3.2)) \n",
    "axs = axs.flatten()\n",
    "current_ax = 0\n",
    "\n",
    "for index, column in enumerate(common_columns):\n",
    "    df1 = measured_single_lib1[column]\n",
    "    df2 = measured_single_lib2[column]\n",
    "    \n",
    "    # Make them have the same index\n",
    "    index_both = df1.index.intersection(df2.index)\n",
    "    df1 = df1.loc[index_both]\n",
    "    df2 = df2.loc[index_both]\n",
    "    \n",
    "    df_ex = used_mirna_data.loc[index_both, column]\n",
    "    \n",
    "    rho2_1 = stats.spearmanr(df_ex, df1)[0]**2\n",
    "    rho2_2 = stats.spearmanr(df_ex, df2)[0]**2\n",
    "    \n",
    "    axs[current_ax].scatter(df_ex, df1, color=\"black\", s=3, label=f\"library 1, \"+r\"$\\rho^2$=\" + f\"{round(rho2_1, 2)}\")\n",
    "    axs[current_ax].scatter(df_ex, df2, color=\"red\", s=3, label=f\"library 2, \"+r\"$\\rho^2$=\" + f\"{round(rho2_2, 2)}\")\n",
    "    \n",
    "    axs[current_ax].set_title(f\"{column}\", fontsize=7.5)\n",
    "    axs[current_ax].set_xlim(0, 5.5)\n",
    "    axs[current_ax].set_xticks([0, 1, 2, 3, 4, 5])\n",
    "    axs[current_ax].set_ylim(-1.7, 0.25)\n",
    "    \n",
    "    # Only set x and y labels for the outer plots\n",
    "    if current_ax >= 2:\n",
    "        axs[current_ax].set_xlabel(r\"log$_{10}$(miRNA expression)\")\n",
    "    if current_ax % 2 == 0:  # First column\n",
    "        axs[current_ax].set_ylabel(r\"log$_{10}$(stability)\")\n",
    "    \n",
    "    # don't have a box around the legend\n",
    "    axs[current_ax].legend(loc=\"lower left\", fontsize=6, frameon=False)\n",
    "    current_ax += 1\n",
    "\n",
    "# Hide any unused axes\n",
    "for ax in axs[current_ax:]:\n",
    "    ax.axis('off')\n",
    "\n",
    "plt.tight_layout()\n",
    "for format in [\"png\", \"svg\"]:\n",
    "    plt.savefig(f\"{plot_folder}/{used_mirna_name}/2.3_library_comparison/all_ex_vs_stability.{format}\", dpi=300)"
   ]
  },
  {
   "cell_type": "code",
   "execution_count": null,
   "metadata": {},
   "outputs": [],
   "source": [
    "# Create the output folder if it doesn't exist\n",
    "if not os.path.exists(f\"{plot_folder}/{used_mirna_name}/2.3_library_comparison\"):\n",
    "    os.makedirs(f\"{plot_folder}/{used_mirna_name}/2.3_library_comparison\")\n",
    "\n",
    "# Prepare a grid of subplots\n",
    "fig, axs = plt.subplots(2, 2, figsize=(4, 3.5)) \n",
    "axs = axs.flatten()\n",
    "current_ax = 0\n",
    "\n",
    "for column in common_columns:\n",
    "    df1 = measured_single_lib1[column]\n",
    "    df2 = measured_single_lib2[column]\n",
    "    \n",
    "    # Make them have the same index\n",
    "    index_both = df1.index.intersection(df2.index)\n",
    "    df1 = df1.loc[index_both]\n",
    "    df2 = df2.loc[index_both]\n",
    "    \n",
    "    r2 = stats.pearsonr(df1, df2)[0]**2\n",
    "    axs[current_ax].scatter(df1, df2, color=\"black\", s=3)\n",
    "    axs[current_ax].plot(df1, df1, color=\"black\", linestyle=\"--\", linewidth=0.5)\n",
    "    \n",
    "    axs[current_ax].set_title(f\"{column}, \"+r\"$r^2$=\" + f\"{round(r2, 2)}\", fontsize=7.5)\n",
    "    \n",
    "    # Only set x and y labels for the outer plots\n",
    "    if current_ax >= 2:  # Bottom row\n",
    "        axs[current_ax].set_xlabel(r\"log$_{10}$(stability, library 1)\")\n",
    "    if current_ax % 2 == 0:  # First column\n",
    "        axs[current_ax].set_ylabel(r\"log$_{10}$(stability, library 2)\")\n",
    "    \n",
    "    current_ax += 1\n",
    "\n",
    "# Hide any unused axes\n",
    "for ax in axs[current_ax:]:\n",
    "    ax.axis('off')\n",
    "\n",
    "plt.tight_layout()\n",
    "for format in [\"png\", \"svg\"]:\n",
    "    plt.savefig(f\"{plot_folder}/{used_mirna_name}/2.3_library_comparison/all_library_comparison.{format}\", dpi=300)"
   ]
  },
  {
   "cell_type": "markdown",
   "metadata": {},
   "source": [
    "# 2.4 - Compare microRNA database sources (miRbase, mirgeneDB)"
   ]
  },
  {
   "cell_type": "markdown",
   "metadata": {},
   "source": [
    "#### This code requires that the initial fitting in Notebook 3 was already performed!"
   ]
  },
  {
   "cell_type": "code",
   "execution_count": 109,
   "metadata": {},
   "outputs": [],
   "source": [
    "# load mirgeneDB\n",
    "mirgenedb = pd.read_csv(\"../microrna_data/mirgenedb.csv\", index_col=0)\n",
    "\n",
    "# get high confidence miRNAs in mirgenedb\n",
    "mirbase_high_conf = mirbase[mirbase[\"confidence\"] == \"high\"]"
   ]
  },
  {
   "cell_type": "code",
   "execution_count": 110,
   "metadata": {},
   "outputs": [],
   "source": [
    "# get relevant miRNAs from mirgenedb\n",
    "mirgenedb_mirnas = list(mirgenedb[\"5p accession\"].unique()) + list(mirgenedb[\"3p accession\"].unique())\n",
    "mirgenedb_mirnas = [mirna for mirna in mirgenedb_mirnas if mirna != \"None\"]\n",
    "mirgenedb_mirnas = mirbase[mirbase[\"MIMAT\"].isin(mirgenedb_mirnas)]"
   ]
  },
  {
   "cell_type": "code",
   "execution_count": 111,
   "metadata": {},
   "outputs": [],
   "source": [
    "# retrieve the classification of the miRNAs\n",
    "measured_high_conf = single_dfs[\"1_mirna_full_single_high_conf\"]\n",
    "measured_mirgenedb_low_conf = single_dfs[\"2_mirna_full_single_low_conf_mirgenedb\"]\n",
    "measured_not_mirgenedb_low_conf = single_dfs[\"3_mirna_full_single_low_conf_not_mirgenedb\"]"
   ]
  },
  {
   "cell_type": "code",
   "execution_count": 112,
   "metadata": {},
   "outputs": [],
   "source": [
    "# are there any microRNAs in measured_high_conf that are not in mirgenedb_mirnas?\n",
    "microRNAs_not_mirgenedb_high_conf = measured_high_conf.index.difference(mirgenedb_mirnas.index)\n",
    "\n",
    "measured_not_mirgenedb_high_conf = measured_high_conf.loc[microRNAs_not_mirgenedb_high_conf]\n",
    "measured_mirgenedb_high_conf = measured_high_conf[~measured_high_conf.index.isin(microRNAs_not_mirgenedb_high_conf)]"
   ]
  },
  {
   "cell_type": "code",
   "execution_count": null,
   "metadata": {},
   "outputs": [],
   "source": [
    "# verify that the original classification is correct:\n",
    "print(\"Length of measured_high_conf: \", len(measured_high_conf))\n",
    "print(\"Number of these in mirbase_high_conf: \", len(measured_high_conf.index.intersection(mirbase_high_conf.index)))\n",
    "\n",
    "print(\"Length of measured_mirgenedb_high_conf: \", len(measured_mirgenedb_high_conf))\n",
    "print(\"Number of these in mirgenedb: \", len(measured_mirgenedb_high_conf.index.intersection(mirgenedb_mirnas.index)))\n",
    "print(\"Number of these in mirbase_high_conf: \", len(measured_mirgenedb_high_conf.index.intersection(mirbase_high_conf.index)))\n",
    "\n",
    "print(\"Length of measured_not_mirgenedb_high_conf: \", len(measured_not_mirgenedb_high_conf))\n",
    "print(\"Number of these in mirgenedb: \", len(measured_not_mirgenedb_high_conf.index.intersection(mirgenedb_mirnas.index)))\n",
    "print(\"Number of these in mirbase_high_conf: \", len(measured_not_mirgenedb_high_conf.index.intersection(mirbase_high_conf.index)))\n",
    "\n",
    "print(\"Length of measured_mirgenedb_low_conf: \", len(measured_mirgenedb_low_conf))\n",
    "print(\"Number of these in mirgenedb: \", len(measured_mirgenedb_low_conf.index.intersection(mirgenedb_mirnas.index)))\n",
    "print(\"Number of these in mirbase_high_conf: \", len(measured_mirgenedb_low_conf.index.intersection(mirbase_high_conf.index)))\n",
    "\n",
    "print(\"Length of measured_not_mirgenedb_low_conf: \", len(measured_not_mirgenedb_low_conf))\n",
    "print(\"Number of these in mirgenedb: \", len(measured_not_mirgenedb_low_conf.index.intersection(mirgenedb_mirnas.index)))\n",
    "print(\"Number of these in mirbase_high_conf: \", len(measured_not_mirgenedb_low_conf.index.intersection(mirbase_high_conf.index)))"
   ]
  },
  {
   "cell_type": "code",
   "execution_count": 114,
   "metadata": {},
   "outputs": [],
   "source": [
    "# add these to a dictionary\n",
    "measured_data_source_dict = {\n",
    "    \"High confidence in miRbase\\n In MirGeneDB\": measured_mirgenedb_high_conf,\n",
    "    \"Low confidence in miRbase\\n In MirGeneDB\": measured_mirgenedb_low_conf,\n",
    "    \"High confidence in miRbase\\n Not in MirGeneDB\": measured_not_mirgenedb_high_conf,\n",
    "    \"Low confidence in miRbase\\n Not in MirGeneDB\": measured_not_mirgenedb_low_conf\n",
    "}"
   ]
  },
  {
   "cell_type": "code",
   "execution_count": 115,
   "metadata": {},
   "outputs": [],
   "source": [
    "%%capture output\n",
    "# create the plot folder if it doesn't exist\n",
    "if not os.path.exists(f\"{plot_folder}/{used_mirna_name}/2.4_datasources\"):\n",
    "    os.makedirs(f\"{plot_folder}/{used_mirna_name}/2.4_datasources\")\n",
    "\n",
    "for key in measured_data_source_dict.keys():\n",
    "    fig = plt.figure(figsize=(2.2, 1.7))\n",
    "\n",
    "    df = measured_data_source_dict[key].copy()\n",
    "    rs = []\n",
    "    for cell_line_index, cell_line in enumerate(cell_lines_measured):\n",
    "        # plot the data\n",
    "        plt.scatter(df[f\"{cell_line}_exp\"], df[f\"{cell_line}_3UTR\"], color=cell_line_colors[cell_line], \n",
    "            s=1.5, marker=cell_line_symbols[cell_line], label=f\"{cell_line}\") #, \" + r\"$\\rho^2$=\" + f\"{round(r**2, 2)}\")\n",
    "        # if cell_line_index == 0:\n",
    "        #     y_transfer = np.log10(transfer_function(x_range_lin, *popt))\n",
    "        #     plt.plot(x_range_log, y_transfer, ls=\"--\", lw=1, color=\"black\")\n",
    "        \n",
    "    plt.xlabel(r\"log$_{10}$\"+f\"(miRNA expression)\")\n",
    "    plt.ylabel(r\"log$_{10}$(stability)\")\n",
    "\n",
    "    plt.xlim(0, 5.5)\n",
    "    plt.xticks([0, 1, 2, 3, 4, 5])\n",
    "    plt.ylim(-2, 0.5)\n",
    "    plt.legend(loc=\"lower left\", frameon=False, fontsize=7, ncol=1)\n",
    "    plt.title(f\"{key}\", fontsize=7.5)\n",
    "    for format in [\"png\", \"svg\"]:\n",
    "        plt.savefig(f\"{plot_folder}/{used_mirna_name}/2.4_datasources/\" + key.replace('\\n', '') + f\"_{used_mirna_name}.{format}\", dpi=300, bbox_inches='tight')"
   ]
  },
  {
   "cell_type": "code",
   "execution_count": null,
   "metadata": {},
   "outputs": [],
   "source": [
    "# Prepare a 2x2 grid of subplots\n",
    "fig, axs = plt.subplots(2, 2, figsize=(4, 3.5))\n",
    "axs = axs.flatten() \n",
    "current_ax = 0\n",
    "\n",
    "for key in measured_data_source_dict.keys():\n",
    "    df = measured_data_source_dict[key].copy()\n",
    "    rs = []\n",
    "    for cell_line_index, cell_line in enumerate(cell_lines_measured):\n",
    "        # Assume calculation for r, p and y_transfer is done here\n",
    "        axs[current_ax].scatter(df[f\"{cell_line}_exp\"], df[f\"{cell_line}_3UTR\"], \n",
    "                                color=cell_line_colors[cell_line], s=1.5, marker=cell_line_symbols[cell_line],\n",
    "                                label=f\"{cell_line}\", rasterized=True)\n",
    "        # if cell_line_index == 0:\n",
    "        #     y_transfer = np.log10(transfer_function(x_range_lin, *popt))\n",
    "        #     axs[current_ax].plot(x_range_log, y_transfer, ls=\"--\", lw=1, color=\"black\")\n",
    "\n",
    "    # Set labels only on the edge subplots\n",
    "    if current_ax >= 2:  # Bottom row\n",
    "        axs[current_ax].set_xlabel(r\"log$_{10}$\"+f\"(miRNA expression)\")\n",
    "    else:\n",
    "        axs[current_ax].set_xticklabels([])\n",
    "    if current_ax % 2 == 0:  # Left column\n",
    "        axs[current_ax].set_ylabel(r\"log$_{10}$(RNA/DNA)\")\n",
    "    else:\n",
    "        axs[current_ax].set_yticklabels([])\n",
    "\n",
    "    axs[current_ax].set_xlim(0, 5.5)\n",
    "    axs[current_ax].set_xticks([0, 1, 2, 3, 4, 5])\n",
    "    axs[current_ax].set_ylim(-2, 0.5)\n",
    "    axs[current_ax].set_title(f\"{key}\", fontsize=7.5)\n",
    "    \n",
    "    current_ax += 1\n",
    "    if current_ax >= 4:\n",
    "        break  # Ensure we don't go out of index if there are more than 4 keys\n",
    "    \n",
    "axs[2].legend(loc=\"lower left\", frameon=False, fontsize=7)\n",
    "\n",
    "plt.tight_layout()\n",
    "for format in [\"png\", \"svg\"]:\n",
    "    plt.savefig(f\"{plot_folder}/{used_mirna_name}/2.4_datasources/all_datasources.{format}\", dpi=300, bbox_inches='tight')"
   ]
  }
 ],
 "metadata": {
  "kernelspec": {
   "display_name": "base",
   "language": "python",
   "name": "python3"
  },
  "language_info": {
   "codemirror_mode": {
    "name": "ipython",
    "version": 3
   },
   "file_extension": ".py",
   "mimetype": "text/x-python",
   "name": "python",
   "nbconvert_exporter": "python",
   "pygments_lexer": "ipython3",
   "version": "3.10.13"
  }
 },
 "nbformat": 4,
 "nbformat_minor": 2
}
